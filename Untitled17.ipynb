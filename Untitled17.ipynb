{
 "cells": [
  {
   "cell_type": "code",
   "execution_count": null,
   "id": "db2895ef",
   "metadata": {},
   "outputs": [],
   "source": [
    "import concurrent.futures\n",
    "import requests\n",
    "import multiprocessing"
   ]
  },
  {
   "cell_type": "code",
   "execution_count": null,
   "id": "b130e8bf",
   "metadata": {},
   "outputs": [],
   "source": [
    "# List of URLs to scrape\n",
    "urls = ['https://en.wikipedia.org/wiki/Dog', 'https://en.wikipedia.org/wiki/Cat', 'https://en.wikipedia.org/wiki/Horse']"
   ]
  },
  {
   "cell_type": "code",
   "execution_count": null,
   "id": "6dcf22c6",
   "metadata": {},
   "outputs": [],
   "source": [
    "def scrape_url(url):\n",
    "    response = requests.get(url)\n",
    "    return response.text[:100]  # Extract a small portion of the content\n",
    "\n",
    "with concurrent.futures.ThreadPoolExecutor() as executor:  # You can also use ProcessPoolExecutor()\n",
    "    results = executor.map(scrape_url, urls)\n",
    "#with multiprocessing.Pool() as pool:\n",
    " #   results = pool.map(scrape_url, urls)\n",
    "\n",
    "for result in results:\n",
    "    print(result)"
   ]
  },
  {
   "cell_type": "code",
   "execution_count": null,
   "id": "1083221c",
   "metadata": {},
   "outputs": [],
   "source": [
    "import os\n",
    "import concurrent.futures\n",
    "import multiprocessing\n",
    "\n",
    "# Function to count words in a text file\n",
    "def count_words_in_file(file_path):\n",
    "    with open(file_path, 'r') as file:\n",
    "        text = file.read()\n",
    "        word_count = len(text.split())\n",
    "    return word_count\n",
    "\n",
    "# List of text files to process\n",
    "file_paths = ['Dogs.txt', 'Cats.txt', 'Horses.txt']  # Add your file paths here\n",
    "\n",
    "# Using multiprocessing.Pool for parallel processing\n",
    "with multiprocessing.Pool() as pool:\n",
    "    word_counts = pool.map(count_words_in_file, file_paths)\n",
    "\n",
    "# Print the word counts\n",
    "for file_path, word_count in zip(file_paths, word_counts):\n",
    "    print(f\"Word count in {file_path}: {word_count}\")"
   ]
  }
 ],
 "metadata": {
  "kernelspec": {
   "display_name": "Python 3 (ipykernel)",
   "language": "python",
   "name": "python3"
  },
  "language_info": {
   "codemirror_mode": {
    "name": "ipython",
    "version": 3
   },
   "file_extension": ".py",
   "mimetype": "text/x-python",
   "name": "python",
   "nbconvert_exporter": "python",
   "pygments_lexer": "ipython3",
   "version": "3.10.7"
  }
 },
 "nbformat": 4,
 "nbformat_minor": 5
}
