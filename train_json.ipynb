{
 "cells": [
  {
   "cell_type": "code",
   "execution_count": 38,
   "id": "5115dd8a",
   "metadata": {},
   "outputs": [],
   "source": [
    "import json\n",
    "  \n",
    "\n"
   ]
  },
  {
   "cell_type": "code",
   "execution_count": 39,
   "id": "2ea2787e",
   "metadata": {},
   "outputs": [],
   "source": [
    "# Data to be \n",
    "data = {\n",
    "  \"id\": \"04\",\n",
    "  \"name\": \"sunil\",\n",
    "  \"department\": \"HR\"\n",
    "}\n",
    "  "
   ]
  },
  {
   "cell_type": "code",
   "execution_count": 43,
   "id": "30ffce13",
   "metadata": {},
   "outputs": [],
   "source": [
    "with open(\"data.json\",\"w\") as json_f:\n",
    "    json.dump(data,json_f)"
   ]
  }
 ],
 "metadata": {
  "kernelspec": {
   "display_name": "Python 3 (ipykernel)",
   "language": "python",
   "name": "python3"
  },
  "language_info": {
   "codemirror_mode": {
    "name": "ipython",
    "version": 3
   },
   "file_extension": ".py",
   "mimetype": "text/x-python",
   "name": "python",
   "nbconvert_exporter": "python",
   "pygments_lexer": "ipython3",
   "version": "3.10.7"
  }
 },
 "nbformat": 4,
 "nbformat_minor": 5
}
