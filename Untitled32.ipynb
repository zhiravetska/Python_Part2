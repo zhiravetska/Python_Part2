{
 "cells": [
  {
   "cell_type": "code",
   "execution_count": 33,
   "id": "ff6851c9",
   "metadata": {},
   "outputs": [],
   "source": [
    "import spotipy\n",
    "from spotipy.oauth2 import SpotifyOAuth \n",
    "from spotipy.oauth2 import SpotifyClientCredentials\n",
    "import pandas as pd\n",
    "from getpass import getpass"
   ]
  },
  {
   "cell_type": "code",
   "execution_count": 34,
   "id": "3885cf79",
   "metadata": {},
   "outputs": [
    {
     "name": "stdout",
     "output_type": "stream",
     "text": [
      "Client ID: ········\n",
      "Client Secret: ········\n"
     ]
    }
   ],
   "source": [
    "cid = getpass(\"Client ID: \")\n",
    "secret = getpass(\"Client Secret: \")"
   ]
  },
  {
   "cell_type": "code",
   "execution_count": 35,
   "id": "85d410de",
   "metadata": {},
   "outputs": [],
   "source": [
    "client_credentials_manager = SpotifyClientCredentials(client_id=cid, client_secret=secret)\n",
    "sp = spotipy.Spotify(client_credentials_manager = client_credentials_manager)"
   ]
  },
  {
   "cell_type": "code",
   "execution_count": 36,
   "id": "bd65e889",
   "metadata": {},
   "outputs": [],
   "source": [
    "playlist_link = \"https://open.spotify.com/playlist/37i9dQZEVXbNG2KDcFcKOF\"\n",
    "playlist_URI = playlist_link.split(\"/\")[-1].split(\"?\")[0]\n",
    "track_uris = [x[\"track\"][\"uri\"] for x in sp.playlist_tracks(playlist_URI)[\"items\"]]"
   ]
  },
  {
   "cell_type": "code",
   "execution_count": 54,
   "id": "f64db1ae",
   "metadata": {},
   "outputs": [],
   "source": [
    "trackuri = []\n",
    "tname = []\n",
    "artisturi = []\n",
    "artistinfo = []\n",
    "artname = []\n",
    "artpop = []\n",
    "artgenres = []\n",
    "albumname = []\n",
    "tpop = []\n",
    "acoustic = []\n",
    "dance = []\n",
    "energy = []\n",
    "instrumental = []\n",
    "liveness = []\n",
    "loudness = []\n",
    "speech = []\n",
    "tempo = []\n",
    "valence = []\n",
    "popularity = []\n",
    "duration = []"
   ]
  },
  {
   "cell_type": "code",
   "execution_count": 56,
   "id": "cc52633c",
   "metadata": {},
   "outputs": [
    {
     "ename": "TypeError",
     "evalue": "expected string or bytes-like object",
     "output_type": "error",
     "traceback": [
      "\u001b[1;31m---------------------------------------------------------------------------\u001b[0m",
      "\u001b[1;31mTypeError\u001b[0m                                 Traceback (most recent call last)",
      "Cell \u001b[1;32mIn [56], line 5\u001b[0m\n\u001b[0;32m      3\u001b[0m tname\u001b[38;5;241m.\u001b[39mappend(track[\u001b[38;5;124m\"\u001b[39m\u001b[38;5;124mtrack\u001b[39m\u001b[38;5;124m\"\u001b[39m][\u001b[38;5;124m\"\u001b[39m\u001b[38;5;124mname\u001b[39m\u001b[38;5;124m\"\u001b[39m])\n\u001b[0;32m      4\u001b[0m artisturi\u001b[38;5;241m.\u001b[39mappend(track[\u001b[38;5;124m\"\u001b[39m\u001b[38;5;124mtrack\u001b[39m\u001b[38;5;124m\"\u001b[39m][\u001b[38;5;124m\"\u001b[39m\u001b[38;5;124martists\u001b[39m\u001b[38;5;124m\"\u001b[39m][\u001b[38;5;241m0\u001b[39m][\u001b[38;5;124m\"\u001b[39m\u001b[38;5;124muri\u001b[39m\u001b[38;5;124m\"\u001b[39m])\n\u001b[1;32m----> 5\u001b[0m artistinfo\u001b[38;5;241m.\u001b[39mappend(\u001b[43msp\u001b[49m\u001b[38;5;241;43m.\u001b[39;49m\u001b[43martist\u001b[49m\u001b[43m(\u001b[49m\u001b[43martist_uri\u001b[49m\u001b[43m)\u001b[49m)\n\u001b[0;32m      6\u001b[0m artname\u001b[38;5;241m.\u001b[39mappend(track[\u001b[38;5;124m\"\u001b[39m\u001b[38;5;124mtrack\u001b[39m\u001b[38;5;124m\"\u001b[39m][\u001b[38;5;124m\"\u001b[39m\u001b[38;5;124martists\u001b[39m\u001b[38;5;124m\"\u001b[39m][\u001b[38;5;241m0\u001b[39m][\u001b[38;5;124m\"\u001b[39m\u001b[38;5;124mname\u001b[39m\u001b[38;5;124m\"\u001b[39m])\n\u001b[0;32m      7\u001b[0m artpop\u001b[38;5;241m.\u001b[39mappend(artist_info[\u001b[38;5;124m\"\u001b[39m\u001b[38;5;124mpopularity\u001b[39m\u001b[38;5;124m\"\u001b[39m])\n",
      "File \u001b[1;32m~\\AppData\\Local\\Programs\\Python\\Python310\\lib\\site-packages\\spotipy\\client.py:391\u001b[0m, in \u001b[0;36mSpotify.artist\u001b[1;34m(self, artist_id)\u001b[0m\n\u001b[0;32m    384\u001b[0m \u001b[38;5;28;01mdef\u001b[39;00m \u001b[38;5;21martist\u001b[39m(\u001b[38;5;28mself\u001b[39m, artist_id):\n\u001b[0;32m    385\u001b[0m     \u001b[38;5;124;03m\"\"\" returns a single artist given the artist's ID, URI or URL\u001b[39;00m\n\u001b[0;32m    386\u001b[0m \n\u001b[0;32m    387\u001b[0m \u001b[38;5;124;03m        Parameters:\u001b[39;00m\n\u001b[0;32m    388\u001b[0m \u001b[38;5;124;03m            - artist_id - an artist ID, URI or URL\u001b[39;00m\n\u001b[0;32m    389\u001b[0m \u001b[38;5;124;03m    \"\"\"\u001b[39;00m\n\u001b[1;32m--> 391\u001b[0m     trid \u001b[38;5;241m=\u001b[39m \u001b[38;5;28;43mself\u001b[39;49m\u001b[38;5;241;43m.\u001b[39;49m\u001b[43m_get_id\u001b[49m\u001b[43m(\u001b[49m\u001b[38;5;124;43m\"\u001b[39;49m\u001b[38;5;124;43martist\u001b[39;49m\u001b[38;5;124;43m\"\u001b[39;49m\u001b[43m,\u001b[49m\u001b[43m \u001b[49m\u001b[43martist_id\u001b[49m\u001b[43m)\u001b[49m\n\u001b[0;32m    392\u001b[0m     \u001b[38;5;28;01mreturn\u001b[39;00m \u001b[38;5;28mself\u001b[39m\u001b[38;5;241m.\u001b[39m_get(\u001b[38;5;124m\"\u001b[39m\u001b[38;5;124martists/\u001b[39m\u001b[38;5;124m\"\u001b[39m \u001b[38;5;241m+\u001b[39m trid)\n",
      "File \u001b[1;32m~\\AppData\\Local\\Programs\\Python\\Python310\\lib\\site-packages\\spotipy\\client.py:1969\u001b[0m, in \u001b[0;36mSpotify._get_id\u001b[1;34m(self, type, id)\u001b[0m\n\u001b[0;32m   1968\u001b[0m \u001b[38;5;28;01mdef\u001b[39;00m \u001b[38;5;21m_get_id\u001b[39m(\u001b[38;5;28mself\u001b[39m, \u001b[38;5;28mtype\u001b[39m, \u001b[38;5;28mid\u001b[39m):\n\u001b[1;32m-> 1969\u001b[0m     uri_match \u001b[38;5;241m=\u001b[39m \u001b[43mre\u001b[49m\u001b[38;5;241;43m.\u001b[39;49m\u001b[43msearch\u001b[49m\u001b[43m(\u001b[49m\u001b[43mSpotify\u001b[49m\u001b[38;5;241;43m.\u001b[39;49m\u001b[43m_regex_spotify_uri\u001b[49m\u001b[43m,\u001b[49m\u001b[43m \u001b[49m\u001b[38;5;28;43mid\u001b[39;49m\u001b[43m)\u001b[49m\n\u001b[0;32m   1970\u001b[0m     \u001b[38;5;28;01mif\u001b[39;00m uri_match \u001b[38;5;129;01mis\u001b[39;00m \u001b[38;5;129;01mnot\u001b[39;00m \u001b[38;5;28;01mNone\u001b[39;00m:\n\u001b[0;32m   1971\u001b[0m         uri_match_groups \u001b[38;5;241m=\u001b[39m uri_match\u001b[38;5;241m.\u001b[39mgroupdict()\n",
      "File \u001b[1;32m~\\AppData\\Local\\Programs\\Python\\Python310\\lib\\re.py:200\u001b[0m, in \u001b[0;36msearch\u001b[1;34m(pattern, string, flags)\u001b[0m\n\u001b[0;32m    197\u001b[0m \u001b[38;5;28;01mdef\u001b[39;00m \u001b[38;5;21msearch\u001b[39m(pattern, string, flags\u001b[38;5;241m=\u001b[39m\u001b[38;5;241m0\u001b[39m):\n\u001b[0;32m    198\u001b[0m     \u001b[38;5;124;03m\"\"\"Scan through string looking for a match to the pattern, returning\u001b[39;00m\n\u001b[0;32m    199\u001b[0m \u001b[38;5;124;03m    a Match object, or None if no match was found.\"\"\"\u001b[39;00m\n\u001b[1;32m--> 200\u001b[0m     \u001b[38;5;28;01mreturn\u001b[39;00m \u001b[43m_compile\u001b[49m\u001b[43m(\u001b[49m\u001b[43mpattern\u001b[49m\u001b[43m,\u001b[49m\u001b[43m \u001b[49m\u001b[43mflags\u001b[49m\u001b[43m)\u001b[49m\u001b[38;5;241;43m.\u001b[39;49m\u001b[43msearch\u001b[49m\u001b[43m(\u001b[49m\u001b[43mstring\u001b[49m\u001b[43m)\u001b[49m\n",
      "\u001b[1;31mTypeError\u001b[0m: expected string or bytes-like object"
     ]
    }
   ],
   "source": [
    "for track in sp.playlist_tracks(playlist_URI)[\"items\"]:\n",
    "    trackuri.append(track[\"track\"][\"uri\"])\n",
    "    tname.append(track[\"track\"][\"name\"])\n",
    "    artisturi.append(track[\"track\"][\"artists\"][0][\"uri\"])\n",
    "    artistinfo.append(sp.artist(artist_uri))\n",
    "    artname.append(track[\"track\"][\"artists\"][0][\"name\"])\n",
    "    artpop.append(artist_info[\"popularity\"])\n",
    "    artgenres.append(artist_info[\"genres\"])\n",
    "    albumname.append(track[\"track\"][\"album\"][\"name\"])    "
   ]
  },
  {
   "cell_type": "code",
   "execution_count": 43,
   "id": "09a067f2",
   "metadata": {},
   "outputs": [],
   "source": [
    "for i in track_uris:\n",
    "    feat = sp.audio_features(i)[0]\n",
    "    acoustic.append(feat['acousticness'])\n",
    "    dance.append(feat['danceability'])\n",
    "    energy.append(feat['energy'])\n",
    "    speech.append(feat['speechiness'])\n",
    "    instrumental.append(feat['instrumentalness'])\n",
    "    loudness.append(feat['loudness'])\n",
    "    tempo.append(feat['tempo'])\n",
    "    liveness.append(feat['liveness'])\n",
    "    valence.append(feat['valence'])\n",
    "    popu = sp.track(i)\n",
    "    popularity.append(popu['popularity'])\n",
    "    duration.append(feat['duration_ms'])"
   ]
  },
  {
   "cell_type": "code",
   "execution_count": 46,
   "id": "abc49aed",
   "metadata": {},
   "outputs": [],
   "source": [
    "spotify_songs_data = {\n",
    "        \"track_name\": tname,\n",
    "        \"track_URI\": trackuri,\n",
    "        \"artist_name\": artname,\n",
    "        \"artist_info\": artistinfo,\n",
    "        \"artist_pop\": artpop, \n",
    "        \"artist_URI\": artisturi, \n",
    "        \"genres\": artgenres,\n",
    "        \"album\": albumname,\n",
    "        \"dance\":dance,\n",
    "        \"acoustic\":acoustic,\n",
    "        \"energy\":energy,\n",
    "        \"instrumental\":instrumental,\n",
    "        \"liveness\":liveness,\n",
    "        \"loudness\":loudness,\n",
    "        \"speech\":speech,\n",
    "        \"tempo\":tempo,\n",
    "        \"valence\":valence,\n",
    "        \"track_popularity\":popularity,\n",
    "        \"duration_ms\":duration,\n",
    "       }"
   ]
  },
  {
   "cell_type": "code",
   "execution_count": 51,
   "id": "4f78feb3",
   "metadata": {},
   "outputs": [
    {
     "data": {
      "text/plain": [
       "0"
      ]
     },
     "execution_count": 51,
     "metadata": {},
     "output_type": "execute_result"
    }
   ],
   "source": [
    "len(artname)"
   ]
  },
  {
   "cell_type": "code",
   "execution_count": 47,
   "id": "18bb597d",
   "metadata": {},
   "outputs": [
    {
     "ename": "ValueError",
     "evalue": "All arrays must be of the same length",
     "output_type": "error",
     "traceback": [
      "\u001b[1;31m---------------------------------------------------------------------------\u001b[0m",
      "\u001b[1;31mValueError\u001b[0m                                Traceback (most recent call last)",
      "Cell \u001b[1;32mIn [47], line 1\u001b[0m\n\u001b[1;32m----> 1\u001b[0m spotify_songs_data_df \u001b[38;5;241m=\u001b[39m \u001b[43mpd\u001b[49m\u001b[38;5;241;43m.\u001b[39;49m\u001b[43mDataFrame\u001b[49m\u001b[43m(\u001b[49m\u001b[43mspotify_songs_data\u001b[49m\u001b[43m)\u001b[49m\n",
      "File \u001b[1;32m~\\AppData\\Local\\Programs\\Python\\Python310\\lib\\site-packages\\pandas\\core\\frame.py:663\u001b[0m, in \u001b[0;36mDataFrame.__init__\u001b[1;34m(self, data, index, columns, dtype, copy)\u001b[0m\n\u001b[0;32m    657\u001b[0m     mgr \u001b[38;5;241m=\u001b[39m \u001b[38;5;28mself\u001b[39m\u001b[38;5;241m.\u001b[39m_init_mgr(\n\u001b[0;32m    658\u001b[0m         data, axes\u001b[38;5;241m=\u001b[39m{\u001b[38;5;124m\"\u001b[39m\u001b[38;5;124mindex\u001b[39m\u001b[38;5;124m\"\u001b[39m: index, \u001b[38;5;124m\"\u001b[39m\u001b[38;5;124mcolumns\u001b[39m\u001b[38;5;124m\"\u001b[39m: columns}, dtype\u001b[38;5;241m=\u001b[39mdtype, copy\u001b[38;5;241m=\u001b[39mcopy\n\u001b[0;32m    659\u001b[0m     )\n\u001b[0;32m    661\u001b[0m \u001b[38;5;28;01melif\u001b[39;00m \u001b[38;5;28misinstance\u001b[39m(data, \u001b[38;5;28mdict\u001b[39m):\n\u001b[0;32m    662\u001b[0m     \u001b[38;5;66;03m# GH#38939 de facto copy defaults to False only in non-dict cases\u001b[39;00m\n\u001b[1;32m--> 663\u001b[0m     mgr \u001b[38;5;241m=\u001b[39m \u001b[43mdict_to_mgr\u001b[49m\u001b[43m(\u001b[49m\u001b[43mdata\u001b[49m\u001b[43m,\u001b[49m\u001b[43m \u001b[49m\u001b[43mindex\u001b[49m\u001b[43m,\u001b[49m\u001b[43m \u001b[49m\u001b[43mcolumns\u001b[49m\u001b[43m,\u001b[49m\u001b[43m \u001b[49m\u001b[43mdtype\u001b[49m\u001b[38;5;241;43m=\u001b[39;49m\u001b[43mdtype\u001b[49m\u001b[43m,\u001b[49m\u001b[43m \u001b[49m\u001b[43mcopy\u001b[49m\u001b[38;5;241;43m=\u001b[39;49m\u001b[43mcopy\u001b[49m\u001b[43m,\u001b[49m\u001b[43m \u001b[49m\u001b[43mtyp\u001b[49m\u001b[38;5;241;43m=\u001b[39;49m\u001b[43mmanager\u001b[49m\u001b[43m)\u001b[49m\n\u001b[0;32m    664\u001b[0m \u001b[38;5;28;01melif\u001b[39;00m \u001b[38;5;28misinstance\u001b[39m(data, ma\u001b[38;5;241m.\u001b[39mMaskedArray):\n\u001b[0;32m    665\u001b[0m     \u001b[38;5;28;01mimport\u001b[39;00m \u001b[38;5;21;01mnumpy\u001b[39;00m\u001b[38;5;21;01m.\u001b[39;00m\u001b[38;5;21;01mma\u001b[39;00m\u001b[38;5;21;01m.\u001b[39;00m\u001b[38;5;21;01mmrecords\u001b[39;00m \u001b[38;5;28;01mas\u001b[39;00m \u001b[38;5;21;01mmrecords\u001b[39;00m\n",
      "File \u001b[1;32m~\\AppData\\Local\\Programs\\Python\\Python310\\lib\\site-packages\\pandas\\core\\internals\\construction.py:494\u001b[0m, in \u001b[0;36mdict_to_mgr\u001b[1;34m(data, index, columns, dtype, typ, copy)\u001b[0m\n\u001b[0;32m    490\u001b[0m     \u001b[38;5;28;01melse\u001b[39;00m:\n\u001b[0;32m    491\u001b[0m         \u001b[38;5;66;03m# dtype check to exclude e.g. range objects, scalars\u001b[39;00m\n\u001b[0;32m    492\u001b[0m         arrays \u001b[38;5;241m=\u001b[39m [x\u001b[38;5;241m.\u001b[39mcopy() \u001b[38;5;28;01mif\u001b[39;00m \u001b[38;5;28mhasattr\u001b[39m(x, \u001b[38;5;124m\"\u001b[39m\u001b[38;5;124mdtype\u001b[39m\u001b[38;5;124m\"\u001b[39m) \u001b[38;5;28;01melse\u001b[39;00m x \u001b[38;5;28;01mfor\u001b[39;00m x \u001b[38;5;129;01min\u001b[39;00m arrays]\n\u001b[1;32m--> 494\u001b[0m \u001b[38;5;28;01mreturn\u001b[39;00m \u001b[43marrays_to_mgr\u001b[49m\u001b[43m(\u001b[49m\u001b[43marrays\u001b[49m\u001b[43m,\u001b[49m\u001b[43m \u001b[49m\u001b[43mcolumns\u001b[49m\u001b[43m,\u001b[49m\u001b[43m \u001b[49m\u001b[43mindex\u001b[49m\u001b[43m,\u001b[49m\u001b[43m \u001b[49m\u001b[43mdtype\u001b[49m\u001b[38;5;241;43m=\u001b[39;49m\u001b[43mdtype\u001b[49m\u001b[43m,\u001b[49m\u001b[43m \u001b[49m\u001b[43mtyp\u001b[49m\u001b[38;5;241;43m=\u001b[39;49m\u001b[43mtyp\u001b[49m\u001b[43m,\u001b[49m\u001b[43m \u001b[49m\u001b[43mconsolidate\u001b[49m\u001b[38;5;241;43m=\u001b[39;49m\u001b[43mcopy\u001b[49m\u001b[43m)\u001b[49m\n",
      "File \u001b[1;32m~\\AppData\\Local\\Programs\\Python\\Python310\\lib\\site-packages\\pandas\\core\\internals\\construction.py:119\u001b[0m, in \u001b[0;36marrays_to_mgr\u001b[1;34m(arrays, columns, index, dtype, verify_integrity, typ, consolidate)\u001b[0m\n\u001b[0;32m    116\u001b[0m \u001b[38;5;28;01mif\u001b[39;00m verify_integrity:\n\u001b[0;32m    117\u001b[0m     \u001b[38;5;66;03m# figure out the index, if necessary\u001b[39;00m\n\u001b[0;32m    118\u001b[0m     \u001b[38;5;28;01mif\u001b[39;00m index \u001b[38;5;129;01mis\u001b[39;00m \u001b[38;5;28;01mNone\u001b[39;00m:\n\u001b[1;32m--> 119\u001b[0m         index \u001b[38;5;241m=\u001b[39m \u001b[43m_extract_index\u001b[49m\u001b[43m(\u001b[49m\u001b[43marrays\u001b[49m\u001b[43m)\u001b[49m\n\u001b[0;32m    120\u001b[0m     \u001b[38;5;28;01melse\u001b[39;00m:\n\u001b[0;32m    121\u001b[0m         index \u001b[38;5;241m=\u001b[39m ensure_index(index)\n",
      "File \u001b[1;32m~\\AppData\\Local\\Programs\\Python\\Python310\\lib\\site-packages\\pandas\\core\\internals\\construction.py:667\u001b[0m, in \u001b[0;36m_extract_index\u001b[1;34m(data)\u001b[0m\n\u001b[0;32m    665\u001b[0m lengths \u001b[38;5;241m=\u001b[39m \u001b[38;5;28mlist\u001b[39m(\u001b[38;5;28mset\u001b[39m(raw_lengths))\n\u001b[0;32m    666\u001b[0m \u001b[38;5;28;01mif\u001b[39;00m \u001b[38;5;28mlen\u001b[39m(lengths) \u001b[38;5;241m>\u001b[39m \u001b[38;5;241m1\u001b[39m:\n\u001b[1;32m--> 667\u001b[0m     \u001b[38;5;28;01mraise\u001b[39;00m \u001b[38;5;167;01mValueError\u001b[39;00m(\u001b[38;5;124m\"\u001b[39m\u001b[38;5;124mAll arrays must be of the same length\u001b[39m\u001b[38;5;124m\"\u001b[39m)\n\u001b[0;32m    669\u001b[0m \u001b[38;5;28;01mif\u001b[39;00m have_dicts:\n\u001b[0;32m    670\u001b[0m     \u001b[38;5;28;01mraise\u001b[39;00m \u001b[38;5;167;01mValueError\u001b[39;00m(\n\u001b[0;32m    671\u001b[0m         \u001b[38;5;124m\"\u001b[39m\u001b[38;5;124mMixing dicts with non-Series may lead to ambiguous ordering.\u001b[39m\u001b[38;5;124m\"\u001b[39m\n\u001b[0;32m    672\u001b[0m     )\n",
      "\u001b[1;31mValueError\u001b[0m: All arrays must be of the same length"
     ]
    }
   ],
   "source": [
    "spotify_songs_data_df = pd.DataFrame(spotify_songs_data)"
   ]
  },
  {
   "cell_type": "code",
   "execution_count": null,
   "id": "d196ff3f",
   "metadata": {},
   "outputs": [],
   "source": [
    "artists_names = spotify_songs_data_df['artist_name'].unique()"
   ]
  },
  {
   "cell_type": "code",
   "execution_count": null,
   "id": "b0d0210a",
   "metadata": {},
   "outputs": [],
   "source": [
    "artists_names"
   ]
  },
  {
   "cell_type": "code",
   "execution_count": null,
   "id": "48a54a0d",
   "metadata": {},
   "outputs": [],
   "source": [
    "tracks_names = spotify_songs_data_df['track_name'].tolist()"
   ]
  },
  {
   "cell_type": "markdown",
   "id": "0d985d62",
   "metadata": {},
   "source": [
    "SHAZAM API"
   ]
  },
  {
   "cell_type": "code",
   "execution_count": null,
   "id": "16470b89",
   "metadata": {},
   "outputs": [],
   "source": [
    "import request"
   ]
  },
  {
   "cell_type": "code",
   "execution_count": null,
   "id": "f31ded27",
   "metadata": {},
   "outputs": [],
   "source": [
    "url_search = \"https://shazam.p.rapidapi.com/search\"\n",
    "url_get_count = \"https://shazam.p.rapidapi.com/songs/get-count\"\n",
    "\n",
    "headers = {\n",
    "\t\"X-RapidAPI-Key\": getpass(\"Enter your X-RapidAPI-Key: \"),\n",
    "\t\"X-RapidAPI-Host\": \"shazam.p.rapidapi.com\"\n",
    "}\n",
    "\n",
    "total_shazamed = []\n",
    "\n",
    "for song in tracks_names:\n",
    "    querystring = {\"term\":song,\"locale\":\"en-US\",\"offset\":\"0\",\"limit\":\"1\"}\n",
    "    song_response = requests.get(url_search, headers=headers, params=querystring).json()\n",
    "    song_key = song_response['tracks']['hits'][0]['track']['key']\n",
    "    \n",
    "    querystring2 = {\"key\":song_key}\n",
    "    song_key_response = requests.get(url_get_count, headers=headers, params=querystring2).json()\n",
    "    song_total_detect = song_key_response['total']\n",
    "    total_shazamed.append(song_total_detect)"
   ]
  },
  {
   "cell_type": "markdown",
   "id": "7c809e89",
   "metadata": {},
   "source": [
    "Updating spotify_songs_data_df dataframe with count of shazams"
   ]
  },
  {
   "cell_type": "code",
   "execution_count": null,
   "id": "78f62a4b",
   "metadata": {},
   "outputs": [],
   "source": [
    "spotify_songs_data_df['total_shazamed_count'] = total_shazamed"
   ]
  },
  {
   "cell_type": "markdown",
   "id": "73926ba8",
   "metadata": {},
   "source": [
    "Scraping Instagram"
   ]
  },
  {
   "cell_type": "markdown",
   "id": "d269f9a7",
   "metadata": {},
   "source": [
    "Scraping Instagram website to get usernames of the artists by their names"
   ]
  },
  {
   "cell_type": "code",
   "execution_count": null,
   "id": "942182d5",
   "metadata": {},
   "outputs": [],
   "source": [
    "from selenium import webdriver\n",
    "from selenium.webdriver.common.keys import Keys\n",
    "from selenium.webdriver.common.by import By\n",
    "import time, urllib.request"
   ]
  },
  {
   "cell_type": "code",
   "execution_count": null,
   "id": "7c696899",
   "metadata": {},
   "outputs": [],
   "source": [
    "instagram_username = getpass(\"Please enter you Instagram username: \")\n",
    "instagram_password = getpass(\"Please enter you Instagram password: \")\n",
    "instagram_cookies_file = getpass(\"Please enter your Instagram cookies file: \")\n",
    "session_id = getpass(\"Please enter you Instagram sessionID: \")\n",
    "csrftoken = getpass(\"Please enter you Instagram csrftoken: \")"
   ]
  },
  {
   "cell_type": "code",
   "execution_count": null,
   "id": "857588b6",
   "metadata": {},
   "outputs": [],
   "source": [
    "chrome_options = webdriver.ChromeOptions()\n",
    "driver = webdriver.Chrome(options=chrome_options)\n",
    "driver.get(\"https://www.instagram.com/\")"
   ]
  },
  {
   "cell_type": "code",
   "execution_count": null,
   "id": "7fdfe862",
   "metadata": {},
   "outputs": [],
   "source": [
    "time.sleep(5)\n",
    "\n",
    "cookies_allowance = driver.find_element(By.CSS_SELECTOR,\"button[class='_a9-- _a9_0']\").click()"
   ]
  },
  {
   "cell_type": "code",
   "execution_count": null,
   "id": "1fa81a0e",
   "metadata": {},
   "outputs": [],
   "source": [
    "time.sleep(5)\n",
    "\n",
    "scrape_instagram_username=driver.find_element(By.CSS_SELECTOR,\"input[name='username']\")\n",
    "scrape_instagram_password=driver.find_element(By.CSS_SELECTOR,\"input[name='password']\")\n",
    "scrape_instagram_username.clear()\n",
    "scrape_instagram_password.clear()\n",
    "scrape_instagram_username.send_keys(instagram_username)\n",
    "scrape_instagram_password.send_keys(instagram_password)\n",
    "login = driver.find_element(By.CSS_SELECTOR,\"button[type='submit']\").click()"
   ]
  },
  {
   "cell_type": "code",
   "execution_count": null,
   "id": "59e7ac0c",
   "metadata": {},
   "outputs": [],
   "source": [
    "time.sleep(10)\n",
    "\n",
    "notnow = driver.find_element(By.XPATH,\"/html/body/div[2]/div/div/div[2]/div/div/div/div[1]/div[1]/div[2]/section/main/div/d"
   ]
  },
  {
   "cell_type": "code",
   "execution_count": null,
   "id": "60d5b021",
   "metadata": {},
   "outputs": [],
   "source": [
    "time.sleep(10)\n",
    "\n",
    "notnow2 = driver.find_element(By.XPATH,\"/html/body/div[3]/div[1]/div/div[2]/div/div/div/div/div[2]/div/div/div[3]/button[2]\""
   ]
  },
  {
   "cell_type": "code",
   "execution_count": null,
   "id": "ae778811",
   "metadata": {},
   "outputs": [],
   "source": [
    "def click_search_field():\n",
    "    driver.find_element(By.XPATH,\"/html/body/div[2]/div/div/div[2]/div/div/div/div[1]/div[1]/div[1]/div/div/div/"
   ]
  },
  {
   "cell_type": "code",
   "execution_count": null,
   "id": "19871006",
   "metadata": {},
   "outputs": [],
   "source": [
    "def click_searchbox():\n",
    "    driver.find_element(By.CSS_SELECTOR,\"input[placeholder='Search']\")"
   ]
  },
  {
   "cell_type": "code",
   "execution_count": null,
   "id": "0b9bbda7",
   "metadata": {},
   "outputs": [],
   "source": [
    "def get_artist_username(name):\n",
    "    time.sleep(5)\n",
    "    \n",
    "#     try:\n",
    "    verified = driver.find_element(By.XPATH,\"/html/body/div[2]/div/div/div[2]/div/div/div/div[1]/div[1]/div[1]/div/div/div[2]/div/div/div[2]/div[2]/div/div[1]/a/div/div/div/div[2]/div/div/div/div\")\n",
    "#     except:\n",
    "#         verified = driver.find_element(By.XPATH,\"/html/body/div[2]/div/div/div[2]/div/div/div/div[1]/div[1]/div[1]/div/div/div[2]/div/div/div[2]/div[2]/div/div[1]/a/div/div/div/div[2]/div/div/div/div\")\n",
    "    \n",
    "    artist_page = driver.find_element(By.XPATH,\"/html/body/div[2]/div/div/div[2]/div/div/div/div[1]/div[1]/div[1]/div/div/div[2]/div/div/div[2]/div[2]/div/div[1]/a/div\").click()\n",
    "    \n",
    "    time.sleep(10)\n",
    "    \n",
    "    try:\n",
    "        username = driver.find_element(By.XPATH,\"/html/body/div[2]/div/div/div[2]/div/div/div/div[1]/div[1]/div[2]/div[2]/section/main/div/header/section/div[1]/a/h2\").text\n",
    "    except:\n",
    "        username = driver.find_element(By.XPATH,\"/html/body/div[2]/div/div/div[2]/div/div/div/div[1]/div[1]/div[2]/div[2]/section/main/div/header/section/div[1]/a/h1\").text\n",
    "\n",
    "    instagram_data.append({\n",
    "        \"artist_name\" : name, \n",
    "        \"instagram_username\" : username, \n",
    "    })\n",
    "\n",
    "    click_search_field()"
   ]
  },
  {
   "cell_type": "code",
   "execution_count": null,
   "id": "f5606b7e",
   "metadata": {},
   "outputs": [],
   "source": [
    "instagram_artists_data = []"
   ]
  },
  {
   "cell_type": "code",
   "execution_count": null,
   "id": "ac85bd6f",
   "metadata": {},
   "outputs": [],
   "source": [
    "for artist in artists_names:\n",
    "    time.sleep(5)\n",
    "    \n",
    "    click_search_field()\n",
    "    \n",
    "    time.sleep(5)\n",
    "    \n",
    "    try:\n",
    "        searchbox = click_searchbox()\n",
    "    except:\n",
    "        click_search_field()\n",
    "        searchbox = click_searchbox()    \n",
    "        \n",
    "    searchbox.send_keys(artist)\n",
    "    \n",
    "    time.sleep(5)\n",
    "    \n",
    "    not_personalized = driver.find_element(By.XPATH,\"/html/body/div[2]/div/div/div[2]/div/div/div/div[1]/div[1]/div[1]/div/div/div[2]/div/div/div[2]/div[1]/div[2]/div/div[2]\").click()\n",
    "\n",
    "    try:\n",
    "        try:\n",
    "            get_artist_username(artist)\n",
    "        except:            \n",
    "            personalized = driver.find_element(By.XPATH,\"/html/body/div[2]/div/div/div[2]/div/div/div/div[1]/div[1]/div[1]/div/div/div[2]/div/div/div[2]/div[1]/div[2]/div/div[1]\").click()\n",
    "            get_artist_username(artist)       \n",
    "    except:\n",
    "        instagram_artists_data.append({\"artist_name\" : artist, \"instagram_username\" : None})\n",
    "        click_search_field()"
   ]
  },
  {
   "cell_type": "code",
   "execution_count": null,
   "id": "98519b0f",
   "metadata": {},
   "outputs": [],
   "source": []
  },
  {
   "cell_type": "code",
   "execution_count": null,
   "id": "e7e7f8e2",
   "metadata": {},
   "outputs": [],
   "source": []
  },
  {
   "cell_type": "code",
   "execution_count": null,
   "id": "004660d2",
   "metadata": {},
   "outputs": [],
   "source": []
  },
  {
   "cell_type": "code",
   "execution_count": null,
   "id": "4f1e68c1",
   "metadata": {},
   "outputs": [],
   "source": []
  },
  {
   "cell_type": "code",
   "execution_count": null,
   "id": "04d95952",
   "metadata": {},
   "outputs": [],
   "source": []
  },
  {
   "cell_type": "code",
   "execution_count": null,
   "id": "db51da42",
   "metadata": {},
   "outputs": [],
   "source": []
  }
 ],
 "metadata": {
  "kernelspec": {
   "display_name": "Python 3 (ipykernel)",
   "language": "python",
   "name": "python3"
  },
  "language_info": {
   "codemirror_mode": {
    "name": "ipython",
    "version": 3
   },
   "file_extension": ".py",
   "mimetype": "text/x-python",
   "name": "python",
   "nbconvert_exporter": "python",
   "pygments_lexer": "ipython3",
   "version": "3.10.7"
  }
 },
 "nbformat": 4,
 "nbformat_minor": 5
}
