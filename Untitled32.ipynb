{
 "cells": [
  {
   "cell_type": "code",
   "execution_count": 17,
   "id": "1df943a3",
   "metadata": {},
   "outputs": [],
   "source": [
    "import requests\n",
    "# const axios = require('axios');\n",
    "\n",
    "# const options = {\n",
    "#   method: 'GET',\n",
    "url = 'https://shazam.p.rapidapi.com/search'\n",
    "# #   params: {\n",
    "# #     term: 'kiss the rain',\n",
    "# #     locale: 'en-US',\n",
    "# #     offset: '0',\n",
    "# #     limit: '5'\n",
    "# #   },\n",
    "headers = {\n",
    "    'X-RapidAPI-Key': 'SIGN-UP-FOR-KEY',\n",
    "    'X-RapidAPI-Host': 'shazam.p.rapidapi.com'\n",
    "  }\n",
    "#};\n",
    "\n",
    "\n",
    "# url = 'https://music-identify.p.rapidapi.com/identify'\n",
    "# headers = {\n",
    "#     'X-RapidAPI-Key': 'SIGN-UP-FOR-KEY',\n",
    "#     'X-RapidAPI-Host': 'music-identify.p.rapidapi.com',\n",
    "#   }\n",
    "    \n",
    "response = requests.get(url, headers=headers)\n",
    "\n",
    "artists = response.json()"
   ]
  },
  {
   "cell_type": "code",
   "execution_count": 19,
   "id": "33cad331",
   "metadata": {},
   "outputs": [
    {
     "data": {
      "text/plain": [
       "{'message': 'You are not subscribed to this API.'}"
      ]
     },
     "execution_count": 19,
     "metadata": {},
     "output_type": "execute_result"
    }
   ],
   "source": [
    "artists"
   ]
  }
 ],
 "metadata": {
  "kernelspec": {
   "display_name": "Python 3 (ipykernel)",
   "language": "python",
   "name": "python3"
  },
  "language_info": {
   "codemirror_mode": {
    "name": "ipython",
    "version": 3
   },
   "file_extension": ".py",
   "mimetype": "text/x-python",
   "name": "python",
   "nbconvert_exporter": "python",
   "pygments_lexer": "ipython3",
   "version": "3.10.7"
  }
 },
 "nbformat": 4,
 "nbformat_minor": 5
}
