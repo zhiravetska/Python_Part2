{
 "cells": [
  {
   "cell_type": "code",
   "execution_count": 10,
   "id": "8b4b77b0",
   "metadata": {},
   "outputs": [],
   "source": [
    "import spotipy\n",
    "import pandas as pd\n",
    "from spotipy.oauth2 import SpotifyClientCredentials"
   ]
  },
  {
   "cell_type": "code",
   "execution_count": 11,
   "id": "b1e4c09f",
   "metadata": {},
   "outputs": [],
   "source": [
    "client_id = '98c375cd6a8b464ebe3d7fece4bd9fa4'\n",
    "client_secret = '5cd8420044ea4ebe902beb3a227ee30e'\n",
    "\n",
    "client_credentials_manager = SpotifyClientCredentials(client_id=client_id, client_secret=client_secret)\n",
    "sp = spotipy.Spotify(client_credentials_manager=client_credentials_manager) "
   ]
  },
  {
   "cell_type": "code",
   "execution_count": 12,
   "id": "4f9748fe",
   "metadata": {},
   "outputs": [],
   "source": [
    "playlist = \"Pop Rising\" \n",
    "result = sp.search(playlist) \n",
    "result['tracks']['items'][0]['artists']"
   ]
  },
  {
   "cell_type": "code",
   "execution_count": 13,
   "id": "b161e8cb",
   "metadata": {},
   "outputs": [],
   "source": [
    "playlist_uri = result['tracks']['items'][0]['artists'][1]['uri']\n",
    "\n",
    "sp_albums = sp.artist_albums(playlist_uri, album_type='album')\n",
    "playlist = []\n",
    "uri = []\n",
    "for i in sp_albums['items']:\n",
    "    playlist.append(i['playlist'])\n",
    "    uri.append(i['uri'])"
   ]
  },
  {
   "cell_type": "code",
   "execution_count": 14,
   "id": "1caf742c",
   "metadata": {},
   "outputs": [],
   "source": [
    "song_name = []\n",
    "song_uri = []\n",
    "album = []\n",
    "count = 0\n",
    "for j in uri:\n",
    "    \n",
    "    tracks = sp.album_tracks(j)   \n",
    "    for i in tracks['items']:\n",
    "        album.append(playlist[count])\n",
    "        song_name.append(i['playlist'])\n",
    "        song_uri.append(i['uri'])\n",
    "    count+=1\n",
    "song_name"
   ]
  },
  {
   "cell_type": "code",
   "execution_count": 15,
   "id": "e0f5b31b",
   "metadata": {},
   "outputs": [],
   "source": [
    "acoustic = []\n",
    "dance = []\n",
    "energy = []\n",
    "instrumental = []\n",
    "liveness = []\n",
    "loudness = []\n",
    "speech = []\n",
    "tempo = []\n",
    "valence = []\n",
    "popularity = []\n",
    "\n",
    "for i in song_uri:\n",
    "    feat = sp.audio_features(i)[0]\n",
    "    acoustic.append(feat['acousticness'])\n",
    "    dance.append(feat['danceability'])\n",
    "    energy.append(feat['energy'])\n",
    "    speech.append(feat['speechiness'])\n",
    "    instrumental.append(feat['instrumentalness'])\n",
    "    loudness.append(feat['loudness'])\n",
    "    tempo.append(feat['tempo'])\n",
    "    liveness.append(feat['liveness'])\n",
    "    valence.append(feat['valence'])\n",
    "    popu = sp.track(i)\n",
    "    popularity.append(popu['popularity'])"
   ]
  },
  {
   "cell_type": "code",
   "execution_count": 16,
   "id": "ac1c44a2",
   "metadata": {},
   "outputs": [],
   "source": [
    "ari = pd.DataFrame({'name':song_name,\n",
    "                    'album':album,\n",
    "                    'dance':dance,\n",
    "                    'acoustic':acoustic,\n",
    "                    'energy':energy,\n",
    "                    'instrumental':instrumental,\n",
    "                    'liveness':liveness,\n",
    "                    'loudness':loudness,\n",
    "                    'speech':speech,\n",
    "                    'tempo':tempo,\n",
    "                    'valence':valence,\n",
    "                    'popularity':popularity\n",
    "    \n",
    "})\n",
    "ari.head()"
   ]
  },
  {
   "cell_type": "code",
   "execution_count": 17,
   "id": "c639e3e9",
   "metadata": {},
   "outputs": [],
   "source": [
    "ari.size"
   ]
  },
  {
   "cell_type": "code",
   "execution_count": 18,
   "id": "f721e930",
   "metadata": {},
   "outputs": [],
   "source": [
    "ari.shape"
   ]
  }
 ],
 "metadata": {
  "kernelspec": {
   "display_name": "Python 3 (ipykernel)",
   "language": "python",
   "name": "python3"
  },
  "language_info": {
   "codemirror_mode": {
    "name": "ipython",
    "version": 3
   },
   "file_extension": ".py",
   "mimetype": "text/x-python",
   "name": "python",
   "nbconvert_exporter": "python",
   "pygments_lexer": "ipython3",
   "version": "3.10.7"
  }
 },
 "nbformat": 4,
 "nbformat_minor": 5
}
