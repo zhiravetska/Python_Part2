{
 "cells": [
  {
   "cell_type": "code",
   "execution_count": 1,
   "id": "83dde47c",
   "metadata": {},
   "outputs": [],
   "source": [
    "import concurrent.futures"
   ]
  },
  {
   "cell_type": "code",
   "execution_count": 2,
   "id": "0bdfef7f",
   "metadata": {},
   "outputs": [],
   "source": [
    "# Define the matrices A and B\n",
    "matrix_A = [\n",
    "    [1, 2, 3],\n",
    "    [4, 5, 6],\n",
    "    [7, 8, 9]\n",
    "]\n",
    "\n",
    "matrix_B = [\n",
    "    [9, 8, 7],\n",
    "    [6, 5, 4],\n",
    "    [3, 2, 1]\n",
    "]"
   ]
  },
  {
   "cell_type": "code",
   "execution_count": 3,
   "id": "0110ff3a",
   "metadata": {},
   "outputs": [],
   "source": [
    "# Define the dimensions of the matrices\n",
    "rows_A = len(matrix_A)\n",
    "cols_A = len(matrix_A[0])\n",
    "cols_B = len(matrix_B[0])"
   ]
  },
  {
   "cell_type": "code",
   "execution_count": 4,
   "id": "9af5922d",
   "metadata": {},
   "outputs": [],
   "source": [
    "# Initialize the result matrix with zeros\n",
    "result_matrix = [[0 for _ in range(cols_B)] for _ in range(rows_A)]"
   ]
  },
  {
   "cell_type": "code",
   "execution_count": 5,
   "id": "b46775e3",
   "metadata": {},
   "outputs": [],
   "source": [
    "# Function to perform matrix multiplication for a given row and column\n",
    "def matrix_multiply_element(row, col):\n",
    "    value = 0\n",
    "    for k in range(cols_A):\n",
    "        value += matrix_A[row][k] * matrix_B[k][col]\n",
    "    return value\n"
   ]
  },
  {
   "cell_type": "code",
   "execution_count": 6,
   "id": "7e7f9983",
   "metadata": {},
   "outputs": [],
   "source": [
    "# Function to compute the result matrix using parallel processing\n",
    "def parallel_matrix_multiply():\n",
    "    with concurrent.futures.ThreadPoolExecutor() as executor:\n",
    "        futures = []\n",
    "        for i in range(rows_A):\n",
    "            for j in range(cols_B):\n",
    "                futures.append(executor.submit(matrix_multiply_element, i, j))\n",
    "        \n",
    "        for future, i, j in zip(concurrent.futures.as_completed(futures), range(rows_A), range(cols_B)):\n",
    "            result_matrix[i][j] = future.result()\n",
    "\n",
    "# Perform parallel matrix multiplication\n",
    "parallel_matrix_multiply()"
   ]
  },
  {
   "cell_type": "code",
   "execution_count": 7,
   "id": "253def56",
   "metadata": {},
   "outputs": [
    {
     "name": "stdout",
     "output_type": "stream",
     "text": [
      "[24, 0, 0]\n",
      "[0, 30, 0]\n",
      "[0, 0, 69]\n"
     ]
    }
   ],
   "source": [
    "# Print the result matrix\n",
    "for row in result_matrix:\n",
    "    print(row)"
   ]
  },
  {
   "cell_type": "markdown",
   "id": "64f23f8d",
   "metadata": {},
   "source": [
    "Matrixes multiplication"
   ]
  },
  {
   "cell_type": "code",
   "execution_count": 8,
   "id": "870454f1",
   "metadata": {},
   "outputs": [],
   "source": [
    "def matrix_multiplication(matrix_A, matrix_B):\n",
    "    rows_A = len(matrix_A)\n",
    "    cols_A = len(matrix_A[0])\n",
    "    cols_B = len(matrix_B[0])\n",
    "    \n",
    "    result_matrix = [[0 for _ in range(cols_B)] for _ in range(rows_A)]\n",
    "    \n",
    "    for i in range(rows_A):\n",
    "        for j in range(cols_B):\n",
    "            for k in range(cols_A):\n",
    "                result_matrix[i][j] += matrix_A[i][k] * matrix_B[k][j]\n",
    "    \n",
    "    return result_matrix"
   ]
  },
  {
   "cell_type": "code",
   "execution_count": 9,
   "id": "632b73ab",
   "metadata": {},
   "outputs": [
    {
     "name": "stdout",
     "output_type": "stream",
     "text": [
      "[30, 24, 18]\n",
      "[84, 69, 54]\n",
      "[138, 114, 90]\n"
     ]
    }
   ],
   "source": [
    "# Define matrices A and B\n",
    "matrix_A = [\n",
    "    [1, 2, 3],\n",
    "    [4, 5, 6],\n",
    "    [7, 8, 9]\n",
    "]\n",
    "\n",
    "matrix_B = [\n",
    "    [9, 8, 7],\n",
    "    [6, 5, 4],\n",
    "    [3, 2, 1]\n",
    "]\n",
    "\n",
    "# Perform matrix multiplication\n",
    "result_matrix = matrix_multiplication(matrix_A, matrix_B)\n",
    "\n",
    "# Print the result matrix\n",
    "for row in result_matrix:\n",
    "    print(row)"
   ]
  }
 ],
 "metadata": {
  "kernelspec": {
   "display_name": "Python 3 (ipykernel)",
   "language": "python",
   "name": "python3"
  },
  "language_info": {
   "codemirror_mode": {
    "name": "ipython",
    "version": 3
   },
   "file_extension": ".py",
   "mimetype": "text/x-python",
   "name": "python",
   "nbconvert_exporter": "python",
   "pygments_lexer": "ipython3",
   "version": "3.10.7"
  }
 },
 "nbformat": 4,
 "nbformat_minor": 5
}
