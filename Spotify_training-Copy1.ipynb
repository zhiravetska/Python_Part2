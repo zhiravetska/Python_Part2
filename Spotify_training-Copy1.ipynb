{
 "cells": [
  {
   "cell_type": "code",
   "execution_count": 46,
   "id": "51f8c7c2",
   "metadata": {},
   "outputs": [],
   "source": [
    "import spotipy\n",
    "from spotipy.oauth2 import SpotifyClientCredentials\n",
    "import pandas as pd"
   ]
  },
  {
   "cell_type": "code",
   "execution_count": 47,
   "id": "25f97733",
   "metadata": {},
   "outputs": [],
   "source": [
    "#Authentication - without user\n",
    "\n",
    "# client_id = 'YOUR_CLIENT_ID'\n",
    "# client_secret = 'YOUR_CLIENT_SECRET'\n",
    "\n",
    "client_credentials_manager = SpotifyClientCredentials(client_id=\"98c375cd6a8b464ebe3d7fece4bd9fa4\", client_secret=\"5cd8420044ea4ebe902beb3a227ee30e\")\n",
    "sp = spotipy.Spotify(client_credentials_manager = client_credentials_manager)"
   ]
  },
  {
   "cell_type": "code",
   "execution_count": 48,
   "id": "944d3c04",
   "metadata": {
    "scrolled": true
   },
   "outputs": [],
   "source": [
    "playlist_link = \"https://open.spotify.com/playlist/37i9dQZEVXbNG2KDcFcKOF?si=1333723a6eff4b7f\"\n",
    "playlist_URI = playlist_link.split(\"/\")[-1].split(\"?\")[0]\n",
    "track_uris = [x[\"track\"][\"uri\"] for x in sp.playlist_tracks(playlist_URI)[\"items\"]]"
   ]
  },
  {
   "cell_type": "code",
   "execution_count": 49,
   "id": "73f14fc5",
   "metadata": {},
   "outputs": [
    {
     "data": {
      "text/plain": [
       "['spotify:track:7x9aauaA9cu6tyfpHnqDLo',\n",
       " 'spotify:track:2IGMVunIBsBLtEQyoI1Mu7',\n",
       " 'spotify:track:1BxfuPKGuaTgP7aM0Bbdwr',\n",
       " 'spotify:track:7ABLbnD53cQK00mhcaOUVG',\n",
       " 'spotify:track:5RqSsdzTNPX1uzkmlHCFvK',\n",
       " 'spotify:track:6wf7Yu7cxBSPrRlWeSeK0Q',\n",
       " 'spotify:track:1vYXt7VSjH9JIM5oRRo7vA',\n",
       " 'spotify:track:6XbtvPmIpyCbjuT0e8cQtp',\n",
       " 'spotify:track:3k79jB4aGmMDUQzEwa46Rz',\n",
       " 'spotify:track:4rXLjWdF2ZZpXCVTfWcshS',\n",
       " 'spotify:track:2FDTHlrBguDzQkp7PVj16Q',\n",
       " 'spotify:track:1odExI7RdWc4BT515LTAwj',\n",
       " 'spotify:track:7mXuWTczZNxG5EDcjFEuJR',\n",
       " 'spotify:track:4Dvkj6JhhA12EX05fT7y2e',\n",
       " 'spotify:track:4DHcnVTT87F0zZhRPYmZ3B',\n",
       " 'spotify:track:1Qrg8KqiBpW07V7PNxwwwL',\n",
       " 'spotify:track:741UUVE2kuITl0c6zuqqbO',\n",
       " 'spotify:track:5sdQOyqq2IDhvmx2lHOpwd',\n",
       " 'spotify:track:5XeFesFbtLpXzIVDNQP22n',\n",
       " 'spotify:track:4KULAymBBJcPRpk1yO4dOG',\n",
       " 'spotify:track:7ro0hRteUMfnOioTFI5TG1',\n",
       " 'spotify:track:6XSqqQIy7Lm7SnwxS4NrGx',\n",
       " 'spotify:track:25OeKzcqakFPaJlXHPE5lm',\n",
       " 'spotify:track:2UW7JaomAMuX9pZrjVpHAU',\n",
       " 'spotify:track:23RoR84KodL5HWvUTneQ1w',\n",
       " 'spotify:track:54zcJnb3tp9c5OVKREZ1Is',\n",
       " 'spotify:track:3hUxzQpSfdDqwM3ZTFQY0K',\n",
       " 'spotify:track:2i8f4VnnBjy0yDqH2C452a',\n",
       " 'spotify:track:6irysuQyZWd7Bjj7ePiOs2',\n",
       " 'spotify:track:59NraMJsLaMCVtwXTSia8i',\n",
       " 'spotify:track:6WzRpISELf3YglGAh7TXcG',\n",
       " 'spotify:track:4lIxdJw6W3Fg4vUIYCB0S5',\n",
       " 'spotify:track:5PUXKVVVQ74C3gl5vKy9Li',\n",
       " 'spotify:track:6uIIdjYTxxpWOyWuVXrKQO',\n",
       " 'spotify:track:1p80LdxRV74UKvL8gnD7ky',\n",
       " 'spotify:track:41WQUSINanQHfhfKpFDsms',\n",
       " 'spotify:track:0V3wPSX9ygBnCm8psDIegu',\n",
       " 'spotify:track:3qQbCzHBycnDpGskqOWY0E',\n",
       " 'spotify:track:2N0SPREDYqILVEFSsWF5N5',\n",
       " 'spotify:track:3Ua0m0YmEjrMi9XErKcNiR',\n",
       " 'spotify:track:7MXVkk9YMctZqd1Srtv4MB',\n",
       " 'spotify:track:2LBqCSwhJGcFQeTHMVGwy3',\n",
       " 'spotify:track:6wsqVwoiVH2kde4k4KKAFU',\n",
       " 'spotify:track:1s7oOCT8vauUh01PbJD6ps',\n",
       " 'spotify:track:67nepsnrcZkowTxMWigSbb',\n",
       " 'spotify:track:7K3BhSpAxZBznislvUMVtn',\n",
       " 'spotify:track:2yzshFeBIwH8tWIqHEFLeD',\n",
       " 'spotify:track:2dHHgzDwk4BJdRwy9uXhTO',\n",
       " 'spotify:track:7bPp2NmpmyhLJ7zWazAXMu',\n",
       " 'spotify:track:7FbrGaHYVDmfr7KoLIZnQ7']"
      ]
     },
     "execution_count": 49,
     "metadata": {},
     "output_type": "execute_result"
    }
   ],
   "source": [
    "track_uris"
   ]
  },
  {
   "cell_type": "code",
   "execution_count": 52,
   "id": "a9c9f581",
   "metadata": {},
   "outputs": [],
   "source": [
    "track_uri = []\n",
    "track_name = []\n",
    "artist_uri = []\n",
    "artist_info = []\n",
    "artist_name = []\n",
    "artist_pop = []\n",
    "artist_genres = []\n",
    "album = []\n",
    "track_pop = []\n"
   ]
  },
  {
   "cell_type": "code",
   "execution_count": 53,
   "id": "9df94f37",
   "metadata": {},
   "outputs": [
    {
     "data": {
      "text/plain": [
       "94"
      ]
     },
     "execution_count": 53,
     "metadata": {},
     "output_type": "execute_result"
    }
   ],
   "source": [
    "\n",
    "for track in sp.playlist_tracks(playlist_URI)[\"items\"]:\n",
    "    #URI\n",
    "    track_uri = track[\"track\"][\"uri\"]\n",
    "    \n",
    "    #Track name\n",
    "    track_name = track[\"track\"][\"name\"]\n",
    "    \n",
    "    #Main Artist\n",
    "    artist_uri = track[\"track\"][\"artists\"][0][\"uri\"]\n",
    "    artist_info = sp.artist(artist_uri)\n",
    "    \n",
    "    #Name, popularity, genre\n",
    "    artist_name = track[\"track\"][\"artists\"][0][\"name\"]\n",
    "    artist_pop = artist_info[\"popularity\"]\n",
    "    artist_info[\"genres\"]\n",
    "    \n",
    "    #Album\n",
    "    album = track[\"track\"][\"album\"][\"name\"]\n",
    "    \n",
    "    #Popularity of the track\n",
    "    track_pop = track[\"track\"][\"popularity\"]\n",
    "    \n",
    "track_uri \n",
    "track_name \n",
    "artist_uri \n",
    "artist_info \n",
    "artist_name \n",
    "artist_pop \n",
    "artist_genres \n",
    "album \n",
    "track_pop "
   ]
  },
  {
   "cell_type": "code",
   "execution_count": 54,
   "id": "383e987d",
   "metadata": {},
   "outputs": [],
   "source": [
    "data = {\"URI\": track_uri,\n",
    "        \"Name\": track_name, \n",
    "        \"Artist URI\": artist_uri,\n",
    "        \"Artist Info\": artist_info,\n",
    "        \"Artist Name\": artist_name, \n",
    "        \"Artist Pop\": artist_pop, \n",
    "        \"Genres\": artist_genres,\n",
    "        \"Album\": album, \n",
    "        \"Popularity\": track_pop}"
   ]
  },
  {
   "cell_type": "code",
   "execution_count": 55,
   "id": "adc1fd3f",
   "metadata": {},
   "outputs": [
    {
     "ename": "ValueError",
     "evalue": "Mixing dicts with non-Series may lead to ambiguous ordering.",
     "output_type": "error",
     "traceback": [
      "\u001b[1;31m---------------------------------------------------------------------------\u001b[0m",
      "\u001b[1;31mValueError\u001b[0m                                Traceback (most recent call last)",
      "Cell \u001b[1;32mIn [55], line 1\u001b[0m\n\u001b[1;32m----> 1\u001b[0m df \u001b[38;5;241m=\u001b[39m \u001b[43mpd\u001b[49m\u001b[38;5;241;43m.\u001b[39;49m\u001b[43mDataFrame\u001b[49m\u001b[43m(\u001b[49m\u001b[43mdata\u001b[49m\u001b[43m)\u001b[49m\n",
      "File \u001b[1;32m~\\AppData\\Local\\Programs\\Python\\Python310\\lib\\site-packages\\pandas\\core\\frame.py:663\u001b[0m, in \u001b[0;36mDataFrame.__init__\u001b[1;34m(self, data, index, columns, dtype, copy)\u001b[0m\n\u001b[0;32m    657\u001b[0m     mgr \u001b[38;5;241m=\u001b[39m \u001b[38;5;28mself\u001b[39m\u001b[38;5;241m.\u001b[39m_init_mgr(\n\u001b[0;32m    658\u001b[0m         data, axes\u001b[38;5;241m=\u001b[39m{\u001b[38;5;124m\"\u001b[39m\u001b[38;5;124mindex\u001b[39m\u001b[38;5;124m\"\u001b[39m: index, \u001b[38;5;124m\"\u001b[39m\u001b[38;5;124mcolumns\u001b[39m\u001b[38;5;124m\"\u001b[39m: columns}, dtype\u001b[38;5;241m=\u001b[39mdtype, copy\u001b[38;5;241m=\u001b[39mcopy\n\u001b[0;32m    659\u001b[0m     )\n\u001b[0;32m    661\u001b[0m \u001b[38;5;28;01melif\u001b[39;00m \u001b[38;5;28misinstance\u001b[39m(data, \u001b[38;5;28mdict\u001b[39m):\n\u001b[0;32m    662\u001b[0m     \u001b[38;5;66;03m# GH#38939 de facto copy defaults to False only in non-dict cases\u001b[39;00m\n\u001b[1;32m--> 663\u001b[0m     mgr \u001b[38;5;241m=\u001b[39m \u001b[43mdict_to_mgr\u001b[49m\u001b[43m(\u001b[49m\u001b[43mdata\u001b[49m\u001b[43m,\u001b[49m\u001b[43m \u001b[49m\u001b[43mindex\u001b[49m\u001b[43m,\u001b[49m\u001b[43m \u001b[49m\u001b[43mcolumns\u001b[49m\u001b[43m,\u001b[49m\u001b[43m \u001b[49m\u001b[43mdtype\u001b[49m\u001b[38;5;241;43m=\u001b[39;49m\u001b[43mdtype\u001b[49m\u001b[43m,\u001b[49m\u001b[43m \u001b[49m\u001b[43mcopy\u001b[49m\u001b[38;5;241;43m=\u001b[39;49m\u001b[43mcopy\u001b[49m\u001b[43m,\u001b[49m\u001b[43m \u001b[49m\u001b[43mtyp\u001b[49m\u001b[38;5;241;43m=\u001b[39;49m\u001b[43mmanager\u001b[49m\u001b[43m)\u001b[49m\n\u001b[0;32m    664\u001b[0m \u001b[38;5;28;01melif\u001b[39;00m \u001b[38;5;28misinstance\u001b[39m(data, ma\u001b[38;5;241m.\u001b[39mMaskedArray):\n\u001b[0;32m    665\u001b[0m     \u001b[38;5;28;01mimport\u001b[39;00m \u001b[38;5;21;01mnumpy\u001b[39;00m\u001b[38;5;21;01m.\u001b[39;00m\u001b[38;5;21;01mma\u001b[39;00m\u001b[38;5;21;01m.\u001b[39;00m\u001b[38;5;21;01mmrecords\u001b[39;00m \u001b[38;5;28;01mas\u001b[39;00m \u001b[38;5;21;01mmrecords\u001b[39;00m\n",
      "File \u001b[1;32m~\\AppData\\Local\\Programs\\Python\\Python310\\lib\\site-packages\\pandas\\core\\internals\\construction.py:494\u001b[0m, in \u001b[0;36mdict_to_mgr\u001b[1;34m(data, index, columns, dtype, typ, copy)\u001b[0m\n\u001b[0;32m    490\u001b[0m     \u001b[38;5;28;01melse\u001b[39;00m:\n\u001b[0;32m    491\u001b[0m         \u001b[38;5;66;03m# dtype check to exclude e.g. range objects, scalars\u001b[39;00m\n\u001b[0;32m    492\u001b[0m         arrays \u001b[38;5;241m=\u001b[39m [x\u001b[38;5;241m.\u001b[39mcopy() \u001b[38;5;28;01mif\u001b[39;00m \u001b[38;5;28mhasattr\u001b[39m(x, \u001b[38;5;124m\"\u001b[39m\u001b[38;5;124mdtype\u001b[39m\u001b[38;5;124m\"\u001b[39m) \u001b[38;5;28;01melse\u001b[39;00m x \u001b[38;5;28;01mfor\u001b[39;00m x \u001b[38;5;129;01min\u001b[39;00m arrays]\n\u001b[1;32m--> 494\u001b[0m \u001b[38;5;28;01mreturn\u001b[39;00m \u001b[43marrays_to_mgr\u001b[49m\u001b[43m(\u001b[49m\u001b[43marrays\u001b[49m\u001b[43m,\u001b[49m\u001b[43m \u001b[49m\u001b[43mcolumns\u001b[49m\u001b[43m,\u001b[49m\u001b[43m \u001b[49m\u001b[43mindex\u001b[49m\u001b[43m,\u001b[49m\u001b[43m \u001b[49m\u001b[43mdtype\u001b[49m\u001b[38;5;241;43m=\u001b[39;49m\u001b[43mdtype\u001b[49m\u001b[43m,\u001b[49m\u001b[43m \u001b[49m\u001b[43mtyp\u001b[49m\u001b[38;5;241;43m=\u001b[39;49m\u001b[43mtyp\u001b[49m\u001b[43m,\u001b[49m\u001b[43m \u001b[49m\u001b[43mconsolidate\u001b[49m\u001b[38;5;241;43m=\u001b[39;49m\u001b[43mcopy\u001b[49m\u001b[43m)\u001b[49m\n",
      "File \u001b[1;32m~\\AppData\\Local\\Programs\\Python\\Python310\\lib\\site-packages\\pandas\\core\\internals\\construction.py:119\u001b[0m, in \u001b[0;36marrays_to_mgr\u001b[1;34m(arrays, columns, index, dtype, verify_integrity, typ, consolidate)\u001b[0m\n\u001b[0;32m    116\u001b[0m \u001b[38;5;28;01mif\u001b[39;00m verify_integrity:\n\u001b[0;32m    117\u001b[0m     \u001b[38;5;66;03m# figure out the index, if necessary\u001b[39;00m\n\u001b[0;32m    118\u001b[0m     \u001b[38;5;28;01mif\u001b[39;00m index \u001b[38;5;129;01mis\u001b[39;00m \u001b[38;5;28;01mNone\u001b[39;00m:\n\u001b[1;32m--> 119\u001b[0m         index \u001b[38;5;241m=\u001b[39m \u001b[43m_extract_index\u001b[49m\u001b[43m(\u001b[49m\u001b[43marrays\u001b[49m\u001b[43m)\u001b[49m\n\u001b[0;32m    120\u001b[0m     \u001b[38;5;28;01melse\u001b[39;00m:\n\u001b[0;32m    121\u001b[0m         index \u001b[38;5;241m=\u001b[39m ensure_index(index)\n",
      "File \u001b[1;32m~\\AppData\\Local\\Programs\\Python\\Python310\\lib\\site-packages\\pandas\\core\\internals\\construction.py:670\u001b[0m, in \u001b[0;36m_extract_index\u001b[1;34m(data)\u001b[0m\n\u001b[0;32m    667\u001b[0m     \u001b[38;5;28;01mraise\u001b[39;00m \u001b[38;5;167;01mValueError\u001b[39;00m(\u001b[38;5;124m\"\u001b[39m\u001b[38;5;124mAll arrays must be of the same length\u001b[39m\u001b[38;5;124m\"\u001b[39m)\n\u001b[0;32m    669\u001b[0m \u001b[38;5;28;01mif\u001b[39;00m have_dicts:\n\u001b[1;32m--> 670\u001b[0m     \u001b[38;5;28;01mraise\u001b[39;00m \u001b[38;5;167;01mValueError\u001b[39;00m(\n\u001b[0;32m    671\u001b[0m         \u001b[38;5;124m\"\u001b[39m\u001b[38;5;124mMixing dicts with non-Series may lead to ambiguous ordering.\u001b[39m\u001b[38;5;124m\"\u001b[39m\n\u001b[0;32m    672\u001b[0m     )\n\u001b[0;32m    674\u001b[0m \u001b[38;5;28;01mif\u001b[39;00m have_series:\n\u001b[0;32m    675\u001b[0m     \u001b[38;5;28;01massert\u001b[39;00m index \u001b[38;5;129;01mis\u001b[39;00m \u001b[38;5;129;01mnot\u001b[39;00m \u001b[38;5;28;01mNone\u001b[39;00m  \u001b[38;5;66;03m# for mypy\u001b[39;00m\n",
      "\u001b[1;31mValueError\u001b[0m: Mixing dicts with non-Series may lead to ambiguous ordering."
     ]
    }
   ],
   "source": [
    "df = pd.DataFrame(data)"
   ]
  },
  {
   "cell_type": "code",
   "execution_count": 45,
   "id": "bc98787d",
   "metadata": {},
   "outputs": [
    {
     "data": {
      "text/html": [
       "<div>\n",
       "<style scoped>\n",
       "    .dataframe tbody tr th:only-of-type {\n",
       "        vertical-align: middle;\n",
       "    }\n",
       "\n",
       "    .dataframe tbody tr th {\n",
       "        vertical-align: top;\n",
       "    }\n",
       "\n",
       "    .dataframe thead th {\n",
       "        text-align: right;\n",
       "    }\n",
       "</style>\n",
       "<table border=\"1\" class=\"dataframe\">\n",
       "  <thead>\n",
       "    <tr style=\"text-align: right;\">\n",
       "      <th></th>\n",
       "      <th>Name</th>\n",
       "      <th>Artist Name</th>\n",
       "      <th>Artist Pop</th>\n",
       "      <th>Genres</th>\n",
       "      <th>Album</th>\n",
       "      <th>Popularity</th>\n",
       "    </tr>\n",
       "  </thead>\n",
       "  <tbody>\n",
       "  </tbody>\n",
       "</table>\n",
       "</div>"
      ],
      "text/plain": [
       "Empty DataFrame\n",
       "Columns: [Name, Artist Name, Artist Pop, Genres, Album, Popularity]\n",
       "Index: []"
      ]
     },
     "execution_count": 45,
     "metadata": {},
     "output_type": "execute_result"
    }
   ],
   "source": [
    "df.head()"
   ]
  },
  {
   "cell_type": "code",
   "execution_count": 41,
   "id": "372975b3",
   "metadata": {},
   "outputs": [
    {
     "data": {
      "text/plain": [
       "'Cupid - Twin Ver.'"
      ]
     },
     "execution_count": 41,
     "metadata": {},
     "output_type": "execute_result"
    }
   ],
   "source": [
    "track_name"
   ]
  },
  {
   "cell_type": "code",
   "execution_count": 42,
   "id": "09e3c1eb",
   "metadata": {},
   "outputs": [
    {
     "data": {
      "text/plain": [
       "94"
      ]
     },
     "execution_count": 42,
     "metadata": {},
     "output_type": "execute_result"
    }
   ],
   "source": [
    "track_pop"
   ]
  },
  {
   "cell_type": "code",
   "execution_count": 6,
   "id": "09d2bcd1",
   "metadata": {},
   "outputs": [
    {
     "data": {
      "text/plain": [
       "'Cupid - Twin Ver.'"
      ]
     },
     "execution_count": 6,
     "metadata": {},
     "output_type": "execute_result"
    }
   ],
   "source": [
    "track_name #???"
   ]
  },
  {
   "cell_type": "code",
   "execution_count": 7,
   "id": "0cffa992",
   "metadata": {},
   "outputs": [
    {
     "data": {
      "text/plain": [
       "['k-pop girl group']"
      ]
     },
     "execution_count": 7,
     "metadata": {},
     "output_type": "execute_result"
    }
   ],
   "source": [
    "artist_genres"
   ]
  },
  {
   "cell_type": "code",
   "execution_count": 8,
   "id": "4f53a15f",
   "metadata": {},
   "outputs": [
    {
     "data": {
      "text/plain": [
       "75"
      ]
     },
     "execution_count": 8,
     "metadata": {},
     "output_type": "execute_result"
    }
   ],
   "source": [
    "artist_pop"
   ]
  },
  {
   "cell_type": "code",
   "execution_count": 9,
   "id": "7a8f13e2",
   "metadata": {},
   "outputs": [
    {
     "data": {
      "text/plain": [
       "{'danceability': 0.783,\n",
       " 'energy': 0.592,\n",
       " 'key': 11,\n",
       " 'loudness': -8.332,\n",
       " 'mode': 0,\n",
       " 'speechiness': 0.0331,\n",
       " 'acousticness': 0.435,\n",
       " 'instrumentalness': 4.15e-06,\n",
       " 'liveness': 0.347,\n",
       " 'valence': 0.726,\n",
       " 'tempo': 120.018,\n",
       " 'type': 'audio_features',\n",
       " 'id': '7FbrGaHYVDmfr7KoLIZnQ7',\n",
       " 'uri': 'spotify:track:7FbrGaHYVDmfr7KoLIZnQ7',\n",
       " 'track_href': 'https://api.spotify.com/v1/tracks/7FbrGaHYVDmfr7KoLIZnQ7',\n",
       " 'analysis_url': 'https://api.spotify.com/v1/audio-analysis/7FbrGaHYVDmfr7KoLIZnQ7',\n",
       " 'duration_ms': 174253,\n",
       " 'time_signature': 4}"
      ]
     },
     "execution_count": 9,
     "metadata": {},
     "output_type": "execute_result"
    }
   ],
   "source": [
    "sp.audio_features(track_uri)[0]"
   ]
  },
  {
   "cell_type": "code",
   "execution_count": 10,
   "id": "5f933436",
   "metadata": {},
   "outputs": [
    {
     "name": "stderr",
     "output_type": "stream",
     "text": [
      "2023-09-08 17:42:10.942 \n",
      "  \u001b[33m\u001b[1mWarning:\u001b[0m to view this Streamlit app on a browser, run it with the following\n",
      "  command:\n",
      "\n",
      "    streamlit run C:\\Users\\zirav\\AppData\\Local\\Programs\\Python\\Python310\\lib\\site-packages\\ipykernel_launcher.py [ARGUMENTS]\n"
     ]
    },
    {
     "data": {
      "text/plain": [
       "DeltaGenerator()"
      ]
     },
     "execution_count": 10,
     "metadata": {},
     "output_type": "execute_result"
    }
   ],
   "source": [
    "# using Streamlit to create a simple UI that allows users to input a Spotify playlist name \n",
    "# and displays various analyses of the playlist\n",
    "\n",
    "import streamlit as st\n",
    "\n",
    "#run C:\\Users\\zirav\\AppData\\Local\\Programs\\Python\\Python310\\lib\\site-packages\\ipykernel_launcher.py\n",
    "\n",
    "st.title(\"SpotifyPlaylist\")"
   ]
  },
  {
   "cell_type": "code",
   "execution_count": 35,
   "id": "a4998453",
   "metadata": {},
   "outputs": [],
   "source": [
    "# Adding User Input with Streamlit\n",
    "playlist_name = st.sidebar.text_input(\"spotify:playlist:37i9dQZEVXbNG2KDcFcKOF\")\n"
   ]
  },
  {
   "cell_type": "code",
   "execution_count": 36,
   "id": "47b502d2",
   "metadata": {},
   "outputs": [],
   "source": [
    "# Retrieving Data from the Spotify API\n",
    "\n",
    "if playlist_name:\n",
    "    playlists = sp.search(playlist_name, type=\"playlist\")[\"playlists\"][\"items\"]\n",
    "    if playlists:\n",
    "        playlist_id = playlists[0][\"id\"]\n",
    "    else:\n",
    "        st.write(\"No playlists found with that name.\")\n",
    "        playlist_id = None\n",
    "else:\n",
    "    playlist_id = None"
   ]
  },
  {
   "cell_type": "code",
   "execution_count": 30,
   "id": "dd7a2614",
   "metadata": {},
   "outputs": [
    {
     "name": "stdout",
     "output_type": "stream",
     "text": [
      "None\n"
     ]
    }
   ],
   "source": [
    "print(playlist_id)"
   ]
  },
  {
   "cell_type": "code",
   "execution_count": 31,
   "id": "7e54c083",
   "metadata": {},
   "outputs": [
    {
     "data": {
      "text/plain": [
       "[]"
      ]
     },
     "execution_count": 31,
     "metadata": {},
     "output_type": "execute_result"
    }
   ],
   "source": [
    "track_names = []\n",
    "track_artists = []\n",
    "track_popularity = []\n",
    "track_duration = []\n",
    "track_album = []\n",
    "track_release_date = []\n",
    "\n",
    "if playlist_id:\n",
    "    playlist = sp.playlist(playlist_id)\n",
    "    tracks = playlist[\"tracks\"][\"items\"]\n",
    "    \n",
    "    for track in tracks:\n",
    "        track_names = [track[\"track\"][\"name\"]]\n",
    "        track_artists = [\", \".join([artist[\"name\"] for artist in track[\"track\"][\"artists\"]])]\n",
    "        track_popularity = [track[\"track\"][\"popularity\"]]\n",
    "        track_duration = [track[\"track\"][\"duration_ms\"]]\n",
    "        track_album = [track[\"track\"][\"album\"][\"name\"]]\n",
    "        track_release_date = [track[\"track\"][\"album\"][\"release_date\"]]\n",
    "        st.write(f\"## {playlist['name']}\")\n",
    "        st.write(f\"**Description:** {playlist['description']}\")\n",
    "        st.write(f\"**Number of tracks:** {len(tracks)}\")\n",
    "        st.write(\"\")\n",
    "        st.write(\"### Tracklist\")\n",
    "        st.write(\"| Name | Artist | Album | Release Date | Popularity | Duration (ms) |\")\n",
    "        st.write(\"| ---- | ------ | ----- | ------------ | ---------- | -------------- |\")\n",
    "        \n",
    "        for i in range(len(tracks)):\n",
    "            st.write(f\"| {track_names[i]} | {track_artists[i]} | {track_album[i]} | {track_release_date[i]} | {track_popularity[i]} | {track_duration[i]} |\")\n",
    "\n",
    "track_names\n",
    "track_artists\n",
    "track_popularity\n",
    "track_duration\n",
    "track_album\n",
    "track_release_date"
   ]
  },
  {
   "cell_type": "code",
   "execution_count": 32,
   "id": "72030aa4",
   "metadata": {},
   "outputs": [],
   "source": [
    "# DataFrame From The Playlist Data\n",
    "\n",
    "data = {\"Name\": track_names, \"Artist\": track_artists, \"Album\": track_album, \"Release Date\": track_release_date, \"Popularity\": track_popularity, \"Duration (ms)\": track_duration}\n",
    "df = pd.DataFrame(data)"
   ]
  },
  {
   "cell_type": "code",
   "execution_count": 175,
   "id": "fff9364a",
   "metadata": {},
   "outputs": [
    {
     "data": {
      "text/html": [
       "<div>\n",
       "<style scoped>\n",
       "    .dataframe tbody tr th:only-of-type {\n",
       "        vertical-align: middle;\n",
       "    }\n",
       "\n",
       "    .dataframe tbody tr th {\n",
       "        vertical-align: top;\n",
       "    }\n",
       "\n",
       "    .dataframe thead th {\n",
       "        text-align: right;\n",
       "    }\n",
       "</style>\n",
       "<table border=\"1\" class=\"dataframe\">\n",
       "  <thead>\n",
       "    <tr style=\"text-align: right;\">\n",
       "      <th></th>\n",
       "      <th>Name</th>\n",
       "      <th>Artist</th>\n",
       "      <th>Album</th>\n",
       "      <th>Release Date</th>\n",
       "      <th>Popularity</th>\n",
       "      <th>Duration (ms)</th>\n",
       "    </tr>\n",
       "  </thead>\n",
       "  <tbody>\n",
       "  </tbody>\n",
       "</table>\n",
       "</div>"
      ],
      "text/plain": [
       "Empty DataFrame\n",
       "Columns: [Name, Artist, Album, Release Date, Popularity, Duration (ms)]\n",
       "Index: []"
      ]
     },
     "execution_count": 175,
     "metadata": {},
     "output_type": "execute_result"
    }
   ],
   "source": [
    "df"
   ]
  }
 ],
 "metadata": {
  "kernelspec": {
   "display_name": "Python 3 (ipykernel)",
   "language": "python",
   "name": "python3"
  },
  "language_info": {
   "codemirror_mode": {
    "name": "ipython",
    "version": 3
   },
   "file_extension": ".py",
   "mimetype": "text/x-python",
   "name": "python",
   "nbconvert_exporter": "python",
   "pygments_lexer": "ipython3",
   "version": "3.10.7"
  }
 },
 "nbformat": 4,
 "nbformat_minor": 5
}
