{
 "cells": [
  {
   "cell_type": "code",
   "execution_count": 23,
   "id": "51f8c7c2",
   "metadata": {},
   "outputs": [],
   "source": [
    "import spotipy\n",
    "from spotipy.oauth2 import SpotifyClientCredentials\n",
    "import pandas as pd"
   ]
  },
  {
   "cell_type": "code",
   "execution_count": null,
   "id": "2a78d2d5",
   "metadata": {},
   "outputs": [],
   "source": [
    "#Authentication\n",
    "\n",
    "cid = input(\"What is your Spotify Client_ID? \")\n",
    "secret = input(\"What is your Spotify Client_Secret? \")"
   ]
  },
  {
   "cell_type": "code",
   "execution_count": null,
   "id": "25f97733",
   "metadata": {},
   "outputs": [],
   "source": [
    "client_credentials_manager = SpotifyClientCredentials(client_id=\"cid\", client_secret=\"secret\")\n",
    "sp = spotipy.Spotify(client_credentials_manager = client_credentials_manager)"
   ]
  },
  {
   "cell_type": "code",
   "execution_count": 11,
   "id": "944d3c04",
   "metadata": {
    "scrolled": true
   },
   "outputs": [],
   "source": [
    "playlist_link = \"https://open.spotify.com/playlist/37i9dQZEVXbNG2KDcFcKOF?si=77d8f5cd51cd478d&nd=1\"\n",
    "playlist_URI = playlist_link.split(\"/\")[-1].split(\"?\")[0]\n",
    "track_uris = [x[\"track\"][\"uri\"] for x in sp.playlist_tracks(playlist_URI)[\"items\"]]"
   ]
  },
  {
   "cell_type": "code",
   "execution_count": 12,
   "id": "73f14fc5",
   "metadata": {},
   "outputs": [
    {
     "data": {
      "text/plain": [
       "['spotify:track:7x9aauaA9cu6tyfpHnqDLo',\n",
       " 'spotify:track:2IGMVunIBsBLtEQyoI1Mu7',\n",
       " 'spotify:track:1BxfuPKGuaTgP7aM0Bbdwr',\n",
       " 'spotify:track:7ABLbnD53cQK00mhcaOUVG',\n",
       " 'spotify:track:5RqSsdzTNPX1uzkmlHCFvK',\n",
       " 'spotify:track:6wf7Yu7cxBSPrRlWeSeK0Q',\n",
       " 'spotify:track:1vYXt7VSjH9JIM5oRRo7vA',\n",
       " 'spotify:track:6XbtvPmIpyCbjuT0e8cQtp',\n",
       " 'spotify:track:1kuGVB7EU95pJObxwvfwKS',\n",
       " 'spotify:track:4rXLjWdF2ZZpXCVTfWcshS',\n",
       " 'spotify:track:2FDTHlrBguDzQkp7PVj16Q',\n",
       " 'spotify:track:1odExI7RdWc4BT515LTAwj',\n",
       " 'spotify:track:7mXuWTczZNxG5EDcjFEuJR',\n",
       " 'spotify:track:4Dvkj6JhhA12EX05fT7y2e',\n",
       " 'spotify:track:4DHcnVTT87F0zZhRPYmZ3B',\n",
       " 'spotify:track:1Qrg8KqiBpW07V7PNxwwwL',\n",
       " 'spotify:track:741UUVE2kuITl0c6zuqqbO',\n",
       " 'spotify:track:5sdQOyqq2IDhvmx2lHOpwd',\n",
       " 'spotify:track:5XeFesFbtLpXzIVDNQP22n',\n",
       " 'spotify:track:4KULAymBBJcPRpk1yO4dOG',\n",
       " 'spotify:track:7ro0hRteUMfnOioTFI5TG1',\n",
       " 'spotify:track:6XSqqQIy7Lm7SnwxS4NrGx',\n",
       " 'spotify:track:25OeKzcqakFPaJlXHPE5lm',\n",
       " 'spotify:track:2UW7JaomAMuX9pZrjVpHAU',\n",
       " 'spotify:track:23RoR84KodL5HWvUTneQ1w',\n",
       " 'spotify:track:54zcJnb3tp9c5OVKREZ1Is',\n",
       " 'spotify:track:3hUxzQpSfdDqwM3ZTFQY0K',\n",
       " 'spotify:track:3IX0yuEVvDbnqUwMBB3ouC',\n",
       " 'spotify:track:6irysuQyZWd7Bjj7ePiOs2',\n",
       " 'spotify:track:59NraMJsLaMCVtwXTSia8i',\n",
       " 'spotify:track:6WzRpISELf3YglGAh7TXcG',\n",
       " 'spotify:track:4lIxdJw6W3Fg4vUIYCB0S5',\n",
       " 'spotify:track:5PUXKVVVQ74C3gl5vKy9Li',\n",
       " 'spotify:track:6uIIdjYTxxpWOyWuVXrKQO',\n",
       " 'spotify:track:1p80LdxRV74UKvL8gnD7ky',\n",
       " 'spotify:track:41WQUSINanQHfhfKpFDsms',\n",
       " 'spotify:track:0V3wPSX9ygBnCm8psDIegu',\n",
       " 'spotify:track:3qQbCzHBycnDpGskqOWY0E',\n",
       " 'spotify:track:2N0SPREDYqILVEFSsWF5N5',\n",
       " 'spotify:track:3Ua0m0YmEjrMi9XErKcNiR',\n",
       " 'spotify:track:7MXVkk9YMctZqd1Srtv4MB',\n",
       " 'spotify:track:2LBqCSwhJGcFQeTHMVGwy3',\n",
       " 'spotify:track:6wsqVwoiVH2kde4k4KKAFU',\n",
       " 'spotify:track:1s7oOCT8vauUh01PbJD6ps',\n",
       " 'spotify:track:67nepsnrcZkowTxMWigSbb',\n",
       " 'spotify:track:7K3BhSpAxZBznislvUMVtn',\n",
       " 'spotify:track:2yzshFeBIwH8tWIqHEFLeD',\n",
       " 'spotify:track:2dHHgzDwk4BJdRwy9uXhTO',\n",
       " 'spotify:track:7bPp2NmpmyhLJ7zWazAXMu',\n",
       " 'spotify:track:7FbrGaHYVDmfr7KoLIZnQ7']"
      ]
     },
     "execution_count": 12,
     "metadata": {},
     "output_type": "execute_result"
    }
   ],
   "source": [
    "track_uris"
   ]
  },
  {
   "cell_type": "code",
   "execution_count": 13,
   "id": "fa8cf96b",
   "metadata": {},
   "outputs": [],
   "source": [
    "trackuri = []\n",
    "tname = []\n",
    "artisturi = []\n",
    "artistinfo = []\n",
    "artname = []\n",
    "artpop = []\n",
    "artgenres = []\n",
    "albumname = []\n",
    "tpop = []\n"
   ]
  },
  {
   "cell_type": "code",
   "execution_count": 14,
   "id": "9df94f37",
   "metadata": {},
   "outputs": [
    {
     "data": {
      "text/plain": [
       "93"
      ]
     },
     "execution_count": 14,
     "metadata": {},
     "output_type": "execute_result"
    }
   ],
   "source": [
    "\n",
    "for track in sp.playlist_tracks(playlist_URI)[\"items\"]:\n",
    "    #URI\n",
    "    track_uri = track[\"track\"][\"uri\"]\n",
    "    \n",
    "    #Track name\n",
    "    track_name = track[\"track\"][\"name\"]\n",
    "    \n",
    "    #Main Artist\n",
    "    artist_uri = track[\"track\"][\"artists\"][0][\"uri\"]\n",
    "    artist_info = sp.artist(artist_uri)\n",
    "   # artist_info = sp.artist(track[\"track\"][\"artists\"][0][\"uri\"])\n",
    "    \n",
    "    #Name, popularity, genre\n",
    "    artist_name = track[\"track\"][\"artists\"][0][\"name\"]\n",
    "    artist_pop = artist_info[\"popularity\"]\n",
    "    artist_info[\"genres\"]\n",
    "    \n",
    "    #Album\n",
    "    album = track[\"track\"][\"album\"][\"name\"]\n",
    "    \n",
    "    #Popularity of the track\n",
    "    track_pop = track[\"track\"][\"popularity\"]\n",
    "    \n",
    "#track_uri \n",
    "track_name \n",
    "#artist_uri \n",
    "#artist_info \n",
    "artist_name \n",
    "artist_pop \n",
    "artist_info \n",
    "album \n",
    "track_pop "
   ]
  },
  {
   "cell_type": "code",
   "execution_count": 15,
   "id": "f6fa0fea",
   "metadata": {},
   "outputs": [],
   "source": [
    "for track in sp.playlist_tracks(playlist_URI)[\"items\"]:\n",
    "    trackuri.append(track[\"track\"][\"uri\"])\n",
    "    tname.append(track[\"track\"][\"name\"])\n",
    "    artisturi.append(track[\"track\"][\"artists\"][0][\"uri\"])\n",
    "    artistinfo.append(sp.artist(artist_uri))\n",
    "    artname.append(track[\"track\"][\"artists\"][0][\"name\"])\n",
    "    artpop.append(artist_info[\"popularity\"])\n",
    "    artgenres.append(artist_info[\"genres\"])\n",
    "    albumname.append(track[\"track\"][\"album\"][\"name\"])\n",
    "    #tpop.append(track[\"track\"][\"popularity\"])\n",
    "    \n",
    " "
   ]
  },
  {
   "cell_type": "code",
   "execution_count": 16,
   "id": "e69c92aa",
   "metadata": {},
   "outputs": [],
   "source": [
    "data = {\"Track_URI\": trackuri,\n",
    "        \"Track Name\": tname,\n",
    "        \"Artist URI\": artisturi,\n",
    "        \"Artist Info\": artistinfo,\n",
    "        \"Artist Name\": artname, \n",
    "        \"Artist Pop\": artpop, \n",
    "        \"Genres\": artgenres,\n",
    "        \"Album\": albumname}\n",
    "\n",
    "# data = {\"URI\": track_uri,\n",
    "#         \"Name\": track_name, \n",
    "#         \"Artist URI\": artist_uri,\n",
    "#         \"Artist Info\": artist_info,\n",
    "#         \"Artist Name\": artist_name, \n",
    "#         \"Artist Pop\": artist_pop, \n",
    "#         \"Genres\": artist_genres,\n",
    "#         \"Album\": album, \n",
    "#         \"Popularity\": track_pop}"
   ]
  },
  {
   "cell_type": "code",
   "execution_count": 17,
   "id": "2784ac3e",
   "metadata": {},
   "outputs": [],
   "source": [
    "df = pd.DataFrame(data)"
   ]
  },
  {
   "cell_type": "code",
   "execution_count": 18,
   "id": "35701f39",
   "metadata": {},
   "outputs": [
    {
     "data": {
      "text/html": [
       "<div>\n",
       "<style scoped>\n",
       "    .dataframe tbody tr th:only-of-type {\n",
       "        vertical-align: middle;\n",
       "    }\n",
       "\n",
       "    .dataframe tbody tr th {\n",
       "        vertical-align: top;\n",
       "    }\n",
       "\n",
       "    .dataframe thead th {\n",
       "        text-align: right;\n",
       "    }\n",
       "</style>\n",
       "<table border=\"1\" class=\"dataframe\">\n",
       "  <thead>\n",
       "    <tr style=\"text-align: right;\">\n",
       "      <th></th>\n",
       "      <th>Track_URI</th>\n",
       "      <th>Track Name</th>\n",
       "      <th>Artist URI</th>\n",
       "      <th>Artist Info</th>\n",
       "      <th>Artist Name</th>\n",
       "      <th>Artist Pop</th>\n",
       "      <th>Genres</th>\n",
       "      <th>Album</th>\n",
       "    </tr>\n",
       "  </thead>\n",
       "  <tbody>\n",
       "    <tr>\n",
       "      <th>0</th>\n",
       "      <td>spotify:track:7x9aauaA9cu6tyfpHnqDLo</td>\n",
       "      <td>Seven (feat. Latto) (Explicit Ver.)</td>\n",
       "      <td>spotify:artist:6HaGTQPmzraVmaVxvz6EUc</td>\n",
       "      <td>{'external_urls': {'spotify': 'https://open.sp...</td>\n",
       "      <td>Jung Kook</td>\n",
       "      <td>75</td>\n",
       "      <td>[k-pop girl group]</td>\n",
       "      <td>Seven (feat. Latto)</td>\n",
       "    </tr>\n",
       "    <tr>\n",
       "      <th>1</th>\n",
       "      <td>spotify:track:2IGMVunIBsBLtEQyoI1Mu7</td>\n",
       "      <td>Paint The Town Red</td>\n",
       "      <td>spotify:artist:5cj0lLjcoR7YOSnhnX0Po5</td>\n",
       "      <td>{'external_urls': {'spotify': 'https://open.sp...</td>\n",
       "      <td>Doja Cat</td>\n",
       "      <td>75</td>\n",
       "      <td>[k-pop girl group]</td>\n",
       "      <td>Paint The Town Red</td>\n",
       "    </tr>\n",
       "    <tr>\n",
       "      <th>2</th>\n",
       "      <td>spotify:track:1BxfuPKGuaTgP7aM0Bbdwr</td>\n",
       "      <td>Cruel Summer</td>\n",
       "      <td>spotify:artist:06HL4z0CvFAxyc27GXpf02</td>\n",
       "      <td>{'external_urls': {'spotify': 'https://open.sp...</td>\n",
       "      <td>Taylor Swift</td>\n",
       "      <td>75</td>\n",
       "      <td>[k-pop girl group]</td>\n",
       "      <td>Lover</td>\n",
       "    </tr>\n",
       "    <tr>\n",
       "      <th>3</th>\n",
       "      <td>spotify:track:7ABLbnD53cQK00mhcaOUVG</td>\n",
       "      <td>LALA</td>\n",
       "      <td>spotify:artist:7iK8PXO48WeuP03g8YR51W</td>\n",
       "      <td>{'external_urls': {'spotify': 'https://open.sp...</td>\n",
       "      <td>Myke Towers</td>\n",
       "      <td>75</td>\n",
       "      <td>[k-pop girl group]</td>\n",
       "      <td>LA VIDA ES UNA</td>\n",
       "    </tr>\n",
       "    <tr>\n",
       "      <th>4</th>\n",
       "      <td>spotify:track:5RqSsdzTNPX1uzkmlHCFvK</td>\n",
       "      <td>QLONA</td>\n",
       "      <td>spotify:artist:790FomKkXshlbRYZFtlgla</td>\n",
       "      <td>{'external_urls': {'spotify': 'https://open.sp...</td>\n",
       "      <td>KAROL G</td>\n",
       "      <td>75</td>\n",
       "      <td>[k-pop girl group]</td>\n",
       "      <td>MAÑANA SERÁ BONITO (BICHOTA SEASON)</td>\n",
       "    </tr>\n",
       "  </tbody>\n",
       "</table>\n",
       "</div>"
      ],
      "text/plain": [
       "                              Track_URI                           Track Name  \\\n",
       "0  spotify:track:7x9aauaA9cu6tyfpHnqDLo  Seven (feat. Latto) (Explicit Ver.)   \n",
       "1  spotify:track:2IGMVunIBsBLtEQyoI1Mu7                   Paint The Town Red   \n",
       "2  spotify:track:1BxfuPKGuaTgP7aM0Bbdwr                         Cruel Summer   \n",
       "3  spotify:track:7ABLbnD53cQK00mhcaOUVG                                 LALA   \n",
       "4  spotify:track:5RqSsdzTNPX1uzkmlHCFvK                                QLONA   \n",
       "\n",
       "                              Artist URI  \\\n",
       "0  spotify:artist:6HaGTQPmzraVmaVxvz6EUc   \n",
       "1  spotify:artist:5cj0lLjcoR7YOSnhnX0Po5   \n",
       "2  spotify:artist:06HL4z0CvFAxyc27GXpf02   \n",
       "3  spotify:artist:7iK8PXO48WeuP03g8YR51W   \n",
       "4  spotify:artist:790FomKkXshlbRYZFtlgla   \n",
       "\n",
       "                                         Artist Info   Artist Name  \\\n",
       "0  {'external_urls': {'spotify': 'https://open.sp...     Jung Kook   \n",
       "1  {'external_urls': {'spotify': 'https://open.sp...      Doja Cat   \n",
       "2  {'external_urls': {'spotify': 'https://open.sp...  Taylor Swift   \n",
       "3  {'external_urls': {'spotify': 'https://open.sp...   Myke Towers   \n",
       "4  {'external_urls': {'spotify': 'https://open.sp...       KAROL G   \n",
       "\n",
       "   Artist Pop              Genres                                Album  \n",
       "0          75  [k-pop girl group]                  Seven (feat. Latto)  \n",
       "1          75  [k-pop girl group]                   Paint The Town Red  \n",
       "2          75  [k-pop girl group]                                Lover  \n",
       "3          75  [k-pop girl group]                       LA VIDA ES UNA  \n",
       "4          75  [k-pop girl group]  MAÑANA SERÁ BONITO (BICHOTA SEASON)  "
      ]
     },
     "execution_count": 18,
     "metadata": {},
     "output_type": "execute_result"
    }
   ],
   "source": [
    "df.head()"
   ]
  },
  {
   "cell_type": "code",
   "execution_count": 21,
   "id": "2e688bf2",
   "metadata": {},
   "outputs": [],
   "source": [
    "artists_names = df['Artist Name'].unique()"
   ]
  },
  {
   "cell_type": "code",
   "execution_count": 22,
   "id": "2ff9ead7",
   "metadata": {},
   "outputs": [
    {
     "name": "stdout",
     "output_type": "stream",
     "text": [
      "['Jung Kook' 'Doja Cat' 'Taylor Swift' 'Myke Towers' 'KAROL G'\n",
      " 'Billie Eilish' 'Dua Lipa' 'Quevedo' 'Olivia Rodrigo' 'Gunna' 'Dave'\n",
      " 'David Kushner' 'Peso Pluma' 'Harry Styles' 'Miley Cyrus' 'SZA'\n",
      " 'Nicki Minaj' 'NewJeans' 'Arctic Monkeys' 'Zach Bryan' 'Bad Bunny' 'Feid'\n",
      " 'Carin Leon' 'Yng Lvcas' 'Peggy Gou' 'Jhayco' 'cassö' 'The Weeknd'\n",
      " 'Jasleen Royal' 'Calle 24' 'Eslabon Armado' 'V' 'Jimin' 'Travis Scott'\n",
      " 'Rema' 'Morgan Wallen' 'Grupo Frontera' 'Metro Boomin' 'FIFTY FIFTY']\n"
     ]
    }
   ],
   "source": [
    "print(artists_names)"
   ]
  }
 ],
 "metadata": {
  "kernelspec": {
   "display_name": "Python 3 (ipykernel)",
   "language": "python",
   "name": "python3"
  },
  "language_info": {
   "codemirror_mode": {
    "name": "ipython",
    "version": 3
   },
   "file_extension": ".py",
   "mimetype": "text/x-python",
   "name": "python",
   "nbconvert_exporter": "python",
   "pygments_lexer": "ipython3",
   "version": "3.10.7"
  }
 },
 "nbformat": 4,
 "nbformat_minor": 5
}
