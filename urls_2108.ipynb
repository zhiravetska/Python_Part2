{
 "cells": [
  {
   "cell_type": "code",
   "execution_count": 6,
   "id": "94a540a7",
   "metadata": {},
   "outputs": [],
   "source": [
    "import concurrent.futures\n",
    "import requests\n",
    "import multiprocessing"
   ]
  },
  {
   "cell_type": "code",
   "execution_count": 7,
   "id": "57197886",
   "metadata": {},
   "outputs": [],
   "source": [
    "# List of URLs to scrape\n",
    "urls = ['https://en.wikipedia.org/wiki/Dog', 'https://en.wikipedia.org/wiki/Cat', 'https://en.wikipedia.org/wiki/Horse']"
   ]
  },
  {
   "cell_type": "code",
   "execution_count": null,
   "id": "781898da",
   "metadata": {},
   "outputs": [],
   "source": [
    "import concurrent.futures\n",
    "import requests\n",
    "import multiprocessing\n",
    "\n",
    "urls = ['https://en.wikipedia.org/wiki/Dog', 'https://en.wikipedia.org/wiki/Cat', 'https://en.wikipedia.org/wiki/Horse']\n",
    "\n",
    "def scraping_web(sites):\n",
    "    response = requests.get(sites)\n",
    "    return response.text[:1000]  \n",
    "\n",
    "with concurrent.futures.ThreadPoolExecutor() as executor:  \n",
    "    results = executor.map(scraping_web, urls)\n",
    "\n",
    "for result in results:\n",
    "    print(result)"
   ]
  },
  {
   "cell_type": "code",
   "execution_count": null,
   "id": "538c2ce6",
   "metadata": {},
   "outputs": [],
   "source": [
    "def scrape_url(url):\n",
    "    response = requests.get(url)\n",
    "    return response.text[:1000]  # Extract a small portion of the content\n",
    "\n",
    "#with concurrent.futures.ThreadPoolExecutor() as executor:  # You can also use ProcessPoolExecutor()\n",
    " #   results = executor.map(scrape_url, urls)\n",
    "if __name__ == \"__main__\":\n",
    "    \n",
    "    with multiprocessing.Pool() as pool:\n",
    "        results = pool.map(scrape_url, urls)\n",
    "\n",
    "for result in results:\n",
    "    print(result)"
   ]
  }
 ],
 "metadata": {
  "kernelspec": {
   "display_name": "Python 3 (ipykernel)",
   "language": "python",
   "name": "python3"
  },
  "language_info": {
   "codemirror_mode": {
    "name": "ipython",
    "version": 3
   },
   "file_extension": ".py",
   "mimetype": "text/x-python",
   "name": "python",
   "nbconvert_exporter": "python",
   "pygments_lexer": "ipython3",
   "version": "3.10.7"
  }
 },
 "nbformat": 4,
 "nbformat_minor": 5
}
