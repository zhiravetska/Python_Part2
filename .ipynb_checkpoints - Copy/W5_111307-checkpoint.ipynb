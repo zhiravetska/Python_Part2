{
 "cells": [
  {
   "cell_type": "code",
   "execution_count": null,
   "id": "13566514",
   "metadata": {},
   "outputs": [],
   "source": [
    "#W5_111307 Time series"
   ]
  },
  {
   "cell_type": "code",
   "execution_count": null,
   "id": "137ce6b3",
   "metadata": {},
   "outputs": [],
   "source": [
    "import numpy as np\n",
    "import matplotlib.pyplot as plot\n",
    "import pandas as pa\n",
    "import statsmodels.api as sm\n",
    "from pmdarima.arima import auto_arima"
   ]
  },
  {
   "cell_type": "code",
   "execution_count": null,
   "id": "f45847bf",
   "metadata": {},
   "outputs": [],
   "source": [
    "white_noise = np.random.normal(0,0.1,size=1000)"
   ]
  },
  {
   "cell_type": "code",
   "execution_count": null,
   "id": "4d177972",
   "metadata": {},
   "outputs": [],
   "source": [
    "plot.scatter(x=list(range(0,1000)),y=white_noise)"
   ]
  },
  {
   "cell_type": "code",
   "execution_count": null,
   "id": "cd930af9",
   "metadata": {},
   "outputs": [],
   "source": [
    "correlation_matrix = np.corrcoef(white_noise[:-1],white_noise[1:])"
   ]
  },
  {
   "cell_type": "code",
   "execution_count": null,
   "id": "1e50050c",
   "metadata": {},
   "outputs": [],
   "source": [
    "correlation_matrix"
   ]
  },
  {
   "cell_type": "code",
   "execution_count": null,
   "id": "a0e00658",
   "metadata": {},
   "outputs": [],
   "source": [
    "coef_1 = 0.8\n",
    "# coef_2 = 0.4"
   ]
  },
  {
   "cell_type": "code",
   "execution_count": null,
   "id": "e8dffe77",
   "metadata": {},
   "outputs": [],
   "source": [
    "X_0 = 100\n",
    "# X_1 = 110"
   ]
  },
  {
   "cell_type": "code",
   "execution_count": null,
   "id": "b62c852f",
   "metadata": {},
   "outputs": [],
   "source": [
    "n = 1000\n",
    "\n",
    "white_noise = np.random.normal(0,30,n)\n",
    "\n",
    "X_t = list()\n",
    "X_t.append(X_0)\n",
    "# X_t.append(X_1)\n",
    "\n",
    "# for i in range(2,n):\n",
    "for i in range(1,n):\n",
    "#     x_t = X_t[i-1] * coef_1 + X_t[i-2]*coef_2 + white_noise[i]\n",
    "    x_t = X_t[i-1] * coef_1 + white_noise[i]\n",
    "    X_t.append(x_t)\n",
    "\n",
    "Xt_ts = pa.Series(X_t)"
   ]
  },
  {
   "cell_type": "code",
   "execution_count": null,
   "id": "c3798edc",
   "metadata": {},
   "outputs": [],
   "source": [
    "Xt_ts.plot()"
   ]
  },
  {
   "cell_type": "code",
   "execution_count": null,
   "id": "2fb5cb25",
   "metadata": {},
   "outputs": [],
   "source": [
    "electricity_production_data = pa.read_csv(\"Electric_Production.csv\")"
   ]
  },
  {
   "cell_type": "code",
   "execution_count": null,
   "id": "8aa5a879",
   "metadata": {},
   "outputs": [],
   "source": [
    "electricity_production_data = electricity_production_data.rename(columns={\"IPG2211A2N\":\"Electr_production\"})"
   ]
  },
  {
   "cell_type": "code",
   "execution_count": null,
   "id": "f521062a",
   "metadata": {},
   "outputs": [],
   "source": [
    "electricity_production_data.plot()"
   ]
  },
  {
   "cell_type": "code",
   "execution_count": null,
   "id": "4026d483",
   "metadata": {},
   "outputs": [],
   "source": [
    "data = electricity_production_data[\"Electr_production\"]\n",
    "acf = sm.tsa.stattools.acf(data,nlags=150)\n",
    "plot.stem(range(0,len(acf)),acf)"
   ]
  },
  {
   "cell_type": "code",
   "execution_count": null,
   "id": "1b85cae9",
   "metadata": {},
   "outputs": [],
   "source": [
    "mu = 10\n",
    "coef_1 = 0.8\n",
    "coef_2 = 0.4\n",
    "\n",
    "n = 1000\n",
    "\n",
    "white_noise = np.random.normal(0,5,n+2)\n",
    "\n",
    "X_t = list()\n",
    "\n",
    "x_0 = mu + white_noise[0]*coef_1 + white_noise[1] * coef_2 + white_noise[2]\n",
    "\n",
    "for i in range(0,n):\n",
    "    x_t = mu + white_noise[i]*coef_1 + white_noise[i+1] * coef_2 + white_noise[i+2]\n",
    "    X_t.append(x_t)\n",
    "\n",
    "Xt_ts = pa.Series(X_t)"
   ]
  },
  {
   "cell_type": "code",
   "execution_count": null,
   "id": "97f7b99c",
   "metadata": {},
   "outputs": [],
   "source": [
    "Xt_ts.plot()"
   ]
  },
  {
   "cell_type": "code",
   "execution_count": null,
   "id": "b8f5fad7",
   "metadata": {},
   "outputs": [],
   "source": [
    "rolling_mean = data.rolling(window=6).mean()"
   ]
  },
  {
   "cell_type": "code",
   "execution_count": null,
   "id": "3e7c2776",
   "metadata": {},
   "outputs": [],
   "source": [
    "data_no_trend = data - rolling_mean#remove trend"
   ]
  },
  {
   "cell_type": "code",
   "execution_count": null,
   "id": "304ca3b7",
   "metadata": {},
   "outputs": [],
   "source": [
    "# data_cleared = data_no_trend - data_no_trend.diff(periods=6)"
   ]
  },
  {
   "cell_type": "code",
   "execution_count": null,
   "id": "588415ae",
   "metadata": {},
   "outputs": [],
   "source": [
    "data_no_trend.plot()"
   ]
  },
  {
   "cell_type": "code",
   "execution_count": null,
   "id": "07624b0e",
   "metadata": {},
   "outputs": [],
   "source": [
    "data_no_trend = data_no_trend[data_no_trend.notnull()]\n",
    "acf = sm.tsa.stattools.acf(data_no_trend,nlags=15)\n",
    "plot.stem(range(0,len(acf)),acf)"
   ]
  },
  {
   "cell_type": "code",
   "execution_count": null,
   "id": "f6c8dd6a",
   "metadata": {},
   "outputs": [],
   "source": [
    "data_cleared = data_no_trend.diff(periods=6)\n",
    "data_cleared = data_cleared[data_cleared.notnull()]"
   ]
  },
  {
   "cell_type": "code",
   "execution_count": null,
   "id": "db64af28",
   "metadata": {},
   "outputs": [],
   "source": [
    "data_cleared.plot()"
   ]
  },
  {
   "cell_type": "code",
   "execution_count": null,
   "id": "d6b355b8",
   "metadata": {},
   "outputs": [],
   "source": [
    "acf = sm.tsa.stattools.acf(data_cleared,nlags=15)\n",
    "plot.stem(range(0,len(acf)),acf)"
   ]
  },
  {
   "cell_type": "code",
   "execution_count": null,
   "id": "36de543b",
   "metadata": {},
   "outputs": [],
   "source": [
    "model = sm.tsa.arima.ARIMA(data_cleared,order=(2,0,0))#AR(2)\n",
    "results = model.fit()"
   ]
  },
  {
   "cell_type": "code",
   "execution_count": null,
   "id": "cc59a065",
   "metadata": {},
   "outputs": [],
   "source": [
    "results.summary()"
   ]
  },
  {
   "cell_type": "code",
   "execution_count": null,
   "id": "e15f4269",
   "metadata": {},
   "outputs": [],
   "source": [
    "#?"
   ]
  },
  {
   "cell_type": "code",
   "execution_count": null,
   "id": "7dfc8be7",
   "metadata": {},
   "outputs": [],
   "source": [
    "model = auto_arima(data_cleared,trace=True,suppress_warnings=True)\n",
    "results = model.fit(data_cleared)"
   ]
  },
  {
   "cell_type": "code",
   "execution_count": null,
   "id": "2c7c8813",
   "metadata": {},
   "outputs": [],
   "source": [
    "#ARMA(5,1)\n",
    "\n",
    "plot.plot(data_cleared)\n",
    "plot.plot(results.fittedvalues())"
   ]
  },
  {
   "cell_type": "code",
   "execution_count": null,
   "id": "c7d014ef",
   "metadata": {},
   "outputs": [],
   "source": [
    "model = auto_arima(data,trace=True,suppress_warnings=True)\n",
    "results = model.fit(data)"
   ]
  },
  {
   "cell_type": "code",
   "execution_count": null,
   "id": "0a9f0658",
   "metadata": {},
   "outputs": [],
   "source": [
    "plot.plot(data)\n",
    "plot.plot(results.fittedvalues())"
   ]
  },
  {
   "cell_type": "code",
   "execution_count": null,
   "id": "b3042a7b",
   "metadata": {},
   "outputs": [],
   "source": [
    "results.summary()"
   ]
  },
  {
   "cell_type": "code",
   "execution_count": null,
   "id": "09401ff3",
   "metadata": {},
   "outputs": [],
   "source": [
    "resid = results.resid()\n",
    "resid = resid[1:]"
   ]
  },
  {
   "cell_type": "code",
   "execution_count": null,
   "id": "4b02a36f",
   "metadata": {},
   "outputs": [],
   "source": [
    "resid.plot()"
   ]
  },
  {
   "cell_type": "code",
   "execution_count": null,
   "id": "c0a8399d",
   "metadata": {},
   "outputs": [],
   "source": [
    "correlation_matrix = np.corrcoef(resid[:-1],resid[1:])"
   ]
  },
  {
   "cell_type": "code",
   "execution_count": null,
   "id": "8866db68",
   "metadata": {},
   "outputs": [],
   "source": [
    "correlation_matrix"
   ]
  }
 ],
 "metadata": {
  "kernelspec": {
   "display_name": "Python 3 (ipykernel)",
   "language": "python",
   "name": "python3"
  },
  "language_info": {
   "codemirror_mode": {
    "name": "ipython",
    "version": 3
   },
   "file_extension": ".py",
   "mimetype": "text/x-python",
   "name": "python",
   "nbconvert_exporter": "python",
   "pygments_lexer": "ipython3",
   "version": "3.10.7"
  }
 },
 "nbformat": 4,
 "nbformat_minor": 5
}
