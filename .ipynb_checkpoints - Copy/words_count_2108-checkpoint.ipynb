{
 "cells": [
  {
   "cell_type": "code",
   "execution_count": null,
   "id": "20b22a83",
   "metadata": {},
   "outputs": [],
   "source": [
    "import os\n",
    "import concurrent.futures\n",
    "import multiprocessing\n",
    "\n",
    "# Function to count words in a text file\n",
    "def count_words_in_file(file_path):\n",
    "    with open(file_path, 'r') as file:\n",
    "        text = file.read()\n",
    "        word_count = len(text.split())\n",
    "    return word_count\n",
    "\n",
    "# List of text files to process\n",
    "file_paths = ['Dogs.txt', 'Cats.txt', 'Horses.txt']  # Add your file paths here\n",
    "\n",
    "# Using multiprocessing.Pool for parallel processing\n",
    "with concurrent.futures.Pool() as pool:\n",
    "    word_counts = executor.map(count_words_in_file, file_paths)\n",
    "\n",
    "# Print the word counts\n",
    "for file_path, word_count in zip(file_paths, word_counts):\n",
    "    print(f\"Word count in {file_path}: {word_count}\")"
   ]
  }
 ],
 "metadata": {
  "kernelspec": {
   "display_name": "Python 3 (ipykernel)",
   "language": "python",
   "name": "python3"
  },
  "language_info": {
   "codemirror_mode": {
    "name": "ipython",
    "version": 3
   },
   "file_extension": ".py",
   "mimetype": "text/x-python",
   "name": "python",
   "nbconvert_exporter": "python",
   "pygments_lexer": "ipython3",
   "version": "3.10.7"
  }
 },
 "nbformat": 4,
 "nbformat_minor": 5
}
