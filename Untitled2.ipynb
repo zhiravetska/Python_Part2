{
 "cells": [
  {
   "cell_type": "code",
   "execution_count": null,
   "id": "bf973ab2",
   "metadata": {},
   "outputs": [],
   "source": [
    "## Homework 29.06."
   ]
  },
  {
   "cell_type": "code",
   "execution_count": 58,
   "id": "412eab96",
   "metadata": {},
   "outputs": [
    {
     "data": {
      "text/plain": [
       "1"
      ]
     },
     "execution_count": 58,
     "metadata": {},
     "output_type": "execute_result"
    }
   ],
   "source": [
    "def prime_num(last_el):\n",
    "    result = list([])\n",
    "    for x in range (1, last_el):\n",
    "        for y in range(2, x):\n",
    "            if x%y == 0:\n",
    "                break\n",
    "            else:\n",
    "                result.append(x)\n",
    "        return x\n",
    "prime_num(101)"
   ]
  },
  {
   "cell_type": "code",
   "execution_count": 60,
   "id": "13e0e04e",
   "metadata": {},
   "outputs": [
    {
     "data": {
      "text/plain": [
       "<function __main__.prime_num(last_el)>"
      ]
     },
     "execution_count": 60,
     "metadata": {},
     "output_type": "execute_result"
    }
   ],
   "source": [
    "prime_num"
   ]
  },
  {
   "cell_type": "code",
   "execution_count": 101,
   "id": "077d5559",
   "metadata": {},
   "outputs": [],
   "source": [
    "def prime_num(last_num):\n",
    "    for x in range (1, last_num):\n",
    "        for y in range(2, x):\n",
    "            if x%y == 0:\n",
    "                break\n",
    "        else:\n",
    "            #return x\n",
    "            yield x\n"
   ]
  },
  {
   "cell_type": "code",
   "execution_count": 134,
   "id": "6c592382",
   "metadata": {},
   "outputs": [],
   "source": [
    "gen_num = prime_num(2000)"
   ]
  },
  {
   "cell_type": "code",
   "execution_count": 163,
   "id": "bb6ad689",
   "metadata": {},
   "outputs": [
    {
     "data": {
      "text/plain": [
       "107"
      ]
     },
     "execution_count": 163,
     "metadata": {},
     "output_type": "execute_result"
    }
   ],
   "source": [
    "next(gen_num)"
   ]
  },
  {
   "cell_type": "code",
   "execution_count": null,
   "id": "05951e9a",
   "metadata": {},
   "outputs": [],
   "source": []
  },
  {
   "cell_type": "code",
   "execution_count": null,
   "id": "7c5f55a2",
   "metadata": {},
   "outputs": [],
   "source": []
  },
  {
   "cell_type": "code",
   "execution_count": null,
   "id": "5ebcb780",
   "metadata": {},
   "outputs": [],
   "source": []
  },
  {
   "cell_type": "code",
   "execution_count": null,
   "id": "d9e37466",
   "metadata": {},
   "outputs": [],
   "source": []
  },
  {
   "cell_type": "code",
   "execution_count": null,
   "id": "6b23d608",
   "metadata": {},
   "outputs": [],
   "source": []
  },
  {
   "cell_type": "code",
   "execution_count": null,
   "id": "f90ca675",
   "metadata": {},
   "outputs": [],
   "source": []
  },
  {
   "cell_type": "code",
   "execution_count": null,
   "id": "fbce7bb5",
   "metadata": {},
   "outputs": [],
   "source": []
  },
  {
   "cell_type": "code",
   "execution_count": null,
   "id": "4cc19ecb",
   "metadata": {},
   "outputs": [],
   "source": []
  },
  {
   "cell_type": "code",
   "execution_count": null,
   "id": "73e7ae67",
   "metadata": {},
   "outputs": [],
   "source": []
  }
 ],
 "metadata": {
  "kernelspec": {
   "display_name": "Python 3 (ipykernel)",
   "language": "python",
   "name": "python3"
  },
  "language_info": {
   "codemirror_mode": {
    "name": "ipython",
    "version": 3
   },
   "file_extension": ".py",
   "mimetype": "text/x-python",
   "name": "python",
   "nbconvert_exporter": "python",
   "pygments_lexer": "ipython3",
   "version": "3.10.7"
  }
 },
 "nbformat": 4,
 "nbformat_minor": 5
}
