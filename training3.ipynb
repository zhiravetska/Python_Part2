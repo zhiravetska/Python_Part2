{
 "cells": [
  {
   "cell_type": "code",
   "execution_count": 3,
   "id": "ae8adf6d",
   "metadata": {},
   "outputs": [],
   "source": [
    "from functools import reduce\n",
    "from collections import defaultdict\n",
    "\n",
    "# Sample datapip \n",
    "data = [1, 2, 3, 4, 5, 6, 7, 8, 9, 10]\n",
    "\n",
    "# Map function\n",
    "def map_function(item):\n",
    "    return (item % 2, item) # Group even and odd numbers\n",
    "\n",
    "# Reduce function\n",
    "def reduce_function(key, values):\n",
    "    return key, sum(values)\n",
    "\n",
    "# Map stage\n",
    "mapped_data = map(map_function, data)\n",
    "\n",
    "# Shuffle and Sort (group by key)\n",
    "intermediate = defaultdict(list)\n",
    "for key, value in mapped_data:\n",
    "    intermediate[key].append(value)\n"
   ]
  },
  {
   "cell_type": "code",
   "execution_count": 4,
   "id": "35858764",
   "metadata": {},
   "outputs": [
    {
     "name": "stdout",
     "output_type": "stream",
     "text": [
      "[(1, 25), (0, 30)]\n"
     ]
    }
   ],
   "source": [
    "# Reduce stage\n",
    "final_result = []\n",
    "for item in intermediate.items():\n",
    "    result = reduce(reduce_function, item)\n",
    "    final_result.append(result)\n",
    "print(final_result)"
   ]
  }
 ],
 "metadata": {
  "kernelspec": {
   "display_name": "Python 3 (ipykernel)",
   "language": "python",
   "name": "python3"
  },
  "language_info": {
   "codemirror_mode": {
    "name": "ipython",
    "version": 3
   },
   "file_extension": ".py",
   "mimetype": "text/x-python",
   "name": "python",
   "nbconvert_exporter": "python",
   "pygments_lexer": "ipython3",
   "version": "3.10.7"
  }
 },
 "nbformat": 4,
 "nbformat_minor": 5
}
