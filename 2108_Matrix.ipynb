{
 "cells": [
  {
   "cell_type": "code",
   "execution_count": 1,
   "id": "c222e45c",
   "metadata": {},
   "outputs": [],
   "source": [
    "import concurrent.futures"
   ]
  },
  {
   "cell_type": "markdown",
   "id": "912ade15",
   "metadata": {},
   "source": [
    "from AI"
   ]
  },
  {
   "cell_type": "code",
   "execution_count": 2,
   "id": "8658f4ba",
   "metadata": {},
   "outputs": [],
   "source": [
    "# Define the matrices A and B\n",
    "matrix_A = [\n",
    "    [1, 2, 3],\n",
    "    [4, 5, 6],\n",
    "    [7, 8, 9]\n",
    "]\n",
    "\n",
    "matrix_B = [\n",
    "    [9, 8, 7],\n",
    "    [6, 5, 4],\n",
    "    [3, 2, 1]\n",
    "]"
   ]
  },
  {
   "cell_type": "code",
   "execution_count": 3,
   "id": "4c708bb1",
   "metadata": {},
   "outputs": [],
   "source": [
    "# Define the dimensions of the matrices\n",
    "rows_A = len(matrix_A)\n",
    "cols_A = len(matrix_A[0])\n",
    "cols_B = len(matrix_B[0])"
   ]
  },
  {
   "cell_type": "code",
   "execution_count": 4,
   "id": "7c3477ac",
   "metadata": {},
   "outputs": [],
   "source": [
    "# Initialize the result matrix with zeros\n",
    "result_matrix = [[0 for _ in range(cols_B)] for _ in range(rows_A)]"
   ]
  },
  {
   "cell_type": "code",
   "execution_count": 5,
   "id": "55c608ea",
   "metadata": {},
   "outputs": [],
   "source": [
    "# Function to perform matrix multiplication for a given row and column\n",
    "def matrix_multiply_element(row, col):\n",
    "    value = 0\n",
    "    for k in range(cols_A):\n",
    "        value += matrix_A[row][k] * matrix_B[k][col]\n",
    "    return value\n"
   ]
  },
  {
   "cell_type": "code",
   "execution_count": 6,
   "id": "df3aad2e",
   "metadata": {},
   "outputs": [],
   "source": [
    "# Function to compute the result matrix using parallel processing\n",
    "def parallel_matrix_multiply():\n",
    "    with concurrent.futures.ThreadPoolExecutor() as executor:\n",
    "        futures = []\n",
    "        for i in range(rows_A):\n",
    "            for j in range(cols_B):\n",
    "                futures.append(executor.submit(matrix_multiply_element, i, j))\n",
    "        \n",
    "        for future, i, j in zip(concurrent.futures.as_completed(futures), range(rows_A), range(cols_B)):\n",
    "            result_matrix[i][j] = future.result()\n",
    "\n",
    "# Perform parallel matrix multiplication\n",
    "parallel_matrix_multiply()"
   ]
  },
  {
   "cell_type": "code",
   "execution_count": 7,
   "id": "b74f87d3",
   "metadata": {},
   "outputs": [
    {
     "name": "stdout",
     "output_type": "stream",
     "text": [
      "[24, 0, 0]\n",
      "[0, 30, 0]\n",
      "[0, 0, 69]\n"
     ]
    }
   ],
   "source": [
    "# Print the result matrix\n",
    "for row in result_matrix:\n",
    "    print(row)"
   ]
  },
  {
   "cell_type": "markdown",
   "id": "c7357756",
   "metadata": {},
   "source": [
    "Matrixes multiplication"
   ]
  },
  {
   "cell_type": "code",
   "execution_count": 7,
   "id": "eac88348",
   "metadata": {},
   "outputs": [],
   "source": [
    "import concurrent.futures\n",
    "import multiprocessing\n",
    "\n",
    "def matrix_multiplication(matrix_A, matrix_B):\n",
    "    rows_A = len(matrix_A)\n",
    "    cols_A = len(matrix_A[0])\n",
    "    cols_B = len(matrix_B[0])\n",
    "    \n",
    "    result_matrix = [[0 for _ in range(cols_B)] for _ in range(rows_A)]\n",
    "    \n",
    "    for i in range(rows_A):\n",
    "        for j in range(cols_B):\n",
    "            for k in range(cols_A):\n",
    "                result_matrix[i][j] += matrix_A[i][k] * matrix_B[k][j]\n",
    "    \n",
    "    return result_matrix"
   ]
  },
  {
   "cell_type": "code",
   "execution_count": 8,
   "id": "8dd58af1",
   "metadata": {},
   "outputs": [
    {
     "ename": "TypeError",
     "evalue": "'<=' not supported between instances of 'list' and 'int'",
     "output_type": "error",
     "traceback": [
      "\u001b[1;31m---------------------------------------------------------------------------\u001b[0m",
      "\u001b[1;31mTypeError\u001b[0m                                 Traceback (most recent call last)",
      "Cell \u001b[1;32mIn [8], line 18\u001b[0m\n\u001b[0;32m     11\u001b[0m matrix_B \u001b[38;5;241m=\u001b[39m [\n\u001b[0;32m     12\u001b[0m     [\u001b[38;5;241m1\u001b[39m, \u001b[38;5;241m4\u001b[39m, \u001b[38;5;241m7\u001b[39m],\n\u001b[0;32m     13\u001b[0m     [\u001b[38;5;241m2\u001b[39m, \u001b[38;5;241m5\u001b[39m, \u001b[38;5;241m8\u001b[39m],\n\u001b[0;32m     14\u001b[0m     [\u001b[38;5;241m3\u001b[39m, \u001b[38;5;241m6\u001b[39m, \u001b[38;5;241m9\u001b[39m]\n\u001b[0;32m     15\u001b[0m ]\n\u001b[0;32m     17\u001b[0m \u001b[38;5;28;01mwith\u001b[39;00m multiprocessing\u001b[38;5;241m.\u001b[39mPool() \u001b[38;5;28;01mas\u001b[39;00m pool:\n\u001b[1;32m---> 18\u001b[0m     results \u001b[38;5;241m=\u001b[39m \u001b[43mpool\u001b[49m\u001b[38;5;241;43m.\u001b[39;49m\u001b[43mmap\u001b[49m\u001b[43m(\u001b[49m\u001b[43mmatrix_multiplication\u001b[49m\u001b[43m,\u001b[49m\u001b[43m \u001b[49m\u001b[43mmatrix_A\u001b[49m\u001b[43m,\u001b[49m\u001b[43m \u001b[49m\u001b[43mmatrix_B\u001b[49m\u001b[43m)\u001b[49m\n\u001b[0;32m     20\u001b[0m \u001b[38;5;66;03m#print(results)\u001b[39;00m\n\u001b[0;32m     21\u001b[0m \n\u001b[0;32m     22\u001b[0m \u001b[38;5;66;03m# Define matrices A and B\u001b[39;00m\n\u001b[1;32m   (...)\u001b[0m\n\u001b[0;32m     32\u001b[0m \n\u001b[0;32m     33\u001b[0m \u001b[38;5;66;03m# Perform matrix multiplication\u001b[39;00m\n\u001b[0;32m     34\u001b[0m par_result_matrix \u001b[38;5;241m=\u001b[39m matrix_multiplication(matrix_A, matrix_B)\n",
      "File \u001b[1;32m~\\AppData\\Local\\Programs\\Python\\Python310\\lib\\multiprocessing\\pool.py:367\u001b[0m, in \u001b[0;36mPool.map\u001b[1;34m(self, func, iterable, chunksize)\u001b[0m\n\u001b[0;32m    362\u001b[0m \u001b[38;5;28;01mdef\u001b[39;00m \u001b[38;5;21mmap\u001b[39m(\u001b[38;5;28mself\u001b[39m, func, iterable, chunksize\u001b[38;5;241m=\u001b[39m\u001b[38;5;28;01mNone\u001b[39;00m):\n\u001b[0;32m    363\u001b[0m     \u001b[38;5;124;03m'''\u001b[39;00m\n\u001b[0;32m    364\u001b[0m \u001b[38;5;124;03m    Apply `func` to each element in `iterable`, collecting the results\u001b[39;00m\n\u001b[0;32m    365\u001b[0m \u001b[38;5;124;03m    in a list that is returned.\u001b[39;00m\n\u001b[0;32m    366\u001b[0m \u001b[38;5;124;03m    '''\u001b[39;00m\n\u001b[1;32m--> 367\u001b[0m     \u001b[38;5;28;01mreturn\u001b[39;00m \u001b[38;5;28;43mself\u001b[39;49m\u001b[38;5;241;43m.\u001b[39;49m\u001b[43m_map_async\u001b[49m\u001b[43m(\u001b[49m\u001b[43mfunc\u001b[49m\u001b[43m,\u001b[49m\u001b[43m \u001b[49m\u001b[43miterable\u001b[49m\u001b[43m,\u001b[49m\u001b[43m \u001b[49m\u001b[43mmapstar\u001b[49m\u001b[43m,\u001b[49m\u001b[43m \u001b[49m\u001b[43mchunksize\u001b[49m\u001b[43m)\u001b[49m\u001b[38;5;241m.\u001b[39mget()\n",
      "File \u001b[1;32m~\\AppData\\Local\\Programs\\Python\\Python310\\lib\\multiprocessing\\pool.py:488\u001b[0m, in \u001b[0;36mPool._map_async\u001b[1;34m(self, func, iterable, mapper, chunksize, callback, error_callback)\u001b[0m\n\u001b[0;32m    485\u001b[0m     chunksize \u001b[38;5;241m=\u001b[39m \u001b[38;5;241m0\u001b[39m\n\u001b[0;32m    487\u001b[0m task_batches \u001b[38;5;241m=\u001b[39m Pool\u001b[38;5;241m.\u001b[39m_get_tasks(func, iterable, chunksize)\n\u001b[1;32m--> 488\u001b[0m result \u001b[38;5;241m=\u001b[39m \u001b[43mMapResult\u001b[49m\u001b[43m(\u001b[49m\u001b[38;5;28;43mself\u001b[39;49m\u001b[43m,\u001b[49m\u001b[43m \u001b[49m\u001b[43mchunksize\u001b[49m\u001b[43m,\u001b[49m\u001b[43m \u001b[49m\u001b[38;5;28;43mlen\u001b[39;49m\u001b[43m(\u001b[49m\u001b[43miterable\u001b[49m\u001b[43m)\u001b[49m\u001b[43m,\u001b[49m\u001b[43m \u001b[49m\u001b[43mcallback\u001b[49m\u001b[43m,\u001b[49m\n\u001b[0;32m    489\u001b[0m \u001b[43m                   \u001b[49m\u001b[43merror_callback\u001b[49m\u001b[38;5;241;43m=\u001b[39;49m\u001b[43merror_callback\u001b[49m\u001b[43m)\u001b[49m\n\u001b[0;32m    490\u001b[0m \u001b[38;5;28mself\u001b[39m\u001b[38;5;241m.\u001b[39m_taskqueue\u001b[38;5;241m.\u001b[39mput(\n\u001b[0;32m    491\u001b[0m     (\n\u001b[0;32m    492\u001b[0m         \u001b[38;5;28mself\u001b[39m\u001b[38;5;241m.\u001b[39m_guarded_task_generation(result\u001b[38;5;241m.\u001b[39m_job,\n\u001b[1;32m   (...)\u001b[0m\n\u001b[0;32m    496\u001b[0m     )\n\u001b[0;32m    497\u001b[0m )\n\u001b[0;32m    498\u001b[0m \u001b[38;5;28;01mreturn\u001b[39;00m result\n",
      "File \u001b[1;32m~\\AppData\\Local\\Programs\\Python\\Python310\\lib\\multiprocessing\\pool.py:802\u001b[0m, in \u001b[0;36mMapResult.__init__\u001b[1;34m(self, pool, chunksize, length, callback, error_callback)\u001b[0m\n\u001b[0;32m    800\u001b[0m \u001b[38;5;28mself\u001b[39m\u001b[38;5;241m.\u001b[39m_value \u001b[38;5;241m=\u001b[39m [\u001b[38;5;28;01mNone\u001b[39;00m] \u001b[38;5;241m*\u001b[39m length\n\u001b[0;32m    801\u001b[0m \u001b[38;5;28mself\u001b[39m\u001b[38;5;241m.\u001b[39m_chunksize \u001b[38;5;241m=\u001b[39m chunksize\n\u001b[1;32m--> 802\u001b[0m \u001b[38;5;28;01mif\u001b[39;00m \u001b[43mchunksize\u001b[49m\u001b[43m \u001b[49m\u001b[38;5;241;43m<\u001b[39;49m\u001b[38;5;241;43m=\u001b[39;49m\u001b[43m \u001b[49m\u001b[38;5;241;43m0\u001b[39;49m:\n\u001b[0;32m    803\u001b[0m     \u001b[38;5;28mself\u001b[39m\u001b[38;5;241m.\u001b[39m_number_left \u001b[38;5;241m=\u001b[39m \u001b[38;5;241m0\u001b[39m\n\u001b[0;32m    804\u001b[0m     \u001b[38;5;28mself\u001b[39m\u001b[38;5;241m.\u001b[39m_event\u001b[38;5;241m.\u001b[39mset()\n",
      "\u001b[1;31mTypeError\u001b[0m: '<=' not supported between instances of 'list' and 'int'"
     ]
    }
   ],
   "source": [
    "#def worker_function(value):\n",
    " #   return value * 2\n",
    "\n",
    "#values = [1, 2, 3, 4, 5]\n",
    "matrix_A = [\n",
    "    [1, 2, 3],\n",
    "    [4, 5, 6],\n",
    "    [7, 8, 9]\n",
    "]\n",
    "\n",
    "matrix_B = [\n",
    "    [1, 4, 7],\n",
    "    [2, 5, 8],\n",
    "    [3, 6, 9]\n",
    "]\n",
    "\n",
    "with multiprocessing.Pool() as pool:\n",
    "    results = pool.map(matrix_multiplication, matrix_A, matrix_B)\n",
    "    \n",
    "#print(results)\n",
    "\n",
    "# Define matrices A and B\n",
    "#matrix_A = [\n",
    " #   [1, 2, 3],\n",
    "  #  [4, 5, 6],\n",
    "   # [7, 8, 9]]\n",
    "\n",
    "#matrix_B = [\n",
    " #   [1, 4, 7],\n",
    "  #  [2, 5, 8],\n",
    "   # [3, 6, 9]]\n",
    "\n",
    "# Perform matrix multiplication\n",
    "par_result_matrix = matrix_multiplication(matrix_A, matrix_B)\n",
    "\n",
    "# Print the result matrix\n",
    "for row in par_result_matrix:\n",
    "    print(row)"
   ]
  },
  {
   "cell_type": "markdown",
   "id": "341b44b9",
   "metadata": {},
   "source": [
    "Distribute web scraping tasks across multiple processes or threads using libraries\n",
    "like concurrent.futures or Scrapy to gather data from various websites simultaneously."
   ]
  },
  {
   "cell_type": "code",
   "execution_count": null,
   "id": "642dd2e1",
   "metadata": {},
   "outputs": [],
   "source": [
    "import concurrent.futures\n",
    "import requests\n",
    "import multiprocessing\n",
    "\n",
    "# List of URLs to scrape\n",
    "urls = ['https://en.wikipedia.org/wiki/Dog', 'https://en.wikipedia.org/wiki/Cat', 'https://en.wikipedia.org/wiki/Horse']\n",
    "\n",
    "def scrape_url(url):\n",
    "    response = requests.get(url)\n",
    "    return response.text[:100]  # Extract a small portion of the content\n",
    "\n",
    "#with concurrent.futures.ThreadPoolExecutor() as executor:  # You can also use ProcessPoolExecutor()\n",
    " #   results = executor.map(scrape_url, urls)\n",
    "with multiprocessing.Pool() as pool:\n",
    "    results = pool.map(scrape_url, urls)\n",
    "\n",
    "for result in results:\n",
    "    print(result)"
   ]
  },
  {
   "cell_type": "code",
   "execution_count": null,
   "id": "6f640ef0",
   "metadata": {},
   "outputs": [],
   "source": [
    "import os\n",
    "import concurrent.futures\n",
    "import multiprocessing\n",
    "\n",
    "# Function to count words in a text file\n",
    "def count_words_in_file(file_path):\n",
    "    with open(file_path, 'r') as file:\n",
    "        text = file.read()\n",
    "        word_count = len(text.split())\n",
    "    return word_count\n",
    "\n",
    "# List of text files to process\n",
    "file_paths = ['Dogs.txt', 'Cats.txt', 'Horses.txt']  # Add your file paths here\n",
    "\n",
    "# Using multiprocessing.Pool for parallel processing\n",
    "with multiprocessing.Pool() as pool:\n",
    "    word_counts = pool.map(count_words_in_file, file_paths)\n",
    "\n",
    "# Print the word counts\n",
    "for file_path, word_count in zip(file_paths, word_counts):\n",
    "    print(f\"Word count in {file_path}: {word_count}\")"
   ]
  }
 ],
 "metadata": {
  "kernelspec": {
   "display_name": "Python 3 (ipykernel)",
   "language": "python",
   "name": "python3"
  },
  "language_info": {
   "codemirror_mode": {
    "name": "ipython",
    "version": 3
   },
   "file_extension": ".py",
   "mimetype": "text/x-python",
   "name": "python",
   "nbconvert_exporter": "python",
   "pygments_lexer": "ipython3",
   "version": "3.10.7"
  }
 },
 "nbformat": 4,
 "nbformat_minor": 5
}
