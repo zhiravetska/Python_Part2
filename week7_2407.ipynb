{
 "cells": [
  {
   "cell_type": "code",
   "execution_count": null,
   "id": "e1dbd520",
   "metadata": {},
   "outputs": [],
   "source": [
    "#import mysql.connector"
   ]
  },
  {
   "cell_type": "code",
   "execution_count": null,
   "id": "3b43c2a4",
   "metadata": {},
   "outputs": [],
   "source": [
    "#connection - mysql.connector.connect(user=\"root\",\n",
    "                                     password=\"\",\n",
    "                                     host=\"localhost\",\n",
    "                                     databased=\"\")"
   ]
  },
  {
   "cell_type": "code",
   "execution_count": null,
   "id": "0ecc91fc",
   "metadata": {},
   "outputs": [],
   "source": [
    "#cursor = connection.cursor()\n",
    "#cursor.execute(\"INSERT INTO students(name,lastname, age) VALUES ('Taylor','Mayson',20)\")\n",
    "#connection.commit()\n",
    "#connection.rollback() - nothing willbe changed in the db\n",
    "#cursor.execute(\"SELECT COUNT(*) FROM students)\n",
    "#results = cursor.fetchall()\n",
    "#count = results[0][0]\n",
    "#if count > 20:\n",
    "    #connection.rollback()\n",
    "#else:\n",
    " #   connection.commit()\n",
    "               \n",
    "#connection.close()\n",
    "               "
   ]
  },
  {
   "cell_type": "code",
   "execution_count": null,
   "id": "f4dc292a",
   "metadata": {},
   "outputs": [],
   "source": [
    "#results[0][0]# we test drawback here\n",
    "#count"
   ]
  },
  {
   "cell_type": "code",
   "execution_count": 1,
   "id": "3dbfc601",
   "metadata": {},
   "outputs": [],
   "source": [
    "#25.07\n",
    "import json\n",
    "import os"
   ]
  },
  {
   "cell_type": "code",
   "execution_count": 15,
   "id": "23a7fa95",
   "metadata": {},
   "outputs": [],
   "source": [
    "#person = {\"name\":\"Jack\",\n",
    "         #\"last_name\":\"Hawk\",\n",
    "         #\"age\":35}\n",
    "#person = {\"name\":(\"Jack\",\"Hawk\"),\n",
    "         #\"age\":35}\n",
    "person = {\"name\":(\"Jack\",\"Hawk\"),\n",
    "         \"age\":35}"
   ]
  },
  {
   "cell_type": "code",
   "execution_count": 16,
   "id": "93fd1a31",
   "metadata": {},
   "outputs": [],
   "source": [
    "directory = \"persons2\"\n",
    "\n",
    "if not os.path.exists(directory):\n",
    "    os.makedirs(directory)\n",
    "    \n",
    "with open(\"persons2/person.json\",\"w\") as json_f:\n",
    "    json.dump(person,json_f)"
   ]
  },
  {
   "cell_type": "code",
   "execution_count": 23,
   "id": "5dd02c7c",
   "metadata": {},
   "outputs": [],
   "source": [
    "#way 2\n",
    "person1 = {\"id\":1,\"name\":\"Sukano\", \"last_name\":\"Gefen\", \"age\":24}\n",
    "person2 = {\"id\":2,\"name\":\"Ki\", \"last_name\":\"Dopdotos\", \"age\":32}\n",
    "person3 = {\"id\":3,\"name\":\"Sanjit\", \"last_name\":\"Henny\", \"age\":21}\n",
    "\n",
    "persons2 = list()\n",
    "\n",
    "persons2.append(person1)\n",
    "persons2.append(person2)\n",
    "persons2.append(person3)"
   ]
  },
  {
   "cell_type": "code",
   "execution_count": 18,
   "id": "4c507abf",
   "metadata": {},
   "outputs": [],
   "source": [
    "with open(\"persons2/person.json\",\"w\") as json_f:\n",
    "    json.dump(person,json_f)"
   ]
  },
  {
   "cell_type": "code",
   "execution_count": 19,
   "id": "4c9d4c53",
   "metadata": {},
   "outputs": [
    {
     "ename": "FileNotFoundError",
     "evalue": "[Errno 2] No such file or directory: 'persons2.json'",
     "output_type": "error",
     "traceback": [
      "\u001b[1;31m---------------------------------------------------------------------------\u001b[0m",
      "\u001b[1;31mFileNotFoundError\u001b[0m                         Traceback (most recent call last)",
      "Cell \u001b[1;32mIn [19], line 1\u001b[0m\n\u001b[1;32m----> 1\u001b[0m \u001b[38;5;28;01mwith\u001b[39;00m \u001b[38;5;28;43mopen\u001b[39;49m\u001b[43m \u001b[49m\u001b[43m(\u001b[49m\u001b[38;5;124;43m\"\u001b[39;49m\u001b[38;5;124;43mpersons2.json\u001b[39;49m\u001b[38;5;124;43m\"\u001b[39;49m\u001b[43m,\u001b[49m\u001b[38;5;124;43m\"\u001b[39;49m\u001b[38;5;124;43mr\u001b[39;49m\u001b[38;5;124;43m\"\u001b[39;49m\u001b[43m)\u001b[49m \u001b[38;5;28;01mas\u001b[39;00m json_f:\n\u001b[0;32m      2\u001b[0m     persons2_data \u001b[38;5;241m=\u001b[39m json\u001b[38;5;241m.\u001b[39mload(json_f)\n",
      "\u001b[1;31mFileNotFoundError\u001b[0m: [Errno 2] No such file or directory: 'persons2.json'"
     ]
    }
   ],
   "source": [
    "with open (\"persons2.json\",\"r\") as json_f:\n",
    "    persons2_data = json.load(json_f)"
   ]
  },
  {
   "cell_type": "code",
   "execution_count": 20,
   "id": "54db1b8d",
   "metadata": {},
   "outputs": [
    {
     "ename": "NameError",
     "evalue": "name 'persons2_data' is not defined",
     "output_type": "error",
     "traceback": [
      "\u001b[1;31m---------------------------------------------------------------------------\u001b[0m",
      "\u001b[1;31mNameError\u001b[0m                                 Traceback (most recent call last)",
      "Cell \u001b[1;32mIn [20], line 1\u001b[0m\n\u001b[1;32m----> 1\u001b[0m \u001b[43mpersons2_data\u001b[49m\n",
      "\u001b[1;31mNameError\u001b[0m: name 'persons2_data' is not defined"
     ]
    }
   ],
   "source": [
    "persons2_data"
   ]
  },
  {
   "cell_type": "code",
   "execution_count": 24,
   "id": "15df7a51",
   "metadata": {},
   "outputs": [
    {
     "ename": "NameError",
     "evalue": "name 'persons2_data' is not defined",
     "output_type": "error",
     "traceback": [
      "\u001b[1;31m---------------------------------------------------------------------------\u001b[0m",
      "\u001b[1;31mNameError\u001b[0m                                 Traceback (most recent call last)",
      "Cell \u001b[1;32mIn [24], line 2\u001b[0m\n\u001b[0;32m      1\u001b[0m person4 \u001b[38;5;241m=\u001b[39m {\u001b[38;5;124m\"\u001b[39m\u001b[38;5;124mid\u001b[39m\u001b[38;5;124m\"\u001b[39m:\u001b[38;5;241m4\u001b[39m,\u001b[38;5;124m\"\u001b[39m\u001b[38;5;124mname\u001b[39m\u001b[38;5;124m\"\u001b[39m:\u001b[38;5;124m\"\u001b[39m\u001b[38;5;124mTekla\u001b[39m\u001b[38;5;124m\"\u001b[39m, \u001b[38;5;124m\"\u001b[39m\u001b[38;5;124mlast_name\u001b[39m\u001b[38;5;124m\"\u001b[39m:\u001b[38;5;124m\"\u001b[39m\u001b[38;5;124mPaulina\u001b[39m\u001b[38;5;124m\"\u001b[39m, \u001b[38;5;124m\"\u001b[39m\u001b[38;5;124mage\u001b[39m\u001b[38;5;124m\"\u001b[39m:\u001b[38;5;241m19\u001b[39m}\n\u001b[1;32m----> 2\u001b[0m \u001b[43mpersons2_data\u001b[49m\u001b[38;5;241m.\u001b[39mappend(person4)\n\u001b[0;32m      4\u001b[0m \u001b[38;5;28;01mwith\u001b[39;00m \u001b[38;5;28mopen\u001b[39m(\u001b[38;5;124m\"\u001b[39m\u001b[38;5;124mpersons2/person.json\u001b[39m\u001b[38;5;124m\"\u001b[39m,\u001b[38;5;124m\"\u001b[39m\u001b[38;5;124mw\u001b[39m\u001b[38;5;124m\"\u001b[39m) \u001b[38;5;28;01mas\u001b[39;00m json_f:\n\u001b[0;32m      5\u001b[0m     json\u001b[38;5;241m.\u001b[39mdump(person,json_f)\n",
      "\u001b[1;31mNameError\u001b[0m: name 'persons2_data' is not defined"
     ]
    }
   ],
   "source": [
    "person4 = {\"id\":4,\"name\":\"Tekla\", \"last_name\":\"Paulina\", \"age\":19}\n",
    "persons2_data.append(person4)\n",
    "\n",
    "with open(\"persons2/person.json\",\"w\") as json_f:\n",
    "    json.dump(person,json_f)"
   ]
  },
  {
   "cell_type": "code",
   "execution_count": 25,
   "id": "03965642",
   "metadata": {},
   "outputs": [],
   "source": [
    "class PersonsDB:\n",
    "    \n",
    "    def __init__(self):\n",
    " #       with open (\"\") as json_f:\n",
    " #       self.persons2_data = json.load(json_f)\n",
    " #       self.persons2_data = self.person_data.copy()\n",
    "        self.\n",
    "    \n",
    "    def get_last_id(self):\n",
    "        last_id = 0\n",
    "        for person in self.persons_data:\n",
    "            if last_id<person[\"id\"]:\n",
    "                last_id = person[\"id\"]\n",
    "        return last_id\n",
    "    \n",
    "    def insert(self,name:str,last_name:str,age:int):\n",
    "        new_id = self.get_last_id() + 1\n",
    "        person = {\"name\":name,\"last_name\":last_name,\"age\":age}\n",
    "        self.persons_data.append(person)\n",
    "        \n",
    "    def commit(self):\n",
    "        with open(\"person.json\",\"w\") as json_f:\n",
    "        json.dump(self.person_data,json_f)\n",
    "        \n",
    "    def rollback(self):\n",
    "#        self.person_data = SELF.PERSON_DATA_INIT.COPY()\n",
    "        self.load_persons_from_file()\n",
    "\n",
    "    def load+persons_from_file(self):\n",
    "        with open (\"persons.json\",\"r\") as json_f:\n",
    "            self.persons2_data = json.load(json_f)\n",
    "            \n",
    "    def update(self,id:int, name:str,lst_name:str,age:int):\n",
    "        person_uod    = None\n",
    "        for person in self.persons_data:\n",
    "            if person[\"id\"] == id:\n",
    "                person_upd = person\n",
    "                break\n",
    "        if person_upd == None:\n",
    "            return False\n",
    "        \n",
    "        if not (name == None):\n",
    "            person[\"name\"] = name\n",
    "        if not (\"last_name\" == None):\n",
    "            person[\"last_name\"] = last_name\n",
    "        if not (age == None):\n",
    "            person[\"age\"] = age\n",
    "        reurn True\n",
    "            "
   ]
  },
  {
   "cell_type": "code",
   "execution_count": 26,
   "id": "7633f557",
   "metadata": {},
   "outputs": [
    {
     "ename": "ValueError",
     "evalue": "I/O operation on closed file.",
     "output_type": "error",
     "traceback": [
      "\u001b[1;31m---------------------------------------------------------------------------\u001b[0m",
      "\u001b[1;31mValueError\u001b[0m                                Traceback (most recent call last)",
      "Cell \u001b[1;32mIn [26], line 1\u001b[0m\n\u001b[1;32m----> 1\u001b[0m person_db \u001b[38;5;241m=\u001b[39m \u001b[43mPersonsDB\u001b[49m\u001b[43m(\u001b[49m\u001b[43m)\u001b[49m\n",
      "Cell \u001b[1;32mIn [25], line 4\u001b[0m, in \u001b[0;36mPersonsDB.__init__\u001b[1;34m(self)\u001b[0m\n\u001b[0;32m      3\u001b[0m \u001b[38;5;28;01mdef\u001b[39;00m \u001b[38;5;21m__init__\u001b[39m(\u001b[38;5;28mself\u001b[39m):\n\u001b[1;32m----> 4\u001b[0m     \u001b[38;5;28mself\u001b[39m\u001b[38;5;241m.\u001b[39mpersons2_data \u001b[38;5;241m=\u001b[39m \u001b[43mjson\u001b[49m\u001b[38;5;241;43m.\u001b[39;49m\u001b[43mload\u001b[49m\u001b[43m(\u001b[49m\u001b[43mjson_f\u001b[49m\u001b[43m)\u001b[49m\n",
      "File \u001b[1;32m~\\AppData\\Local\\Programs\\Python\\Python310\\lib\\json\\__init__.py:293\u001b[0m, in \u001b[0;36mload\u001b[1;34m(fp, cls, object_hook, parse_float, parse_int, parse_constant, object_pairs_hook, **kw)\u001b[0m\n\u001b[0;32m    274\u001b[0m \u001b[38;5;28;01mdef\u001b[39;00m \u001b[38;5;21mload\u001b[39m(fp, \u001b[38;5;241m*\u001b[39m, \u001b[38;5;28mcls\u001b[39m\u001b[38;5;241m=\u001b[39m\u001b[38;5;28;01mNone\u001b[39;00m, object_hook\u001b[38;5;241m=\u001b[39m\u001b[38;5;28;01mNone\u001b[39;00m, parse_float\u001b[38;5;241m=\u001b[39m\u001b[38;5;28;01mNone\u001b[39;00m,\n\u001b[0;32m    275\u001b[0m         parse_int\u001b[38;5;241m=\u001b[39m\u001b[38;5;28;01mNone\u001b[39;00m, parse_constant\u001b[38;5;241m=\u001b[39m\u001b[38;5;28;01mNone\u001b[39;00m, object_pairs_hook\u001b[38;5;241m=\u001b[39m\u001b[38;5;28;01mNone\u001b[39;00m, \u001b[38;5;241m*\u001b[39m\u001b[38;5;241m*\u001b[39mkw):\n\u001b[0;32m    276\u001b[0m     \u001b[38;5;124;03m\"\"\"Deserialize ``fp`` (a ``.read()``-supporting file-like object containing\u001b[39;00m\n\u001b[0;32m    277\u001b[0m \u001b[38;5;124;03m    a JSON document) to a Python object.\u001b[39;00m\n\u001b[0;32m    278\u001b[0m \n\u001b[1;32m   (...)\u001b[0m\n\u001b[0;32m    291\u001b[0m \u001b[38;5;124;03m    kwarg; otherwise ``JSONDecoder`` is used.\u001b[39;00m\n\u001b[0;32m    292\u001b[0m \u001b[38;5;124;03m    \"\"\"\u001b[39;00m\n\u001b[1;32m--> 293\u001b[0m     \u001b[38;5;28;01mreturn\u001b[39;00m loads(\u001b[43mfp\u001b[49m\u001b[38;5;241;43m.\u001b[39;49m\u001b[43mread\u001b[49m\u001b[43m(\u001b[49m\u001b[43m)\u001b[49m,\n\u001b[0;32m    294\u001b[0m         \u001b[38;5;28mcls\u001b[39m\u001b[38;5;241m=\u001b[39m\u001b[38;5;28mcls\u001b[39m, object_hook\u001b[38;5;241m=\u001b[39mobject_hook,\n\u001b[0;32m    295\u001b[0m         parse_float\u001b[38;5;241m=\u001b[39mparse_float, parse_int\u001b[38;5;241m=\u001b[39mparse_int,\n\u001b[0;32m    296\u001b[0m         parse_constant\u001b[38;5;241m=\u001b[39mparse_constant, object_pairs_hook\u001b[38;5;241m=\u001b[39mobject_pairs_hook, \u001b[38;5;241m*\u001b[39m\u001b[38;5;241m*\u001b[39mkw)\n",
      "\u001b[1;31mValueError\u001b[0m: I/O operation on closed file."
     ]
    }
   ],
   "source": [
    "person_db = PersonsDB()"
   ]
  },
  {
   "cell_type": "code",
   "execution_count": null,
   "id": "3953e1fa",
   "metadata": {},
   "outputs": [],
   "source": [
    "person_db.insert(\"Arturs\",\"Oleks\",25)"
   ]
  },
  {
   "cell_type": "code",
   "execution_count": null,
   "id": "aa6d9c40",
   "metadata": {},
   "outputs": [],
   "source": [
    "person_db.person_data"
   ]
  },
  {
   "cell_type": "code",
   "execution_count": null,
   "id": "cba3f306",
   "metadata": {},
   "outputs": [],
   "source": [
    "person_db.rollback()"
   ]
  },
  {
   "cell_type": "code",
   "execution_count": null,
   "id": "18203f44",
   "metadata": {},
   "outputs": [],
   "source": []
  }
 ],
 "metadata": {
  "kernelspec": {
   "display_name": "Python 3 (ipykernel)",
   "language": "python",
   "name": "python3"
  },
  "language_info": {
   "codemirror_mode": {
    "name": "ipython",
    "version": 3
   },
   "file_extension": ".py",
   "mimetype": "text/x-python",
   "name": "python",
   "nbconvert_exporter": "python",
   "pygments_lexer": "ipython3",
   "version": "3.10.7"
  }
 },
 "nbformat": 4,
 "nbformat_minor": 5
}
