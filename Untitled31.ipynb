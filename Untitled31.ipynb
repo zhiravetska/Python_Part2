{
 "cells": [
  {
   "cell_type": "code",
   "execution_count": 1,
   "id": "cfc96063",
   "metadata": {},
   "outputs": [],
   "source": [
    "import spotipy\n",
    "from spotipy.oauth2 import SpotifyOAuth"
   ]
  },
  {
   "cell_type": "code",
   "execution_count": 2,
   "id": "1b6a3804",
   "metadata": {},
   "outputs": [
    {
     "ename": "SyntaxError",
     "evalue": "invalid syntax. Perhaps you forgot a comma? (3634833257.py, line 2)",
     "output_type": "error",
     "traceback": [
      "\u001b[1;36m  Cell \u001b[1;32mIn [2], line 2\u001b[1;36m\u001b[0m\n\u001b[1;33m    client\u001b[0m\n\u001b[1;37m    ^\u001b[0m\n\u001b[1;31mSyntaxError\u001b[0m\u001b[1;31m:\u001b[0m invalid syntax. Perhaps you forgot a comma?\n"
     ]
    }
   ],
   "source": [
    "spotify = spotipy.Spotify(client_credentials_manager=SpotifyOAuth(\n",
    "    client\n",
    "    redirect_uri='http://localhost:5000/callback',\n",
    "                                                                  scope=\"user-modify-playback-state playlist-read-private\"))"
   ]
  },
  {
   "cell_type": "code",
   "execution_count": 3,
   "id": "0389ba18",
   "metadata": {},
   "outputs": [
    {
     "ename": "NameError",
     "evalue": "name 'spotify' is not defined",
     "output_type": "error",
     "traceback": [
      "\u001b[1;31m---------------------------------------------------------------------------\u001b[0m",
      "\u001b[1;31mNameError\u001b[0m                                 Traceback (most recent call last)",
      "Cell \u001b[1;32mIn [3], line 1\u001b[0m\n\u001b[1;32m----> 1\u001b[0m artist_Dav_Bow \u001b[38;5;241m=\u001b[39m \u001b[43mspotify\u001b[49m\u001b[38;5;241m.\u001b[39msearch(\u001b[38;5;28mtype\u001b[39m\u001b[38;5;241m=\u001b[39m\u001b[38;5;124m'\u001b[39m\u001b[38;5;124martist\u001b[39m\u001b[38;5;124m'\u001b[39m,q\u001b[38;5;241m=\u001b[39m\u001b[38;5;124m'\u001b[39m\u001b[38;5;124mDavid Bowie\u001b[39m\u001b[38;5;124m'\u001b[39m)\n",
      "\u001b[1;31mNameError\u001b[0m: name 'spotify' is not defined"
     ]
    }
   ],
   "source": [
    "artist_Dav_Bow = spotify.search(type='artist',q='David Bowie')"
   ]
  },
  {
   "cell_type": "code",
   "execution_count": 4,
   "id": "9edfd06d",
   "metadata": {},
   "outputs": [
    {
     "ename": "NameError",
     "evalue": "name 'artist_Dav_Bow' is not defined",
     "output_type": "error",
     "traceback": [
      "\u001b[1;31m---------------------------------------------------------------------------\u001b[0m",
      "\u001b[1;31mNameError\u001b[0m                                 Traceback (most recent call last)",
      "Cell \u001b[1;32mIn [4], line 1\u001b[0m\n\u001b[1;32m----> 1\u001b[0m Davie_Bowie_item \u001b[38;5;241m=\u001b[39m \u001b[43martist_Dav_Bow\u001b[49m[\u001b[38;5;124m\"\u001b[39m\u001b[38;5;124martists\u001b[39m\u001b[38;5;124m\"\u001b[39m][\u001b[38;5;124m\"\u001b[39m\u001b[38;5;124mitems\u001b[39m\u001b[38;5;124m\"\u001b[39m][\u001b[38;5;241m0\u001b[39m]\n",
      "\u001b[1;31mNameError\u001b[0m: name 'artist_Dav_Bow' is not defined"
     ]
    }
   ],
   "source": [
    "Davie_Bowie_item = artist_Dav_Bow[\"artists\"][\"items\"][0]"
   ]
  },
  {
   "cell_type": "code",
   "execution_count": 5,
   "id": "03bf8086",
   "metadata": {},
   "outputs": [
    {
     "ename": "NameError",
     "evalue": "name 'Davie_Bowie_item' is not defined",
     "output_type": "error",
     "traceback": [
      "\u001b[1;31m---------------------------------------------------------------------------\u001b[0m",
      "\u001b[1;31mNameError\u001b[0m                                 Traceback (most recent call last)",
      "Cell \u001b[1;32mIn [5], line 1\u001b[0m\n\u001b[1;32m----> 1\u001b[0m \u001b[43mDavie_Bowie_item\u001b[49m\n",
      "\u001b[1;31mNameError\u001b[0m: name 'Davie_Bowie_item' is not defined"
     ]
    }
   ],
   "source": [
    "Davie_Bowie_item"
   ]
  }
 ],
 "metadata": {
  "kernelspec": {
   "display_name": "Python 3 (ipykernel)",
   "language": "python",
   "name": "python3"
  },
  "language_info": {
   "codemirror_mode": {
    "name": "ipython",
    "version": 3
   },
   "file_extension": ".py",
   "mimetype": "text/x-python",
   "name": "python",
   "nbconvert_exporter": "python",
   "pygments_lexer": "ipython3",
   "version": "3.10.7"
  }
 },
 "nbformat": 4,
 "nbformat_minor": 5
}
