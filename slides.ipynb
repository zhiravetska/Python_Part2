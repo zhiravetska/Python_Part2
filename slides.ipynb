{
 "cells": [
  {
   "cell_type": "code",
   "execution_count": 19,
   "id": "51f8c7c2",
   "metadata": {
    "slideshow": {
     "slide_type": "slide"
    }
   },
   "outputs": [],
   "source": [
    "import spotipy\n",
    "from spotipy.oauth2 import SpotifyClientCredentials\n",
    "import pandas as pd\n",
    "#from getpass import getpass"
   ]
  },
  {
   "cell_type": "code",
   "execution_count": 29,
   "id": "46581de7",
   "metadata": {
    "slideshow": {
     "slide_type": "slide"
    }
   },
   "outputs": [
    {
     "name": "stdout",
     "output_type": "stream",
     "text": [
      "Client ID: ········\n",
      "Client Secret: ········\n"
     ]
    }
   ],
   "source": [
    "#78a80a73aff14046b3bd696c039d9354\n",
    "#0f614ec0ea07490bbef21e0e9dcc8f69\n",
    "\n",
    "cid = getpass(\"Client ID: \")\n",
    "secret = getpass(\"Client Secret: \")"
   ]
  },
  {
   "cell_type": "code",
   "execution_count": 30,
   "id": "25f97733",
   "metadata": {
    "slideshow": {
     "slide_type": "slide"
    }
   },
   "outputs": [],
   "source": [
    "#Authentication \n",
    "\n",
    "client_credentials_manager = SpotifyClientCredentials(client_id=\"cid\", client_secret=\"secret\")\n",
    "sp = spotipy.Spotify(client_credentials_manager = client_credentials_manager)"
   ]
  },
  {
   "cell_type": "code",
   "execution_count": 31,
   "id": "944d3c04",
   "metadata": {
    "scrolled": true,
    "slideshow": {
     "slide_type": "slide"
    }
   },
   "outputs": [],
   "source": [
    "playlist_link = \"https://open.spotify.com/playlist/37i9dQZEVXbNG2KDcFcKOF\"\n",
    "playlist_URI = playlist_link.split(\"/\")[-1].split(\"?\")[0]\n",
    "#artist_uri = result['tracks']['items'][0]['artists'][1]['uri']\n",
    "track_uris = [x[\"track\"][\"uri\"] for x in sp.playlist_tracks(playlist_URI)[\"items\"]]"
   ]
  },
  {
   "cell_type": "code",
   "execution_count": 32,
   "id": "73f14fc5",
   "metadata": {
    "slideshow": {
     "slide_type": "slide"
    }
   },
   "outputs": [
    {
     "data": {
      "text/plain": [
       "['spotify:track:7x9aauaA9cu6tyfpHnqDLo',\n",
       " 'spotify:track:2IGMVunIBsBLtEQyoI1Mu7',\n",
       " 'spotify:track:1BxfuPKGuaTgP7aM0Bbdwr',\n",
       " 'spotify:track:7ABLbnD53cQK00mhcaOUVG',\n",
       " 'spotify:track:5RqSsdzTNPX1uzkmlHCFvK',\n",
       " 'spotify:track:6wf7Yu7cxBSPrRlWeSeK0Q',\n",
       " 'spotify:track:1vYXt7VSjH9JIM5oRRo7vA',\n",
       " 'spotify:track:6XbtvPmIpyCbjuT0e8cQtp',\n",
       " 'spotify:track:1kuGVB7EU95pJObxwvfwKS',\n",
       " 'spotify:track:4rXLjWdF2ZZpXCVTfWcshS',\n",
       " 'spotify:track:2FDTHlrBguDzQkp7PVj16Q',\n",
       " 'spotify:track:1odExI7RdWc4BT515LTAwj',\n",
       " 'spotify:track:7mXuWTczZNxG5EDcjFEuJR',\n",
       " 'spotify:track:4Dvkj6JhhA12EX05fT7y2e',\n",
       " 'spotify:track:4DHcnVTT87F0zZhRPYmZ3B',\n",
       " 'spotify:track:1Qrg8KqiBpW07V7PNxwwwL',\n",
       " 'spotify:track:741UUVE2kuITl0c6zuqqbO',\n",
       " 'spotify:track:5sdQOyqq2IDhvmx2lHOpwd',\n",
       " 'spotify:track:5XeFesFbtLpXzIVDNQP22n',\n",
       " 'spotify:track:4KULAymBBJcPRpk1yO4dOG',\n",
       " 'spotify:track:7ro0hRteUMfnOioTFI5TG1',\n",
       " 'spotify:track:6XSqqQIy7Lm7SnwxS4NrGx',\n",
       " 'spotify:track:25OeKzcqakFPaJlXHPE5lm',\n",
       " 'spotify:track:2UW7JaomAMuX9pZrjVpHAU',\n",
       " 'spotify:track:23RoR84KodL5HWvUTneQ1w',\n",
       " 'spotify:track:54zcJnb3tp9c5OVKREZ1Is',\n",
       " 'spotify:track:3hUxzQpSfdDqwM3ZTFQY0K',\n",
       " 'spotify:track:3IX0yuEVvDbnqUwMBB3ouC',\n",
       " 'spotify:track:6irysuQyZWd7Bjj7ePiOs2',\n",
       " 'spotify:track:59NraMJsLaMCVtwXTSia8i',\n",
       " 'spotify:track:6WzRpISELf3YglGAh7TXcG',\n",
       " 'spotify:track:4lIxdJw6W3Fg4vUIYCB0S5',\n",
       " 'spotify:track:5PUXKVVVQ74C3gl5vKy9Li',\n",
       " 'spotify:track:6uIIdjYTxxpWOyWuVXrKQO',\n",
       " 'spotify:track:1p80LdxRV74UKvL8gnD7ky',\n",
       " 'spotify:track:41WQUSINanQHfhfKpFDsms',\n",
       " 'spotify:track:0V3wPSX9ygBnCm8psDIegu',\n",
       " 'spotify:track:3qQbCzHBycnDpGskqOWY0E',\n",
       " 'spotify:track:2N0SPREDYqILVEFSsWF5N5',\n",
       " 'spotify:track:3Ua0m0YmEjrMi9XErKcNiR',\n",
       " 'spotify:track:7MXVkk9YMctZqd1Srtv4MB',\n",
       " 'spotify:track:2LBqCSwhJGcFQeTHMVGwy3',\n",
       " 'spotify:track:6wsqVwoiVH2kde4k4KKAFU',\n",
       " 'spotify:track:1s7oOCT8vauUh01PbJD6ps',\n",
       " 'spotify:track:67nepsnrcZkowTxMWigSbb',\n",
       " 'spotify:track:7K3BhSpAxZBznislvUMVtn',\n",
       " 'spotify:track:2yzshFeBIwH8tWIqHEFLeD',\n",
       " 'spotify:track:2dHHgzDwk4BJdRwy9uXhTO',\n",
       " 'spotify:track:7bPp2NmpmyhLJ7zWazAXMu',\n",
       " 'spotify:track:7FbrGaHYVDmfr7KoLIZnQ7']"
      ]
     },
     "execution_count": 32,
     "metadata": {},
     "output_type": "execute_result"
    }
   ],
   "source": [
    "track_uris"
   ]
  },
  {
   "cell_type": "code",
   "execution_count": 33,
   "id": "b306fab6",
   "metadata": {
    "slideshow": {
     "slide_type": "slide"
    }
   },
   "outputs": [],
   "source": [
    "trackuri = []\n",
    "tname = []\n",
    "artisturi = []\n",
    "artistinfo = []\n",
    "artname = []\n",
    "artpop = []\n",
    "artgenres = []\n",
    "albumname = []\n",
    "tpop = []\n"
   ]
  },
  {
   "cell_type": "code",
   "execution_count": 6,
   "id": "9df94f37",
   "metadata": {
    "slideshow": {
     "slide_type": "slide"
    }
   },
   "outputs": [],
   "source": [
    "for track in sp.playlist_tracks(playlist_URI)[\"items\"]:\n",
    "    #URI\n",
    "    track_uri = track[\"track\"][\"uri\"]\n",
    "    \n",
    "    #Track name\n",
    "    track_name = track[\"track\"][\"name\"]\n",
    "    \n",
    "    #Main Artist\n",
    "    artist_uri = track[\"track\"][\"artists\"][0][\"uri\"]\n",
    "    artist_info = sp.artist(artist_uri)\n",
    "    \n",
    "    #Name, popularity, genre\n",
    "    artist_name = track[\"track\"][\"artists\"][0][\"name\"]\n",
    "    artist_pop = artist_info[\"popularity\"]\n",
    "    artist_genres = artist_info[\"genres\"]\n",
    "    \n",
    "    #Album\n",
    "    album = track[\"track\"][\"album\"][\"name\"]\n",
    "    \n",
    "    #Popularity of the track\n",
    "    track_pop = track[\"track\"][\"popularity\"]"
   ]
  },
  {
   "cell_type": "code",
   "execution_count": 7,
   "id": "09d2bcd1",
   "metadata": {
    "slideshow": {
     "slide_type": "slide"
    }
   },
   "outputs": [
    {
     "data": {
      "text/plain": [
       "'Cupid - Twin Ver.'"
      ]
     },
     "execution_count": 7,
     "metadata": {},
     "output_type": "execute_result"
    }
   ],
   "source": [
    "track_name #???"
   ]
  },
  {
   "cell_type": "code",
   "execution_count": 8,
   "id": "0cffa992",
   "metadata": {
    "slideshow": {
     "slide_type": "slide"
    }
   },
   "outputs": [
    {
     "data": {
      "text/plain": [
       "['k-pop girl group']"
      ]
     },
     "execution_count": 8,
     "metadata": {},
     "output_type": "execute_result"
    }
   ],
   "source": [
    "artist_genres"
   ]
  },
  {
   "cell_type": "code",
   "execution_count": 9,
   "id": "4f53a15f",
   "metadata": {
    "slideshow": {
     "slide_type": "slide"
    }
   },
   "outputs": [
    {
     "data": {
      "text/plain": [
       "75"
      ]
     },
     "execution_count": 9,
     "metadata": {},
     "output_type": "execute_result"
    }
   ],
   "source": [
    "artist_pop"
   ]
  },
  {
   "cell_type": "code",
   "execution_count": 10,
   "id": "7a8f13e2",
   "metadata": {
    "slideshow": {
     "slide_type": "slide"
    }
   },
   "outputs": [
    {
     "data": {
      "text/plain": [
       "{'danceability': 0.783,\n",
       " 'energy': 0.592,\n",
       " 'key': 11,\n",
       " 'loudness': -8.332,\n",
       " 'mode': 0,\n",
       " 'speechiness': 0.0331,\n",
       " 'acousticness': 0.435,\n",
       " 'instrumentalness': 4.15e-06,\n",
       " 'liveness': 0.347,\n",
       " 'valence': 0.726,\n",
       " 'tempo': 120.018,\n",
       " 'type': 'audio_features',\n",
       " 'id': '7FbrGaHYVDmfr7KoLIZnQ7',\n",
       " 'uri': 'spotify:track:7FbrGaHYVDmfr7KoLIZnQ7',\n",
       " 'track_href': 'https://api.spotify.com/v1/tracks/7FbrGaHYVDmfr7KoLIZnQ7',\n",
       " 'analysis_url': 'https://api.spotify.com/v1/audio-analysis/7FbrGaHYVDmfr7KoLIZnQ7',\n",
       " 'duration_ms': 174253,\n",
       " 'time_signature': 4}"
      ]
     },
     "execution_count": 10,
     "metadata": {},
     "output_type": "execute_result"
    }
   ],
   "source": [
    "sp.audio_features(track_uri)[0]"
   ]
  },
  {
   "cell_type": "code",
   "execution_count": 11,
   "id": "4921932b",
   "metadata": {
    "slideshow": {
     "slide_type": "slide"
    }
   },
   "outputs": [],
   "source": [
    "playlist_link = \"https://open.spotify.com/playlist/37i9dQZF1DWUa8ZRTfalHk\"\n",
    "playlist_URI = playlist_link.split(\"/\")[-1].split(\"?\")[0]\n",
    "track_uris_2 = [x[\"track\"][\"uri\"] for x in sp.playlist_tracks(playlist_URI)[\"items\"]]\n"
   ]
  },
  {
   "cell_type": "code",
   "execution_count": 12,
   "id": "6e981026",
   "metadata": {
    "slideshow": {
     "slide_type": "slide"
    }
   },
   "outputs": [
    {
     "data": {
      "text/plain": [
       "['spotify:track:5mjYQaktjmjcMKcUIcqz4s',\n",
       " 'spotify:track:5WZlorRUxgryaweu7kqeHd',\n",
       " 'spotify:track:34sOdxWu9FljH84UXdRwu1',\n",
       " 'spotify:track:3b5MPNYlX8ztJowxAwzTai',\n",
       " 'spotify:track:3rmqiQbzPDx7A8p88IRFKg',\n",
       " 'spotify:track:56v8WEnGzLByGsDAXDiv4d',\n",
       " 'spotify:track:12qq70vp6hMUikpAyeyDPc',\n",
       " 'spotify:track:3Nl5OkkmS5DaBZvuYofpAt',\n",
       " 'spotify:track:6iF4RgIjDvDqyW13PezSj3',\n",
       " 'spotify:track:39fD0qvjgk8RarJnoBiDTx',\n",
       " 'spotify:track:41WQUSINanQHfhfKpFDsms',\n",
       " 'spotify:track:3tNMdL4qjzNHfo7rlVMESK',\n",
       " 'spotify:track:6usohdchdzW9oML7VC4Uhk',\n",
       " 'spotify:track:7JLzv38qr5GxXYqQfuQJP9',\n",
       " 'spotify:track:1mFpMoeZfkIqtqW2AfQ8ba',\n",
       " 'spotify:track:79DPYZ6x8FfzgSgPoPhpC3',\n",
       " 'spotify:track:3IX0yuEVvDbnqUwMBB3ouC',\n",
       " 'spotify:track:65leXqfkdViSssEVN23uYL',\n",
       " 'spotify:track:1dh5DUke1yHJzIF3Sa7nXC',\n",
       " 'spotify:track:6bIJHwyaNb1txgOKbYh0rH',\n",
       " 'spotify:track:1exDZN0zsfDpsIKamOqmSz',\n",
       " 'spotify:track:2DtUUBwYwEzKMTMDrc5EiO',\n",
       " 'spotify:track:5h1BN75CEh8wdSwE1xrbSe',\n",
       " 'spotify:track:5aIVCx5tnk0ntmdiinnYvw',\n",
       " 'spotify:track:444vevlQjTnKioLLncteGv',\n",
       " 'spotify:track:0cVyQfDyRnMJ0V3rjjdlU3',\n",
       " 'spotify:track:2IGMVunIBsBLtEQyoI1Mu7',\n",
       " 'spotify:track:7KQejvX8GC4qMjB8vWSp2p',\n",
       " 'spotify:track:22dUzMFttcR3uU17NcOAIv',\n",
       " 'spotify:track:2GWCZJWundoYi5IloWIgTX',\n",
       " 'spotify:track:5sA3i6SGkILMiZW6Fhx4wv',\n",
       " 'spotify:track:6ErCfbbI9BG4bK2djjKUvP',\n",
       " 'spotify:track:2Zo1PcszsT9WQ0ANntJbID',\n",
       " 'spotify:track:0K2KKyyKoPaNTOUPxubHPN',\n",
       " 'spotify:track:1q4BCQssFe74UJmnWt5lov',\n",
       " 'spotify:track:6NdnvPwQvZb147DVa4x14h',\n",
       " 'spotify:track:0rzaRSujxA0bKyjJl6vHYq',\n",
       " 'spotify:track:3YgtkOxZsTuaZdL8McA1FQ',\n",
       " 'spotify:track:7mobUfp1aL8A6CdugCMWft',\n",
       " 'spotify:track:5VxmI3IdgAxWVvUnJoLuY2',\n",
       " 'spotify:track:7lvfYYQXH6fxP7JAiY1tjz',\n",
       " 'spotify:track:3WM3StDOsMAYaCjxymQeOy',\n",
       " 'spotify:track:2soZTM1x1GBiQGMAsXKXpd',\n",
       " 'spotify:track:3YfGTvsTAWGC2lgoDOikUz',\n",
       " 'spotify:track:1o8Z7GD1CeOaVBEyuzu4HO',\n",
       " 'spotify:track:1xemKSmCnH59ze3KX5wwgH',\n",
       " 'spotify:track:6zZWoHlF2zNSLUNLvx4GUl',\n",
       " 'spotify:track:4bp4kwe29qY9PBdrEgSa53',\n",
       " 'spotify:track:3P9pRL7V9yM9DhY6NGZjzA',\n",
       " 'spotify:track:7roB6h5rQPhFRK307eIQk6',\n",
       " 'spotify:track:1xaI8BC30DDf9RDQSWyonb',\n",
       " 'spotify:track:1HteYUSXKUMm6A8vdZid7p',\n",
       " 'spotify:track:6wf7Yu7cxBSPrRlWeSeK0Q',\n",
       " 'spotify:track:6Ky8ROf2VWY5vwoGfMet7x',\n",
       " 'spotify:track:6jYo2opycXJs1wj2jENEiq',\n",
       " 'spotify:track:7kaFsQygyiCqRboWCXztxZ',\n",
       " 'spotify:track:5OqMZ8In8CkCa0SbknnDPl',\n",
       " 'spotify:track:0YQ0N57Whq3vgF7bqUNDHs',\n",
       " 'spotify:track:51Zw1cKDgkad0CXv23HCMU',\n",
       " 'spotify:track:4uOBL4DDWWVx4RhYKlPbPC',\n",
       " 'spotify:track:3k0DJq2HdWJqnqor8NX0ac',\n",
       " 'spotify:track:4LHq10VKu3fSIg8EeVRi09',\n",
       " 'spotify:track:2Kqw2ECnErSCU9bxPSVgGx',\n",
       " 'spotify:track:0nNARbTLwzLGz51aUEZPnp',\n",
       " 'spotify:track:22VHOlVYBqytsrAqV8yXBK',\n",
       " 'spotify:track:7x9aauaA9cu6tyfpHnqDLo',\n",
       " 'spotify:track:07fbDnkKdZGk1gLvknxrns',\n",
       " 'spotify:track:5kHMfzgLZP95O9NBy0ku4v',\n",
       " 'spotify:track:3t0ic4mkhvhamrKDkulB8v',\n",
       " 'spotify:track:4IhsInWIIjUg9Q04eqgnGl',\n",
       " 'spotify:track:7r2DoJ1tzl12CJ3fbsmoUT',\n",
       " 'spotify:track:7vfCm8tEWV9lCpyY1nvJVB',\n",
       " 'spotify:track:1odExI7RdWc4BT515LTAwj',\n",
       " 'spotify:track:2ibGdhv3nTO89VN9KR7N2H',\n",
       " 'spotify:track:1BxfuPKGuaTgP7aM0Bbdwr',\n",
       " 'spotify:track:3DBJE1Zndql25OGUQSv7aD',\n",
       " 'spotify:track:6WzRpISELf3YglGAh7TXcG',\n",
       " 'spotify:track:56xb5xXdUopdjiknbFmC4W',\n",
       " 'spotify:track:0hIDcUm3mJEn4gNo2ocLM5',\n",
       " 'spotify:track:2NbsBSshscKIPRG3kwBbfo',\n",
       " 'spotify:track:7culXP38P58h83PXwLQqyg',\n",
       " 'spotify:track:4ztdjZ2t7BVo5DLIFQBdJh',\n",
       " 'spotify:track:1rBTBbtkJlSDk78gg8Dw9F',\n",
       " 'spotify:track:3ZEno9fORwMA1HPecdLi0R',\n",
       " 'spotify:track:2yjeXq5ahx6UUg2rHaUe6X']"
      ]
     },
     "execution_count": 12,
     "metadata": {},
     "output_type": "execute_result"
    }
   ],
   "source": [
    "track_uris_2"
   ]
  },
  {
   "cell_type": "code",
   "execution_count": 13,
   "id": "2f1dfb1c",
   "metadata": {
    "slideshow": {
     "slide_type": "slide"
    }
   },
   "outputs": [],
   "source": [
    "for track in sp.playlist_tracks(playlist_URI)[\"items\"]:\n",
    "    #URI\n",
    "    track_uri = track[\"track\"][\"uri\"]\n",
    "    \n",
    "    #Track name\n",
    "    track_name = track[\"track\"][\"name\"]\n",
    "    \n",
    "    #Main Artist\n",
    "    artist_uri = track[\"track\"][\"artists\"][0][\"uri\"]\n",
    "    artist_info = sp.artist(artist_uri)\n",
    "    \n",
    "    #Name, popularity, genre\n",
    "    artist_name = track[\"track\"][\"artists\"][0][\"name\"]\n",
    "    artist_pop = artist_info[\"popularity\"]\n",
    "    artist_genres = artist_info[\"genres\"]\n",
    "    \n",
    "    #Album\n",
    "    album = track[\"track\"][\"album\"][\"name\"]\n",
    "    \n",
    "    #Popularity of the track\n",
    "    track_pop = track[\"track\"][\"popularity\"]"
   ]
  },
  {
   "cell_type": "code",
   "execution_count": 14,
   "id": "272e6e91",
   "metadata": {
    "slideshow": {
     "slide_type": "slide"
    }
   },
   "outputs": [
    {
     "data": {
      "text/plain": [
       "'JVKE'"
      ]
     },
     "execution_count": 14,
     "metadata": {},
     "output_type": "execute_result"
    }
   ],
   "source": [
    "artist_name"
   ]
  },
  {
   "cell_type": "code",
   "execution_count": 15,
   "id": "a986e6e1",
   "metadata": {
    "slideshow": {
     "slide_type": "slide"
    }
   },
   "outputs": [
    {
     "data": {
      "text/plain": [
       "77"
      ]
     },
     "execution_count": 15,
     "metadata": {},
     "output_type": "execute_result"
    }
   ],
   "source": [
    "artist_pop"
   ]
  },
  {
   "cell_type": "code",
   "execution_count": 16,
   "id": "44a2653b",
   "metadata": {
    "slideshow": {
     "slide_type": "slide"
    }
   },
   "outputs": [
    {
     "data": {
      "text/plain": [
       "['modern indie pop', 'pov: indie', 'singer-songwriter pop']"
      ]
     },
     "execution_count": 16,
     "metadata": {},
     "output_type": "execute_result"
    }
   ],
   "source": [
    "artist_genres"
   ]
  },
  {
   "cell_type": "code",
   "execution_count": 17,
   "id": "2aa9ba76",
   "metadata": {
    "slideshow": {
     "slide_type": "slide"
    }
   },
   "outputs": [
    {
     "data": {
      "text/plain": [
       "{'danceability': 0.57,\n",
       " 'energy': 0.635,\n",
       " 'key': 1,\n",
       " 'loudness': -6.641,\n",
       " 'mode': 1,\n",
       " 'speechiness': 0.121,\n",
       " 'acousticness': 0.186,\n",
       " 'instrumentalness': 0,\n",
       " 'liveness': 0.0874,\n",
       " 'valence': 0.364,\n",
       " 'tempo': 84.856,\n",
       " 'type': 'audio_features',\n",
       " 'id': '2yjeXq5ahx6UUg2rHaUe6X',\n",
       " 'uri': 'spotify:track:2yjeXq5ahx6UUg2rHaUe6X',\n",
       " 'track_href': 'https://api.spotify.com/v1/tracks/2yjeXq5ahx6UUg2rHaUe6X',\n",
       " 'analysis_url': 'https://api.spotify.com/v1/audio-analysis/2yjeXq5ahx6UUg2rHaUe6X',\n",
       " 'duration_ms': 176455,\n",
       " 'time_signature': 4}"
      ]
     },
     "execution_count": 17,
     "metadata": {},
     "output_type": "execute_result"
    }
   ],
   "source": [
    "sp.audio_features(track_uri)[0]"
   ]
  },
  {
   "cell_type": "code",
   "execution_count": 18,
   "id": "5f933436",
   "metadata": {
    "slideshow": {
     "slide_type": "slide"
    }
   },
   "outputs": [
    {
     "name": "stderr",
     "output_type": "stream",
     "text": [
      "2023-09-14 20:13:12.292 \n",
      "  \u001b[33m\u001b[1mWarning:\u001b[0m to view this Streamlit app on a browser, run it with the following\n",
      "  command:\n",
      "\n",
      "    streamlit run C:\\Users\\zirav\\AppData\\Local\\Programs\\Python\\Python310\\lib\\site-packages\\ipykernel_launcher.py [ARGUMENTS]\n"
     ]
    },
    {
     "data": {
      "text/plain": [
       "DeltaGenerator()"
      ]
     },
     "execution_count": 18,
     "metadata": {},
     "output_type": "execute_result"
    }
   ],
   "source": [
    "# using Streamlit to create a simple UI that allows users to input a Spotify playlist name \n",
    "# and displays various analyses of the playlist\n",
    "\n",
    "import streamlit as st\n",
    "\n",
    "#run C:\\Users\\zirav\\AppData\\Local\\Programs\\Python\\Python310\\lib\\site-packages\\ipykernel_launcher.py\n",
    "\n",
    "st.title(\"SpotifyPlaylist\")"
   ]
  },
  {
   "cell_type": "code",
   "execution_count": 35,
   "id": "a4998453",
   "metadata": {
    "slideshow": {
     "slide_type": "slide"
    }
   },
   "outputs": [],
   "source": [
    "# Adding User Input with Streamlit\n",
    "playlist_name = st.sidebar.text_input(\"spotify:playlist:37i9dQZEVXbNG2KDcFcKOF\")\n"
   ]
  },
  {
   "cell_type": "code",
   "execution_count": 36,
   "id": "47b502d2",
   "metadata": {
    "slideshow": {
     "slide_type": "slide"
    }
   },
   "outputs": [],
   "source": [
    "# Retrieving Data from the Spotify API\n",
    "\n",
    "if playlist_name:\n",
    "    playlists = sp.search(playlist_name, type=\"playlist\")[\"playlists\"][\"items\"]\n",
    "    if playlists:\n",
    "        playlist_id = playlists[0][\"id\"]\n",
    "    else:\n",
    "        st.write(\"No playlists found with that name.\")\n",
    "        playlist_id = None\n",
    "else:\n",
    "    playlist_id = None"
   ]
  },
  {
   "cell_type": "code",
   "execution_count": 30,
   "id": "dd7a2614",
   "metadata": {
    "slideshow": {
     "slide_type": "slide"
    }
   },
   "outputs": [
    {
     "name": "stdout",
     "output_type": "stream",
     "text": [
      "None\n"
     ]
    }
   ],
   "source": [
    "print(playlist_id)"
   ]
  },
  {
   "cell_type": "code",
   "execution_count": 31,
   "id": "7e54c083",
   "metadata": {
    "slideshow": {
     "slide_type": "slide"
    }
   },
   "outputs": [
    {
     "data": {
      "text/plain": [
       "[]"
      ]
     },
     "execution_count": 31,
     "metadata": {},
     "output_type": "execute_result"
    }
   ],
   "source": [
    "track_names = []\n",
    "track_artists = []\n",
    "track_popularity = []\n",
    "track_duration = []\n",
    "track_album = []\n",
    "track_release_date = []\n",
    "\n",
    "if playlist_id:\n",
    "    playlist = sp.playlist(playlist_id)\n",
    "    tracks = playlist[\"tracks\"][\"items\"]\n",
    "    \n",
    "    for track in tracks:\n",
    "        track_names = [track[\"track\"][\"name\"]]\n",
    "        track_artists = [\", \".join([artist[\"name\"] for artist in track[\"track\"][\"artists\"]])]\n",
    "        track_popularity = [track[\"track\"][\"popularity\"]]\n",
    "        track_duration = [track[\"track\"][\"duration_ms\"]]\n",
    "        track_album = [track[\"track\"][\"album\"][\"name\"]]\n",
    "        track_release_date = [track[\"track\"][\"album\"][\"release_date\"]]\n",
    "        st.write(f\"## {playlist['name']}\")\n",
    "        st.write(f\"**Description:** {playlist['description']}\")\n",
    "        st.write(f\"**Number of tracks:** {len(tracks)}\")\n",
    "        st.write(\"\")\n",
    "        st.write(\"### Tracklist\")\n",
    "        st.write(\"| Name | Artist | Album | Release Date | Popularity | Duration (ms) |\")\n",
    "        st.write(\"| ---- | ------ | ----- | ------------ | ---------- | -------------- |\")\n",
    "        \n",
    "        for i in range(len(tracks)):\n",
    "            st.write(f\"| {track_names[i]} | {track_artists[i]} | {track_album[i]} | {track_release_date[i]} | {track_popularity[i]} | {track_duration[i]} |\")\n",
    "\n",
    "track_names\n",
    "track_artists\n",
    "track_popularity\n",
    "track_duration\n",
    "track_album\n",
    "track_release_date"
   ]
  },
  {
   "cell_type": "code",
   "execution_count": 32,
   "id": "72030aa4",
   "metadata": {
    "slideshow": {
     "slide_type": "slide"
    }
   },
   "outputs": [],
   "source": [
    "# DataFrame From The Playlist Data\n",
    "\n",
    "data = {\"Name\": track_names, \"Artist\": track_artists, \"Album\": track_album, \"Release Date\": track_release_date, \"Popularity\": track_popularity, \"Duration (ms)\": track_duration}\n",
    "df = pd.DataFrame(data)"
   ]
  },
  {
   "cell_type": "code",
   "execution_count": 175,
   "id": "fff9364a",
   "metadata": {
    "slideshow": {
     "slide_type": "slide"
    }
   },
   "outputs": [
    {
     "data": {
      "text/html": [
       "<div>\n",
       "<style scoped>\n",
       "    .dataframe tbody tr th:only-of-type {\n",
       "        vertical-align: middle;\n",
       "    }\n",
       "\n",
       "    .dataframe tbody tr th {\n",
       "        vertical-align: top;\n",
       "    }\n",
       "\n",
       "    .dataframe thead th {\n",
       "        text-align: right;\n",
       "    }\n",
       "</style>\n",
       "<table border=\"1\" class=\"dataframe\">\n",
       "  <thead>\n",
       "    <tr style=\"text-align: right;\">\n",
       "      <th></th>\n",
       "      <th>Name</th>\n",
       "      <th>Artist</th>\n",
       "      <th>Album</th>\n",
       "      <th>Release Date</th>\n",
       "      <th>Popularity</th>\n",
       "      <th>Duration (ms)</th>\n",
       "    </tr>\n",
       "  </thead>\n",
       "  <tbody>\n",
       "  </tbody>\n",
       "</table>\n",
       "</div>"
      ],
      "text/plain": [
       "Empty DataFrame\n",
       "Columns: [Name, Artist, Album, Release Date, Popularity, Duration (ms)]\n",
       "Index: []"
      ]
     },
     "execution_count": 175,
     "metadata": {},
     "output_type": "execute_result"
    }
   ],
   "source": [
    "df"
   ]
  }
 ],
 "metadata": {
  "celltoolbar": "Slideshow",
  "kernelspec": {
   "display_name": "Python 3 (ipykernel)",
   "language": "python",
   "name": "python3"
  },
  "language_info": {
   "codemirror_mode": {
    "name": "ipython",
    "version": 3
   },
   "file_extension": ".py",
   "mimetype": "text/x-python",
   "name": "python",
   "nbconvert_exporter": "python",
   "pygments_lexer": "ipython3",
   "version": "3.10.7"
  }
 },
 "nbformat": 4,
 "nbformat_minor": 5
}
