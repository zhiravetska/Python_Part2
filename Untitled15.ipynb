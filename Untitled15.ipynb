{
 "cells": [
  {
   "cell_type": "markdown",
   "id": "e9eef337",
   "metadata": {},
   "source": [
    "HW_2108. \n",
    "Matrix multiplication"
   ]
  },
  {
   "cell_type": "code",
   "execution_count": 2,
   "id": "84e21c19",
   "metadata": {},
   "outputs": [
    {
     "name": "stdout",
     "output_type": "stream",
     "text": [
      "[14, 32, 50]\n",
      "[32, 77, 122]\n",
      "[50, 122, 194]\n"
     ]
    }
   ],
   "source": [
    "def matrix_multiplication(matrix_A, matrix_B):\n",
    "    rows_A = len(matrix_A)\n",
    "    cols_A = len(matrix_A[0])\n",
    "    cols_B = len(matrix_B[0])\n",
    "    \n",
    "    result_matrix = [[0 for _ in range(cols_B)] for _ in range(rows_A)]\n",
    "    \n",
    "    for i in range(rows_A):\n",
    "        for j in range(cols_B):\n",
    "            for k in range(cols_A):\n",
    "                result_matrix[i][j] += matrix_A[i][k] * matrix_B[k][j]\n",
    "    \n",
    "    return result_matrix\n",
    "\n",
    "matrix_A = [\n",
    "    [1, 2, 3],\n",
    "    [4, 5, 6],\n",
    "    [7, 8, 9]]\n",
    "\n",
    "matrix_B = [\n",
    "    [1, 4, 7],\n",
    "    [2, 5, 8],\n",
    "    [3, 6, 9]]\n",
    "\n",
    "par_result_matrix = matrix_multiplication(matrix_A, matrix_B)\n",
    "\n",
    "for row in par_result_matrix:\n",
    "    print(row)"
   ]
  },
  {
   "cell_type": "code",
   "execution_count": null,
   "id": "47914d7f",
   "metadata": {},
   "outputs": [],
   "source": [
    "import concurrent.futures\n",
    "import multiprocessing\n",
    "\n",
    "def matrix_multiplication(matrix_A, matrix_B):\n",
    "    rows_A = len(matrix_A)\n",
    "    cols_A = len(matrix_A[0])\n",
    "    cols_B = len(matrix_B[0])\n",
    "    \n",
    "    result_matrix = [[0 for _ in range(cols_B)] for _ in range(rows_A)]\n",
    "    \n",
    "    for i in range(rows_A):\n",
    "        for j in range(cols_B):\n",
    "            for k in range(cols_A):\n",
    "                result_matrix[i][j] += matrix_A[i][k] * matrix_B[k][j]\n",
    "    \n",
    "    return result_matrix"
   ]
  },
  {
   "cell_type": "code",
   "execution_count": null,
   "id": "24b8aa88",
   "metadata": {},
   "outputs": [],
   "source": [
    "matrix_A = [\n",
    "    [1, 2, 3],\n",
    "    [4, 5, 6],\n",
    "    [7, 8, 9]\n",
    "]\n",
    "\n",
    "matrix_B = [\n",
    "    [1, 4, 7],\n",
    "    [2, 5, 8],\n",
    "    [3, 6, 9]\n",
    "]\n",
    "\n",
    "with multiprocessing.Pool() as pool:\n",
    "    results = pool.map(matrix_multiplication, matrix_A, matrix_B)\n",
    "\n",
    "par_result_matrix = matrix_multiplication(matrix_A, matrix_B)\n",
    "\n",
    "for row in par_result_matrix:\n",
    "    print(row)"
   ]
  }
 ],
 "metadata": {
  "kernelspec": {
   "display_name": "Python 3 (ipykernel)",
   "language": "python",
   "name": "python3"
  },
  "language_info": {
   "codemirror_mode": {
    "name": "ipython",
    "version": 3
   },
   "file_extension": ".py",
   "mimetype": "text/x-python",
   "name": "python",
   "nbconvert_exporter": "python",
   "pygments_lexer": "ipython3",
   "version": "3.10.7"
  }
 },
 "nbformat": 4,
 "nbformat_minor": 5
}
