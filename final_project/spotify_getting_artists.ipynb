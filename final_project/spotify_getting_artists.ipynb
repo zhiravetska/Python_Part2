{
 "cells": [
  {
   "cell_type": "markdown",
   "id": "86a23f61",
   "metadata": {},
   "source": [
    "# SPOTIFY"
   ]
  },
  {
   "cell_type": "markdown",
   "id": "07e61ca9",
   "metadata": {},
   "source": [
    "## Extracting TOP 50 GLOBAL songs data from Spotify playlist: https://open.spotify.com/playlist/37i9dQZEVXbNG2KDcFcKOF"
   ]
  },
  {
   "cell_type": "markdown",
   "id": "463006be",
   "metadata": {},
   "source": [
    "#### Importing libraries"
   ]
  },
  {
   "cell_type": "code",
   "execution_count": 3,
   "id": "543c733b",
   "metadata": {},
   "outputs": [],
   "source": [
    "import spotipy\n",
    "from spotipy.oauth2 import SpotifyOAuth \n",
    "from spotipy.oauth2 import SpotifyClientCredentials\n",
    "import pandas as pd\n",
    "from getpass import getpass"
   ]
  },
  {
   "cell_type": "markdown",
   "id": "e7896084",
   "metadata": {},
   "source": [
    "#### Client authentication"
   ]
  },
  {
   "cell_type": "code",
   "execution_count": 4,
   "id": "5d6bfa56",
   "metadata": {},
   "outputs": [
    {
     "name": "stdout",
     "output_type": "stream",
     "text": [
      "Client ID: ········\n",
      "Client Secret: ········\n"
     ]
    }
   ],
   "source": [
    "cid = getpass(\"Client ID: \")\n",
    "secret = getpass(\"Client Secret: \")"
   ]
  },
  {
   "cell_type": "markdown",
   "id": "36348094",
   "metadata": {},
   "source": [
    "#### Connection to Spotify API"
   ]
  },
  {
   "cell_type": "code",
   "execution_count": 14,
   "id": "70d12c43",
   "metadata": {},
   "outputs": [],
   "source": [
    "client_credentials_manager = SpotifyClientCredentials(client_id=cid, client_secret=secret)\n",
    "sp = spotipy.Spotify(client_credentials_manager = client_credentials_manager)"
   ]
  },
  {
   "cell_type": "code",
   "execution_count": 54,
   "id": "0940e3e4",
   "metadata": {},
   "outputs": [],
   "source": [
    "playlist_link = \"https://open.spotify.com/playlist/37i9dQZEVXbNG2KDcFcKOF\"\n",
    "playlist_URI = playlist_link.split(\"/\")[-1].split(\"?\")[0]\n",
    "track_uris = [x[\"track\"][\"uri\"] for x in sp.playlist_tracks(playlist_URI)[\"items\"]]"
   ]
  },
  {
   "cell_type": "markdown",
   "id": "bf949221",
   "metadata": {},
   "source": [
    "#### Extracting songs data"
   ]
  },
  {
   "cell_type": "code",
   "execution_count": 55,
   "id": "8c943a60",
   "metadata": {},
   "outputs": [],
   "source": [
    "trackuri = []\n",
    "tname = []\n",
    "artisturi = []\n",
    "artistinfo = []\n",
    "artname = []\n",
    "artpop = []\n",
    "artgenres = []\n",
    "albumname = []\n",
    "tpop = []\n",
    "acoustic = []\n",
    "dance = []\n",
    "energy = []\n",
    "instrumental = []\n",
    "liveness = []\n",
    "loudness = []\n",
    "speech = []\n",
    "tempo = []\n",
    "valence = []\n",
    "popularity = []\n",
    "duration = []"
   ]
  },
  {
   "cell_type": "code",
   "execution_count": 56,
   "id": "98f5f9de",
   "metadata": {},
   "outputs": [],
   "source": [
    "for track in sp.playlist_tracks(playlist_URI)[\"items\"]:\n",
    "    trackuri.append(track[\"track\"][\"uri\"])\n",
    "    tname.append(track[\"track\"][\"name\"])\n",
    "    artisturi.append(track[\"track\"][\"artists\"][0][\"uri\"])\n",
    "    artistinfo.append(sp.artist(artist_uri))\n",
    "    artname.append(track[\"track\"][\"artists\"][0][\"name\"])\n",
    "    artpop.append(artist_info[\"popularity\"])\n",
    "    artgenres.append(artist_info[\"genres\"])\n",
    "    albumname.append(track[\"track\"][\"album\"][\"name\"])    "
   ]
  },
  {
   "cell_type": "code",
   "execution_count": 57,
   "id": "0771e1b8",
   "metadata": {},
   "outputs": [],
   "source": [
    "for i in track_uris:\n",
    "    feat = sp.audio_features(i)[0]\n",
    "    acoustic.append(feat['acousticness'])\n",
    "    dance.append(feat['danceability'])\n",
    "    energy.append(feat['energy'])\n",
    "    speech.append(feat['speechiness'])\n",
    "    instrumental.append(feat['instrumentalness'])\n",
    "    loudness.append(feat['loudness'])\n",
    "    tempo.append(feat['tempo'])\n",
    "    liveness.append(feat['liveness'])\n",
    "    valence.append(feat['valence'])\n",
    "    popu = sp.track(i)\n",
    "    popularity.append(popu['popularity'])\n",
    "    duration.append(feat['duration_ms'])"
   ]
  },
  {
   "cell_type": "code",
   "execution_count": 64,
   "id": "ca7f4f4c",
   "metadata": {},
   "outputs": [],
   "source": [
    "spotify_songs_data = {\n",
    "        \"track_name\": tname,\n",
    "        \"track_URI\": trackuri,\n",
    "        \"artist_name\": artname,\n",
    "        \"artist_info\": artistinfo,\n",
    "        \"artist_pop\": artpop, \n",
    "        \"artist_URI\": artisturi, \n",
    "        \"genres\": artgenres,\n",
    "        \"album\": albumname,\n",
    "        \"dance\":dance,\n",
    "        \"acoustic\":acoustic,\n",
    "        \"energy\":energy,\n",
    "        \"instrumental\":instrumental,\n",
    "        \"liveness\":liveness,\n",
    "        \"loudness\":loudness,\n",
    "        \"speech\":speech,\n",
    "        \"tempo\":tempo,\n",
    "        \"valence\":valence,\n",
    "        \"track_popularity\":popularity,\n",
    "        \"duration_ms\":duration,\n",
    "       }"
   ]
  },
  {
   "cell_type": "code",
   "execution_count": 65,
   "id": "199fbe80",
   "metadata": {},
   "outputs": [],
   "source": [
    "spotify_songs_data_df = pd.DataFrame(spotify_songs_data)"
   ]
  },
  {
   "cell_type": "markdown",
   "id": "5c17e5b3",
   "metadata": {},
   "source": [
    "#### List of the unique artists"
   ]
  },
  {
   "cell_type": "code",
   "execution_count": 66,
   "id": "9ae439b4",
   "metadata": {},
   "outputs": [],
   "source": [
    "artists_names = spotify_songs_data_df['artist_name'].unique()"
   ]
  },
  {
   "cell_type": "code",
   "execution_count": 102,
   "id": "6116a6e6",
   "metadata": {},
   "outputs": [
    {
     "data": {
      "text/plain": [
       "array(['Doja Cat', 'Jung Kook', 'Olivia Rodrigo', 'Taylor Swift',\n",
       "       'KAROL G', 'Myke Towers', 'Dua Lipa', 'Billie Eilish', 'Quevedo',\n",
       "       'V', 'Gunna', 'David Kushner', 'Peso Pluma', 'Dave',\n",
       "       'Arctic Monkeys', 'Harry Styles', 'SZA', 'Miley Cyrus',\n",
       "       'Kenya Grace', 'Zach Bryan', 'Calle 24', 'NewJeans', 'Feid',\n",
       "       'Bad Bunny', 'cassö', 'Yng Lvcas', 'Anirudh Ravichander',\n",
       "       'Nicki Minaj', 'Carin Leon', 'The Weeknd', 'Jhayco',\n",
       "       'Jasleen Royal', 'Peggy Gou', 'Grupo Frontera'], dtype=object)"
      ]
     },
     "execution_count": 102,
     "metadata": {},
     "output_type": "execute_result"
    }
   ],
   "source": [
    "artists_names"
   ]
  },
  {
   "cell_type": "markdown",
   "id": "f379c450",
   "metadata": {},
   "source": [
    "#### List of the tracks in the playlist"
   ]
  },
  {
   "cell_type": "code",
   "execution_count": 72,
   "id": "f1936e13",
   "metadata": {},
   "outputs": [],
   "source": [
    "tracks_names = spotify_songs_data_df['track_name'].tolist()"
   ]
  },
  {
   "cell_type": "markdown",
   "id": "43fa15be",
   "metadata": {},
   "source": [
    "# SHAZAM API"
   ]
  },
  {
   "cell_type": "markdown",
   "id": "83f19adc",
   "metadata": {},
   "source": [
    "## Extracting data of the each song from the Spotify playlist"
   ]
  },
  {
   "cell_type": "markdown",
   "id": "b6a1ea41",
   "metadata": {},
   "source": [
    "#### Importing libraries"
   ]
  },
  {
   "cell_type": "code",
   "execution_count": 73,
   "id": "d31018d1",
   "metadata": {},
   "outputs": [],
   "source": [
    "import requests"
   ]
  },
  {
   "cell_type": "code",
   "execution_count": 74,
   "id": "61040396",
   "metadata": {},
   "outputs": [
    {
     "name": "stdout",
     "output_type": "stream",
     "text": [
      "Enter your X-RapidAPI-Key: ········\n"
     ]
    }
   ],
   "source": [
    "url_search = \"https://shazam.p.rapidapi.com/search\"\n",
    "url_get_count = \"https://shazam.p.rapidapi.com/songs/get-count\"\n",
    "\n",
    "headers = {\n",
    "\t\"X-RapidAPI-Key\": getpass(\"Enter your X-RapidAPI-Key: \"),\n",
    "\t\"X-RapidAPI-Host\": \"shazam.p.rapidapi.com\"\n",
    "}\n",
    "\n",
    "total_shazamed = []\n",
    "\n",
    "for song in tracks_names:\n",
    "    querystring = {\"term\":song,\"locale\":\"en-US\",\"offset\":\"0\",\"limit\":\"1\"}\n",
    "    song_response = requests.get(url_search, headers=headers, params=querystring).json()\n",
    "    song_key = song_response['tracks']['hits'][0]['track']['key']\n",
    "    \n",
    "    querystring2 = {\"key\":song_key}\n",
    "    song_key_response = requests.get(url_get_count, headers=headers, params=querystring2).json()\n",
    "    song_total_detect = song_key_response['total']\n",
    "    total_shazamed.append(song_total_detect)"
   ]
  },
  {
   "cell_type": "markdown",
   "id": "29d9bf82",
   "metadata": {},
   "source": [
    "#### Updating spotify_songs_data_df dataframe with count of shazams"
   ]
  },
  {
   "cell_type": "code",
   "execution_count": 76,
   "id": "7614e00c",
   "metadata": {},
   "outputs": [],
   "source": [
    "spotify_songs_data_df['total_shazamed_count'] = total_shazamed"
   ]
  },
  {
   "cell_type": "markdown",
   "id": "871abb6c",
   "metadata": {},
   "source": [
    "# Scraping Instagram"
   ]
  },
  {
   "cell_type": "markdown",
   "id": "1a55a6ab",
   "metadata": {},
   "source": [
    "## Scraping Instagram website to get usernames of the artists by their names"
   ]
  },
  {
   "cell_type": "markdown",
   "id": "098a91d0",
   "metadata": {},
   "source": [
    "#### Importing libraries"
   ]
  },
  {
   "cell_type": "code",
   "execution_count": 99,
   "id": "e01a0a3b",
   "metadata": {},
   "outputs": [],
   "source": [
    "from selenium import webdriver\n",
    "from selenium.webdriver.common.keys import Keys\n",
    "from selenium.webdriver.common.by import By\n",
    "import time, urllib.request"
   ]
  },
  {
   "cell_type": "markdown",
   "id": "6e596315",
   "metadata": {},
   "source": [
    "#### Login details for Instagram"
   ]
  },
  {
   "cell_type": "code",
   "execution_count": null,
   "id": "f0b75f7a",
   "metadata": {},
   "outputs": [],
   "source": [
    "instagram_username = getpass(\"Please enter you Instagram username: \")\n",
    "instagram_password = getpass(\"Please enter you Instagram password: \")\n",
    "instagram_cookies_file = getpass(\"Please enter your Instagram cookies file: \")\n",
    "session_id = getpass(\"Please enter you Instagram sessionID: \")\n",
    "csrftoken = getpass(\"Please enter you Instagram csrftoken: \")"
   ]
  },
  {
   "cell_type": "markdown",
   "id": "d429f17e",
   "metadata": {},
   "source": [
    "#### Opening Instagram website"
   ]
  },
  {
   "cell_type": "code",
   "execution_count": null,
   "id": "a8430866",
   "metadata": {},
   "outputs": [],
   "source": [
    "chrome_options = webdriver.ChromeOptions()\n",
    "driver = webdriver.Chrome(options=chrome_options)\n",
    "driver.get(\"https://www.instagram.com/\")"
   ]
  },
  {
   "cell_type": "markdown",
   "id": "1ec4d827",
   "metadata": {},
   "source": [
    "#### Disabling cookies"
   ]
  },
  {
   "cell_type": "code",
   "execution_count": null,
   "id": "5ccd1bb0",
   "metadata": {},
   "outputs": [],
   "source": [
    "time.sleep(5)\n",
    "\n",
    "cookies_allowance = driver.find_element(By.CSS_SELECTOR,\"button[class='_a9-- _a9_0']\").click()"
   ]
  },
  {
   "cell_type": "markdown",
   "id": "4e936949",
   "metadata": {},
   "source": [
    "#### Login to Instagram website"
   ]
  },
  {
   "cell_type": "code",
   "execution_count": null,
   "id": "150585e1",
   "metadata": {},
   "outputs": [],
   "source": [
    "time.sleep(5)\n",
    "\n",
    "scrape_instagram_username=driver.find_element(By.CSS_SELECTOR,\"input[name='username']\")\n",
    "scrape_instagram_password=driver.find_element(By.CSS_SELECTOR,\"input[name='password']\")\n",
    "scrape_instagram_username.clear()\n",
    "scrape_instagram_password.clear()\n",
    "scrape_instagram_username.send_keys(instagram_username)\n",
    "scrape_instagram_password.send_keys(instagram_password)\n",
    "login = driver.find_element(By.CSS_SELECTOR,\"button[type='submit']\").click()"
   ]
  },
  {
   "cell_type": "markdown",
   "id": "07d86a65",
   "metadata": {},
   "source": [
    "#### Avoiding to save login info"
   ]
  },
  {
   "cell_type": "code",
   "execution_count": null,
   "id": "d923da63",
   "metadata": {},
   "outputs": [],
   "source": [
    "time.sleep(10)\n",
    "\n",
    "notnow = driver.find_element(By.XPATH,\"/html/body/div[2]/div/div/div[2]/div/div/div/div[1]/div[1]/div[2]/section/main/div/div/div/div/div\").click()"
   ]
  },
  {
   "cell_type": "markdown",
   "id": "1b15b8ba",
   "metadata": {},
   "source": [
    "#### Turn off notifications"
   ]
  },
  {
   "cell_type": "code",
   "execution_count": null,
   "id": "8089a801",
   "metadata": {},
   "outputs": [],
   "source": [
    "time.sleep(10)\n",
    "\n",
    "notnow2 = driver.find_element(By.XPATH,\"/html/body/div[3]/div[1]/div/div[2]/div/div/div/div/div[2]/div/div/div[3]/button[2]\").click()"
   ]
  },
  {
   "cell_type": "markdown",
   "id": "766d151f",
   "metadata": {},
   "source": [
    "#### Defining scraping functions "
   ]
  },
  {
   "cell_type": "code",
   "execution_count": null,
   "id": "a87b395f",
   "metadata": {},
   "outputs": [],
   "source": [
    "def click_search_field():\n",
    "    driver.find_element(By.XPATH,\"/html/body/div[2]/div/div/div[2]/div/div/div/div[1]/div[1]/div[1]/div/div/div/div/div[2]/div[2]/span\").click()"
   ]
  },
  {
   "cell_type": "code",
   "execution_count": null,
   "id": "8c3ca2f0",
   "metadata": {},
   "outputs": [],
   "source": [
    "def click_searchbox():\n",
    "    driver.find_element(By.CSS_SELECTOR,\"input[placeholder='Search']\")"
   ]
  },
  {
   "cell_type": "code",
   "execution_count": null,
   "id": "f2af2fdb",
   "metadata": {},
   "outputs": [],
   "source": [
    "def get_artist_username(name):\n",
    "    time.sleep(5)\n",
    "    \n",
    "#     try:\n",
    "    verified = driver.find_element(By.XPATH,\"/html/body/div[2]/div/div/div[2]/div/div/div/div[1]/div[1]/div[1]/div/div/div[2]/div/div/div[2]/div[2]/div/div[1]/a/div/div/div/div[2]/div/div/div/div\")\n",
    "#     except:\n",
    "#         verified = driver.find_element(By.XPATH,\"/html/body/div[2]/div/div/div[2]/div/div/div/div[1]/div[1]/div[1]/div/div/div[2]/div/div/div[2]/div[2]/div/div[1]/a/div/div/div/div[2]/div/div/div/div\")\n",
    "    \n",
    "    artist_page = driver.find_element(By.XPATH,\"/html/body/div[2]/div/div/div[2]/div/div/div/div[1]/div[1]/div[1]/div/div/div[2]/div/div/div[2]/div[2]/div/div[1]/a/div\").click()\n",
    "    \n",
    "    time.sleep(10)\n",
    "    \n",
    "    try:\n",
    "        username = driver.find_element(By.XPATH,\"/html/body/div[2]/div/div/div[2]/div/div/div/div[1]/div[1]/div[2]/div[2]/section/main/div/header/section/div[1]/a/h2\").text\n",
    "    except:\n",
    "        username = driver.find_element(By.XPATH,\"/html/body/div[2]/div/div/div[2]/div/div/div/div[1]/div[1]/div[2]/div[2]/section/main/div/header/section/div[1]/a/h1\").text\n",
    "\n",
    "    instagram_data.append({\n",
    "        \"artist_name\" : name, \n",
    "        \"instagram_username\" : username, \n",
    "    })\n",
    "\n",
    "    click_search_field()"
   ]
  },
  {
   "cell_type": "markdown",
   "id": "92313276",
   "metadata": {},
   "source": [
    "#### Scraping instagram website for users usernames"
   ]
  },
  {
   "cell_type": "code",
   "execution_count": null,
   "id": "b911268d",
   "metadata": {},
   "outputs": [],
   "source": [
    "instagram_artists_data = []"
   ]
  },
  {
   "cell_type": "code",
   "execution_count": null,
   "id": "e6d51320",
   "metadata": {},
   "outputs": [],
   "source": [
    "for artist in artists_names:\n",
    "    time.sleep(5)\n",
    "    \n",
    "    click_search_field()\n",
    "    \n",
    "    time.sleep(5)\n",
    "    \n",
    "    try:\n",
    "        searchbox = click_searchbox()\n",
    "    except:\n",
    "        click_search_field()\n",
    "        searchbox = click_searchbox()    \n",
    "        \n",
    "    searchbox.send_keys(artist)\n",
    "    \n",
    "    time.sleep(5)\n",
    "    \n",
    "    not_personalized = driver.find_element(By.XPATH,\"/html/body/div[2]/div/div/div[2]/div/div/div/div[1]/div[1]/div[1]/div/div/div[2]/div/div/div[2]/div[1]/div[2]/div/div[2]\").click()\n",
    "\n",
    "    try:\n",
    "        try:\n",
    "            get_artist_username(artist)\n",
    "        except:            \n",
    "            personalized = driver.find_element(By.XPATH,\"/html/body/div[2]/div/div/div[2]/div/div/div/div[1]/div[1]/div[1]/div/div/div[2]/div/div/div[2]/div[1]/div[2]/div/div[1]\").click()\n",
    "            get_artist_username(artist)       \n",
    "    except:\n",
    "        instagram_artists_data.append({\"artist_name\" : artist, \"instagram_username\" : None})\n",
    "        click_search_field()"
   ]
  },
  {
   "cell_type": "markdown",
   "id": "1a4613b6",
   "metadata": {},
   "source": [
    "#### Exporting artists usernames from Instagram to dataframe"
   ]
  },
  {
   "cell_type": "code",
   "execution_count": null,
   "id": "4deda1e6",
   "metadata": {},
   "outputs": [],
   "source": [
    "instagram_artists_usernames_df = pd.DataFrame(instagram_artists_data)"
   ]
  },
  {
   "cell_type": "markdown",
   "id": "baee816b",
   "metadata": {},
   "source": [
    "#### Exporting datafram to CSV file"
   ]
  },
  {
   "cell_type": "code",
   "execution_count": null,
   "id": "0fb575e4",
   "metadata": {},
   "outputs": [],
   "source": [
    "instagram_artists_usernames_csv = instagram_artists_usernames_df.to_csv('instagram_artists_usernames.csv',index=False)"
   ]
  },
  {
   "cell_type": "markdown",
   "id": "72afea09",
   "metadata": {},
   "source": [
    "#### Reading CSV file to dataframe"
   ]
  },
  {
   "cell_type": "code",
   "execution_count": null,
   "id": "58f9c1f9",
   "metadata": {},
   "outputs": [],
   "source": [
    "artists_df = pd.read_csv ('instagram_artists_usernames.csv')"
   ]
  },
  {
   "cell_type": "markdown",
   "id": "11ad0264",
   "metadata": {},
   "source": [
    "# INSTAGRAM API"
   ]
  },
  {
   "cell_type": "markdown",
   "id": "3e67793d",
   "metadata": {},
   "source": [
    "## Extracting artists data from Instagram "
   ]
  },
  {
   "cell_type": "markdown",
   "id": "b4006982",
   "metadata": {},
   "source": [
    "#### Importing libraries"
   ]
  },
  {
   "cell_type": "code",
   "execution_count": null,
   "id": "a934ec97",
   "metadata": {},
   "outputs": [],
   "source": [
    "import instaloader"
   ]
  },
  {
   "cell_type": "markdown",
   "id": "1d7f4e3f",
   "metadata": {},
   "source": [
    "#### Creating connection to API"
   ]
  },
  {
   "cell_type": "code",
   "execution_count": null,
   "id": "1c8b51f1",
   "metadata": {},
   "outputs": [],
   "source": [
    "L = instaloader.Instaloader()"
   ]
  },
  {
   "cell_type": "code",
   "execution_count": null,
   "id": "2c1ce01a",
   "metadata": {},
   "outputs": [],
   "source": [
    "try:\n",
    "    L.load_session_from_file(instagram_username, instagram_cookies_file)\n",
    "    L.get_stories()\n",
    "except:\n",
    "    try:\n",
    "        L.login(instagram_username, instagram_password)\n",
    "    except:\n",
    "        L.load_session(instagram_username, {\"sessionid\": session_id, \"csrftoken\": csrftoken})\n",
    "        L.get_stories()\n",
    "L.save_session_to_file(instagram_cookies_file)"
   ]
  },
  {
   "cell_type": "markdown",
   "id": "7fc8d989",
   "metadata": {},
   "source": [
    "#### Extracting artists data from Instagram API"
   ]
  },
  {
   "cell_type": "code",
   "execution_count": 103,
   "id": "c26b3d9c",
   "metadata": {},
   "outputs": [],
   "source": [
    "user_id = []\n",
    "followers_count = []\n",
    "following_count = []\n",
    "number_of_posts = []\n",
    "biography = []\n",
    "external_url = []  \n",
    "artist_followers = {}\n",
    "artist_followees = {}"
   ]
  },
  {
   "cell_type": "code",
   "execution_count": null,
   "id": "bc2b2ecb",
   "metadata": {},
   "outputs": [],
   "source": [
    "for i in range(len(artists_df)):\n",
    "    try:\n",
    "        # Loading a profile from an Instagram handle\n",
    "        artist_username = artists_df[\"instagram_username\"][i]\n",
    "        profile = instaloader.Profile.from_username(L.context, artist_username)\n",
    "        \n",
    "        # Retrieving main info of the artists\n",
    "        user_id.append(profile.userid) \n",
    "        followers_count.append(profile.followers)\n",
    "        following_count.append(profile.followees)\n",
    "        number_of_posts.append(profile.mediacount)\n",
    "        biography.append(profile.biography)\n",
    "        external_url.append(profile.external_url)        \n",
    "        \n",
    "    except:\n",
    "        user_id.append(None) \n",
    "        followers_count.append(None)\n",
    "        following_count.append(None)\n",
    "        number_of_posts.append(None)\n",
    "        biography.append(None)\n",
    "        external_url.append(None)\n",
    "        \n",
    "    try:\n",
    "        # Retrieving the usernames of all followers\n",
    "        followers = []\n",
    "        \n",
    "        for follower in profile.get_followers():\n",
    "            if len(followers) <= 50:\n",
    "                followers.append(follower.username)\n",
    "            else:\n",
    "                break\n",
    "        artist_followers.update({artist_username:followers})\n",
    "        \n",
    "        # Retrieving the usernames of all followings\n",
    "        followees = []\n",
    "        \n",
    "        for followee in profile.get_followees():\n",
    "            if len(followees) <= 50:\n",
    "                followees.append(followee.username)\n",
    "            else:\n",
    "                break\n",
    "        artist_followees.update({artist_username:followees})\n",
    "\n",
    "    except:\n",
    "        pass"
   ]
  },
  {
   "cell_type": "markdown",
   "id": "01188f27",
   "metadata": {},
   "source": [
    "#### Converting collected data to dataframes"
   ]
  },
  {
   "cell_type": "code",
   "execution_count": null,
   "id": "64be9015",
   "metadata": {},
   "outputs": [],
   "source": [
    "instagram_artists_data_df = artists_df.assign(\n",
    "    user_id = user_id, \n",
    "    followers_count = followers_count,\n",
    "    following_count = following_count,\n",
    "    number_of_posts = number_of_posts,\n",
    "    biography = biography,\n",
    "    external_url = external_url\n",
    ")"
   ]
  },
  {
   "cell_type": "code",
   "execution_count": null,
   "id": "4ecd3776",
   "metadata": {},
   "outputs": [],
   "source": [
    "artists_followers_df = pd.DataFrame({ key:pd.Series(value) for key, value in artist_followers.items() })"
   ]
  },
  {
   "cell_type": "code",
   "execution_count": null,
   "id": "f4397aa9",
   "metadata": {},
   "outputs": [],
   "source": [
    "artists_followings_df = pd.DataFrame({ key:pd.Series(value) for key, value in artist_followees.items() })"
   ]
  },
  {
   "cell_type": "markdown",
   "id": "f3fa0579",
   "metadata": {},
   "source": [
    "# Neo4j"
   ]
  },
  {
   "cell_type": "markdown",
   "id": "43a0f998",
   "metadata": {},
   "source": [
    "#### Importing libraries"
   ]
  },
  {
   "cell_type": "code",
   "execution_count": null,
   "id": "c6b146a9",
   "metadata": {},
   "outputs": [],
   "source": [
    "from neo4j import GraphDatabase"
   ]
  },
  {
   "cell_type": "markdown",
   "id": "e867f644",
   "metadata": {},
   "source": [
    "#### Login details for Neo4j"
   ]
  },
  {
   "cell_type": "code",
   "execution_count": null,
   "id": "2b982633",
   "metadata": {},
   "outputs": [],
   "source": [
    "neo_uri = getpass(\"Please enter your URI of Neo4j: \")\n",
    "neo_username = getpass(\"Please enter your username of Neo4j: \")\n",
    "neo_password = getpass(\"Please enter your password Neo4j: \")"
   ]
  },
  {
   "cell_type": "markdown",
   "id": "6973eb90",
   "metadata": {},
   "source": [
    "#### Creating a connection to Neo4j"
   ]
  },
  {
   "cell_type": "code",
   "execution_count": null,
   "id": "46615cd7",
   "metadata": {},
   "outputs": [],
   "source": [
    "driver = GraphDatabase.driver(neo_uri,auth=(neo_username,neo_password))"
   ]
  },
  {
   "cell_type": "markdown",
   "id": "008fc24f",
   "metadata": {},
   "source": [
    "#### Defining functions for creating new nodes, deleting duplicates, making new relations"
   ]
  },
  {
   "cell_type": "code",
   "execution_count": null,
   "id": "428228f1",
   "metadata": {},
   "outputs": [],
   "source": [
    "def create_artist_node(transaction,name,instagram_username,user_id,followers_count,following_count,number_of_posts,biography,external_url):\n",
    "    transaction.run(\"\"\"CREATE (:Artist {\n",
    "                    name : $name, \n",
    "                    instagram_username : $instagram_username, \n",
    "                    user_id: $user_id,\n",
    "                    followers_count : $followers_count,\n",
    "                    following_count : $following_count,\n",
    "                    number_of_posts : $number_of_posts,\n",
    "                    biography : $biography,\n",
    "                    external_url : $external_url\n",
    "                    })\"\"\", \n",
    "                    name=name, \n",
    "                    instagram_username=instagram_username,\n",
    "                    user_id=user_id, \n",
    "                    followers_count=followers_count,\n",
    "                    following_count=following_count,\n",
    "                    number_of_posts=number_of_posts,\n",
    "                    biography=biography,\n",
    "                    external_url=external_url)"
   ]
  },
  {
   "cell_type": "code",
   "execution_count": null,
   "id": "986c73ba",
   "metadata": {},
   "outputs": [],
   "source": [
    "def create_user_node(transaction,instagram_username):\n",
    "    transaction.run(\"CREATE (:User {instagram_username : $instagram_username})\", \n",
    "                    instagram_username=instagram_username)"
   ]
  },
  {
   "cell_type": "code",
   "execution_count": null,
   "id": "3da4bf8f",
   "metadata": {},
   "outputs": [],
   "source": [
    "def delete_duplicate_nodes(transaction,node_name):\n",
    "    transaction.run(\"\"\"\n",
    "    MATCH (n:\"\"\" + node_name + \"\"\")\n",
    "    WITH n.instagram_username AS username, COLLECT(n) AS branches\n",
    "    WHERE SIZE(branches) > 1\n",
    "    FOREACH (n IN TAIL(branches) | DETACH DELETE n);\n",
    "    \"\"\", node_name=node_name)"
   ]
  },
  {
   "cell_type": "code",
   "execution_count": null,
   "id": "5c7b7b3a",
   "metadata": {},
   "outputs": [],
   "source": [
    "def create_followers_relationship(transaction,username1,username2):\n",
    "    transaction.run(\"\"\"\n",
    "        MATCH (user1:User {instagram_username:$username1}),(user2:Artist {instagram_username:$username2}) \n",
    "        CREATE (user1)-[:FOLLOWS]->(user2) \n",
    "    \"\"\", username1=username1,username2=username2)"
   ]
  },
  {
   "cell_type": "code",
   "execution_count": null,
   "id": "76621da0",
   "metadata": {},
   "outputs": [],
   "source": [
    "def create_artists_followees_relationship(transaction,username1,username2):\n",
    "    transaction.run(\"\"\"\n",
    "        MATCH (user1:Artist {instagram_username:$username1}),(user2:Artist {instagram_username:$username2}) \n",
    "        CREATE (user1)-[:FOLLOWS]->(user2) \n",
    "    \"\"\", username1=username1,username2=username2)"
   ]
  },
  {
   "cell_type": "code",
   "execution_count": null,
   "id": "032cb430",
   "metadata": {},
   "outputs": [],
   "source": [
    "def create_artists_followees_user_relationship(transaction,username1,username2):\n",
    "    transaction.run(\"\"\"\n",
    "        MATCH (user1:Artist {instagram_username:$username1}),(user2:User {instagram_username:$username2}) \n",
    "        CREATE (user1)-[:FOLLOWS]->(user2) \n",
    "    \"\"\", username1=username1,username2=username2)"
   ]
  },
  {
   "cell_type": "markdown",
   "id": "c7632ca1",
   "metadata": {},
   "source": [
    "#### Creating new nodes"
   ]
  },
  {
   "cell_type": "code",
   "execution_count": null,
   "id": "ee816a99",
   "metadata": {},
   "outputs": [],
   "source": [
    "with driver.session() as session:\n",
    "    for index, row in instagram_artists_data_df.iterrows():\n",
    "        session.execute_write(create_artist_node,\n",
    "                              row[\"artist_name\"],\n",
    "                              row[\"instagram_username\"],\n",
    "                              row[\"user_id\"],\n",
    "                              row[\"followers_count\"],\n",
    "                              row[\"following_count\"],\n",
    "                              row[\"number_of_posts\"],\n",
    "                              row[\"biography\"], \n",
    "                              row[\"external_url\"])"
   ]
  },
  {
   "cell_type": "code",
   "execution_count": null,
   "id": "1b84b0d7",
   "metadata": {},
   "outputs": [],
   "source": [
    "artists = followers_data_df.columns\n",
    "instagram_users = []\n",
    "\n",
    "for i in range(len(artists)):\n",
    "    instagram_users.extend(artists_followers_df[artists[i]].tolist())\n",
    "    instagram_users.extend(artists_followings_df[artists[i]].tolist())\n",
    "\n",
    "    \n",
    "with driver.session() as session:\n",
    "    for user in instagram_users:\n",
    "        session.execute_write(create_user_node,user)"
   ]
  },
  {
   "cell_type": "markdown",
   "id": "8316dd2a",
   "metadata": {},
   "source": [
    "#### Deleting duplicates"
   ]
  },
  {
   "cell_type": "code",
   "execution_count": null,
   "id": "cd99b496",
   "metadata": {},
   "outputs": [],
   "source": [
    "with driver.session() as session:\n",
    "    session.execute_write(elete_duplicate_nodes,'Artist')\n",
    "    session.execute_write(delete_duplicate_nodes,'User')"
   ]
  },
  {
   "cell_type": "markdown",
   "id": "99ec2583",
   "metadata": {},
   "source": [
    "#### Creating relations between instagram users and artists"
   ]
  },
  {
   "cell_type": "code",
   "execution_count": null,
   "id": "4b5497b9",
   "metadata": {},
   "outputs": [],
   "source": [
    "with driver.session() as session:\n",
    "    for i in range(len(artists)):\n",
    "        for index,row in artists_followers_df.iterrows():\n",
    "            session.execute_write(create_followers_relationship,row[i],artists[i])\n",
    "        for index,row in artists_followings_df.iterrows():\n",
    "            try:\n",
    "                session.execute_write(create_artists_followees_relationship,artists[i],row[i])\n",
    "            except:\n",
    "                session.execute_write(create_artists_followees_user_relationship,artists[i],row[i])   "
   ]
  },
  {
   "cell_type": "markdown",
   "id": "936c6c4f",
   "metadata": {},
   "source": [
    "# MySQL"
   ]
  },
  {
   "cell_type": "markdown",
   "id": "bc1edf8d",
   "metadata": {},
   "source": [
    "#### Importing libraries"
   ]
  },
  {
   "cell_type": "code",
   "execution_count": 79,
   "id": "85202444",
   "metadata": {},
   "outputs": [],
   "source": [
    "import mysql.connector\n",
    "from sqlalchemy import create_engine\n",
    "import pymysql"
   ]
  },
  {
   "cell_type": "markdown",
   "id": "27d5a36a",
   "metadata": {},
   "source": [
    "#### Creating connection to the database"
   ]
  },
  {
   "cell_type": "code",
   "execution_count": 87,
   "id": "701088c8",
   "metadata": {},
   "outputs": [
    {
     "name": "stdout",
     "output_type": "stream",
     "text": [
      "Enter your username: ········\n",
      "Enter your password: ········\n"
     ]
    }
   ],
   "source": [
    "mysql_username = getpass(\"Enter your username: \")\n",
    "my_sql_password = getpass(\"Enter your password: \")\n",
    "\n",
    "connection = mysql.connector.connect(user=mysql_username,\n",
    "                                     password=my_sql_password,\n",
    "                                     host=\"localhost\",\n",
    "                                     database=\"spotify\")\n",
    "\n",
    "cursor = connection.cursor()\n",
    "    \n",
    "engine = create_engine(\"mysql+pymysql://\" + mysql_username + \":\" + my_sql_password + \"@\" + \"localhost\" + \"/\" + \"spotify\")"
   ]
  },
  {
   "cell_type": "markdown",
   "id": "0ac431ec",
   "metadata": {},
   "source": [
    "#### Changing type of the column 'artist_info' from dictionary to string"
   ]
  },
  {
   "cell_type": "code",
   "execution_count": 89,
   "id": "5296622f",
   "metadata": {},
   "outputs": [],
   "source": [
    "spotify_songs_data_df['artist_info'] = spotify_songs_data_df['artist_info'].astype(str)"
   ]
  },
  {
   "cell_type": "markdown",
   "id": "66055f33",
   "metadata": {},
   "source": [
    "#### Creating a table"
   ]
  },
  {
   "cell_type": "code",
   "execution_count": 85,
   "id": "8d56ec10",
   "metadata": {},
   "outputs": [],
   "source": [
    "cursor.execute(\"\"\"\n",
    "CREATE TABLE songs (\n",
    "    id INT AUTO_INCREMENT PRIMARY KEY, \n",
    "    track_name VARCHAR(255), \n",
    "    track_URI VARCHAR(255),\n",
    "    artist_name VARCHAR(255),\n",
    "    artist_info VARCHAR(255),\n",
    "    artist_pop INT,\n",
    "    artist_URI VARCHAR(255),\n",
    "    genres VARCHAR(255), \n",
    "    album VARCHAR(255),\n",
    "    dance FLOAT,\n",
    "    acoustic FLOAT,\n",
    "    energy FLOAT,\n",
    "    instrumental FLOAT,\n",
    "    liveness FLOAT,\n",
    "    loudness FLOAT,\n",
    "    speech FLOAT,\n",
    "    tempo FLOAT,\n",
    "    valence FLOAT,\n",
    "    track_popularity INT,\n",
    "    duration_ms INT,\n",
    "    total_shazamed_count INT\n",
    "    );\n",
    "\"\"\")"
   ]
  },
  {
   "cell_type": "markdown",
   "id": "8d41fd99",
   "metadata": {},
   "source": [
    "#### Exporting dataframe to MySQL databse"
   ]
  },
  {
   "cell_type": "code",
   "execution_count": 91,
   "id": "30d71ce5",
   "metadata": {},
   "outputs": [
    {
     "data": {
      "text/plain": [
       "50"
      ]
     },
     "execution_count": 91,
     "metadata": {},
     "output_type": "execute_result"
    }
   ],
   "source": [
    "spotify_songs_data_df.to_sql('songs', con=engine, if_exists='append', index=False)"
   ]
  },
  {
   "cell_type": "markdown",
   "id": "d4c8dec0",
   "metadata": {},
   "source": [
    "#### Exporting dataframe to CSV file"
   ]
  },
  {
   "cell_type": "code",
   "execution_count": 93,
   "id": "074b8c20",
   "metadata": {},
   "outputs": [],
   "source": [
    "spotify_songs_data_df.to_csv('spotify_songs_data.csv')"
   ]
  },
  {
   "cell_type": "markdown",
   "id": "a2e52ac8",
   "metadata": {},
   "source": [
    "# Mongo DB"
   ]
  },
  {
   "cell_type": "markdown",
   "id": "aa7fd1ed",
   "metadata": {},
   "source": [
    "#### Importing libraries"
   ]
  },
  {
   "cell_type": "code",
   "execution_count": 94,
   "id": "a9fa79aa",
   "metadata": {},
   "outputs": [],
   "source": [
    "from pymongo.mongo_client import MongoClient\n",
    "from pymongo.server_api import ServerApi"
   ]
  },
  {
   "cell_type": "markdown",
   "id": "19645a5e",
   "metadata": {},
   "source": [
    "#### Creating a connection to database"
   ]
  },
  {
   "cell_type": "code",
   "execution_count": 96,
   "id": "61869369",
   "metadata": {},
   "outputs": [
    {
     "name": "stdout",
     "output_type": "stream",
     "text": [
      "Enter your MongoDB username: ········\n",
      "Enter your MongoDB password: ········\n",
      "Pinged your deployment. You successfully connected to MongoDB!\n"
     ]
    }
   ],
   "source": [
    "mongodb_username = getpass(\"Enter your MongoDB username: \")\n",
    "mongodb_password = getpass(\"Enter your MongoDB password: \")\n",
    "\n",
    "uri = \"mongodb+srv://\" + mongodb_username + \":\" + mongodb_password + \"@cluster0.ndt1b83.mongodb.net/?retryWrites=true&w=majority\"\n",
    "\n",
    "# Create a new client and connect to the server\n",
    "client = MongoClient(uri, server_api=ServerApi('1'))\n",
    "\n",
    "# Send a ping to confirm a successful connection\n",
    "try:\n",
    "    client.admin.command('ping')\n",
    "    print(\"Pinged your deployment. You successfully connected to MongoDB!\")\n",
    "except Exception as e:\n",
    "    print(e)"
   ]
  },
  {
   "cell_type": "markdown",
   "id": "782eec4b",
   "metadata": {},
   "source": [
    "#### Exporting data to MongoDB collection"
   ]
  },
  {
   "cell_type": "code",
   "execution_count": 97,
   "id": "8e125664",
   "metadata": {},
   "outputs": [
    {
     "data": {
      "text/plain": [
       "<pymongo.results.InsertManyResult at 0x2376c05f1c0>"
      ]
     },
     "execution_count": 97,
     "metadata": {},
     "output_type": "execute_result"
    }
   ],
   "source": [
    "# Creating a database\n",
    "mongo_db = client['Spotify']\n",
    "\n",
    "# Creating collection\n",
    "collection = mongo_db['Top_50_songs']\n",
    "\n",
    "# Resetting indexes\n",
    "spotify_songs_data_df.reset_index(inplace=True)\n",
    "\n",
    "# Converting dataframe to dictionary\n",
    "songs_data_dict = spotify_songs_data_df.to_dict(\"records\")\n",
    "\n",
    "# Inserting collection\n",
    "collection.insert_many(songs_data_dict)"
   ]
  }
 ],
 "metadata": {
  "kernelspec": {
   "display_name": "Python 3 (ipykernel)",
   "language": "python",
   "name": "python3"
  },
  "language_info": {
   "codemirror_mode": {
    "name": "ipython",
    "version": 3
   },
   "file_extension": ".py",
   "mimetype": "text/x-python",
   "name": "python",
   "nbconvert_exporter": "python",
   "pygments_lexer": "ipython3",
   "version": "3.10.11"
  }
 },
 "nbformat": 4,
 "nbformat_minor": 5
}
