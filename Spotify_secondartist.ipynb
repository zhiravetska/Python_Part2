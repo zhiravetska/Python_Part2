{
 "cells": [
  {
   "cell_type": "code",
   "execution_count": 18,
   "id": "76028cfe",
   "metadata": {},
   "outputs": [],
   "source": [
    "import spotipy\n",
    "import pandas as pd\n",
    "from spotipy.oauth2 import SpotifyClientCredentials"
   ]
  },
  {
   "cell_type": "code",
   "execution_count": 19,
   "id": "dad5b63f",
   "metadata": {},
   "outputs": [],
   "source": [
    "client_id = '98c375cd6a8b464ebe3d7fece4bd9fa4'\n",
    "client_secret = '5cd8420044ea4ebe902beb3a227ee30e'\n",
    "\n",
    "client_credentials_manager = SpotifyClientCredentials(client_id=client_id, client_secret=client_secret)\n",
    "sp = spotipy.Spotify(client_credentials_manager=client_credentials_manager) "
   ]
  },
  {
   "cell_type": "code",
   "execution_count": 20,
   "id": "47708f1b",
   "metadata": {},
   "outputs": [
    {
     "data": {
      "text/plain": [
       "[{'external_urls': {'spotify': 'https://open.spotify.com/artist/3oNy8cjBtJzLC07I70sklp'},\n",
       "  'href': 'https://api.spotify.com/v1/artists/3oNy8cjBtJzLC07I70sklp',\n",
       "  'id': '3oNy8cjBtJzLC07I70sklp',\n",
       "  'name': 'Belanova',\n",
       "  'type': 'artist',\n",
       "  'uri': 'spotify:artist:3oNy8cjBtJzLC07I70sklp'}]"
      ]
     },
     "execution_count": 20,
     "metadata": {},
     "output_type": "execute_result"
    }
   ],
   "source": [
    "name = \"Belanova\" \n",
    "result = sp.search(name) \n",
    "result['tracks']['items'][0]['artists'] #spotify:artist:3oNy8cjBtJzLC07I70sklp"
   ]
  },
  {
   "cell_type": "code",
   "execution_count": 21,
   "id": "22249f8f",
   "metadata": {},
   "outputs": [
    {
     "ename": "IndexError",
     "evalue": "list index out of range",
     "output_type": "error",
     "traceback": [
      "\u001b[1;31m---------------------------------------------------------------------------\u001b[0m",
      "\u001b[1;31mIndexError\u001b[0m                                Traceback (most recent call last)",
      "Cell \u001b[1;32mIn [21], line 1\u001b[0m\n\u001b[1;32m----> 1\u001b[0m artist_uri \u001b[38;5;241m=\u001b[39m \u001b[43mresult\u001b[49m\u001b[43m[\u001b[49m\u001b[38;5;124;43m'\u001b[39;49m\u001b[38;5;124;43mtracks\u001b[39;49m\u001b[38;5;124;43m'\u001b[39;49m\u001b[43m]\u001b[49m\u001b[43m[\u001b[49m\u001b[38;5;124;43m'\u001b[39;49m\u001b[38;5;124;43mitems\u001b[39;49m\u001b[38;5;124;43m'\u001b[39;49m\u001b[43m]\u001b[49m\u001b[43m[\u001b[49m\u001b[38;5;241;43m0\u001b[39;49m\u001b[43m]\u001b[49m\u001b[43m[\u001b[49m\u001b[38;5;124;43m'\u001b[39;49m\u001b[38;5;124;43martists\u001b[39;49m\u001b[38;5;124;43m'\u001b[39;49m\u001b[43m]\u001b[49m\u001b[43m[\u001b[49m\u001b[38;5;241;43m1\u001b[39;49m\u001b[43m]\u001b[49m[\u001b[38;5;124m'\u001b[39m\u001b[38;5;124muri\u001b[39m\u001b[38;5;124m'\u001b[39m]\n\u001b[0;32m      3\u001b[0m sp_albums \u001b[38;5;241m=\u001b[39m sp\u001b[38;5;241m.\u001b[39martist_albums(artist_uri, album_type\u001b[38;5;241m=\u001b[39m\u001b[38;5;124m'\u001b[39m\u001b[38;5;124malbum\u001b[39m\u001b[38;5;124m'\u001b[39m)\n\u001b[0;32m      4\u001b[0m name \u001b[38;5;241m=\u001b[39m []\n",
      "\u001b[1;31mIndexError\u001b[0m: list index out of range"
     ]
    }
   ],
   "source": [
    "artist_uri = result['tracks']['items'][0]['artists'][1]['uri']\n",
    "\n",
    "sp_albums = sp.artist_albums(artist_uri, album_type='album')\n",
    "name = []\n",
    "uri = []\n",
    "for i in sp_albums['items']:\n",
    "    name.append(i['name'])\n",
    "    uri.append(i['uri'])"
   ]
  },
  {
   "cell_type": "code",
   "execution_count": 22,
   "id": "da229c43",
   "metadata": {},
   "outputs": [
    {
     "ename": "IndexError",
     "evalue": "string index out of range",
     "output_type": "error",
     "traceback": [
      "\u001b[1;31m---------------------------------------------------------------------------\u001b[0m",
      "\u001b[1;31mIndexError\u001b[0m                                Traceback (most recent call last)",
      "Cell \u001b[1;32mIn [22], line 9\u001b[0m\n\u001b[0;32m      7\u001b[0m tracks \u001b[38;5;241m=\u001b[39m sp\u001b[38;5;241m.\u001b[39malbum_tracks(j)   \n\u001b[0;32m      8\u001b[0m \u001b[38;5;28;01mfor\u001b[39;00m i \u001b[38;5;129;01min\u001b[39;00m tracks[\u001b[38;5;124m'\u001b[39m\u001b[38;5;124mitems\u001b[39m\u001b[38;5;124m'\u001b[39m]:\n\u001b[1;32m----> 9\u001b[0m     album\u001b[38;5;241m.\u001b[39mappend(\u001b[43mname\u001b[49m\u001b[43m[\u001b[49m\u001b[43mcount\u001b[49m\u001b[43m]\u001b[49m)\n\u001b[0;32m     10\u001b[0m     song_name\u001b[38;5;241m.\u001b[39mappend(i[\u001b[38;5;124m'\u001b[39m\u001b[38;5;124mname\u001b[39m\u001b[38;5;124m'\u001b[39m])\n\u001b[0;32m     11\u001b[0m     song_uri\u001b[38;5;241m.\u001b[39mappend(i[\u001b[38;5;124m'\u001b[39m\u001b[38;5;124muri\u001b[39m\u001b[38;5;124m'\u001b[39m])\n",
      "\u001b[1;31mIndexError\u001b[0m: string index out of range"
     ]
    }
   ],
   "source": [
    "song_name = []\n",
    "song_uri = []\n",
    "album = []\n",
    "count = 0\n",
    "for j in uri:\n",
    "    \n",
    "    tracks = sp.album_tracks(j)   \n",
    "    for i in tracks['items']:\n",
    "        album.append(name[count])\n",
    "        song_name.append(i['name'])\n",
    "        song_uri.append(i['uri'])\n",
    "    count+=1\n",
    "song_name"
   ]
  },
  {
   "cell_type": "code",
   "execution_count": 11,
   "id": "03a78ff2",
   "metadata": {},
   "outputs": [],
   "source": [
    "acoustic = []\n",
    "dance = []\n",
    "energy = []\n",
    "instrumental = []\n",
    "liveness = []\n",
    "loudness = []\n",
    "speech = []\n",
    "tempo = []\n",
    "valence = []\n",
    "popularity = []\n",
    "\n",
    "for i in song_uri:\n",
    "    feat = sp.audio_features(i)[0]\n",
    "    acoustic.append(feat['acousticness'])\n",
    "    dance.append(feat['danceability'])\n",
    "    energy.append(feat['energy'])\n",
    "    speech.append(feat['speechiness'])\n",
    "    instrumental.append(feat['instrumentalness'])\n",
    "    loudness.append(feat['loudness'])\n",
    "    tempo.append(feat['tempo'])\n",
    "    liveness.append(feat['liveness'])\n",
    "    valence.append(feat['valence'])\n",
    "    popu = sp.track(i)\n",
    "    popularity.append(popu['popularity'])"
   ]
  },
  {
   "cell_type": "code",
   "execution_count": 12,
   "id": "7ba757e5",
   "metadata": {},
   "outputs": [
    {
     "data": {
      "text/html": [
       "<div>\n",
       "<style scoped>\n",
       "    .dataframe tbody tr th:only-of-type {\n",
       "        vertical-align: middle;\n",
       "    }\n",
       "\n",
       "    .dataframe tbody tr th {\n",
       "        vertical-align: top;\n",
       "    }\n",
       "\n",
       "    .dataframe thead th {\n",
       "        text-align: right;\n",
       "    }\n",
       "</style>\n",
       "<table border=\"1\" class=\"dataframe\">\n",
       "  <thead>\n",
       "    <tr style=\"text-align: right;\">\n",
       "      <th></th>\n",
       "      <th>name</th>\n",
       "      <th>album</th>\n",
       "      <th>dance</th>\n",
       "      <th>acoustic</th>\n",
       "      <th>energy</th>\n",
       "      <th>instrumental</th>\n",
       "      <th>liveness</th>\n",
       "      <th>loudness</th>\n",
       "      <th>speech</th>\n",
       "      <th>tempo</th>\n",
       "      <th>valence</th>\n",
       "      <th>popularity</th>\n",
       "    </tr>\n",
       "  </thead>\n",
       "  <tbody>\n",
       "    <tr>\n",
       "      <th>0</th>\n",
       "      <td>Rich Flex</td>\n",
       "      <td>Her Loss</td>\n",
       "      <td>0.561</td>\n",
       "      <td>0.05030</td>\n",
       "      <td>0.520</td>\n",
       "      <td>0.000002</td>\n",
       "      <td>0.3550</td>\n",
       "      <td>-9.342</td>\n",
       "      <td>0.244</td>\n",
       "      <td>153.150</td>\n",
       "      <td>0.424</td>\n",
       "      <td>88</td>\n",
       "    </tr>\n",
       "    <tr>\n",
       "      <th>1</th>\n",
       "      <td>Major Distribution</td>\n",
       "      <td>Her Loss</td>\n",
       "      <td>0.908</td>\n",
       "      <td>0.01270</td>\n",
       "      <td>0.546</td>\n",
       "      <td>0.000000</td>\n",
       "      <td>0.0707</td>\n",
       "      <td>-10.491</td>\n",
       "      <td>0.323</td>\n",
       "      <td>131.016</td>\n",
       "      <td>0.225</td>\n",
       "      <td>76</td>\n",
       "    </tr>\n",
       "    <tr>\n",
       "      <th>2</th>\n",
       "      <td>On BS</td>\n",
       "      <td>Her Loss</td>\n",
       "      <td>0.841</td>\n",
       "      <td>0.02010</td>\n",
       "      <td>0.358</td>\n",
       "      <td>0.000000</td>\n",
       "      <td>0.3900</td>\n",
       "      <td>-8.368</td>\n",
       "      <td>0.591</td>\n",
       "      <td>158.014</td>\n",
       "      <td>0.329</td>\n",
       "      <td>80</td>\n",
       "    </tr>\n",
       "    <tr>\n",
       "      <th>3</th>\n",
       "      <td>BackOutsideBoyz</td>\n",
       "      <td>Her Loss</td>\n",
       "      <td>0.849</td>\n",
       "      <td>0.04070</td>\n",
       "      <td>0.433</td>\n",
       "      <td>0.000000</td>\n",
       "      <td>0.3880</td>\n",
       "      <td>-8.434</td>\n",
       "      <td>0.316</td>\n",
       "      <td>142.110</td>\n",
       "      <td>0.395</td>\n",
       "      <td>73</td>\n",
       "    </tr>\n",
       "    <tr>\n",
       "      <th>4</th>\n",
       "      <td>Privileged Rappers</td>\n",
       "      <td>Her Loss</td>\n",
       "      <td>0.934</td>\n",
       "      <td>0.00274</td>\n",
       "      <td>0.614</td>\n",
       "      <td>0.000000</td>\n",
       "      <td>0.1230</td>\n",
       "      <td>-7.384</td>\n",
       "      <td>0.198</td>\n",
       "      <td>144.045</td>\n",
       "      <td>0.616</td>\n",
       "      <td>76</td>\n",
       "    </tr>\n",
       "  </tbody>\n",
       "</table>\n",
       "</div>"
      ],
      "text/plain": [
       "                 name     album  dance  acoustic  energy  instrumental  \\\n",
       "0           Rich Flex  Her Loss  0.561   0.05030   0.520      0.000002   \n",
       "1  Major Distribution  Her Loss  0.908   0.01270   0.546      0.000000   \n",
       "2               On BS  Her Loss  0.841   0.02010   0.358      0.000000   \n",
       "3     BackOutsideBoyz  Her Loss  0.849   0.04070   0.433      0.000000   \n",
       "4  Privileged Rappers  Her Loss  0.934   0.00274   0.614      0.000000   \n",
       "\n",
       "   liveness  loudness  speech    tempo  valence  popularity  \n",
       "0    0.3550    -9.342   0.244  153.150    0.424          88  \n",
       "1    0.0707   -10.491   0.323  131.016    0.225          76  \n",
       "2    0.3900    -8.368   0.591  158.014    0.329          80  \n",
       "3    0.3880    -8.434   0.316  142.110    0.395          73  \n",
       "4    0.1230    -7.384   0.198  144.045    0.616          76  "
      ]
     },
     "execution_count": 12,
     "metadata": {},
     "output_type": "execute_result"
    }
   ],
   "source": [
    "ari = pd.DataFrame({'name':song_name,\n",
    "                    'album':album,\n",
    "                    'dance':dance,\n",
    "                    'acoustic':acoustic,\n",
    "                    'energy':energy,\n",
    "                    'instrumental':instrumental,\n",
    "                    'liveness':liveness,\n",
    "                    'loudness':loudness,\n",
    "                    'speech':speech,\n",
    "                    'tempo':tempo,\n",
    "                    'valence':valence,\n",
    "                    'popularity':popularity\n",
    "    \n",
    "})\n",
    "ari.head()"
   ]
  },
  {
   "cell_type": "code",
   "execution_count": 13,
   "id": "1ce4b2bb",
   "metadata": {},
   "outputs": [
    {
     "data": {
      "text/plain": [
       "3096"
      ]
     },
     "execution_count": 13,
     "metadata": {},
     "output_type": "execute_result"
    }
   ],
   "source": [
    "ari.size"
   ]
  },
  {
   "cell_type": "code",
   "execution_count": 14,
   "id": "3f294769",
   "metadata": {},
   "outputs": [
    {
     "data": {
      "text/plain": [
       "(258, 12)"
      ]
     },
     "execution_count": 14,
     "metadata": {},
     "output_type": "execute_result"
    }
   ],
   "source": [
    "ari.shape"
   ]
  }
 ],
 "metadata": {
  "kernelspec": {
   "display_name": "Python 3 (ipykernel)",
   "language": "python",
   "name": "python3"
  },
  "language_info": {
   "codemirror_mode": {
    "name": "ipython",
    "version": 3
   },
   "file_extension": ".py",
   "mimetype": "text/x-python",
   "name": "python",
   "nbconvert_exporter": "python",
   "pygments_lexer": "ipython3",
   "version": "3.10.7"
  }
 },
 "nbformat": 4,
 "nbformat_minor": 5
}
