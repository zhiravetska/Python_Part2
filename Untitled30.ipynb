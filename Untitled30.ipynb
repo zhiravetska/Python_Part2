{
 "cells": [
  {
   "cell_type": "code",
   "execution_count": null,
   "id": "9b17a14b",
   "metadata": {},
   "outputs": [],
   "source": [
    "import spotipy\n",
    "from spotipy.oauth2 import SpotifyClientCredentials\n",
    "import pandas as pd"
   ]
  },
  {
   "cell_type": "code",
   "execution_count": null,
   "id": "345f650e",
   "metadata": {},
   "outputs": [],
   "source": [
    "#Authentication\n",
    "\n",
    "cid = input(\"What is your Spotify Client_ID? \")\n",
    "secret = input(\"What is your Spotify Client_Secret? \")"
   ]
  },
  {
   "cell_type": "code",
   "execution_count": null,
   "id": "98221d95",
   "metadata": {},
   "outputs": [],
   "source": [
    "client_credentials_manager = SpotifyClientCredentials(client_id=\"cid\", client_secret=\"secret\")\n",
    "sp = spotipy.Spotify(client_credentials_manager = client_credentials_manager)"
   ]
  },
  {
   "cell_type": "code",
   "execution_count": null,
   "id": "94e83919",
   "metadata": {},
   "outputs": [],
   "source": [
    "playlist_link = \"https://open.spotify.com/playlist/37i9dQZEVXbNG2KDcFcKOF?si=77d8f5cd51cd478d&nd=1\"\n",
    "playlist_URI = playlist_link.split(\"/\")[-1].split(\"?\")[0]\n",
    "track_uris = [x[\"track\"][\"uri\"] for x in sp.playlist_tracks(playlist_URI)[\"items\"]]"
   ]
  },
  {
   "cell_type": "code",
   "execution_count": null,
   "id": "62c0075d",
   "metadata": {},
   "outputs": [],
   "source": [
    "track_uris"
   ]
  },
  {
   "cell_type": "code",
   "execution_count": null,
   "id": "adb9df95",
   "metadata": {},
   "outputs": [],
   "source": [
    "trackuri = []\n",
    "tname = []\n",
    "artisturi = []\n",
    "artistinfo = []\n",
    "artname = []\n",
    "artpop = []\n",
    "artgenres = []\n",
    "albumname = []\n",
    "tpop = []\n"
   ]
  },
  {
   "cell_type": "code",
   "execution_count": null,
   "id": "bbd183a2",
   "metadata": {},
   "outputs": [],
   "source": [
    "for track in sp.playlist_tracks(playlist_URI)[\"items\"]:\n",
    "    #URI\n",
    "    track_uri = track[\"track\"][\"uri\"]\n",
    "    \n",
    "    #Track name\n",
    "    track_name = track[\"track\"][\"name\"]\n",
    "    \n",
    "    #Main Artist\n",
    "    artist_uri = track[\"track\"][\"artists\"][0][\"uri\"]\n",
    "    artist_info = sp.artist(artist_uri)\n",
    "   # artist_info = sp.artist(track[\"track\"][\"artists\"][0][\"uri\"])\n",
    "    \n",
    "    #Name, popularity, genre\n",
    "    artist_name = track[\"track\"][\"artists\"][0][\"name\"]\n",
    "    artist_pop = artist_info[\"popularity\"]\n",
    "    artist_info[\"genres\"]\n",
    "    \n",
    "    #Album\n",
    "    album = track[\"track\"][\"album\"][\"name\"]\n",
    "    \n",
    "    #Popularity of the track\n",
    "    track_pop = track[\"track\"][\"popularity\"]\n",
    "    \n",
    "#track_uri \n",
    "track_name \n",
    "#artist_uri \n",
    "#artist_info \n",
    "artist_name \n",
    "artist_pop \n",
    "artist_info \n",
    "album \n",
    "track_pop "
   ]
  },
  {
   "cell_type": "code",
   "execution_count": null,
   "id": "e6cd772f",
   "metadata": {},
   "outputs": [],
   "source": [
    "for track in sp.playlist_tracks(playlist_URI)[\"items\"]:\n",
    "    trackuri.append(track[\"track\"][\"uri\"])\n",
    "    tname.append(track[\"track\"][\"name\"])\n",
    "    artisturi.append(track[\"track\"][\"artists\"][0][\"uri\"])\n",
    "    artistinfo.append(sp.artist(artist_uri))\n",
    "    artname.append(track[\"track\"][\"artists\"][0][\"name\"])\n",
    "    artpop.append(artist_info[\"popularity\"])\n",
    "    artgenres.append(artist_info[\"genres\"])\n",
    "    albumname.append(track[\"track\"][\"album\"][\"name\"])\n",
    "    #tpop.append(track[\"track\"][\"popularity\"])\n",
    "    "
   ]
  },
  {
   "cell_type": "code",
   "execution_count": null,
   "id": "27de880e",
   "metadata": {},
   "outputs": [],
   "source": []
  },
  {
   "cell_type": "code",
   "execution_count": null,
   "id": "05e54a10",
   "metadata": {},
   "outputs": [],
   "source": []
  },
  {
   "cell_type": "code",
   "execution_count": null,
   "id": "854bd16d",
   "metadata": {},
   "outputs": [],
   "source": []
  },
  {
   "cell_type": "code",
   "execution_count": null,
   "id": "cbc78992",
   "metadata": {},
   "outputs": [],
   "source": []
  },
  {
   "cell_type": "code",
   "execution_count": null,
   "id": "e31b98e5",
   "metadata": {},
   "outputs": [],
   "source": []
  },
  {
   "cell_type": "code",
   "execution_count": null,
   "id": "9b899656",
   "metadata": {},
   "outputs": [],
   "source": []
  },
  {
   "cell_type": "code",
   "execution_count": null,
   "id": "dbaa9953",
   "metadata": {},
   "outputs": [],
   "source": []
  },
  {
   "cell_type": "code",
   "execution_count": null,
   "id": "455ca449",
   "metadata": {},
   "outputs": [],
   "source": []
  },
  {
   "cell_type": "code",
   "execution_count": null,
   "id": "47915d4e",
   "metadata": {},
   "outputs": [],
   "source": []
  },
  {
   "cell_type": "code",
   "execution_count": null,
   "id": "b3a0c1ac",
   "metadata": {},
   "outputs": [],
   "source": []
  }
 ],
 "metadata": {
  "kernelspec": {
   "display_name": "Python 3 (ipykernel)",
   "language": "python",
   "name": "python3"
  },
  "language_info": {
   "codemirror_mode": {
    "name": "ipython",
    "version": 3
   },
   "file_extension": ".py",
   "mimetype": "text/x-python",
   "name": "python",
   "nbconvert_exporter": "python",
   "pygments_lexer": "ipython3",
   "version": "3.10.7"
  }
 },
 "nbformat": 4,
 "nbformat_minor": 5
}
