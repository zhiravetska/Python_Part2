{
 "cells": [
  {
   "cell_type": "code",
   "execution_count": null,
   "id": "878c84c9",
   "metadata": {},
   "outputs": [],
   "source": [
    "# Week 13"
   ]
  },
  {
   "cell_type": "code",
   "execution_count": 4,
   "id": "c8d3a3cf",
   "metadata": {},
   "outputs": [],
   "source": [
    "import tensorflow as tf\n",
    "from tensorflow.keras import layers,models\n",
    "from tensorflow...."
   ]
  },
  {
   "cell_type": "code",
   "execution_count": 5,
   "id": "670a899e",
   "metadata": {},
   "outputs": [],
   "source": [
    "import matplotlib.pyplot as plt"
   ]
  },
  {
   "cell_type": "code",
   "execution_count": null,
   "id": "078623a8",
   "metadata": {},
   "outputs": [],
   "source": [
    "image_size = (180,180)\n",
    "batch_size = 500"
   ]
  },
  {
   "cell_type": "code",
   "execution_count": null,
   "id": "25c63b06",
   "metadata": {},
   "outputs": [],
   "source": [
    "train_ds, val_ds = tf.keras.utils,image_dataset_from_directory(\n",
    "    \"Animal_pictures\",\n",
    "validation_split=0.2\n",
    "subset=\"both\",\n",
    "seed=100,\n",
    "image_size=image_size,\n",
    "batch_size=batch_size\n",
    ")"
   ]
  },
  {
   "cell_type": "code",
   "execution_count": null,
   "id": "63e8d52d",
   "metadata": {},
   "outputs": [],
   "source": [
    "plt.figure(fig=(10,10))\n",
    "for images,labels in train_ds.take(1):\n",
    "    for i in range(9):\n",
    "        ax=plt.subplot(3,3,i+1)\n",
    "        plt.imshow(images[i].numpy().astype(\"uint8\"))\n",
    "        plt.axis(\"off\")\n",
    "        ....."
   ]
  },
  {
   "cell_type": "code",
   "execution_count": null,
   "id": "a6ab02dc",
   "metadata": {},
   "outputs": [],
   "source": [
    "# build the model\n",
    "\n",
    "imputs = keras.Input(shape=image_size+(3,)) #(180,180,3)\n",
    "\n",
    "X = layers.Rescaling(1.0/255)(inputs)\n",
    "x = layers.Conv2D(128,3,strides=2,padding=\"same\")(x)\n",
    "X = layers.BatchNormalization()(x)\n",
    "x = labels.Activation(\"relu\")(x)\n",
    "\n",
    "previous_block_activation = x\n",
    "\n",
    "for size in [256,512,728]:\n",
    "    x = layers.Activation(\"relu\")(x)\n",
    "    x = layers.SeparableConv2D(size,3,padding=\"same\")(x)\n",
    "    x = layers.BatchNormalization()(x)\n",
    "    \n",
    "    x = layers.Activation(\"relu\")(x)\n",
    "    x = layers.SeparableConv2D(size,3,padding=\"same\")(x)\n",
    "    x = layers.BatchNormalization()(x)\n",
    "    x = layers.MaxPooling2D(3,strides=2,padding=\"same\")(x)\n",
    "    \n",
    "    residuals = layers.Conv2D(size,1,strides=2,padding=\"same\")(previous_block_activation)\n",
    "    x = layers.add([x,residuals])\n",
    "    previous_block_activation = x\n",
    "    \n",
    "x = layers.SeparableConv2D(size,3,padding=\"same\")(x)\n",
    "x = layers.BatchNormalization()(x)\n",
    "x = layers.Activation(\"relu\")(x)\n",
    "\n",
    "x = layers.GlobalAveragePooling2D()(x)\n",
    "x = layers.Dropout(0.5)(x)\n",
    "outputs = layers.Dense(units=\"1,activation=\"sigmoid\")(x)\n",
    "model = keras.Model(inputs,outputs)\n",
    "    "
   ]
  },
  {
   "cell_type": "code",
   "execution_count": null,
   "id": "c672e7cd",
   "metadata": {},
   "outputs": [],
   "source": [
    "model.compile(\n",
    "    optimizer=keras.optimizer.Adam(1e-3)\n",
    "    loss=\"binary_crossentropy\",\n",
    "    metrics=[\"accuracy\"],\n",
    ")"
   ]
  },
  {
   "cell_type": "markdown",
   "id": "648e626a",
   "metadata": {},
   "source": [
    "model.fit(\n",
    "    train_ds,\n",
    "    epochs=25\n",
    "    callbacks=[keras.callbacks.ModelCheckpoint(\"save_at_{epoch}.keras\")],\n",
    "    validation_data=val_ds\n",
    ")"
   ]
  },
  {
   "cell_type": "code",
   "execution_count": null,
   "id": "98a46149",
   "metadata": {},
   "outputs": [],
   "source": [
    "from keras.preprocessing.image import load_img\n",
    "import numpy as np\n",
    "\n",
    "image = load_img(\"cat.jpg\",target_size=image_size)\n",
    "img = np.array(image)\n",
    "img = img/255.0\n",
    "img = img.reshape()\n",
    "label = model.predict(img)"
   ]
  },
  {
   "cell_type": "code",
   "execution_count": null,
   "id": "4d3905a1",
   "metadata": {},
   "outputs": [],
   "source": [
    "label[0][0]"
   ]
  },
  {
   "cell_type": "code",
   "execution_count": null,
   "id": "dcbbaed7",
   "metadata": {},
   "outputs": [],
   "source": [
    "image = load_img(\"cat2.jpg\",target_size=image_size)\n",
    "img = np.array(image)\n",
    "img = img/255.0\n",
    "img = img.reshape()\n",
    "label = model.predict(img)\n",
    "label[0][0]"
   ]
  },
  {
   "cell_type": "code",
   "execution_count": null,
   "id": "6e67ca91",
   "metadata": {},
   "outputs": [],
   "source": [
    "image = load_img(\"cat3.jpg\",target_size=image_size)\n",
    "img = np.array(image)\n",
    "img = img/255.0\n",
    "img = img.reshape()\n",
    "label = model.predict(img)\n",
    "label[0][0]"
   ]
  },
  {
   "cell_type": "code",
   "execution_count": null,
   "id": "e96334b8",
   "metadata": {},
   "outputs": [],
   "source": [
    "image = load_img(\"dog1.jpg\",target_size=image_size)\n",
    "img = np.array(image)\n",
    "img = img/255.0\n",
    "img = img.reshape()\n",
    "label = model.predict(img)\n",
    "label[0][0]"
   ]
  },
  {
   "cell_type": "code",
   "execution_count": null,
   "id": "ddb31cff",
   "metadata": {},
   "outputs": [],
   "source": [
    "image = load_img(\"dog2.jpg\",target_size=image_size)\n",
    "img = np.array(image)\n",
    "img = img/255.0\n",
    "img = img.reshape()\n",
    "label = model.predict(img)\n",
    "label[0][0]"
   ]
  },
  {
   "cell_type": "code",
   "execution_count": null,
   "id": "a60889e8",
   "metadata": {},
   "outputs": [],
   "source": [
    "image = load_img(\"dog3.jpg\",target_size=image_size)\n",
    "img = np.array(image)\n",
    "img = img/255.0\n",
    "img = img.reshape()\n",
    "label = model.predict(img)\n",
    "label[0][0]"
   ]
  },
  {
   "cell_type": "code",
   "execution_count": null,
   "id": "cc20f2e9",
   "metadata": {},
   "outputs": [],
   "source": [
    "#text generation"
   ]
  },
  {
   "cell_type": "code",
   "execution_count": 1,
   "id": "bc7d1e9c",
   "metadata": {},
   "outputs": [],
   "source": [
    "import tensorflow as tf\n",
    "import numpy as np\n",
    "import os\n",
    "import time"
   ]
  },
  {
   "cell_type": "code",
   "execution_count": null,
   "id": "325fd385",
   "metadata": {},
   "outputs": [],
   "source": []
  },
  {
   "cell_type": "code",
   "execution_count": null,
   "id": "9c6565de",
   "metadata": {},
   "outputs": [],
   "source": []
  },
  {
   "cell_type": "code",
   "execution_count": null,
   "id": "04be0bfb",
   "metadata": {},
   "outputs": [],
   "source": []
  },
  {
   "cell_type": "code",
   "execution_count": null,
   "id": "99d1ce2a",
   "metadata": {},
   "outputs": [],
   "source": [
    "vocab = sorted(set(text)) # properties of set - it contains\n",
    "                          # the unique elements only"
   ]
  },
  {
   "cell_type": "code",
   "execution_count": null,
   "id": "830b6242",
   "metadata": {},
   "outputs": [],
   "source": [
    "vocab"
   ]
  },
  {
   "cell_type": "code",
   "execution_count": null,
   "id": "05328be6",
   "metadata": {},
   "outputs": [],
   "source": [
    "example_text = ['', '']"
   ]
  },
  {
   "cell_type": "code",
   "execution_count": null,
   "id": "2b8369a4",
   "metadata": {},
   "outputs": [],
   "source": [
    "chars = tf.string.unicode_split(example_text, input_encoding='UTF=8')"
   ]
  },
  {
   "cell_type": "code",
   "execution_count": null,
   "id": "32013ea3",
   "metadata": {},
   "outputs": [],
   "source": [
    "chars_from_ids = "
   ]
  },
  {
   "cell_type": "code",
   "execution_count": null,
   "id": "878eb3d4",
   "metadata": {},
   "outputs": [],
   "source": [
    "chars = "
   ]
  },
  {
   "cell_type": "code",
   "execution_count": null,
   "id": "f31b915d",
   "metadata": {},
   "outputs": [],
   "source": []
  }
 ],
 "metadata": {
  "kernelspec": {
   "display_name": "Python 3 (ipykernel)",
   "language": "python",
   "name": "python3"
  },
  "language_info": {
   "codemirror_mode": {
    "name": "ipython",
    "version": 3
   },
   "file_extension": ".py",
   "mimetype": "text/x-python",
   "name": "python",
   "nbconvert_exporter": "python",
   "pygments_lexer": "ipython3",
   "version": "3.10.7"
  }
 },
 "nbformat": 4,
 "nbformat_minor": 5
}
