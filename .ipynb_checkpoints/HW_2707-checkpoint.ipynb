{
 "cells": [
  {
   "cell_type": "code",
   "execution_count": null,
   "id": "c7cb7e25",
   "metadata": {},
   "outputs": [],
   "source": [
    "# HW_2707"
   ]
  },
  {
   "cell_type": "code",
   "execution_count": 2,
   "id": "032909af",
   "metadata": {},
   "outputs": [
    {
     "ename": "SyntaxError",
     "evalue": "invalid syntax (3945212712.py, line 2)",
     "output_type": "error",
     "traceback": [
      "\u001b[1;36m  Cell \u001b[1;32mIn [2], line 2\u001b[1;36m\u001b[0m\n\u001b[1;33m    START TRANSACTION;\u001b[0m\n\u001b[1;37m          ^\u001b[0m\n\u001b[1;31mSyntaxError\u001b[0m\u001b[1;31m:\u001b[0m invalid syntax\n"
     ]
    }
   ],
   "source": [
    "#**Task: Bank Transactions**\n",
    "# table : bank_account\n",
    "\n",
    "START TRANSACTION;\n",
    "UPDATE bank_account SET balance1 = balance1 - deducted_amount WHERE account1_id = 123456789;\n",
    "UPDATE bank_account SET balance2 = balance2 + deducted_amount WHERE account2_id = 987654321;\n",
    "IF account1_id != LV1234567890 OR account2_id != LV0987654321 THEN\n",
    "    ROLLBACK;\n",
    "ELSE\n",
    "    COMMIT;\n"
   ]
  },
  {
   "cell_type": "code",
   "execution_count": null,
   "id": "5ee2ac83",
   "metadata": {},
   "outputs": [],
   "source": [
    "#**Task: Order Processing**\n",
    "# table: product_inventory\n",
    "START TRANSACTION;\n",
    "DECLARE order_quantity;\n",
    "DECLARE product_id = XXX;\n",
    "\n",
    "UPDATE product_inventory SET product_stock = product_stock - order_quantity WHERE product_id = XXX;\n",
    "\n",
    "IF order_quantity >= product_stock THEN\n",
    "    ROLLBACK;\n",
    "    PRINT \"Order failed. Insufficient stock\"\n",
    "ELSE\n",
    "    COMMIT;"
   ]
  },
  {
   "cell_type": "code",
   "execution_count": null,
   "id": "7bc5e4f1",
   "metadata": {},
   "outputs": [],
   "source": [
    "#**Task: Employee Salary Adjustment**\n",
    "# tables: employees, salary_adjustments\n",
    "\n",
    "START TRANSACTION;\n",
    "DECLARE new_salary;\n",
    "DECLARE employee_id=XXX;\n",
    "DECLARE salary_adjustment;\n",
    "DECLARE performance;\n",
    "\n",
    "UPDATE emloyees SET new_salary = salary + salary_adjustment WHERE employee_id = XXX;\n",
    "\n",
    "IF performance == 0 THEN\n",
    "    ROLLBACK;\n",
    "    UPDATE emloyees SET new_salary = salary WHERE employee_id = XXX;\n",
    "ELSE\n",
    "    COMMIT;"
   ]
  },
  {
   "cell_type": "code",
   "execution_count": null,
   "id": "abc2d352",
   "metadata": {},
   "outputs": [],
   "source": [
    "#**Task: Flight Reservation**\n",
    "#tables: flights, seats, passengers, reservations\n",
    "\n",
    "START TRANSACTION;\n",
    "DECLARE flight_id = XXX;\n",
    "DECLARE passenger_id;\n",
    "DECLARE selected_seat;\n",
    "\n",
    "UPDATE seats SET seat_reserved = True WHERE flight_id = XXX AND seat_number = selected_seat;\n",
    "UPDATE reservations SET seat_number AND passenger_id WHERE flight_id = XXX;\n",
    "IF seat_reserved = False THEN\n",
    "    ROLLBACK;\n",
    "ELSE\n",
    "    COMMIT;"
   ]
  },
  {
   "cell_type": "code",
   "execution_count": null,
   "id": "b8e485bb",
   "metadata": {},
   "outputs": [],
   "source": [
    "#**Task: Product Returns**\n",
    "# tables: payments, orders, returns\n",
    "\n",
    "DECLARE order_id = XX;\n",
    "DECLARE return_id = XXX;\n",
    "DECLARE refund;\n",
    "\n",
    "START TRANSACTION;\n",
    "UPDATE returns SET return_status = \"Returned\" WHERE return_id = XXX;\n",
    "SELECT refund = payment FROM payments WHERE order_id = XX;\n",
    "INSERT INTO return_log (return_id, order_id) VALUES (return_id, ordr_id);\n",
    "    COMMIT;"
   ]
  },
  {
   "cell_type": "code",
   "execution_count": null,
   "id": "cde347e3",
   "metadata": {},
   "outputs": [],
   "source": [
    "#**Task: Student Enrollment**\n",
    "#tables: students_enrollment, fee_payment\n",
    "\n",
    "START TRANSACTION;\n",
    "DECLARE student_id = student_id_number;\n",
    "DECLARE student_fee;\n",
    "DECLARE course_limit = N;\n",
    "\n",
    "UPDATE student_enrollment SET courses = list(new_courses) WHERE student_id = student_id_number;\n",
    "UPDATE fee_payment SET balance2 = balance2 + deducted_amount WHERE student_id = student_id_number;\n",
    "IF courses > N THEN\n",
    "    ROLLBACK;\n",
    "ELSE\n",
    "    COMMIT;"
   ]
  },
  {
   "cell_type": "code",
   "execution_count": null,
   "id": "36859c85",
   "metadata": {},
   "outputs": [],
   "source": [
    "# Non SQL database\n",
    "#In Python, design your own design of the database (using the files) and perform some practical examples with it. "
   ]
  },
  {
   "cell_type": "code",
   "execution_count": 27,
   "id": "5997ecb2",
   "metadata": {},
   "outputs": [],
   "source": [
    "import json"
   ]
  },
  {
   "cell_type": "code",
   "execution_count": 28,
   "id": "051c0f25",
   "metadata": {},
   "outputs": [],
   "source": [
    "color1 = {\"color\": \"black\",\n",
    "      \"category\": \"hue\",\n",
    "      \"type\": \"primary\",\n",
    "      \"rgba\": [255,255,255,1],\n",
    "      \"hex\": \"#000\"\n",
    "}\n",
    "color2 = {\"color\": \"white\",\n",
    "      \"category\": \"value\",\n",
    "       \"type\": \"primary\",   \n",
    "      \"rgba\": [0,0,0,1],\n",
    "      \"hex\": \"#FFF\"\n",
    "}\n",
    "color3 = {\"color\": \"red\",\n",
    "      \"category\": \"hue\",\n",
    "      \"type\": \"primary\",\n",
    "      \"rgba\": [255,0,0,1],\n",
    "      \"hex\": \"#FF0\"\n",
    "}\n",
    "color4 = {\"color\": \"blue\",\n",
    "      \"category\": \"hue\",\n",
    "      \"type\": \"primary\",\n",
    "      \"rgba\": [0,0,255,1],\n",
    "      \"hex\": \"#00F\"\n",
    "}\n",
    "color5 = {\"color\": \"yellow\",\n",
    "      \"category\": \"hue\",\n",
    "      \"type\": \"primary\",\n",
    "      \"rgba\": [255,255,0,1],\n",
    "      \"hex\": \"#FF0\"\n",
    "}\n",
    "color6 = {\"color\": \"green\",\n",
    "      \"category\": \"hue\",\n",
    "      \"type\": \"secondary\",\n",
    "      \"rgba\": [0,255,0,1],\n",
    "      \"hex\": \"#0F0\"\n",
    "}\n",
    "\n",
    "colors = list()\n",
    "\n",
    "colors.append(color1)\n",
    "colors.append(color2)\n",
    "colors.append(color3)\n",
    "colors.append(color4)\n",
    "colors.append(color5)\n",
    "colors.append(color6)"
   ]
  },
  {
   "cell_type": "code",
   "execution_count": 29,
   "id": "3f19a6ba",
   "metadata": {},
   "outputs": [],
   "source": [
    "with open(\"colors.json\",\"w\") as json_f:\n",
    "    json.dump(colors,json_f)"
   ]
  },
  {
   "cell_type": "code",
   "execution_count": 30,
   "id": "5e73251f",
   "metadata": {},
   "outputs": [],
   "source": [
    "with open(\"colors.json\",\"r\") as json_f:\n",
    "    colors_data = json.load(json_f)"
   ]
  },
  {
   "cell_type": "code",
   "execution_count": 31,
   "id": "82f69636",
   "metadata": {},
   "outputs": [
    {
     "data": {
      "text/plain": [
       "[{'color': 'black',\n",
       "  'category': 'hue',\n",
       "  'type': 'primary',\n",
       "  'rgba': [255, 255, 255, 1],\n",
       "  'hex': '#000'},\n",
       " {'color': 'white',\n",
       "  'category': 'value',\n",
       "  'type': 'primary',\n",
       "  'rgba': [0, 0, 0, 1],\n",
       "  'hex': '#FFF'},\n",
       " {'color': 'red',\n",
       "  'category': 'hue',\n",
       "  'type': 'primary',\n",
       "  'rgba': [255, 0, 0, 1],\n",
       "  'hex': '#FF0'},\n",
       " {'color': 'blue',\n",
       "  'category': 'hue',\n",
       "  'type': 'primary',\n",
       "  'rgba': [0, 0, 255, 1],\n",
       "  'hex': '#00F'},\n",
       " {'color': 'yellow',\n",
       "  'category': 'hue',\n",
       "  'type': 'primary',\n",
       "  'rgba': [255, 255, 0, 1],\n",
       "  'hex': '#FF0'},\n",
       " {'color': 'green',\n",
       "  'category': 'hue',\n",
       "  'type': 'secondary',\n",
       "  'rgba': [0, 255, 0, 1],\n",
       "  'hex': '#0F0'}]"
      ]
     },
     "execution_count": 31,
     "metadata": {},
     "output_type": "execute_result"
    }
   ],
   "source": [
    "colors_data"
   ]
  },
  {
   "cell_type": "code",
   "execution_count": 44,
   "id": "67d209c3",
   "metadata": {},
   "outputs": [],
   "source": [
    "class ColorsDB:\n",
    "    \n",
    "    def __init__(self):\n",
    "      with open(\"color.json\",\"r\") as json_f:\n",
    "            self.colors_data = json.load(json_f)\n",
    "            self.colors_data_init = self.colors_data.copy()\n",
    "            \n",
    "                \n",
    "    def insert(self,color:str,category:str,type:str,rgba:list(),hex:str):\n",
    "        color = {\"color\":color,\"category\":category,\"type\":type,\"rgba\":rgba,\"hex\":hex}\n",
    "        self.colors_data.append(color)\n",
    "        \n",
    "    def commit(self):\n",
    "        with open(\"colors.json\",\"w\") as json_f:\n",
    "            json.dump(self.colors_data,json_f)\n",
    "  "
   ]
  },
  {
   "cell_type": "code",
   "execution_count": 45,
   "id": "e1ff2a5c",
   "metadata": {},
   "outputs": [],
   "source": [
    "color_db = ColorsDB()"
   ]
  },
  {
   "cell_type": "code",
   "execution_count": 49,
   "id": "01f85541",
   "metadata": {},
   "outputs": [
    {
     "ename": "AttributeError",
     "evalue": "'dict' object has no attribute 'append'",
     "output_type": "error",
     "traceback": [
      "\u001b[1;31m---------------------------------------------------------------------------\u001b[0m",
      "\u001b[1;31mAttributeError\u001b[0m                            Traceback (most recent call last)",
      "Cell \u001b[1;32mIn [49], line 1\u001b[0m\n\u001b[1;32m----> 1\u001b[0m \u001b[43mcolor_db\u001b[49m\u001b[38;5;241;43m.\u001b[39;49m\u001b[43minsert\u001b[49m\u001b[43m(\u001b[49m\u001b[38;5;124;43m\"\u001b[39;49m\u001b[38;5;124;43mviolet\u001b[39;49m\u001b[38;5;124;43m\"\u001b[39;49m\u001b[43m,\u001b[49m\u001b[38;5;124;43m\"\u001b[39;49m\u001b[38;5;124;43mhue\u001b[39;49m\u001b[38;5;124;43m\"\u001b[39;49m\u001b[43m,\u001b[49m\u001b[38;5;124;43m\"\u001b[39;49m\u001b[38;5;124;43msecondary\u001b[39;49m\u001b[38;5;124;43m\"\u001b[39;49m\u001b[43m,\u001b[49m\u001b[43m[\u001b[49m\u001b[38;5;241;43m134\u001b[39;49m\u001b[43m,\u001b[49m\u001b[38;5;241;43m1\u001b[39;49m\u001b[43m,\u001b[49m\u001b[38;5;241;43m175\u001b[39;49m\u001b[43m,\u001b[49m\u001b[38;5;241;43m0\u001b[39;49m\u001b[43m]\u001b[49m\u001b[43m,\u001b[49m\u001b[38;5;124;43m\"\u001b[39;49m\u001b[38;5;124;43m#8601AF\u001b[39;49m\u001b[38;5;124;43m\"\u001b[39;49m\u001b[43m)\u001b[49m\n",
      "Cell \u001b[1;32mIn [44], line 21\u001b[0m, in \u001b[0;36mColorsDB.insert\u001b[1;34m(self, color, category, type, rgba, hex)\u001b[0m\n\u001b[0;32m     19\u001b[0m color \u001b[38;5;241m=\u001b[39m {\u001b[38;5;124m\"\u001b[39m\u001b[38;5;124mcolor\u001b[39m\u001b[38;5;124m\"\u001b[39m:color,\u001b[38;5;124m\"\u001b[39m\u001b[38;5;124mcategory\u001b[39m\u001b[38;5;124m\"\u001b[39m:category,\u001b[38;5;124m\"\u001b[39m\u001b[38;5;124mtype\u001b[39m\u001b[38;5;124m\"\u001b[39m:\u001b[38;5;28mtype\u001b[39m,\u001b[38;5;124m\"\u001b[39m\u001b[38;5;124mrgba\u001b[39m\u001b[38;5;124m\"\u001b[39m:rgba,\u001b[38;5;124m\"\u001b[39m\u001b[38;5;124mhex\u001b[39m\u001b[38;5;124m\"\u001b[39m:\u001b[38;5;28mhex\u001b[39m}\n\u001b[0;32m     20\u001b[0m \u001b[38;5;66;03m#self.colors_data.append(color)\u001b[39;00m\n\u001b[1;32m---> 21\u001b[0m \u001b[38;5;28;43mself\u001b[39;49m\u001b[38;5;241;43m.\u001b[39;49m\u001b[43mcolors\u001b[49m\u001b[38;5;241;43m.\u001b[39;49m\u001b[43mappend\u001b[49m(color)\n",
      "\u001b[1;31mAttributeError\u001b[0m: 'dict' object has no attribute 'append'"
     ]
    }
   ],
   "source": [
    "color_db.insert(\"violet\",\"hue\",\"secondary\",[134,1,175,0],\"#8601AF\")"
   ]
  }
 ],
 "metadata": {
  "kernelspec": {
   "display_name": "Python 3 (ipykernel)",
   "language": "python",
   "name": "python3"
  },
  "language_info": {
   "codemirror_mode": {
    "name": "ipython",
    "version": 3
   },
   "file_extension": ".py",
   "mimetype": "text/x-python",
   "name": "python",
   "nbconvert_exporter": "python",
   "pygments_lexer": "ipython3",
   "version": "3.10.7"
  }
 },
 "nbformat": 4,
 "nbformat_minor": 5
}
