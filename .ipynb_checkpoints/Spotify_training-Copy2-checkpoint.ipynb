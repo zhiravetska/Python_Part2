{
 "cells": [
  {
   "cell_type": "code",
   "execution_count": 1,
   "id": "51f8c7c2",
   "metadata": {},
   "outputs": [],
   "source": [
    "import spotipy\n",
    "from spotipy.oauth2 import SpotifyClientCredentials\n",
    "import pandas as pd"
   ]
  },
  {
   "cell_type": "code",
   "execution_count": 2,
   "id": "25f97733",
   "metadata": {},
   "outputs": [],
   "source": [
    "#Authentication - without user\n",
    "\n",
    "# client_id = 'YOUR_CLIENT_ID'\n",
    "# client_secret = 'YOUR_CLIENT_SECRET'\n",
    "\n",
    "client_credentials_manager = SpotifyClientCredentials(client_id=\"98c375cd6a8b464ebe3d7fece4bd9fa4\", client_secret=\"5cd8420044ea4ebe902beb3a227ee30e\")\n",
    "sp = spotipy.Spotify(client_credentials_manager = client_credentials_manager)"
   ]
  },
  {
   "cell_type": "code",
   "execution_count": 3,
   "id": "944d3c04",
   "metadata": {
    "scrolled": true
   },
   "outputs": [],
   "source": [
    "playlist_link = \"https://open.spotify.com/playlist/37i9dQZF1DWUa8ZRTfalHk\"\n",
    "playlist_URI = playlist_link.split(\"/\")[-1].split(\"?\")[0]\n",
    "track_uris = [x[\"track\"][\"uri\"] for x in sp.playlist_tracks(playlist_URI)[\"items\"]]"
   ]
  },
  {
   "cell_type": "code",
   "execution_count": 4,
   "id": "73f14fc5",
   "metadata": {},
   "outputs": [
    {
     "data": {
      "text/plain": [
       "['spotify:track:34sOdxWu9FljH84UXdRwu1',\n",
       " 'spotify:track:5WZlorRUxgryaweu7kqeHd',\n",
       " 'spotify:track:5mjYQaktjmjcMKcUIcqz4s',\n",
       " 'spotify:track:3b5MPNYlX8ztJowxAwzTai',\n",
       " 'spotify:track:3Nl5OkkmS5DaBZvuYofpAt',\n",
       " 'spotify:track:3rmqiQbzPDx7A8p88IRFKg',\n",
       " 'spotify:track:6iF4RgIjDvDqyW13PezSj3',\n",
       " 'spotify:track:56v8WEnGzLByGsDAXDiv4d',\n",
       " 'spotify:track:12qq70vp6hMUikpAyeyDPc',\n",
       " 'spotify:track:41WQUSINanQHfhfKpFDsms',\n",
       " 'spotify:track:39fD0qvjgk8RarJnoBiDTx',\n",
       " 'spotify:track:1exDZN0zsfDpsIKamOqmSz',\n",
       " 'spotify:track:1dh5DUke1yHJzIF3Sa7nXC',\n",
       " 'spotify:track:1mFpMoeZfkIqtqW2AfQ8ba',\n",
       " 'spotify:track:79DPYZ6x8FfzgSgPoPhpC3',\n",
       " 'spotify:track:3tNMdL4qjzNHfo7rlVMESK',\n",
       " 'spotify:track:2i8f4VnnBjy0yDqH2C452a',\n",
       " 'spotify:track:6bIJHwyaNb1txgOKbYh0rH',\n",
       " 'spotify:track:444vevlQjTnKioLLncteGv',\n",
       " 'spotify:track:6usohdchdzW9oML7VC4Uhk',\n",
       " 'spotify:track:0cVyQfDyRnMJ0V3rjjdlU3',\n",
       " 'spotify:track:2IGMVunIBsBLtEQyoI1Mu7',\n",
       " 'spotify:track:7KQejvX8GC4qMjB8vWSp2p',\n",
       " 'spotify:track:5h1BN75CEh8wdSwE1xrbSe',\n",
       " 'spotify:track:6ErCfbbI9BG4bK2djjKUvP',\n",
       " 'spotify:track:0K2KKyyKoPaNTOUPxubHPN',\n",
       " 'spotify:track:2GWCZJWundoYi5IloWIgTX',\n",
       " 'spotify:track:7JLzv38qr5GxXYqQfuQJP9',\n",
       " 'spotify:track:22dUzMFttcR3uU17NcOAIv',\n",
       " 'spotify:track:7lvfYYQXH6fxP7JAiY1tjz',\n",
       " 'spotify:track:2DtUUBwYwEzKMTMDrc5EiO',\n",
       " 'spotify:track:5sA3i6SGkILMiZW6Fhx4wv',\n",
       " 'spotify:track:1q4BCQssFe74UJmnWt5lov',\n",
       " 'spotify:track:6NdnvPwQvZb147DVa4x14h',\n",
       " 'spotify:track:0rzaRSujxA0bKyjJl6vHYq',\n",
       " 'spotify:track:3YgtkOxZsTuaZdL8McA1FQ',\n",
       " 'spotify:track:7mobUfp1aL8A6CdugCMWft',\n",
       " 'spotify:track:5VxmI3IdgAxWVvUnJoLuY2',\n",
       " 'spotify:track:3WM3StDOsMAYaCjxymQeOy',\n",
       " 'spotify:track:2soZTM1x1GBiQGMAsXKXpd',\n",
       " 'spotify:track:3YfGTvsTAWGC2lgoDOikUz',\n",
       " 'spotify:track:2Zo1PcszsT9WQ0ANntJbID',\n",
       " 'spotify:track:1o8Z7GD1CeOaVBEyuzu4HO',\n",
       " 'spotify:track:1xemKSmCnH59ze3KX5wwgH',\n",
       " 'spotify:track:6zZWoHlF2zNSLUNLvx4GUl',\n",
       " 'spotify:track:4bp4kwe29qY9PBdrEgSa53',\n",
       " 'spotify:track:3P9pRL7V9yM9DhY6NGZjzA',\n",
       " 'spotify:track:7roB6h5rQPhFRK307eIQk6',\n",
       " 'spotify:track:1xaI8BC30DDf9RDQSWyonb',\n",
       " 'spotify:track:1HteYUSXKUMm6A8vdZid7p',\n",
       " 'spotify:track:6wf7Yu7cxBSPrRlWeSeK0Q',\n",
       " 'spotify:track:6Ky8ROf2VWY5vwoGfMet7x',\n",
       " 'spotify:track:6jYo2opycXJs1wj2jENEiq',\n",
       " 'spotify:track:7kaFsQygyiCqRboWCXztxZ',\n",
       " 'spotify:track:5OqMZ8In8CkCa0SbknnDPl',\n",
       " 'spotify:track:0YQ0N57Whq3vgF7bqUNDHs',\n",
       " 'spotify:track:51Zw1cKDgkad0CXv23HCMU',\n",
       " 'spotify:track:4uOBL4DDWWVx4RhYKlPbPC',\n",
       " 'spotify:track:3k0DJq2HdWJqnqor8NX0ac',\n",
       " 'spotify:track:4LHq10VKu3fSIg8EeVRi09',\n",
       " 'spotify:track:2Kqw2ECnErSCU9bxPSVgGx',\n",
       " 'spotify:track:0nNARbTLwzLGz51aUEZPnp',\n",
       " 'spotify:track:1vYXt7VSjH9JIM5oRRo7vA',\n",
       " 'spotify:track:22VHOlVYBqytsrAqV8yXBK',\n",
       " 'spotify:track:7x9aauaA9cu6tyfpHnqDLo',\n",
       " 'spotify:track:07fbDnkKdZGk1gLvknxrns',\n",
       " 'spotify:track:5sdQOyqq2IDhvmx2lHOpwd',\n",
       " 'spotify:track:5kHMfzgLZP95O9NBy0ku4v',\n",
       " 'spotify:track:3t0ic4mkhvhamrKDkulB8v',\n",
       " 'spotify:track:4IhsInWIIjUg9Q04eqgnGl',\n",
       " 'spotify:track:7r2DoJ1tzl12CJ3fbsmoUT',\n",
       " 'spotify:track:7vfCm8tEWV9lCpyY1nvJVB',\n",
       " 'spotify:track:1odExI7RdWc4BT515LTAwj',\n",
       " 'spotify:track:2ibGdhv3nTO89VN9KR7N2H',\n",
       " 'spotify:track:1BxfuPKGuaTgP7aM0Bbdwr',\n",
       " 'spotify:track:3DBJE1Zndql25OGUQSv7aD',\n",
       " 'spotify:track:1rBTBbtkJlSDk78gg8Dw9F',\n",
       " 'spotify:track:6WzRpISELf3YglGAh7TXcG',\n",
       " 'spotify:track:56xb5xXdUopdjiknbFmC4W',\n",
       " 'spotify:track:0hIDcUm3mJEn4gNo2ocLM5',\n",
       " 'spotify:track:2NbsBSshscKIPRG3kwBbfo',\n",
       " 'spotify:track:7culXP38P58h83PXwLQqyg',\n",
       " 'spotify:track:4ztdjZ2t7BVo5DLIFQBdJh',\n",
       " 'spotify:track:3ZEno9fORwMA1HPecdLi0R',\n",
       " 'spotify:track:2yjeXq5ahx6UUg2rHaUe6X']"
      ]
     },
     "execution_count": 4,
     "metadata": {},
     "output_type": "execute_result"
    }
   ],
   "source": [
    "track_uris"
   ]
  },
  {
   "cell_type": "code",
   "execution_count": 22,
   "id": "fa8cf96b",
   "metadata": {},
   "outputs": [],
   "source": [
    "trackuri = []\n",
    "tname = []\n",
    "artisturi = []\n",
    "artistinfo = []\n",
    "artname = []\n",
    "artpop = []\n",
    "artgenres = []\n",
    "albumname = []\n",
    "tpop = []\n"
   ]
  },
  {
   "cell_type": "code",
   "execution_count": 23,
   "id": "9df94f37",
   "metadata": {},
   "outputs": [
    {
     "data": {
      "text/plain": [
       "71"
      ]
     },
     "execution_count": 23,
     "metadata": {},
     "output_type": "execute_result"
    }
   ],
   "source": [
    "\n",
    "for track in sp.playlist_tracks(playlist_URI)[\"items\"]:\n",
    "    #URI\n",
    "    track_uri = track[\"track\"][\"uri\"]\n",
    "    \n",
    "    #Track name\n",
    "    track_name = track[\"track\"][\"name\"]\n",
    "    \n",
    "    #Main Artist\n",
    "    artist_uri = track[\"track\"][\"artists\"][0][\"uri\"]\n",
    "    artist_info = sp.artist(artist_uri)\n",
    "    \n",
    "    #Name, popularity, genre\n",
    "    artist_name = track[\"track\"][\"artists\"][0][\"name\"]\n",
    "    artist_pop = artist_info[\"popularity\"]\n",
    "    artist_info[\"genres\"]\n",
    "    \n",
    "    #Album\n",
    "    album = track[\"track\"][\"album\"][\"name\"]\n",
    "    \n",
    "    #Popularity of the track\n",
    "    track_pop = track[\"track\"][\"popularity\"]\n",
    "    \n",
    "#track_uri \n",
    "track_name \n",
    "#artist_uri \n",
    "#artist_info \n",
    "artist_name \n",
    "artist_pop \n",
    "artist_info \n",
    "album \n",
    "track_pop "
   ]
  },
  {
   "cell_type": "code",
   "execution_count": 24,
   "id": "f6fa0fea",
   "metadata": {},
   "outputs": [],
   "source": [
    "for track in sp.playlist_tracks(playlist_URI)[\"items\"]:\n",
    "    trackuri.append(track[\"track\"][\"uri\"])\n",
    "    tname.append(track[\"track\"][\"name\"])\n",
    "    artisturi.append(track[\"track\"][\"artists\"][0][\"uri\"])\n",
    "    artistinfo.append(sp.artist(artist_uri))\n",
    "    artname.append(track[\"track\"][\"artists\"][0][\"name\"])\n",
    "    artpop.append(artist_info[\"popularity\"])\n",
    "    artgenres.append(artist_info[\"genres\"])\n",
    "    albumname.append(track[\"track\"][\"album\"][\"name\"])\n",
    "    #tpop.append(track[\"track\"][\"popularity\"])\n",
    "    \n",
    " "
   ]
  },
  {
   "cell_type": "code",
   "execution_count": 26,
   "id": "b14db63f",
   "metadata": {},
   "outputs": [
    {
     "data": {
      "text/plain": [
       "85"
      ]
     },
     "execution_count": 26,
     "metadata": {},
     "output_type": "execute_result"
    }
   ],
   "source": [
    "len(artisturi)"
   ]
  },
  {
   "cell_type": "code",
   "execution_count": 34,
   "id": "24957edc",
   "metadata": {},
   "outputs": [
    {
     "data": {
      "text/plain": [
       "85"
      ]
     },
     "execution_count": 34,
     "metadata": {},
     "output_type": "execute_result"
    }
   ],
   "source": [
    "len(artistinfo)"
   ]
  },
  {
   "cell_type": "code",
   "execution_count": 28,
   "id": "20b03826",
   "metadata": {},
   "outputs": [
    {
     "data": {
      "text/plain": [
       "85"
      ]
     },
     "execution_count": 28,
     "metadata": {},
     "output_type": "execute_result"
    }
   ],
   "source": [
    "len(artname)"
   ]
  },
  {
   "cell_type": "code",
   "execution_count": 29,
   "id": "10ee7fa7",
   "metadata": {},
   "outputs": [
    {
     "data": {
      "text/plain": [
       "85"
      ]
     },
     "execution_count": 29,
     "metadata": {},
     "output_type": "execute_result"
    }
   ],
   "source": [
    "len(artpop)"
   ]
  },
  {
   "cell_type": "code",
   "execution_count": 30,
   "id": "8e3082b9",
   "metadata": {},
   "outputs": [
    {
     "data": {
      "text/plain": [
       "85"
      ]
     },
     "execution_count": 30,
     "metadata": {},
     "output_type": "execute_result"
    }
   ],
   "source": [
    "len(artgenres)"
   ]
  },
  {
   "cell_type": "code",
   "execution_count": 31,
   "id": "ab4ea9aa",
   "metadata": {},
   "outputs": [
    {
     "data": {
      "text/plain": [
       "85"
      ]
     },
     "execution_count": 31,
     "metadata": {},
     "output_type": "execute_result"
    }
   ],
   "source": [
    "len(albumname)"
   ]
  },
  {
   "cell_type": "code",
   "execution_count": 33,
   "id": "0d29fde5",
   "metadata": {},
   "outputs": [
    {
     "data": {
      "text/plain": [
       "0"
      ]
     },
     "execution_count": 33,
     "metadata": {},
     "output_type": "execute_result"
    }
   ],
   "source": [
    "len(tpop)"
   ]
  },
  {
   "cell_type": "code",
   "execution_count": 36,
   "id": "e69c92aa",
   "metadata": {},
   "outputs": [],
   "source": [
    "data = {\"Track_URI\": trackuri,\n",
    "        \"Track Name\": tname,\n",
    "        \"Artist URI\": artisturi,\n",
    "        \"Artist Info\": artistinfo,\n",
    "        \"Artist Name\": artname, \n",
    "        \"Artist Pop\": artpop, \n",
    "        \"Genres\": artgenres,\n",
    "        \"Album\": albumname}\n",
    "\n",
    "# data = {\"URI\": track_uri,\n",
    "#         \"Name\": track_name, \n",
    "#         \"Artist URI\": artist_uri,\n",
    "#         \"Artist Info\": artist_info,\n",
    "#         \"Artist Name\": artist_name, \n",
    "#         \"Artist Pop\": artist_pop, \n",
    "#         \"Genres\": artist_genres,\n",
    "#         \"Album\": album, \n",
    "#         \"Popularity\": track_pop}"
   ]
  },
  {
   "cell_type": "code",
   "execution_count": 37,
   "id": "2784ac3e",
   "metadata": {},
   "outputs": [],
   "source": [
    "df = pd.DataFrame(data)"
   ]
  },
  {
   "cell_type": "code",
   "execution_count": 38,
   "id": "35701f39",
   "metadata": {},
   "outputs": [
    {
     "data": {
      "text/html": [
       "<div>\n",
       "<style scoped>\n",
       "    .dataframe tbody tr th:only-of-type {\n",
       "        vertical-align: middle;\n",
       "    }\n",
       "\n",
       "    .dataframe tbody tr th {\n",
       "        vertical-align: top;\n",
       "    }\n",
       "\n",
       "    .dataframe thead th {\n",
       "        text-align: right;\n",
       "    }\n",
       "</style>\n",
       "<table border=\"1\" class=\"dataframe\">\n",
       "  <thead>\n",
       "    <tr style=\"text-align: right;\">\n",
       "      <th></th>\n",
       "      <th>Track_URI</th>\n",
       "      <th>Track Name</th>\n",
       "      <th>Artist URI</th>\n",
       "      <th>Artist Info</th>\n",
       "      <th>Artist Name</th>\n",
       "      <th>Artist Pop</th>\n",
       "      <th>Genres</th>\n",
       "      <th>Album</th>\n",
       "    </tr>\n",
       "  </thead>\n",
       "  <tbody>\n",
       "    <tr>\n",
       "      <th>0</th>\n",
       "      <td>spotify:track:34sOdxWu9FljH84UXdRwu1</td>\n",
       "      <td>all-american bitch</td>\n",
       "      <td>spotify:artist:1McMsnEElThX1knmY4oliG</td>\n",
       "      <td>{'external_urls': {'spotify': 'https://open.sp...</td>\n",
       "      <td>Olivia Rodrigo</td>\n",
       "      <td>77</td>\n",
       "      <td>[modern indie pop, pov: indie, singer-songwrit...</td>\n",
       "      <td>GUTS</td>\n",
       "    </tr>\n",
       "    <tr>\n",
       "      <th>1</th>\n",
       "      <td>spotify:track:5WZlorRUxgryaweu7kqeHd</td>\n",
       "      <td>Other Boys</td>\n",
       "      <td>spotify:artist:64KEffDW9EtZ1y2vBYgq8T</td>\n",
       "      <td>{'external_urls': {'spotify': 'https://open.sp...</td>\n",
       "      <td>Marshmello</td>\n",
       "      <td>77</td>\n",
       "      <td>[modern indie pop, pov: indie, singer-songwrit...</td>\n",
       "      <td>Other Boys</td>\n",
       "    </tr>\n",
       "    <tr>\n",
       "      <th>2</th>\n",
       "      <td>spotify:track:5mjYQaktjmjcMKcUIcqz4s</td>\n",
       "      <td>Strangers</td>\n",
       "      <td>spotify:artist:7uMDnSZyUYNBPLhPMNuaM2</td>\n",
       "      <td>{'external_urls': {'spotify': 'https://open.sp...</td>\n",
       "      <td>Kenya Grace</td>\n",
       "      <td>77</td>\n",
       "      <td>[modern indie pop, pov: indie, singer-songwrit...</td>\n",
       "      <td>Strangers</td>\n",
       "    </tr>\n",
       "    <tr>\n",
       "      <th>3</th>\n",
       "      <td>spotify:track:3b5MPNYlX8ztJowxAwzTai</td>\n",
       "      <td>Winner</td>\n",
       "      <td>spotify:artist:4Uc8Dsxct0oMqx0P6i60ea</td>\n",
       "      <td>{'external_urls': {'spotify': 'https://open.sp...</td>\n",
       "      <td>Conan Gray</td>\n",
       "      <td>77</td>\n",
       "      <td>[modern indie pop, pov: indie, singer-songwrit...</td>\n",
       "      <td>Winner</td>\n",
       "    </tr>\n",
       "    <tr>\n",
       "      <th>4</th>\n",
       "      <td>spotify:track:3Nl5OkkmS5DaBZvuYofpAt</td>\n",
       "      <td>the grudge</td>\n",
       "      <td>spotify:artist:1McMsnEElThX1knmY4oliG</td>\n",
       "      <td>{'external_urls': {'spotify': 'https://open.sp...</td>\n",
       "      <td>Olivia Rodrigo</td>\n",
       "      <td>77</td>\n",
       "      <td>[modern indie pop, pov: indie, singer-songwrit...</td>\n",
       "      <td>GUTS</td>\n",
       "    </tr>\n",
       "  </tbody>\n",
       "</table>\n",
       "</div>"
      ],
      "text/plain": [
       "                              Track_URI          Track Name  \\\n",
       "0  spotify:track:34sOdxWu9FljH84UXdRwu1  all-american bitch   \n",
       "1  spotify:track:5WZlorRUxgryaweu7kqeHd          Other Boys   \n",
       "2  spotify:track:5mjYQaktjmjcMKcUIcqz4s           Strangers   \n",
       "3  spotify:track:3b5MPNYlX8ztJowxAwzTai              Winner   \n",
       "4  spotify:track:3Nl5OkkmS5DaBZvuYofpAt          the grudge   \n",
       "\n",
       "                              Artist URI  \\\n",
       "0  spotify:artist:1McMsnEElThX1knmY4oliG   \n",
       "1  spotify:artist:64KEffDW9EtZ1y2vBYgq8T   \n",
       "2  spotify:artist:7uMDnSZyUYNBPLhPMNuaM2   \n",
       "3  spotify:artist:4Uc8Dsxct0oMqx0P6i60ea   \n",
       "4  spotify:artist:1McMsnEElThX1knmY4oliG   \n",
       "\n",
       "                                         Artist Info     Artist Name  \\\n",
       "0  {'external_urls': {'spotify': 'https://open.sp...  Olivia Rodrigo   \n",
       "1  {'external_urls': {'spotify': 'https://open.sp...      Marshmello   \n",
       "2  {'external_urls': {'spotify': 'https://open.sp...     Kenya Grace   \n",
       "3  {'external_urls': {'spotify': 'https://open.sp...      Conan Gray   \n",
       "4  {'external_urls': {'spotify': 'https://open.sp...  Olivia Rodrigo   \n",
       "\n",
       "   Artist Pop                                             Genres       Album  \n",
       "0          77  [modern indie pop, pov: indie, singer-songwrit...        GUTS  \n",
       "1          77  [modern indie pop, pov: indie, singer-songwrit...  Other Boys  \n",
       "2          77  [modern indie pop, pov: indie, singer-songwrit...   Strangers  \n",
       "3          77  [modern indie pop, pov: indie, singer-songwrit...      Winner  \n",
       "4          77  [modern indie pop, pov: indie, singer-songwrit...        GUTS  "
      ]
     },
     "execution_count": 38,
     "metadata": {},
     "output_type": "execute_result"
    }
   ],
   "source": [
    "df.head()"
   ]
  },
  {
   "cell_type": "code",
   "execution_count": 41,
   "id": "19b47a09",
   "metadata": {},
   "outputs": [
    {
     "data": {
      "text/plain": [
       "'Cupid - Twin Ver.'"
      ]
     },
     "execution_count": 41,
     "metadata": {},
     "output_type": "execute_result"
    }
   ],
   "source": [
    "track_name"
   ]
  },
  {
   "cell_type": "code",
   "execution_count": 42,
   "id": "e7156acd",
   "metadata": {},
   "outputs": [
    {
     "data": {
      "text/plain": [
       "94"
      ]
     },
     "execution_count": 42,
     "metadata": {},
     "output_type": "execute_result"
    }
   ],
   "source": [
    "track_pop"
   ]
  },
  {
   "cell_type": "code",
   "execution_count": 6,
   "id": "09d2bcd1",
   "metadata": {},
   "outputs": [
    {
     "data": {
      "text/plain": [
       "'Cupid - Twin Ver.'"
      ]
     },
     "execution_count": 6,
     "metadata": {},
     "output_type": "execute_result"
    }
   ],
   "source": [
    "track_name #???"
   ]
  },
  {
   "cell_type": "code",
   "execution_count": 7,
   "id": "0cffa992",
   "metadata": {},
   "outputs": [
    {
     "data": {
      "text/plain": [
       "['k-pop girl group']"
      ]
     },
     "execution_count": 7,
     "metadata": {},
     "output_type": "execute_result"
    }
   ],
   "source": [
    "artist_genres"
   ]
  },
  {
   "cell_type": "code",
   "execution_count": 8,
   "id": "4f53a15f",
   "metadata": {},
   "outputs": [
    {
     "data": {
      "text/plain": [
       "75"
      ]
     },
     "execution_count": 8,
     "metadata": {},
     "output_type": "execute_result"
    }
   ],
   "source": [
    "artist_pop"
   ]
  },
  {
   "cell_type": "code",
   "execution_count": 39,
   "id": "7a8f13e2",
   "metadata": {},
   "outputs": [
    {
     "data": {
      "text/plain": [
       "{'danceability': 0.57,\n",
       " 'energy': 0.635,\n",
       " 'key': 1,\n",
       " 'loudness': -6.641,\n",
       " 'mode': 1,\n",
       " 'speechiness': 0.121,\n",
       " 'acousticness': 0.186,\n",
       " 'instrumentalness': 0,\n",
       " 'liveness': 0.0874,\n",
       " 'valence': 0.364,\n",
       " 'tempo': 84.856,\n",
       " 'type': 'audio_features',\n",
       " 'id': '2yjeXq5ahx6UUg2rHaUe6X',\n",
       " 'uri': 'spotify:track:2yjeXq5ahx6UUg2rHaUe6X',\n",
       " 'track_href': 'https://api.spotify.com/v1/tracks/2yjeXq5ahx6UUg2rHaUe6X',\n",
       " 'analysis_url': 'https://api.spotify.com/v1/audio-analysis/2yjeXq5ahx6UUg2rHaUe6X',\n",
       " 'duration_ms': 176455,\n",
       " 'time_signature': 4}"
      ]
     },
     "execution_count": 39,
     "metadata": {},
     "output_type": "execute_result"
    }
   ],
   "source": [
    "sp.audio_features(track_uri)[0]"
   ]
  },
  {
   "cell_type": "code",
   "execution_count": 10,
   "id": "5f933436",
   "metadata": {},
   "outputs": [
    {
     "name": "stderr",
     "output_type": "stream",
     "text": [
      "2023-09-08 17:42:10.942 \n",
      "  \u001b[33m\u001b[1mWarning:\u001b[0m to view this Streamlit app on a browser, run it with the following\n",
      "  command:\n",
      "\n",
      "    streamlit run C:\\Users\\zirav\\AppData\\Local\\Programs\\Python\\Python310\\lib\\site-packages\\ipykernel_launcher.py [ARGUMENTS]\n"
     ]
    },
    {
     "data": {
      "text/plain": [
       "DeltaGenerator()"
      ]
     },
     "execution_count": 10,
     "metadata": {},
     "output_type": "execute_result"
    }
   ],
   "source": [
    "# using Streamlit to create a simple UI that allows users to input a Spotify playlist name \n",
    "# and displays various analyses of the playlist\n",
    "\n",
    "import streamlit as st\n",
    "\n",
    "#run C:\\Users\\zirav\\AppData\\Local\\Programs\\Python\\Python310\\lib\\site-packages\\ipykernel_launcher.py\n",
    "\n",
    "st.title(\"SpotifyPlaylist\")"
   ]
  },
  {
   "cell_type": "code",
   "execution_count": 35,
   "id": "a4998453",
   "metadata": {},
   "outputs": [],
   "source": [
    "# Adding User Input with Streamlit\n",
    "playlist_name = st.sidebar.text_input(\"spotify:playlist:37i9dQZEVXbNG2KDcFcKOF\")\n"
   ]
  },
  {
   "cell_type": "code",
   "execution_count": 36,
   "id": "47b502d2",
   "metadata": {},
   "outputs": [],
   "source": [
    "# Retrieving Data from the Spotify API\n",
    "\n",
    "if playlist_name:\n",
    "    playlists = sp.search(playlist_name, type=\"playlist\")[\"playlists\"][\"items\"]\n",
    "    if playlists:\n",
    "        playlist_id = playlists[0][\"id\"]\n",
    "    else:\n",
    "        st.write(\"No playlists found with that name.\")\n",
    "        playlist_id = None\n",
    "else:\n",
    "    playlist_id = None"
   ]
  },
  {
   "cell_type": "code",
   "execution_count": 30,
   "id": "dd7a2614",
   "metadata": {},
   "outputs": [
    {
     "name": "stdout",
     "output_type": "stream",
     "text": [
      "None\n"
     ]
    }
   ],
   "source": [
    "print(playlist_id)"
   ]
  },
  {
   "cell_type": "code",
   "execution_count": 31,
   "id": "7e54c083",
   "metadata": {},
   "outputs": [
    {
     "data": {
      "text/plain": [
       "[]"
      ]
     },
     "execution_count": 31,
     "metadata": {},
     "output_type": "execute_result"
    }
   ],
   "source": [
    "track_names = []\n",
    "track_artists = []\n",
    "track_popularity = []\n",
    "track_duration = []\n",
    "track_album = []\n",
    "track_release_date = []\n",
    "\n",
    "if playlist_id:\n",
    "    playlist = sp.playlist(playlist_id)\n",
    "    tracks = playlist[\"tracks\"][\"items\"]\n",
    "    \n",
    "    for track in tracks:\n",
    "        track_names = [track[\"track\"][\"name\"]]\n",
    "        track_artists = [\", \".join([artist[\"name\"] for artist in track[\"track\"][\"artists\"]])]\n",
    "        track_popularity = [track[\"track\"][\"popularity\"]]\n",
    "        track_duration = [track[\"track\"][\"duration_ms\"]]\n",
    "        track_album = [track[\"track\"][\"album\"][\"name\"]]\n",
    "        track_release_date = [track[\"track\"][\"album\"][\"release_date\"]]\n",
    "        st.write(f\"## {playlist['name']}\")\n",
    "        st.write(f\"**Description:** {playlist['description']}\")\n",
    "        st.write(f\"**Number of tracks:** {len(tracks)}\")\n",
    "        st.write(\"\")\n",
    "        st.write(\"### Tracklist\")\n",
    "        st.write(\"| Name | Artist | Album | Release Date | Popularity | Duration (ms) |\")\n",
    "        st.write(\"| ---- | ------ | ----- | ------------ | ---------- | -------------- |\")\n",
    "        \n",
    "        for i in range(len(tracks)):\n",
    "            st.write(f\"| {track_names[i]} | {track_artists[i]} | {track_album[i]} | {track_release_date[i]} | {track_popularity[i]} | {track_duration[i]} |\")\n",
    "\n",
    "track_names\n",
    "track_artists\n",
    "track_popularity\n",
    "track_duration\n",
    "track_album\n",
    "track_release_date"
   ]
  },
  {
   "cell_type": "code",
   "execution_count": 32,
   "id": "72030aa4",
   "metadata": {},
   "outputs": [],
   "source": [
    "# DataFrame From The Playlist Data\n",
    "\n",
    "data = {\"Name\": track_names, \"Artist\": track_artists, \"Album\": track_album, \"Release Date\": track_release_date, \"Popularity\": track_popularity, \"Duration (ms)\": track_duration}\n",
    "df = pd.DataFrame(data)"
   ]
  },
  {
   "cell_type": "code",
   "execution_count": 175,
   "id": "fff9364a",
   "metadata": {},
   "outputs": [
    {
     "data": {
      "text/html": [
       "<div>\n",
       "<style scoped>\n",
       "    .dataframe tbody tr th:only-of-type {\n",
       "        vertical-align: middle;\n",
       "    }\n",
       "\n",
       "    .dataframe tbody tr th {\n",
       "        vertical-align: top;\n",
       "    }\n",
       "\n",
       "    .dataframe thead th {\n",
       "        text-align: right;\n",
       "    }\n",
       "</style>\n",
       "<table border=\"1\" class=\"dataframe\">\n",
       "  <thead>\n",
       "    <tr style=\"text-align: right;\">\n",
       "      <th></th>\n",
       "      <th>Name</th>\n",
       "      <th>Artist</th>\n",
       "      <th>Album</th>\n",
       "      <th>Release Date</th>\n",
       "      <th>Popularity</th>\n",
       "      <th>Duration (ms)</th>\n",
       "    </tr>\n",
       "  </thead>\n",
       "  <tbody>\n",
       "  </tbody>\n",
       "</table>\n",
       "</div>"
      ],
      "text/plain": [
       "Empty DataFrame\n",
       "Columns: [Name, Artist, Album, Release Date, Popularity, Duration (ms)]\n",
       "Index: []"
      ]
     },
     "execution_count": 175,
     "metadata": {},
     "output_type": "execute_result"
    }
   ],
   "source": [
    "df"
   ]
  }
 ],
 "metadata": {
  "kernelspec": {
   "display_name": "Python 3 (ipykernel)",
   "language": "python",
   "name": "python3"
  },
  "language_info": {
   "codemirror_mode": {
    "name": "ipython",
    "version": 3
   },
   "file_extension": ".py",
   "mimetype": "text/x-python",
   "name": "python",
   "nbconvert_exporter": "python",
   "pygments_lexer": "ipython3",
   "version": "3.10.7"
  }
 },
 "nbformat": 4,
 "nbformat_minor": 5
}
