{
 "cells": [
  {
   "cell_type": "code",
   "execution_count": 4,
   "id": "b75a1f20",
   "metadata": {},
   "outputs": [],
   "source": [
    "import spotipy\n",
    "from spotipy.oauth2 import SpotifyClientCredentials\n",
    "\n",
    "cid = '98c375cd6a8b464ebe3d7fece4bd9fa4'\n",
    "secret = '5cd8420044ea4ebe902beb3a227ee30e'\n",
    "\n",
    "client_credentials_manager = SpotifyClientCredentials(client_id=cid, client_secret=secret)\n",
    "sp = spotipy.Spotify(client_credentials_manager\n",
    "=\n",
    "client_credentials_manager)"
   ]
  },
  {
   "cell_type": "code",
   "execution_count": 18,
   "id": "0f7b834a",
   "metadata": {},
   "outputs": [],
   "source": [
    "artist_name = []\n",
    "track_name = []\n",
    "popularity = []\n",
    "track_id = []\n",
    "art_genres = []\n",
    "\n",
    "for i in range(0,10000,50):\n",
    "    track_results = sp.search(q='year:2022')\n",
    "    artist_info = sp.artist(t[\"artists\"][0][\"uri\"])\n",
    "    for i, t in enumerate(track_results['tracks']['items']):\n",
    "        artist_name.append(t['artists'][0]['name'])\n",
    "        track_name.append(t['name'])\n",
    "        track_id.append(t['id'])\n",
    "        popularity.append(t['popularity'])\n",
    "        art_genres.append(artist_info[\"genres\"])"
   ]
  },
  {
   "cell_type": "code",
   "execution_count": 20,
   "id": "be4aa395",
   "metadata": {},
   "outputs": [
    {
     "name": "stdout",
     "output_type": "stream",
     "text": [
      "(2000, 5)\n"
     ]
    },
    {
     "data": {
      "text/html": [
       "<div>\n",
       "<style scoped>\n",
       "    .dataframe tbody tr th:only-of-type {\n",
       "        vertical-align: middle;\n",
       "    }\n",
       "\n",
       "    .dataframe tbody tr th {\n",
       "        vertical-align: top;\n",
       "    }\n",
       "\n",
       "    .dataframe thead th {\n",
       "        text-align: right;\n",
       "    }\n",
       "</style>\n",
       "<table border=\"1\" class=\"dataframe\">\n",
       "  <thead>\n",
       "    <tr style=\"text-align: right;\">\n",
       "      <th></th>\n",
       "      <th>artist_name</th>\n",
       "      <th>track_name</th>\n",
       "      <th>track_id</th>\n",
       "      <th>popularity</th>\n",
       "      <th>genres</th>\n",
       "    </tr>\n",
       "  </thead>\n",
       "  <tbody>\n",
       "    <tr>\n",
       "      <th>0</th>\n",
       "      <td>Zach Bryan</td>\n",
       "      <td>Something in the Orange</td>\n",
       "      <td>3WMj8moIAXJhHsyLaqIIHI</td>\n",
       "      <td>90</td>\n",
       "      <td>[classic oklahoma country, modern country pop]</td>\n",
       "    </tr>\n",
       "    <tr>\n",
       "      <th>1</th>\n",
       "      <td>SZA</td>\n",
       "      <td>Snooze</td>\n",
       "      <td>4iZ4pt7kvcaH6Yo8UoZ4s2</td>\n",
       "      <td>91</td>\n",
       "      <td>[classic oklahoma country, modern country pop]</td>\n",
       "    </tr>\n",
       "    <tr>\n",
       "      <th>2</th>\n",
       "      <td>Drake</td>\n",
       "      <td>Jimmy Cooks (feat. 21 Savage)</td>\n",
       "      <td>3F5CgOj3wFlRv51JsHbxhe</td>\n",
       "      <td>89</td>\n",
       "      <td>[classic oklahoma country, modern country pop]</td>\n",
       "    </tr>\n",
       "    <tr>\n",
       "      <th>3</th>\n",
       "      <td>Taylor Swift</td>\n",
       "      <td>Anti-Hero</td>\n",
       "      <td>0V3wPSX9ygBnCm8psDIegu</td>\n",
       "      <td>93</td>\n",
       "      <td>[classic oklahoma country, modern country pop]</td>\n",
       "    </tr>\n",
       "    <tr>\n",
       "      <th>4</th>\n",
       "      <td>SZA</td>\n",
       "      <td>Kill Bill</td>\n",
       "      <td>1Qrg8KqiBpW07V7PNxwwwL</td>\n",
       "      <td>92</td>\n",
       "      <td>[classic oklahoma country, modern country pop]</td>\n",
       "    </tr>\n",
       "  </tbody>\n",
       "</table>\n",
       "</div>"
      ],
      "text/plain": [
       "    artist_name                     track_name                track_id  \\\n",
       "0    Zach Bryan        Something in the Orange  3WMj8moIAXJhHsyLaqIIHI   \n",
       "1           SZA                         Snooze  4iZ4pt7kvcaH6Yo8UoZ4s2   \n",
       "2         Drake  Jimmy Cooks (feat. 21 Savage)  3F5CgOj3wFlRv51JsHbxhe   \n",
       "3  Taylor Swift                      Anti-Hero  0V3wPSX9ygBnCm8psDIegu   \n",
       "4           SZA                      Kill Bill  1Qrg8KqiBpW07V7PNxwwwL   \n",
       "\n",
       "   popularity                                          genres  \n",
       "0          90  [classic oklahoma country, modern country pop]  \n",
       "1          91  [classic oklahoma country, modern country pop]  \n",
       "2          89  [classic oklahoma country, modern country pop]  \n",
       "3          93  [classic oklahoma country, modern country pop]  \n",
       "4          92  [classic oklahoma country, modern country pop]  "
      ]
     },
     "execution_count": 20,
     "metadata": {},
     "output_type": "execute_result"
    }
   ],
   "source": [
    "import pandas as pd\n",
    "\n",
    "track_dataframe = pd.DataFrame({'artist_name' : artist_name, 'track_name' : track_name, 'track_id' : track_id, 'popularity' : popularity, 'genres':art_genres})\n",
    "print(track_dataframe.shape)\n",
    "track_dataframe.head()"
   ]
  }
 ],
 "metadata": {
  "kernelspec": {
   "display_name": "Python 3 (ipykernel)",
   "language": "python",
   "name": "python3"
  },
  "language_info": {
   "codemirror_mode": {
    "name": "ipython",
    "version": 3
   },
   "file_extension": ".py",
   "mimetype": "text/x-python",
   "name": "python",
   "nbconvert_exporter": "python",
   "pygments_lexer": "ipython3",
   "version": "3.10.7"
  }
 },
 "nbformat": 4,
 "nbformat_minor": 5
}
