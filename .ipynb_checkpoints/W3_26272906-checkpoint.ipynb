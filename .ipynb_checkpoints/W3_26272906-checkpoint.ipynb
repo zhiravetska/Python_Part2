{
 "cells": [
  {
   "cell_type": "code",
   "execution_count": null,
   "id": "ca4af83c",
   "metadata": {},
   "outputs": [],
   "source": [
    "##week 3"
   ]
  },
  {
   "cell_type": "code",
   "execution_count": 1,
   "id": "03ebd404",
   "metadata": {},
   "outputs": [],
   "source": [
    "def swap_squared(a,b):\n",
    "    return b*b, a*a"
   ]
  },
  {
   "cell_type": "code",
   "execution_count": 2,
   "id": "5613bf02",
   "metadata": {},
   "outputs": [
    {
     "data": {
      "text/plain": [
       "(16, 9)"
      ]
     },
     "execution_count": 2,
     "metadata": {},
     "output_type": "execute_result"
    }
   ],
   "source": [
    "swap_squared(3,4)"
   ]
  },
  {
   "cell_type": "code",
   "execution_count": 3,
   "id": "77ed3778",
   "metadata": {},
   "outputs": [],
   "source": [
    "def swap_squared(a,b):\n",
    "    return list([b*b, a*a])"
   ]
  },
  {
   "cell_type": "code",
   "execution_count": 4,
   "id": "b304dcbe",
   "metadata": {},
   "outputs": [
    {
     "data": {
      "text/plain": [
       "[16, 9]"
      ]
     },
     "execution_count": 4,
     "metadata": {},
     "output_type": "execute_result"
    }
   ],
   "source": [
    "swap_squared(3,4)"
   ]
  },
  {
   "cell_type": "code",
   "execution_count": 21,
   "id": "246378e0",
   "metadata": {},
   "outputs": [],
   "source": [
    "def multiplied2(start):\n",
    "    while True:\n",
    "        start = start*2\n",
    "        yield start"
   ]
  },
  {
   "cell_type": "code",
   "execution_count": 22,
   "id": "088e70ca",
   "metadata": {},
   "outputs": [
    {
     "data": {
      "text/plain": [
       "20"
      ]
     },
     "execution_count": 22,
     "metadata": {},
     "output_type": "execute_result"
    }
   ],
   "source": [
    "a = 10\n",
    "result = multiplied2(a)\n",
    "next(result)"
   ]
  },
  {
   "cell_type": "code",
   "execution_count": 44,
   "id": "97b6d523",
   "metadata": {},
   "outputs": [
    {
     "data": {
      "text/plain": [
       "83886080"
      ]
     },
     "execution_count": 44,
     "metadata": {},
     "output_type": "execute_result"
    }
   ],
   "source": [
    "next(result)"
   ]
  },
  {
   "cell_type": "code",
   "execution_count": 45,
   "id": "6e175ace",
   "metadata": {},
   "outputs": [
    {
     "data": {
      "text/plain": [
       "4181"
      ]
     },
     "execution_count": 45,
     "metadata": {},
     "output_type": "execute_result"
    }
   ],
   "source": [
    "def fibonacci(last_element):\n",
    "    a = 0\n",
    "    b = 1\n",
    "    for i in range(2,last_element):\n",
    "        b,a = a,b\n",
    "        b = a+b\n",
    "    return b\n",
    "\n",
    "fibonacci(20)"
   ]
  },
  {
   "cell_type": "code",
   "execution_count": 46,
   "id": "dd2b2730",
   "metadata": {},
   "outputs": [
    {
     "data": {
      "text/plain": [
       "[0,\n",
       " 1,\n",
       " 1,\n",
       " 2,\n",
       " 3,\n",
       " 5,\n",
       " 8,\n",
       " 13,\n",
       " 21,\n",
       " 34,\n",
       " 55,\n",
       " 89,\n",
       " 144,\n",
       " 233,\n",
       " 377,\n",
       " 610,\n",
       " 987,\n",
       " 1597,\n",
       " 2584,\n",
       " 4181]"
      ]
     },
     "execution_count": 46,
     "metadata": {},
     "output_type": "execute_result"
    }
   ],
   "source": [
    "def fibonacci(last_element):\n",
    "    a = 0\n",
    "    b = 1\n",
    "    result = list([0,1])\n",
    "    for i in range(2,last_element):\n",
    "        b,a = a,b\n",
    "        b = a + b\n",
    "        result.append(b)\n",
    "    return result\n",
    "\n",
    "fibonacci(20)"
   ]
  },
  {
   "cell_type": "code",
   "execution_count": 47,
   "id": "1940ecc5",
   "metadata": {},
   "outputs": [],
   "source": [
    "def fibonacci():\n",
    "    a = 0\n",
    "    b = 1\n",
    "    while True:\n",
    "        b,a = a,b\n",
    "        b = a + b\n",
    "        yield b"
   ]
  },
  {
   "cell_type": "code",
   "execution_count": 48,
   "id": "dcf0a937",
   "metadata": {},
   "outputs": [],
   "source": [
    "fib_gen = fibonacci()"
   ]
  },
  {
   "cell_type": "code",
   "execution_count": 61,
   "id": "3dd58403",
   "metadata": {},
   "outputs": [
    {
     "data": {
      "text/plain": [
       "377"
      ]
     },
     "execution_count": 61,
     "metadata": {},
     "output_type": "execute_result"
    }
   ],
   "source": [
    "next(fib_gen)"
   ]
  },
  {
   "cell_type": "code",
   "execution_count": 68,
   "id": "4c41807b",
   "metadata": {},
   "outputs": [],
   "source": [
    "class Person:\n",
    "    #name:str\n",
    "    #last_name: str\n",
    "    #date_of_birth: str\n",
    "    def __init__(self,name,last_name,date_of_birth):\n",
    "        self.name = name\n",
    "        self.last_name = last_name\n",
    "        self.date_of_birth = date_of_birth\n",
    "    def __str__(self):\n",
    "        return \" Name : \" + self.name + \", Last Name : \" + self.last_name + \", Date of Birth : \" + self.date_of_birth "
   ]
  },
  {
   "cell_type": "code",
   "execution_count": 69,
   "id": "a9399986",
   "metadata": {},
   "outputs": [],
   "source": [
    "person = Person(\"Arturs\", \"Olekss\", \"11111991\")"
   ]
  },
  {
   "cell_type": "code",
   "execution_count": 70,
   "id": "e228d668",
   "metadata": {},
   "outputs": [
    {
     "name": "stdout",
     "output_type": "stream",
     "text": [
      " Name : Arturs, Last Name : Olekss, Date of Birth : 11111991\n"
     ]
    }
   ],
   "source": [
    "print(person)"
   ]
  },
  {
   "cell_type": "code",
   "execution_count": 71,
   "id": "6dd24281",
   "metadata": {},
   "outputs": [],
   "source": [
    "from dataclasses import dataclass"
   ]
  },
  {
   "cell_type": "code",
   "execution_count": 72,
   "id": "4c6429c6",
   "metadata": {},
   "outputs": [],
   "source": [
    "@dataclass\n",
    "class Person:\n",
    "    name: str\n",
    "    last_name: str\n",
    "    data_of_birth: str        "
   ]
  },
  {
   "cell_type": "code",
   "execution_count": 73,
   "id": "b5c8c010",
   "metadata": {},
   "outputs": [],
   "source": [
    "person = Person(\"Arturs\", \"Olekss\", \"11111991\")"
   ]
  },
  {
   "cell_type": "code",
   "execution_count": 74,
   "id": "bd9d8f6b",
   "metadata": {},
   "outputs": [
    {
     "name": "stdout",
     "output_type": "stream",
     "text": [
      "Person(name='Arturs', last_name='Olekss', data_of_birth='11111991')\n"
     ]
    }
   ],
   "source": [
    "print(person)"
   ]
  },
  {
   "cell_type": "code",
   "execution_count": 76,
   "id": "9f9b7041",
   "metadata": {},
   "outputs": [
    {
     "name": "stdout",
     "output_type": "stream",
     "text": [
      "Calling:add\n",
      "Function add finished\n",
      "<function logger_decorator.<locals>.wrapper at 0x000001443D648A60>\n"
     ]
    }
   ],
   "source": [
    "def logger_decorator(func):\n",
    "    def wrapper(*args,**kwargs):\n",
    "        print(\"Calling:\"+func.__name__)\n",
    "        resulr = func(*args, **kwargs)\n",
    "        print(\"Function\",func.__name__,\"finished\")\n",
    "        return result\n",
    "    return wrapper\n",
    "\n",
    "@logger_decorator\n",
    "def add(a,b):\n",
    "    return a + b\n",
    "\n",
    "add(5,7)\n",
    "print(add)"
   ]
  },
  {
   "cell_type": "code",
   "execution_count": 77,
   "id": "a5113a47",
   "metadata": {},
   "outputs": [
    {
     "data": {
      "text/plain": [
       "'The result of the function - add is 12'"
      ]
     },
     "execution_count": 77,
     "metadata": {},
     "output_type": "execute_result"
    }
   ],
   "source": [
    "def logger_decorator(func):\n",
    "    def wrapper(*args,**kwargs):\n",
    "        return \"The result of the function - \" + func.__name__ + \" is \" + str(func(*args,**kwargs))\n",
    "    return wrapper\n",
    "\n",
    "@logger_decorator\n",
    "def add(a,b):\n",
    "    return a + b\n",
    "\n",
    "add(5,7)"
   ]
  },
  {
   "cell_type": "code",
   "execution_count": 78,
   "id": "8158b792",
   "metadata": {},
   "outputs": [],
   "source": [
    "@logger_decorator\n",
    "def multiplication(a,b):\n",
    "    return a * b"
   ]
  },
  {
   "cell_type": "code",
   "execution_count": 79,
   "id": "d99e41f7",
   "metadata": {},
   "outputs": [
    {
     "data": {
      "text/plain": [
       "'The result of the function - multiplication is 36'"
      ]
     },
     "execution_count": 79,
     "metadata": {},
     "output_type": "execute_result"
    }
   ],
   "source": [
    "multiplication(4,9)"
   ]
  },
  {
   "cell_type": "code",
   "execution_count": null,
   "id": "2333723d",
   "metadata": {},
   "outputs": [],
   "source": [
    "#examples\n",
    "#time decorator \n"
   ]
  },
  {
   "cell_type": "code",
   "execution_count": 80,
   "id": "5677e426",
   "metadata": {},
   "outputs": [],
   "source": [
    "import time ## for statistics, \n",
    "## to define algorithm which does faster"
   ]
  },
  {
   "cell_type": "code",
   "execution_count": 81,
   "id": "e44bfbe6",
   "metadata": {},
   "outputs": [],
   "source": [
    "def measure_time(func):\n",
    "    def wrapper(*args,**kwargs):\n",
    "        start_time = time.time()\n",
    "        result = func(*args,**kwargs)\n",
    "        end_time = time.time()\n",
    "        execution_time = end_time - start_time\n",
    "        # print(\"Function \" + func.__name__ + \"is executed in \" + str(execution_time) + \" seconds\")\n",
    "        # print(result)\n",
    "        funct_res = dict()\n",
    "        funct_res[\"Time\"] = execution_time\n",
    "        funct_res[\"Result\"] = result\n",
    "        return funct_res\n",
    "    return wrapper\n",
    "\n",
    "@measure_time\n",
    "def loop_sum(elements):\n",
    "    sum_total = 0\n",
    "    for i in range (1,elements):\n",
    "        sum_total = sum_total + i\n",
    "    return sum_total\n",
    "\n",
    "result = loop_sum(99999999)"
   ]
  },
  {
   "cell_type": "code",
   "execution_count": 82,
   "id": "aa22ff7c",
   "metadata": {},
   "outputs": [
    {
     "data": {
      "text/plain": [
       "{'Time': 6.11954140663147, 'Result': 4999999850000001}"
      ]
     },
     "execution_count": 82,
     "metadata": {},
     "output_type": "execute_result"
    }
   ],
   "source": [
    "result"
   ]
  },
  {
   "cell_type": "code",
   "execution_count": 83,
   "id": "a744ddae",
   "metadata": {},
   "outputs": [],
   "source": [
    "def add_name(cls):\n",
    "    cls.name = \"Default\"\n",
    "    return cls\n",
    "\n",
    "@add_name\n",
    "class Person:\n",
    "    pass\n",
    "\n",
    "person = Person()"
   ]
  },
  {
   "cell_type": "code",
   "execution_count": 84,
   "id": "e272f362",
   "metadata": {},
   "outputs": [
    {
     "data": {
      "text/plain": [
       "'Default'"
      ]
     },
     "execution_count": 84,
     "metadata": {},
     "output_type": "execute_result"
    }
   ],
   "source": [
    "person.name"
   ]
  },
  {
   "cell_type": "code",
   "execution_count": 85,
   "id": "bd10e441",
   "metadata": {},
   "outputs": [],
   "source": [
    "def add_name(cls):\n",
    "    def wrapper(*args,**kwargs):\n",
    "        try:\n",
    "            cls.name = args[0]\n",
    "            cls.last_name = args[1]\n",
    "        except:\n",
    "            pass\n",
    "        return cls\n",
    "    return wrapper\n",
    "\n",
    "@add_name\n",
    "class Person:\n",
    "    pass\n",
    "\n",
    "person = Person(\"Arturs\",\"Olekss\")"
   ]
  },
  {
   "cell_type": "code",
   "execution_count": 86,
   "id": "817cfe58",
   "metadata": {},
   "outputs": [
    {
     "data": {
      "text/plain": [
       "'Olekss'"
      ]
     },
     "execution_count": 86,
     "metadata": {},
     "output_type": "execute_result"
    }
   ],
   "source": [
    "person.last_name"
   ]
  },
  {
   "cell_type": "code",
   "execution_count": 87,
   "id": "4e5222b8",
   "metadata": {},
   "outputs": [],
   "source": [
    "def authorize_decorator(allowed_roles):\n",
    "    def decorator(func):\n",
    "        def wrapper(*args,**kwargs):\n",
    "            if 'admin' in allowed_roles:\n",
    "                print(\"Authorized\")\n",
    "                return func(*args,**kwargs)\n",
    "            else:\n",
    "                print(\"Unauthorized\")\n",
    "        return wrapper\n",
    "    return decorator"
   ]
  },
  {
   "cell_type": "code",
   "execution_count": 88,
   "id": "5937cb2b",
   "metadata": {},
   "outputs": [
    {
     "name": "stdout",
     "output_type": "stream",
     "text": [
      "Unauthorized\n"
     ]
    }
   ],
   "source": [
    "@authorize_decorator(allowed_roles=[\"end user\"])\n",
    "def protected_function():\n",
    "    print(\"Protected function called\")\n",
    "    \n",
    "protected_function()"
   ]
  },
  {
   "cell_type": "code",
   "execution_count": 89,
   "id": "879796f5",
   "metadata": {},
   "outputs": [],
   "source": [
    "user_name = 'aolekss'\n",
    "#SELECTION FROM THE DATABASE based user_name\n",
    "#....write query from the database based on user_name\n",
    "\n",
    "user_roles = [\"end_user\",\"tester\",\"admin\"]\n",
    "\n",
    "@authorize_decorator(allowed_roles=user_roles)\n",
    "def get_sensative_data_from_db():\n",
    "    return \"Senstative data\" "
   ]
  },
  {
   "cell_type": "code",
   "execution_count": 90,
   "id": "0682522d",
   "metadata": {},
   "outputs": [
    {
     "name": "stdout",
     "output_type": "stream",
     "text": [
      "Authorized\n"
     ]
    },
    {
     "data": {
      "text/plain": [
       "'Senstative data'"
      ]
     },
     "execution_count": 90,
     "metadata": {},
     "output_type": "execute_result"
    }
   ],
   "source": [
    "get_sensative_data_from_db()"
   ]
  },
  {
   "cell_type": "code",
   "execution_count": 91,
   "id": "564013b6",
   "metadata": {},
   "outputs": [],
   "source": [
    "@authorize_decorator(allowed_roles=user_roles) ## 1:37:39 presentacija\n",
    "@logger_decorator\n",
    "def get_very_sensative_data_from_db():\n",
    "    return \"Very senstative data\" "
   ]
  },
  {
   "cell_type": "code",
   "execution_count": 92,
   "id": "362fb180",
   "metadata": {},
   "outputs": [
    {
     "name": "stdout",
     "output_type": "stream",
     "text": [
      "Authorized\n"
     ]
    },
    {
     "data": {
      "text/plain": [
       "'The result of the function - get_very_sensative_data_from_db is Very senstative data'"
      ]
     },
     "execution_count": 92,
     "metadata": {},
     "output_type": "execute_result"
    }
   ],
   "source": [
    "get_very_sensative_data_from_db()"
   ]
  },
  {
   "cell_type": "code",
   "execution_count": 93,
   "id": "53f22c63",
   "metadata": {},
   "outputs": [],
   "source": [
    "from dataclasses import dataclass\n",
    "\n",
    "@dataclass\n",
    "class Person:\n",
    "    pers_id : int\n",
    "    name: str\n",
    "    last_name: str"
   ]
  },
  {
   "cell_type": "code",
   "execution_count": 94,
   "id": "97cb0756",
   "metadata": {},
   "outputs": [],
   "source": [
    "person1 = Person(1,\"Arturs\",\"Olekss\")"
   ]
  },
  {
   "cell_type": "code",
   "execution_count": 95,
   "id": "0bbf1349",
   "metadata": {},
   "outputs": [],
   "source": [
    "person2 = Person(2,\"Arturs\",\"Olekss\")"
   ]
  },
  {
   "cell_type": "code",
   "execution_count": 96,
   "id": "c71bc50e",
   "metadata": {},
   "outputs": [
    {
     "data": {
      "text/plain": [
       "False"
      ]
     },
     "execution_count": 96,
     "metadata": {},
     "output_type": "execute_result"
    }
   ],
   "source": [
    "person1 == person2"
   ]
  },
  {
   "cell_type": "code",
   "execution_count": 97,
   "id": "633164e8",
   "metadata": {},
   "outputs": [],
   "source": [
    "# def singleton_id(cls):\n",
    "#     instances = {}\n",
    "    \n",
    "#     def wrapper(*args,**kwargs):\n",
    "#         n_obj = cls(*args,**kwargs) ## new object\n",
    "#         if n_obj.pers_id not in instances:\n",
    "#             instances[n_obj.pers_id] = n_obj\n",
    "#         return instances[n_obj.pers_id]\n",
    "#     return wrapper\n",
    "\n",
    "def singleton_id(cls):\n",
    "    instances = {}\n",
    "    \n",
    "    def wrapper(*args,**kwargs):\n",
    "        pers_id = args[0]\n",
    "        if pers_id not in instances: \n",
    "            n_obj = cls(*args,**kwargs)\n",
    "            instances[pers_id] = n_obj\n",
    "        return instances[pers_id]\n",
    "    return wrapper"
   ]
  },
  {
   "cell_type": "code",
   "execution_count": 98,
   "id": "295344bc",
   "metadata": {},
   "outputs": [],
   "source": [
    "# @dataclass\n",
    "@singleton_id\n",
    "class Person:\n",
    "#     pers_id : int\n",
    "#     name: str\n",
    "#     last_name: str\n",
    "    def __init__(self,pers_id,name,last_name):\n",
    "        self.pers_id = pers_id\n",
    "        self.name = name\n",
    "        self.last_name = last_name"
   ]
  },
  {
   "cell_type": "code",
   "execution_count": 99,
   "id": "159068d6",
   "metadata": {},
   "outputs": [],
   "source": [
    "person1 = Person(1,\"Arturs\",\"Olekss\")"
   ]
  },
  {
   "cell_type": "code",
   "execution_count": 100,
   "id": "fad4abee",
   "metadata": {},
   "outputs": [],
   "source": [
    "person2 = Person(1,\"Arturs\",\"Olekss\")#it returns the instance of the first person"
   ]
  },
  {
   "cell_type": "code",
   "execution_count": 101,
   "id": "72b4a304",
   "metadata": {},
   "outputs": [
    {
     "data": {
      "text/plain": [
       "True"
      ]
     },
     "execution_count": 101,
     "metadata": {},
     "output_type": "execute_result"
    }
   ],
   "source": [
    "person1 == person2"
   ]
  },
  {
   "cell_type": "code",
   "execution_count": 102,
   "id": "9cbb4e3d",
   "metadata": {},
   "outputs": [],
   "source": [
    "person2 = Person(2,\"Arturs\",\"Olekss\")#it returns the instance of the first "
   ]
  },
  {
   "cell_type": "code",
   "execution_count": 103,
   "id": "139311e3",
   "metadata": {},
   "outputs": [
    {
     "data": {
      "text/plain": [
       "False"
      ]
     },
     "execution_count": 103,
     "metadata": {},
     "output_type": "execute_result"
    }
   ],
   "source": [
    "person1 == person2"
   ]
  },
  {
   "cell_type": "code",
   "execution_count": 104,
   "id": "da26f6a9",
   "metadata": {},
   "outputs": [],
   "source": [
    "person3 = Person(2,\"Jack\",\"Smith\")"
   ]
  },
  {
   "cell_type": "code",
   "execution_count": 105,
   "id": "8434ff2e",
   "metadata": {},
   "outputs": [
    {
     "data": {
      "text/plain": [
       "'Arturs'"
      ]
     },
     "execution_count": 105,
     "metadata": {},
     "output_type": "execute_result"
    }
   ],
   "source": [
    "person3.name"
   ]
  },
  {
   "cell_type": "code",
   "execution_count": 106,
   "id": "240d5dd8",
   "metadata": {},
   "outputs": [],
   "source": [
    "#Overwrites the values for the existing objects\n",
    "def singleton_id(cls):\n",
    "    instances = {}\n",
    "    \n",
    "    def wrapper(*args,**kwargs):\n",
    "        pers_id = args[0]\n",
    "        if pers_id not in instances: \n",
    "            n_obj = cls(*args,**kwargs)\n",
    "            instances[pers_id] = n_obj\n",
    "        else:\n",
    "            obj = instances[pers_id]\n",
    "            obj.reassign_all_attributes(*args,**kwargs)\n",
    "            \n",
    "        return instances[pers_id]\n",
    "    return wrapper\n",
    "\n",
    "@singleton_id\n",
    "class Person:\n",
    "    def __init__(self,pers_id,name,last_name):\n",
    "        self.pers_id = pers_id\n",
    "        self.name = name\n",
    "        self.last_name = last_name\n",
    "    def reassign_all_attributes(self,pers_id,name,last_name):\n",
    "        self.pers_id = pers_id\n",
    "        self.name = name\n",
    "        self.last_name = last_name\n",
    "        "
   ]
  },
  {
   "cell_type": "code",
   "execution_count": 107,
   "id": "daf23002",
   "metadata": {},
   "outputs": [],
   "source": [
    "person = Person(1,\"Jack\",\"Smith\")"
   ]
  },
  {
   "cell_type": "code",
   "execution_count": 108,
   "id": "006e5b14",
   "metadata": {},
   "outputs": [],
   "source": [
    "person2 = Person(1,\"Arturs\",\"Smith\")"
   ]
  },
  {
   "cell_type": "code",
   "execution_count": 109,
   "id": "09c1ed86",
   "metadata": {},
   "outputs": [
    {
     "data": {
      "text/plain": [
       "'Arturs'"
      ]
     },
     "execution_count": 109,
     "metadata": {},
     "output_type": "execute_result"
    }
   ],
   "source": [
    "person.name"
   ]
  },
  {
   "cell_type": "code",
   "execution_count": 110,
   "id": "8607f645",
   "metadata": {},
   "outputs": [],
   "source": [
    "class AuthDecorator:\n",
    "    def __init__(self,allowed_roles):\n",
    "        self.allowed_roles = allowed_roles\n",
    "    \n",
    "    def __call__(self,func):\n",
    "        def wrapper(*args,**kwargs):\n",
    "            if \"admin\" in self.allowed_roles:\n",
    "                print(\"Authorized\")\n",
    "                return func(*args,**kwargs)\n",
    "            else:\n",
    "                print(\"Unauthorized\")\n",
    "        return wrapper\n",
    "\n",
    "user_name = 'aolekss'\n",
    "#SELECTION FROM THE DATABASE based user_name\n",
    "#....write query from the database based on user_name\n",
    "\n",
    "user_roles = [\"end_user\",\"tester\",\"admin\"]\n",
    "\n",
    "@AuthDecorator(allowed_roles=user_roles)\n",
    "def get_sensative_data_from_db():\n",
    "    return \"Senstative data\"     "
   ]
  },
  {
   "cell_type": "code",
   "execution_count": 111,
   "id": "4d7b86d1",
   "metadata": {},
   "outputs": [
    {
     "name": "stdout",
     "output_type": "stream",
     "text": [
      "Authorized\n"
     ]
    },
    {
     "data": {
      "text/plain": [
       "'Senstative data'"
      ]
     },
     "execution_count": 111,
     "metadata": {},
     "output_type": "execute_result"
    }
   ],
   "source": [
    "get_sensative_data_from_db()"
   ]
  },
  {
   "cell_type": "code",
   "execution_count": 112,
   "id": "84e801f7",
   "metadata": {},
   "outputs": [],
   "source": [
    "import time\n",
    "\n",
    "def add_a_time_methods(cls):\n",
    "    \n",
    "    def start(self):\n",
    "        self.start_time = time.time()\n",
    "    \n",
    "    def end(self):\n",
    "        self.end_time = time.time()\n",
    "     \n",
    "    def get_time_dif(self):\n",
    "        return self.end_time - self.start_time\n",
    "    \n",
    "    cls.start = start\n",
    "    cls.end = end\n",
    "    cls.get_time_dif = get_time_dif\n",
    "    return cls\n",
    "\n",
    "@add_a_time_methods\n",
    "class Calculus:\n",
    "    \n",
    "    def calculate_compl(self):\n",
    "        sum_tot = 0\n",
    "        for i in range (1,99999):\n",
    "            sum_tot = sum_tot + i\n",
    "        return sum_tot\n",
    "    \n",
    "    def calculate_compl_2(self):\n",
    "        sum_tot = 1\n",
    "        for i in range (1,99999):\n",
    "            sum_tot = sum_tot * i\n",
    "        return sum_tot"
   ]
  },
  {
   "cell_type": "code",
   "execution_count": 113,
   "id": "d27a6dd9",
   "metadata": {},
   "outputs": [],
   "source": [
    "cal = Calculus()"
   ]
  },
  {
   "cell_type": "code",
   "execution_count": 114,
   "id": "3f001c73",
   "metadata": {},
   "outputs": [],
   "source": [
    "cal.start()\n",
    "cal.calculate_compl()\n",
    "cal.calculate_compl_2()\n",
    "cal.end()"
   ]
  },
  {
   "cell_type": "code",
   "execution_count": 115,
   "id": "fb638c2d",
   "metadata": {},
   "outputs": [
    {
     "data": {
      "text/plain": [
       "3.8464858531951904"
      ]
     },
     "execution_count": 115,
     "metadata": {},
     "output_type": "execute_result"
    }
   ],
   "source": [
    "cal.get_time_dif()"
   ]
  },
  {
   "cell_type": "code",
   "execution_count": null,
   "id": "a9d60e4b",
   "metadata": {},
   "outputs": [],
   "source": []
  }
 ],
 "metadata": {
  "kernelspec": {
   "display_name": "Python 3 (ipykernel)",
   "language": "python",
   "name": "python3"
  },
  "language_info": {
   "codemirror_mode": {
    "name": "ipython",
    "version": 3
   },
   "file_extension": ".py",
   "mimetype": "text/x-python",
   "name": "python",
   "nbconvert_exporter": "python",
   "pygments_lexer": "ipython3",
   "version": "3.10.7"
  }
 },
 "nbformat": 4,
 "nbformat_minor": 5
}
