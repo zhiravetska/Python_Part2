{
 "cells": [
  {
   "cell_type": "code",
   "execution_count": 1,
   "id": "51f8c7c2",
   "metadata": {},
   "outputs": [],
   "source": [
    "import spotipy\n",
    "from spotipy.oauth2 import SpotifyClientCredentials\n",
    "import pandas as pd"
   ]
  },
  {
   "cell_type": "code",
   "execution_count": 2,
   "id": "25f97733",
   "metadata": {},
   "outputs": [],
   "source": [
    "#Authentication - without user\n",
    "\n",
    "# client_id = 'YOUR_CLIENT_ID'\n",
    "# client_secret = 'YOUR_CLIENT_SECRET'\n",
    "\n",
    "client_credentials_manager = SpotifyClientCredentials(client_id=\"\", client_secret=\"\")\n",
    "sp = spotipy.Spotify(client_credentials_manager = client_credentials_manager)"
   ]
  },
  {
   "cell_type": "code",
   "execution_count": 3,
   "id": "944d3c04",
   "metadata": {
    "scrolled": true
   },
   "outputs": [],
   "source": [
    "playlist_link = \"https://open.spotify.com/playlist/37i9dQZEVXbNG2KDcFcKOF?si=1333723a6eff4b7f\"\n",
    "playlist_URI = playlist_link.split(\"/\")[-1].split(\"?\")[0]\n",
    "track_uris = [x[\"track\"][\"uri\"] for x in sp.playlist_tracks(playlist_URI)[\"items\"]]"
   ]
  },
  {
   "cell_type": "code",
   "execution_count": 4,
   "id": "73f14fc5",
   "metadata": {},
   "outputs": [
    {
     "data": {
      "text/plain": [
       "['spotify:track:7x9aauaA9cu6tyfpHnqDLo',\n",
       " 'spotify:track:2IGMVunIBsBLtEQyoI1Mu7',\n",
       " 'spotify:track:1BxfuPKGuaTgP7aM0Bbdwr',\n",
       " 'spotify:track:7ABLbnD53cQK00mhcaOUVG',\n",
       " 'spotify:track:5RqSsdzTNPX1uzkmlHCFvK',\n",
       " 'spotify:track:6wf7Yu7cxBSPrRlWeSeK0Q',\n",
       " 'spotify:track:1vYXt7VSjH9JIM5oRRo7vA',\n",
       " 'spotify:track:6XbtvPmIpyCbjuT0e8cQtp',\n",
       " 'spotify:track:3k79jB4aGmMDUQzEwa46Rz',\n",
       " 'spotify:track:4rXLjWdF2ZZpXCVTfWcshS',\n",
       " 'spotify:track:2FDTHlrBguDzQkp7PVj16Q',\n",
       " 'spotify:track:1odExI7RdWc4BT515LTAwj',\n",
       " 'spotify:track:7mXuWTczZNxG5EDcjFEuJR',\n",
       " 'spotify:track:4Dvkj6JhhA12EX05fT7y2e',\n",
       " 'spotify:track:4DHcnVTT87F0zZhRPYmZ3B',\n",
       " 'spotify:track:1Qrg8KqiBpW07V7PNxwwwL',\n",
       " 'spotify:track:741UUVE2kuITl0c6zuqqbO',\n",
       " 'spotify:track:5sdQOyqq2IDhvmx2lHOpwd',\n",
       " 'spotify:track:5XeFesFbtLpXzIVDNQP22n',\n",
       " 'spotify:track:4KULAymBBJcPRpk1yO4dOG',\n",
       " 'spotify:track:7ro0hRteUMfnOioTFI5TG1',\n",
       " 'spotify:track:6XSqqQIy7Lm7SnwxS4NrGx',\n",
       " 'spotify:track:25OeKzcqakFPaJlXHPE5lm',\n",
       " 'spotify:track:2UW7JaomAMuX9pZrjVpHAU',\n",
       " 'spotify:track:23RoR84KodL5HWvUTneQ1w',\n",
       " 'spotify:track:54zcJnb3tp9c5OVKREZ1Is',\n",
       " 'spotify:track:3hUxzQpSfdDqwM3ZTFQY0K',\n",
       " 'spotify:track:2i8f4VnnBjy0yDqH2C452a',\n",
       " 'spotify:track:6irysuQyZWd7Bjj7ePiOs2',\n",
       " 'spotify:track:59NraMJsLaMCVtwXTSia8i',\n",
       " 'spotify:track:6WzRpISELf3YglGAh7TXcG',\n",
       " 'spotify:track:4lIxdJw6W3Fg4vUIYCB0S5',\n",
       " 'spotify:track:5PUXKVVVQ74C3gl5vKy9Li',\n",
       " 'spotify:track:6uIIdjYTxxpWOyWuVXrKQO',\n",
       " 'spotify:track:1p80LdxRV74UKvL8gnD7ky',\n",
       " 'spotify:track:41WQUSINanQHfhfKpFDsms',\n",
       " 'spotify:track:0V3wPSX9ygBnCm8psDIegu',\n",
       " 'spotify:track:3qQbCzHBycnDpGskqOWY0E',\n",
       " 'spotify:track:2N0SPREDYqILVEFSsWF5N5',\n",
       " 'spotify:track:3Ua0m0YmEjrMi9XErKcNiR',\n",
       " 'spotify:track:7MXVkk9YMctZqd1Srtv4MB',\n",
       " 'spotify:track:2LBqCSwhJGcFQeTHMVGwy3',\n",
       " 'spotify:track:6wsqVwoiVH2kde4k4KKAFU',\n",
       " 'spotify:track:1s7oOCT8vauUh01PbJD6ps',\n",
       " 'spotify:track:67nepsnrcZkowTxMWigSbb',\n",
       " 'spotify:track:7K3BhSpAxZBznislvUMVtn',\n",
       " 'spotify:track:2yzshFeBIwH8tWIqHEFLeD',\n",
       " 'spotify:track:2dHHgzDwk4BJdRwy9uXhTO',\n",
       " 'spotify:track:7bPp2NmpmyhLJ7zWazAXMu',\n",
       " 'spotify:track:7FbrGaHYVDmfr7KoLIZnQ7']"
      ]
     },
     "execution_count": 4,
     "metadata": {},
     "output_type": "execute_result"
    }
   ],
   "source": [
    "track_uris"
   ]
  },
  {
   "cell_type": "code",
   "execution_count": 16,
   "id": "fa8cf96b",
   "metadata": {},
   "outputs": [],
   "source": [
    "#track_uri = []\n",
    "tname = []\n",
    "#artist_uri = []\n",
    "#artist_info = []\n",
    "artname = []\n",
    "artpop = []\n",
    "artgenres = []\n",
    "albumname = []\n",
    "tpop = []\n"
   ]
  },
  {
   "cell_type": "code",
   "execution_count": 17,
   "id": "9df94f37",
   "metadata": {},
   "outputs": [
    {
     "data": {
      "text/plain": [
       "93"
      ]
     },
     "execution_count": 17,
     "metadata": {},
     "output_type": "execute_result"
    }
   ],
   "source": [
    "\n",
    "for track in sp.playlist_tracks(playlist_URI)[\"items\"]:\n",
    "    #URI\n",
    "    track_uri = track[\"track\"][\"uri\"]\n",
    "    \n",
    "    #Track name\n",
    "    track_name = track[\"track\"][\"name\"]\n",
    "    \n",
    "    #Main Artist\n",
    "    artist_uri = track[\"track\"][\"artists\"][0][\"uri\"]\n",
    "    artist_info = sp.artist(artist_uri)\n",
    "    \n",
    "    #Name, popularity, genre\n",
    "    artist_name = track[\"track\"][\"artists\"][0][\"name\"]\n",
    "    artist_pop = artist_info[\"popularity\"]\n",
    "    artist_info[\"genres\"]\n",
    "    \n",
    "    #Album\n",
    "    album = track[\"track\"][\"album\"][\"name\"]\n",
    "    \n",
    "    #Popularity of the track\n",
    "    track_pop = track[\"track\"][\"popularity\"]\n",
    "    \n",
    "#track_uri \n",
    "track_name \n",
    "#artist_uri \n",
    "#artist_info \n",
    "artist_name \n",
    "artist_pop \n",
    "artist_genres \n",
    "album \n",
    "track_pop "
   ]
  },
  {
   "cell_type": "code",
   "execution_count": 29,
   "id": "52d05af8",
   "metadata": {},
   "outputs": [],
   "source": [
    "for track in sp.playlist_tracks(playlist_URI)[\"items\"]:\n",
    "    tname.append(track[\"track\"][\"name\"])\n",
    "    artname.append(track[\"track\"][\"artists\"][0][\"name\"])\n",
    "    artpop.append(artist_info[\"popularity\"])\n",
    "    artgenres.append(artist_info[\"genres\"])\n",
    "    albumname.append(track[\"track\"][\"album\"][\"name\"])\n",
    "    #tpop.append(track[\"track\"][\"popularity\"])\n",
    "    \n",
    " "
   ]
  },
  {
   "cell_type": "code",
   "execution_count": 23,
   "id": "27b6a680",
   "metadata": {},
   "outputs": [
    {
     "data": {
      "text/plain": [
       "51"
      ]
     },
     "execution_count": 23,
     "metadata": {},
     "output_type": "execute_result"
    }
   ],
   "source": [
    "len(tname)"
   ]
  },
  {
   "cell_type": "code",
   "execution_count": 24,
   "id": "27d0a28d",
   "metadata": {},
   "outputs": [
    {
     "data": {
      "text/plain": [
       "51"
      ]
     },
     "execution_count": 24,
     "metadata": {},
     "output_type": "execute_result"
    }
   ],
   "source": [
    "len(artname)"
   ]
  },
  {
   "cell_type": "code",
   "execution_count": 37,
   "id": "7e104e2d",
   "metadata": {},
   "outputs": [
    {
     "data": {
      "text/plain": [
       "[75,\n",
       " 75,\n",
       " 75,\n",
       " 75,\n",
       " 75,\n",
       " 75,\n",
       " 75,\n",
       " 75,\n",
       " 75,\n",
       " 75,\n",
       " 75,\n",
       " 75,\n",
       " 75,\n",
       " 75,\n",
       " 75,\n",
       " 75,\n",
       " 75,\n",
       " 75,\n",
       " 75,\n",
       " 75,\n",
       " 75,\n",
       " 75,\n",
       " 75,\n",
       " 75,\n",
       " 75,\n",
       " 75,\n",
       " 75,\n",
       " 75,\n",
       " 75,\n",
       " 75,\n",
       " 75,\n",
       " 75,\n",
       " 75,\n",
       " 75,\n",
       " 75,\n",
       " 75,\n",
       " 75,\n",
       " 75,\n",
       " 75,\n",
       " 75,\n",
       " 75,\n",
       " 75,\n",
       " 75,\n",
       " 75,\n",
       " 75,\n",
       " 75,\n",
       " 75,\n",
       " 75,\n",
       " 75,\n",
       " 75,\n",
       " 75,\n",
       " 75,\n",
       " 75,\n",
       " 75,\n",
       " 75,\n",
       " 75,\n",
       " 75,\n",
       " 75,\n",
       " 75,\n",
       " 75,\n",
       " 75,\n",
       " 75,\n",
       " 75,\n",
       " 75,\n",
       " 75,\n",
       " 75,\n",
       " 75,\n",
       " 75,\n",
       " 75,\n",
       " 75,\n",
       " 75,\n",
       " 75,\n",
       " 75,\n",
       " 75,\n",
       " 75,\n",
       " 75,\n",
       " 75,\n",
       " 75,\n",
       " 75,\n",
       " 75,\n",
       " 75,\n",
       " 75,\n",
       " 75,\n",
       " 75,\n",
       " 75,\n",
       " 75,\n",
       " 75,\n",
       " 75,\n",
       " 75,\n",
       " 75,\n",
       " 75,\n",
       " 75,\n",
       " 75,\n",
       " 75,\n",
       " 75,\n",
       " 75,\n",
       " 75,\n",
       " 75,\n",
       " 75,\n",
       " 75,\n",
       " 75]"
      ]
     },
     "execution_count": 37,
     "metadata": {},
     "output_type": "execute_result"
    }
   ],
   "source": [
    "artpop"
   ]
  },
  {
   "cell_type": "code",
   "execution_count": 26,
   "id": "f48c6789",
   "metadata": {},
   "outputs": [
    {
     "data": {
      "text/plain": [
       "51"
      ]
     },
     "execution_count": 26,
     "metadata": {},
     "output_type": "execute_result"
    }
   ],
   "source": [
    "len(artgenres)"
   ]
  },
  {
   "cell_type": "code",
   "execution_count": 27,
   "id": "bd8afc6d",
   "metadata": {},
   "outputs": [
    {
     "data": {
      "text/plain": [
       "51"
      ]
     },
     "execution_count": 27,
     "metadata": {},
     "output_type": "execute_result"
    }
   ],
   "source": [
    "len(albumname)"
   ]
  },
  {
   "cell_type": "code",
   "execution_count": 28,
   "id": "bb2ae94d",
   "metadata": {},
   "outputs": [
    {
     "data": {
      "text/plain": [
       "50"
      ]
     },
     "execution_count": 28,
     "metadata": {},
     "output_type": "execute_result"
    }
   ],
   "source": [
    "len(tpop)"
   ]
  },
  {
   "cell_type": "code",
   "execution_count": 39,
   "id": "e69c92aa",
   "metadata": {},
   "outputs": [],
   "source": [
    "data = {\"Track Name\": tname, \n",
    "        \"Artist Name\": artname, \n",
    "        \"Artist Pop\": artpop, \n",
    "        \"Genres\": artgenres,\n",
    "        \"Album\": albumname}\n",
    "\n",
    "# data = {\"URI\": track_uri,\n",
    "#         \"Name\": track_name, \n",
    "#         \"Artist URI\": artist_uri,\n",
    "#         \"Artist Info\": artist_info,\n",
    "#         \"Artist Name\": artist_name, \n",
    "#         \"Artist Pop\": artist_pop, \n",
    "#         \"Genres\": artist_genres,\n",
    "#         \"Album\": album, \n",
    "#         \"Popularity\": track_pop}"
   ]
  },
  {
   "cell_type": "code",
   "execution_count": 40,
   "id": "2784ac3e",
   "metadata": {},
   "outputs": [],
   "source": [
    "df = pd.DataFrame(data)"
   ]
  },
  {
   "cell_type": "code",
   "execution_count": 41,
   "id": "35701f39",
   "metadata": {},
   "outputs": [
    {
     "name": "stdout",
     "output_type": "stream",
     "text": [
      "                                 Track Name     Artist Name  Artist Pop  \\\n",
      "0       Seven (feat. Latto) (Explicit Ver.)       Jung Kook          75   \n",
      "1       Seven (feat. Latto) (Explicit Ver.)       Jung Kook          75   \n",
      "2                        Paint The Town Red        Doja Cat          75   \n",
      "3                              Cruel Summer    Taylor Swift          75   \n",
      "4                                      LALA     Myke Towers          75   \n",
      "..                                      ...             ...         ...   \n",
      "96                               Last Night   Morgan Wallen          75   \n",
      "97                                un x100to  Grupo Frontera          75   \n",
      "98   Creepin' (with The Weeknd & 21 Savage)    Metro Boomin          75   \n",
      "99                                    TULUM      Peso Pluma          75   \n",
      "100                       Cupid - Twin Ver.     FIFTY FIFTY          75   \n",
      "\n",
      "                 Genres                 Album  \n",
      "0    [k-pop girl group]   Seven (feat. Latto)  \n",
      "1    [k-pop girl group]   Seven (feat. Latto)  \n",
      "2    [k-pop girl group]    Paint The Town Red  \n",
      "3    [k-pop girl group]                 Lover  \n",
      "4    [k-pop girl group]        LA VIDA ES UNA  \n",
      "..                  ...                   ...  \n",
      "96   [k-pop girl group]   One Thing At A Time  \n",
      "97   [k-pop girl group]           El Comienzo  \n",
      "98   [k-pop girl group]     HEROES & VILLAINS  \n",
      "99   [k-pop girl group]               GÉNESIS  \n",
      "100  [k-pop girl group]  The Beginning: Cupid  \n",
      "\n",
      "[101 rows x 5 columns]\n"
     ]
    }
   ],
   "source": [
    "df.head()"
   ]
  },
  {
   "cell_type": "code",
   "execution_count": 41,
   "id": "19b47a09",
   "metadata": {},
   "outputs": [
    {
     "data": {
      "text/plain": [
       "'Cupid - Twin Ver.'"
      ]
     },
     "execution_count": 41,
     "metadata": {},
     "output_type": "execute_result"
    }
   ],
   "source": [
    "track_name"
   ]
  },
  {
   "cell_type": "code",
   "execution_count": 42,
   "id": "e7156acd",
   "metadata": {},
   "outputs": [
    {
     "data": {
      "text/plain": [
       "94"
      ]
     },
     "execution_count": 42,
     "metadata": {},
     "output_type": "execute_result"
    }
   ],
   "source": [
    "track_pop"
   ]
  },
  {
   "cell_type": "code",
   "execution_count": 6,
   "id": "09d2bcd1",
   "metadata": {},
   "outputs": [
    {
     "data": {
      "text/plain": [
       "'Cupid - Twin Ver.'"
      ]
     },
     "execution_count": 6,
     "metadata": {},
     "output_type": "execute_result"
    }
   ],
   "source": [
    "track_name #???"
   ]
  },
  {
   "cell_type": "code",
   "execution_count": 7,
   "id": "0cffa992",
   "metadata": {},
   "outputs": [
    {
     "data": {
      "text/plain": [
       "['k-pop girl group']"
      ]
     },
     "execution_count": 7,
     "metadata": {},
     "output_type": "execute_result"
    }
   ],
   "source": [
    "artist_genres"
   ]
  },
  {
   "cell_type": "code",
   "execution_count": 8,
   "id": "4f53a15f",
   "metadata": {},
   "outputs": [
    {
     "data": {
      "text/plain": [
       "75"
      ]
     },
     "execution_count": 8,
     "metadata": {},
     "output_type": "execute_result"
    }
   ],
   "source": [
    "artist_pop"
   ]
  },
  {
   "cell_type": "code",
   "execution_count": 9,
   "id": "7a8f13e2",
   "metadata": {},
   "outputs": [
    {
     "data": {
      "text/plain": [
       "{'danceability': 0.783,\n",
       " 'energy': 0.592,\n",
       " 'key': 11,\n",
       " 'loudness': -8.332,\n",
       " 'mode': 0,\n",
       " 'speechiness': 0.0331,\n",
       " 'acousticness': 0.435,\n",
       " 'instrumentalness': 4.15e-06,\n",
       " 'liveness': 0.347,\n",
       " 'valence': 0.726,\n",
       " 'tempo': 120.018,\n",
       " 'type': 'audio_features',\n",
       " 'id': '7FbrGaHYVDmfr7KoLIZnQ7',\n",
       " 'uri': 'spotify:track:7FbrGaHYVDmfr7KoLIZnQ7',\n",
       " 'track_href': 'https://api.spotify.com/v1/tracks/7FbrGaHYVDmfr7KoLIZnQ7',\n",
       " 'analysis_url': 'https://api.spotify.com/v1/audio-analysis/7FbrGaHYVDmfr7KoLIZnQ7',\n",
       " 'duration_ms': 174253,\n",
       " 'time_signature': 4}"
      ]
     },
     "execution_count": 9,
     "metadata": {},
     "output_type": "execute_result"
    }
   ],
   "source": [
    "sp.audio_features(track_uri)[0]"
   ]
  },
  {
   "cell_type": "code",
   "execution_count": 10,
   "id": "5f933436",
   "metadata": {},
   "outputs": [
    {
     "name": "stderr",
     "output_type": "stream",
     "text": [
      "2023-09-08 17:42:10.942 \n",
      "  \u001b[33m\u001b[1mWarning:\u001b[0m to view this Streamlit app on a browser, run it with the following\n",
      "  command:\n",
      "\n",
      "    streamlit run C:\\Users\\zirav\\AppData\\Local\\Programs\\Python\\Python310\\lib\\site-packages\\ipykernel_launcher.py [ARGUMENTS]\n"
     ]
    },
    {
     "data": {
      "text/plain": [
       "DeltaGenerator()"
      ]
     },
     "execution_count": 10,
     "metadata": {},
     "output_type": "execute_result"
    }
   ],
   "source": [
    "# using Streamlit to create a simple UI that allows users to input a Spotify playlist name \n",
    "# and displays various analyses of the playlist\n",
    "\n",
    "import streamlit as st\n",
    "\n",
    "#run C:\\Users\\zirav\\AppData\\Local\\Programs\\Python\\Python310\\lib\\site-packages\\ipykernel_launcher.py\n",
    "\n",
    "st.title(\"SpotifyPlaylist\")"
   ]
  },
  {
   "cell_type": "code",
   "execution_count": 35,
   "id": "a4998453",
   "metadata": {},
   "outputs": [],
   "source": [
    "# Adding User Input with Streamlit\n",
    "playlist_name = st.sidebar.text_input(\"spotify:playlist:37i9dQZEVXbNG2KDcFcKOF\")\n"
   ]
  },
  {
   "cell_type": "code",
   "execution_count": 36,
   "id": "47b502d2",
   "metadata": {},
   "outputs": [],
   "source": [
    "# Retrieving Data from the Spotify API\n",
    "\n",
    "if playlist_name:\n",
    "    playlists = sp.search(playlist_name, type=\"playlist\")[\"playlists\"][\"items\"]\n",
    "    if playlists:\n",
    "        playlist_id = playlists[0][\"id\"]\n",
    "    else:\n",
    "        st.write(\"No playlists found with that name.\")\n",
    "        playlist_id = None\n",
    "else:\n",
    "    playlist_id = None"
   ]
  },
  {
   "cell_type": "code",
   "execution_count": 30,
   "id": "dd7a2614",
   "metadata": {},
   "outputs": [
    {
     "name": "stdout",
     "output_type": "stream",
     "text": [
      "None\n"
     ]
    }
   ],
   "source": [
    "print(playlist_id)"
   ]
  },
  {
   "cell_type": "code",
   "execution_count": 31,
   "id": "7e54c083",
   "metadata": {},
   "outputs": [
    {
     "data": {
      "text/plain": [
       "[]"
      ]
     },
     "execution_count": 31,
     "metadata": {},
     "output_type": "execute_result"
    }
   ],
   "source": [
    "track_names = []\n",
    "track_artists = []\n",
    "track_popularity = []\n",
    "track_duration = []\n",
    "track_album = []\n",
    "track_release_date = []\n",
    "\n",
    "if playlist_id:\n",
    "    playlist = sp.playlist(playlist_id)\n",
    "    tracks = playlist[\"tracks\"][\"items\"]\n",
    "    \n",
    "    for track in tracks:\n",
    "        track_names = [track[\"track\"][\"name\"]]\n",
    "        track_artists = [\", \".join([artist[\"name\"] for artist in track[\"track\"][\"artists\"]])]\n",
    "        track_popularity = [track[\"track\"][\"popularity\"]]\n",
    "        track_duration = [track[\"track\"][\"duration_ms\"]]\n",
    "        track_album = [track[\"track\"][\"album\"][\"name\"]]\n",
    "        track_release_date = [track[\"track\"][\"album\"][\"release_date\"]]\n",
    "        st.write(f\"## {playlist['name']}\")\n",
    "        st.write(f\"**Description:** {playlist['description']}\")\n",
    "        st.write(f\"**Number of tracks:** {len(tracks)}\")\n",
    "        st.write(\"\")\n",
    "        st.write(\"### Tracklist\")\n",
    "        st.write(\"| Name | Artist | Album | Release Date | Popularity | Duration (ms) |\")\n",
    "        st.write(\"| ---- | ------ | ----- | ------------ | ---------- | -------------- |\")\n",
    "        \n",
    "        for i in range(len(tracks)):\n",
    "            st.write(f\"| {track_names[i]} | {track_artists[i]} | {track_album[i]} | {track_release_date[i]} | {track_popularity[i]} | {track_duration[i]} |\")\n",
    "\n",
    "track_names\n",
    "track_artists\n",
    "track_popularity\n",
    "track_duration\n",
    "track_album\n",
    "track_release_date"
   ]
  },
  {
   "cell_type": "code",
   "execution_count": null,
   "id": "0ca9d5b4",
   "metadata": {},
   "outputs": [],
   "source": [
    "sp.audio_features(track_uri)[0]"
   ]
  },
  {
   "cell_type": "code",
   "execution_count": null,
   "id": "08426845",
   "metadata": {},
   "outputs": [],
   "source": [
    "acoustic = []\n",
    "dance = []\n",
    "energy = []\n",
    "instrumental = []\n",
    "liveness = []\n",
    "loudness = []\n",
    "speech = []\n",
    "tempo = []\n",
    "valence = []\n",
    "popularity = []\n",
    "duration = []\n",
    "\n",
    "for i in track_uri:\n",
    "    feat = sp.audio_features(i)[0]\n",
    "    acoustic.append('acousticness')\n",
    "    dance.append('danceability')\n",
    "    energy.append('energy')\n",
    "    speech.append('speechiness')\n",
    "    instrumental.append('instrumentalness')\n",
    "    loudness.append('loudness')\n",
    "    tempo.append('tempo')\n",
    "    liveness.append('liveness')\n",
    "    valence.append('valence')\n",
    "    duration.append('duration_ms')\n",
    "    popu = sp.track(i)\n",
    "    popularity.append(popu['popularity'])\n",
    "# for i in track_uri:\n",
    "#     feat = sp.audio_features(i)[0]\n",
    "#     acoustic.append(feat['acousticness'])\n",
    "#     dance.append(feat['danceability'])\n",
    "#     energy.append(feat['energy'])\n",
    "#     speech.append(feat['speechiness'])\n",
    "#     instrumental.append(feat['instrumentalness'])\n",
    "#     loudness.append(feat['loudness'])\n",
    "#     tempo.append(feat['tempo'])\n",
    "#     liveness.append(feat['liveness'])\n",
    "#     valence.append(feat['valence'])\n",
    "#     duration.append(feat['duration_ms'])\n",
    "#     popu = sp.track(i)\n",
    "#     popularity.append(popu['popularity'])"
   ]
  }
 ],
 "metadata": {
  "kernelspec": {
   "display_name": "Python 3 (ipykernel)",
   "language": "python",
   "name": "python3"
  },
  "language_info": {
   "codemirror_mode": {
    "name": "ipython",
    "version": 3
   },
   "file_extension": ".py",
   "mimetype": "text/x-python",
   "name": "python",
   "nbconvert_exporter": "python",
   "pygments_lexer": "ipython3",
   "version": "3.10.7"
  }
 },
 "nbformat": 4,
 "nbformat_minor": 5
}
