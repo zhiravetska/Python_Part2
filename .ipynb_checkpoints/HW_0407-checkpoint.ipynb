{
 "cells": [
  {
   "cell_type": "code",
   "execution_count": null,
   "id": "5834d245",
   "metadata": {},
   "outputs": [],
   "source": [
    "#HW_0407"
   ]
  },
  {
   "cell_type": "code",
   "execution_count": 3,
   "id": "ee2584ed",
   "metadata": {},
   "outputs": [],
   "source": [
    "#Wine quality\n",
    "import pandas as pa"
   ]
  },
  {
   "cell_type": "code",
   "execution_count": 4,
   "id": "230cc7b5",
   "metadata": {},
   "outputs": [],
   "source": [
    "wine_white = pa.read_csv(\"winequality-white.csv\", sep = \";\")"
   ]
  },
  {
   "cell_type": "code",
   "execution_count": 5,
   "id": "5b2754a5",
   "metadata": {},
   "outputs": [
    {
     "data": {
      "text/html": [
       "<div>\n",
       "<style scoped>\n",
       "    .dataframe tbody tr th:only-of-type {\n",
       "        vertical-align: middle;\n",
       "    }\n",
       "\n",
       "    .dataframe tbody tr th {\n",
       "        vertical-align: top;\n",
       "    }\n",
       "\n",
       "    .dataframe thead th {\n",
       "        text-align: right;\n",
       "    }\n",
       "</style>\n",
       "<table border=\"1\" class=\"dataframe\">\n",
       "  <thead>\n",
       "    <tr style=\"text-align: right;\">\n",
       "      <th></th>\n",
       "      <th>fixed acidity</th>\n",
       "      <th>volatile acidity</th>\n",
       "      <th>citric acid</th>\n",
       "      <th>residual sugar</th>\n",
       "      <th>chlorides</th>\n",
       "      <th>free sulfur dioxide</th>\n",
       "      <th>total sulfur dioxide</th>\n",
       "      <th>density</th>\n",
       "      <th>pH</th>\n",
       "      <th>sulphates</th>\n",
       "      <th>alcohol</th>\n",
       "      <th>quality</th>\n",
       "    </tr>\n",
       "  </thead>\n",
       "  <tbody>\n",
       "    <tr>\n",
       "      <th>0</th>\n",
       "      <td>7.0</td>\n",
       "      <td>0.27</td>\n",
       "      <td>0.36</td>\n",
       "      <td>20.7</td>\n",
       "      <td>0.045</td>\n",
       "      <td>45.0</td>\n",
       "      <td>170.0</td>\n",
       "      <td>1.00100</td>\n",
       "      <td>3.00</td>\n",
       "      <td>0.45</td>\n",
       "      <td>8.8</td>\n",
       "      <td>6</td>\n",
       "    </tr>\n",
       "    <tr>\n",
       "      <th>1</th>\n",
       "      <td>6.3</td>\n",
       "      <td>0.30</td>\n",
       "      <td>0.34</td>\n",
       "      <td>1.6</td>\n",
       "      <td>0.049</td>\n",
       "      <td>14.0</td>\n",
       "      <td>132.0</td>\n",
       "      <td>0.99400</td>\n",
       "      <td>3.30</td>\n",
       "      <td>0.49</td>\n",
       "      <td>9.5</td>\n",
       "      <td>6</td>\n",
       "    </tr>\n",
       "    <tr>\n",
       "      <th>2</th>\n",
       "      <td>8.1</td>\n",
       "      <td>0.28</td>\n",
       "      <td>0.40</td>\n",
       "      <td>6.9</td>\n",
       "      <td>0.050</td>\n",
       "      <td>30.0</td>\n",
       "      <td>97.0</td>\n",
       "      <td>0.99510</td>\n",
       "      <td>3.26</td>\n",
       "      <td>0.44</td>\n",
       "      <td>10.1</td>\n",
       "      <td>6</td>\n",
       "    </tr>\n",
       "    <tr>\n",
       "      <th>3</th>\n",
       "      <td>7.2</td>\n",
       "      <td>0.23</td>\n",
       "      <td>0.32</td>\n",
       "      <td>8.5</td>\n",
       "      <td>0.058</td>\n",
       "      <td>47.0</td>\n",
       "      <td>186.0</td>\n",
       "      <td>0.99560</td>\n",
       "      <td>3.19</td>\n",
       "      <td>0.40</td>\n",
       "      <td>9.9</td>\n",
       "      <td>6</td>\n",
       "    </tr>\n",
       "    <tr>\n",
       "      <th>4</th>\n",
       "      <td>7.2</td>\n",
       "      <td>0.23</td>\n",
       "      <td>0.32</td>\n",
       "      <td>8.5</td>\n",
       "      <td>0.058</td>\n",
       "      <td>47.0</td>\n",
       "      <td>186.0</td>\n",
       "      <td>0.99560</td>\n",
       "      <td>3.19</td>\n",
       "      <td>0.40</td>\n",
       "      <td>9.9</td>\n",
       "      <td>6</td>\n",
       "    </tr>\n",
       "    <tr>\n",
       "      <th>...</th>\n",
       "      <td>...</td>\n",
       "      <td>...</td>\n",
       "      <td>...</td>\n",
       "      <td>...</td>\n",
       "      <td>...</td>\n",
       "      <td>...</td>\n",
       "      <td>...</td>\n",
       "      <td>...</td>\n",
       "      <td>...</td>\n",
       "      <td>...</td>\n",
       "      <td>...</td>\n",
       "      <td>...</td>\n",
       "    </tr>\n",
       "    <tr>\n",
       "      <th>4893</th>\n",
       "      <td>6.2</td>\n",
       "      <td>0.21</td>\n",
       "      <td>0.29</td>\n",
       "      <td>1.6</td>\n",
       "      <td>0.039</td>\n",
       "      <td>24.0</td>\n",
       "      <td>92.0</td>\n",
       "      <td>0.99114</td>\n",
       "      <td>3.27</td>\n",
       "      <td>0.50</td>\n",
       "      <td>11.2</td>\n",
       "      <td>6</td>\n",
       "    </tr>\n",
       "    <tr>\n",
       "      <th>4894</th>\n",
       "      <td>6.6</td>\n",
       "      <td>0.32</td>\n",
       "      <td>0.36</td>\n",
       "      <td>8.0</td>\n",
       "      <td>0.047</td>\n",
       "      <td>57.0</td>\n",
       "      <td>168.0</td>\n",
       "      <td>0.99490</td>\n",
       "      <td>3.15</td>\n",
       "      <td>0.46</td>\n",
       "      <td>9.6</td>\n",
       "      <td>5</td>\n",
       "    </tr>\n",
       "    <tr>\n",
       "      <th>4895</th>\n",
       "      <td>6.5</td>\n",
       "      <td>0.24</td>\n",
       "      <td>0.19</td>\n",
       "      <td>1.2</td>\n",
       "      <td>0.041</td>\n",
       "      <td>30.0</td>\n",
       "      <td>111.0</td>\n",
       "      <td>0.99254</td>\n",
       "      <td>2.99</td>\n",
       "      <td>0.46</td>\n",
       "      <td>9.4</td>\n",
       "      <td>6</td>\n",
       "    </tr>\n",
       "    <tr>\n",
       "      <th>4896</th>\n",
       "      <td>5.5</td>\n",
       "      <td>0.29</td>\n",
       "      <td>0.30</td>\n",
       "      <td>1.1</td>\n",
       "      <td>0.022</td>\n",
       "      <td>20.0</td>\n",
       "      <td>110.0</td>\n",
       "      <td>0.98869</td>\n",
       "      <td>3.34</td>\n",
       "      <td>0.38</td>\n",
       "      <td>12.8</td>\n",
       "      <td>7</td>\n",
       "    </tr>\n",
       "    <tr>\n",
       "      <th>4897</th>\n",
       "      <td>6.0</td>\n",
       "      <td>0.21</td>\n",
       "      <td>0.38</td>\n",
       "      <td>0.8</td>\n",
       "      <td>0.020</td>\n",
       "      <td>22.0</td>\n",
       "      <td>98.0</td>\n",
       "      <td>0.98941</td>\n",
       "      <td>3.26</td>\n",
       "      <td>0.32</td>\n",
       "      <td>11.8</td>\n",
       "      <td>6</td>\n",
       "    </tr>\n",
       "  </tbody>\n",
       "</table>\n",
       "<p>4898 rows × 12 columns</p>\n",
       "</div>"
      ],
      "text/plain": [
       "      fixed acidity  volatile acidity  citric acid  residual sugar  chlorides  \\\n",
       "0               7.0              0.27         0.36            20.7      0.045   \n",
       "1               6.3              0.30         0.34             1.6      0.049   \n",
       "2               8.1              0.28         0.40             6.9      0.050   \n",
       "3               7.2              0.23         0.32             8.5      0.058   \n",
       "4               7.2              0.23         0.32             8.5      0.058   \n",
       "...             ...               ...          ...             ...        ...   \n",
       "4893            6.2              0.21         0.29             1.6      0.039   \n",
       "4894            6.6              0.32         0.36             8.0      0.047   \n",
       "4895            6.5              0.24         0.19             1.2      0.041   \n",
       "4896            5.5              0.29         0.30             1.1      0.022   \n",
       "4897            6.0              0.21         0.38             0.8      0.020   \n",
       "\n",
       "      free sulfur dioxide  total sulfur dioxide  density    pH  sulphates  \\\n",
       "0                    45.0                 170.0  1.00100  3.00       0.45   \n",
       "1                    14.0                 132.0  0.99400  3.30       0.49   \n",
       "2                    30.0                  97.0  0.99510  3.26       0.44   \n",
       "3                    47.0                 186.0  0.99560  3.19       0.40   \n",
       "4                    47.0                 186.0  0.99560  3.19       0.40   \n",
       "...                   ...                   ...      ...   ...        ...   \n",
       "4893                 24.0                  92.0  0.99114  3.27       0.50   \n",
       "4894                 57.0                 168.0  0.99490  3.15       0.46   \n",
       "4895                 30.0                 111.0  0.99254  2.99       0.46   \n",
       "4896                 20.0                 110.0  0.98869  3.34       0.38   \n",
       "4897                 22.0                  98.0  0.98941  3.26       0.32   \n",
       "\n",
       "      alcohol  quality  \n",
       "0         8.8        6  \n",
       "1         9.5        6  \n",
       "2        10.1        6  \n",
       "3         9.9        6  \n",
       "4         9.9        6  \n",
       "...       ...      ...  \n",
       "4893     11.2        6  \n",
       "4894      9.6        5  \n",
       "4895      9.4        6  \n",
       "4896     12.8        7  \n",
       "4897     11.8        6  \n",
       "\n",
       "[4898 rows x 12 columns]"
      ]
     },
     "execution_count": 5,
     "metadata": {},
     "output_type": "execute_result"
    }
   ],
   "source": [
    "wine_white"
   ]
  },
  {
   "cell_type": "code",
   "execution_count": 6,
   "id": "2ca48883",
   "metadata": {},
   "outputs": [
    {
     "data": {
      "text/plain": [
       "fixed acidity           2.042829e-04\n",
       "volatile acidity        1.747828e-71\n",
       "citric acid             6.635512e-01\n",
       "residual sugar          8.951986e-21\n",
       "chlorides               6.646452e-02\n",
       "free sulfur dioxide     1.007173e-07\n",
       "density                 8.497321e-09\n",
       "pH                      8.547830e-02\n",
       "sulphates               6.247887e-05\n",
       "alcohol                1.525085e-241\n",
       "dtype: float64"
      ]
     },
     "execution_count": 6,
     "metadata": {},
     "output_type": "execute_result"
    }
   ],
   "source": [
    "X = wine_white[[\"fixed acidity\",\n",
    "                \"volatile acidity\",\n",
    "                \"citric acid\",\n",
    "                \"residual sugar\",\n",
    "                \"chlorides\", \n",
    "                \"free sulfur dioxide\",\n",
    "                \"density\",\n",
    "                \"pH\",\"sulphates\",\n",
    "                \"alcohol\"]]\n",
    "y = wine_white[\"quality\"]\n",
    "import statsmodels.api as sm\n",
    "model = sm.OLS(y,X)\n",
    "results = model.fit()\n",
    "results.pvalues\n",
    "#results.summary()"
   ]
  },
  {
   "cell_type": "markdown",
   "id": "737b1f43",
   "metadata": {},
   "source": [
    "All values except 'citric acid', 'chlorides' and 'pH' are significant, as they are < 0.05 ('citric acid', 'chlorides' and 'pH' are > 0.05)"
   ]
  },
  {
   "cell_type": "code",
   "execution_count": 8,
   "id": "d16d0644",
   "metadata": {},
   "outputs": [
    {
     "data": {
      "text/html": [
       "<table class=\"simpletable\">\n",
       "<caption>OLS Regression Results</caption>\n",
       "<tr>\n",
       "  <th>Dep. Variable:</th>         <td>quality</td>     <th>  R-squared (uncentered):</th>      <td>   0.984</td> \n",
       "</tr>\n",
       "<tr>\n",
       "  <th>Model:</th>                   <td>OLS</td>       <th>  Adj. R-squared (uncentered):</th> <td>   0.984</td> \n",
       "</tr>\n",
       "<tr>\n",
       "  <th>Method:</th>             <td>Least Squares</td>  <th>  F-statistic:       </th>          <td>2.975e+04</td>\n",
       "</tr>\n",
       "<tr>\n",
       "  <th>Date:</th>             <td>Wed, 12 Jul 2023</td> <th>  Prob (F-statistic):</th>           <td>  0.00</td>  \n",
       "</tr>\n",
       "<tr>\n",
       "  <th>Time:</th>                 <td>13:43:46</td>     <th>  Log-Likelihood:    </th>          <td> -5578.3</td> \n",
       "</tr>\n",
       "<tr>\n",
       "  <th>No. Observations:</th>      <td>  4898</td>      <th>  AIC:               </th>          <td>1.118e+04</td>\n",
       "</tr>\n",
       "<tr>\n",
       "  <th>Df Residuals:</th>          <td>  4888</td>      <th>  BIC:               </th>          <td>1.124e+04</td>\n",
       "</tr>\n",
       "<tr>\n",
       "  <th>Df Model:</th>              <td>    10</td>      <th>                     </th>              <td> </td>    \n",
       "</tr>\n",
       "<tr>\n",
       "  <th>Covariance Type:</th>      <td>nonrobust</td>    <th>                     </th>              <td> </td>    \n",
       "</tr>\n",
       "</table>\n",
       "<table class=\"simpletable\">\n",
       "<tr>\n",
       "           <td></td>              <th>coef</th>     <th>std err</th>      <th>t</th>      <th>P>|t|</th>  <th>[0.025</th>    <th>0.975]</th>  \n",
       "</tr>\n",
       "<tr>\n",
       "  <th>fixed acidity</th>       <td>   -0.0555</td> <td>    0.015</td> <td>   -3.716</td> <td> 0.000</td> <td>   -0.085</td> <td>   -0.026</td>\n",
       "</tr>\n",
       "<tr>\n",
       "  <th>volatile acidity</th>    <td>   -2.0185</td> <td>    0.111</td> <td>  -18.175</td> <td> 0.000</td> <td>   -2.236</td> <td>   -1.801</td>\n",
       "</tr>\n",
       "<tr>\n",
       "  <th>citric acid</th>         <td>   -0.0418</td> <td>    0.096</td> <td>   -0.435</td> <td> 0.664</td> <td>   -0.230</td> <td>    0.147</td>\n",
       "</tr>\n",
       "<tr>\n",
       "  <th>residual sugar</th>      <td>    0.0241</td> <td>    0.003</td> <td>    9.390</td> <td> 0.000</td> <td>    0.019</td> <td>    0.029</td>\n",
       "</tr>\n",
       "<tr>\n",
       "  <th>chlorides</th>           <td>   -0.9964</td> <td>    0.543</td> <td>   -1.836</td> <td> 0.066</td> <td>   -2.061</td> <td>    0.068</td>\n",
       "</tr>\n",
       "<tr>\n",
       "  <th>free sulfur dioxide</th> <td>    0.0036</td> <td>    0.001</td> <td>    5.333</td> <td> 0.000</td> <td>    0.002</td> <td>    0.005</td>\n",
       "</tr>\n",
       "<tr>\n",
       "  <th>density</th>             <td>    2.0389</td> <td>    0.353</td> <td>    5.768</td> <td> 0.000</td> <td>    1.346</td> <td>    2.732</td>\n",
       "</tr>\n",
       "<tr>\n",
       "  <th>pH</th>                  <td>    0.1426</td> <td>    0.083</td> <td>    1.720</td> <td> 0.085</td> <td>   -0.020</td> <td>    0.305</td>\n",
       "</tr>\n",
       "<tr>\n",
       "  <th>sulphates</th>           <td>    0.3869</td> <td>    0.097</td> <td>    4.007</td> <td> 0.000</td> <td>    0.198</td> <td>    0.576</td>\n",
       "</tr>\n",
       "<tr>\n",
       "  <th>alcohol</th>             <td>    0.3734</td> <td>    0.011</td> <td>   35.152</td> <td> 0.000</td> <td>    0.353</td> <td>    0.394</td>\n",
       "</tr>\n",
       "</table>\n",
       "<table class=\"simpletable\">\n",
       "<tr>\n",
       "  <th>Omnibus:</th>       <td>106.901</td> <th>  Durbin-Watson:     </th> <td>   1.626</td>\n",
       "</tr>\n",
       "<tr>\n",
       "  <th>Prob(Omnibus):</th> <td> 0.000</td>  <th>  Jarque-Bera (JB):  </th> <td> 229.235</td>\n",
       "</tr>\n",
       "<tr>\n",
       "  <th>Skew:</th>          <td> 0.068</td>  <th>  Prob(JB):          </th> <td>1.67e-50</td>\n",
       "</tr>\n",
       "<tr>\n",
       "  <th>Kurtosis:</th>      <td> 4.051</td>  <th>  Cond. No.          </th> <td>2.13e+03</td>\n",
       "</tr>\n",
       "</table><br/><br/>Notes:<br/>[1] R² is computed without centering (uncentered) since the model does not contain a constant.<br/>[2] Standard Errors assume that the covariance matrix of the errors is correctly specified.<br/>[3] The condition number is large, 2.13e+03. This might indicate that there are<br/>strong multicollinearity or other numerical problems."
      ],
      "text/latex": [
       "\\begin{center}\n",
       "\\begin{tabular}{lclc}\n",
       "\\toprule\n",
       "\\textbf{Dep. Variable:}      &     quality      & \\textbf{  R-squared (uncentered):}      &     0.984   \\\\\n",
       "\\textbf{Model:}              &       OLS        & \\textbf{  Adj. R-squared (uncentered):} &     0.984   \\\\\n",
       "\\textbf{Method:}             &  Least Squares   & \\textbf{  F-statistic:       }          & 2.975e+04   \\\\\n",
       "\\textbf{Date:}               & Wed, 12 Jul 2023 & \\textbf{  Prob (F-statistic):}          &     0.00    \\\\\n",
       "\\textbf{Time:}               &     13:43:46     & \\textbf{  Log-Likelihood:    }          &   -5578.3   \\\\\n",
       "\\textbf{No. Observations:}   &        4898      & \\textbf{  AIC:               }          & 1.118e+04   \\\\\n",
       "\\textbf{Df Residuals:}       &        4888      & \\textbf{  BIC:               }          & 1.124e+04   \\\\\n",
       "\\textbf{Df Model:}           &          10      & \\textbf{                     }          &             \\\\\n",
       "\\textbf{Covariance Type:}    &    nonrobust     & \\textbf{                     }          &             \\\\\n",
       "\\bottomrule\n",
       "\\end{tabular}\n",
       "\\begin{tabular}{lcccccc}\n",
       "                             & \\textbf{coef} & \\textbf{std err} & \\textbf{t} & \\textbf{P$> |$t$|$} & \\textbf{[0.025} & \\textbf{0.975]}  \\\\\n",
       "\\midrule\n",
       "\\textbf{fixed acidity}       &      -0.0555  &        0.015     &    -3.716  &         0.000        &       -0.085    &       -0.026     \\\\\n",
       "\\textbf{volatile acidity}    &      -2.0185  &        0.111     &   -18.175  &         0.000        &       -2.236    &       -1.801     \\\\\n",
       "\\textbf{citric acid}         &      -0.0418  &        0.096     &    -0.435  &         0.664        &       -0.230    &        0.147     \\\\\n",
       "\\textbf{residual sugar}      &       0.0241  &        0.003     &     9.390  &         0.000        &        0.019    &        0.029     \\\\\n",
       "\\textbf{chlorides}           &      -0.9964  &        0.543     &    -1.836  &         0.066        &       -2.061    &        0.068     \\\\\n",
       "\\textbf{free sulfur dioxide} &       0.0036  &        0.001     &     5.333  &         0.000        &        0.002    &        0.005     \\\\\n",
       "\\textbf{density}             &       2.0389  &        0.353     &     5.768  &         0.000        &        1.346    &        2.732     \\\\\n",
       "\\textbf{pH}                  &       0.1426  &        0.083     &     1.720  &         0.085        &       -0.020    &        0.305     \\\\\n",
       "\\textbf{sulphates}           &       0.3869  &        0.097     &     4.007  &         0.000        &        0.198    &        0.576     \\\\\n",
       "\\textbf{alcohol}             &       0.3734  &        0.011     &    35.152  &         0.000        &        0.353    &        0.394     \\\\\n",
       "\\bottomrule\n",
       "\\end{tabular}\n",
       "\\begin{tabular}{lclc}\n",
       "\\textbf{Omnibus:}       & 106.901 & \\textbf{  Durbin-Watson:     } &    1.626  \\\\\n",
       "\\textbf{Prob(Omnibus):} &   0.000 & \\textbf{  Jarque-Bera (JB):  } &  229.235  \\\\\n",
       "\\textbf{Skew:}          &   0.068 & \\textbf{  Prob(JB):          } & 1.67e-50  \\\\\n",
       "\\textbf{Kurtosis:}      &   4.051 & \\textbf{  Cond. No.          } & 2.13e+03  \\\\\n",
       "\\bottomrule\n",
       "\\end{tabular}\n",
       "%\\caption{OLS Regression Results}\n",
       "\\end{center}\n",
       "\n",
       "Notes: \\newline\n",
       " [1] R² is computed without centering (uncentered) since the model does not contain a constant. \\newline\n",
       " [2] Standard Errors assume that the covariance matrix of the errors is correctly specified. \\newline\n",
       " [3] The condition number is large, 2.13e+03. This might indicate that there are \\newline\n",
       " strong multicollinearity or other numerical problems."
      ],
      "text/plain": [
       "<class 'statsmodels.iolib.summary.Summary'>\n",
       "\"\"\"\n",
       "                                 OLS Regression Results                                \n",
       "=======================================================================================\n",
       "Dep. Variable:                quality   R-squared (uncentered):                   0.984\n",
       "Model:                            OLS   Adj. R-squared (uncentered):              0.984\n",
       "Method:                 Least Squares   F-statistic:                          2.975e+04\n",
       "Date:                Wed, 12 Jul 2023   Prob (F-statistic):                        0.00\n",
       "Time:                        13:43:46   Log-Likelihood:                         -5578.3\n",
       "No. Observations:                4898   AIC:                                  1.118e+04\n",
       "Df Residuals:                    4888   BIC:                                  1.124e+04\n",
       "Df Model:                          10                                                  \n",
       "Covariance Type:            nonrobust                                                  \n",
       "=======================================================================================\n",
       "                          coef    std err          t      P>|t|      [0.025      0.975]\n",
       "---------------------------------------------------------------------------------------\n",
       "fixed acidity          -0.0555      0.015     -3.716      0.000      -0.085      -0.026\n",
       "volatile acidity       -2.0185      0.111    -18.175      0.000      -2.236      -1.801\n",
       "citric acid            -0.0418      0.096     -0.435      0.664      -0.230       0.147\n",
       "residual sugar          0.0241      0.003      9.390      0.000       0.019       0.029\n",
       "chlorides              -0.9964      0.543     -1.836      0.066      -2.061       0.068\n",
       "free sulfur dioxide     0.0036      0.001      5.333      0.000       0.002       0.005\n",
       "density                 2.0389      0.353      5.768      0.000       1.346       2.732\n",
       "pH                      0.1426      0.083      1.720      0.085      -0.020       0.305\n",
       "sulphates               0.3869      0.097      4.007      0.000       0.198       0.576\n",
       "alcohol                 0.3734      0.011     35.152      0.000       0.353       0.394\n",
       "==============================================================================\n",
       "Omnibus:                      106.901   Durbin-Watson:                   1.626\n",
       "Prob(Omnibus):                  0.000   Jarque-Bera (JB):              229.235\n",
       "Skew:                           0.068   Prob(JB):                     1.67e-50\n",
       "Kurtosis:                       4.051   Cond. No.                     2.13e+03\n",
       "==============================================================================\n",
       "\n",
       "Notes:\n",
       "[1] R² is computed without centering (uncentered) since the model does not contain a constant.\n",
       "[2] Standard Errors assume that the covariance matrix of the errors is correctly specified.\n",
       "[3] The condition number is large, 2.13e+03. This might indicate that there are\n",
       "strong multicollinearity or other numerical problems.\n",
       "\"\"\""
      ]
     },
     "execution_count": 8,
     "metadata": {},
     "output_type": "execute_result"
    }
   ],
   "source": [
    "results.summary() # R-squared is 0.984, indicating a perfect fit of the model, p-values citric acid, chlorides \n",
    "# and pH are > 0.05, these parameters are insignificant. Then we'll repeat analysis excluding these three factors."
   ]
  },
  {
   "cell_type": "code",
   "execution_count": 9,
   "id": "63257498",
   "metadata": {},
   "outputs": [
    {
     "data": {
      "text/plain": [
       "fixed acidity           2.215187e-07\n",
       "volatile acidity        9.752025e-76\n",
       "residual sugar          2.766296e-21\n",
       "free sulfur dioxide     1.454154e-07\n",
       "density                 1.065278e-48\n",
       "sulphates               1.810807e-05\n",
       "alcohol                3.642735e-284\n",
       "dtype: float64"
      ]
     },
     "execution_count": 9,
     "metadata": {},
     "output_type": "execute_result"
    }
   ],
   "source": [
    "X = wine_white[[\"fixed acidity\",\n",
    "                \"volatile acidity\",\n",
    "                \"residual sugar\", \n",
    "                \"free sulfur dioxide\",\n",
    "                \"density\",\n",
    "                \"sulphates\",\n",
    "                \"alcohol\"]]\n",
    "y = wine_white[\"quality\"]\n",
    "import statsmodels.api as sm\n",
    "model = sm.OLS(y,X)\n",
    "results = model.fit()\n",
    "results.pvalues\n"
   ]
  },
  {
   "cell_type": "code",
   "execution_count": 10,
   "id": "cdab21b9",
   "metadata": {},
   "outputs": [
    {
     "data": {
      "text/html": [
       "<table class=\"simpletable\">\n",
       "<caption>OLS Regression Results</caption>\n",
       "<tr>\n",
       "  <th>Dep. Variable:</th>         <td>quality</td>     <th>  R-squared (uncentered):</th>      <td>   0.984</td> \n",
       "</tr>\n",
       "<tr>\n",
       "  <th>Model:</th>                   <td>OLS</td>       <th>  Adj. R-squared (uncentered):</th> <td>   0.984</td> \n",
       "</tr>\n",
       "<tr>\n",
       "  <th>Method:</th>             <td>Least Squares</td>  <th>  F-statistic:       </th>          <td>4.246e+04</td>\n",
       "</tr>\n",
       "<tr>\n",
       "  <th>Date:</th>             <td>Wed, 12 Jul 2023</td> <th>  Prob (F-statistic):</th>           <td>  0.00</td>  \n",
       "</tr>\n",
       "<tr>\n",
       "  <th>Time:</th>                 <td>13:43:52</td>     <th>  Log-Likelihood:    </th>          <td> -5582.0</td> \n",
       "</tr>\n",
       "<tr>\n",
       "  <th>No. Observations:</th>      <td>  4898</td>      <th>  AIC:               </th>          <td>1.118e+04</td>\n",
       "</tr>\n",
       "<tr>\n",
       "  <th>Df Residuals:</th>          <td>  4891</td>      <th>  BIC:               </th>          <td>1.122e+04</td>\n",
       "</tr>\n",
       "<tr>\n",
       "  <th>Df Model:</th>              <td>     7</td>      <th>                     </th>              <td> </td>    \n",
       "</tr>\n",
       "<tr>\n",
       "  <th>Covariance Type:</th>      <td>nonrobust</td>    <th>                     </th>              <td> </td>    \n",
       "</tr>\n",
       "</table>\n",
       "<table class=\"simpletable\">\n",
       "<tr>\n",
       "           <td></td>              <th>coef</th>     <th>std err</th>      <th>t</th>      <th>P>|t|</th>  <th>[0.025</th>    <th>0.975]</th>  \n",
       "</tr>\n",
       "<tr>\n",
       "  <th>fixed acidity</th>       <td>   -0.0677</td> <td>    0.013</td> <td>   -5.188</td> <td> 0.000</td> <td>   -0.093</td> <td>   -0.042</td>\n",
       "</tr>\n",
       "<tr>\n",
       "  <th>volatile acidity</th>    <td>   -2.0411</td> <td>    0.109</td> <td>  -18.741</td> <td> 0.000</td> <td>   -2.255</td> <td>   -1.828</td>\n",
       "</tr>\n",
       "<tr>\n",
       "  <th>residual sugar</th>      <td>    0.0237</td> <td>    0.002</td> <td>    9.515</td> <td> 0.000</td> <td>    0.019</td> <td>    0.029</td>\n",
       "</tr>\n",
       "<tr>\n",
       "  <th>free sulfur dioxide</th> <td>    0.0036</td> <td>    0.001</td> <td>    5.266</td> <td> 0.000</td> <td>    0.002</td> <td>    0.005</td>\n",
       "</tr>\n",
       "<tr>\n",
       "  <th>density</th>             <td>    2.4378</td> <td>    0.164</td> <td>   14.829</td> <td> 0.000</td> <td>    2.116</td> <td>    2.760</td>\n",
       "</tr>\n",
       "<tr>\n",
       "  <th>sulphates</th>           <td>    0.4086</td> <td>    0.095</td> <td>    4.291</td> <td> 0.000</td> <td>    0.222</td> <td>    0.595</td>\n",
       "</tr>\n",
       "<tr>\n",
       "  <th>alcohol</th>             <td>    0.3812</td> <td>    0.010</td> <td>   38.552</td> <td> 0.000</td> <td>    0.362</td> <td>    0.401</td>\n",
       "</tr>\n",
       "</table>\n",
       "<table class=\"simpletable\">\n",
       "<tr>\n",
       "  <th>Omnibus:</th>       <td>106.450</td> <th>  Durbin-Watson:     </th> <td>   1.626</td>\n",
       "</tr>\n",
       "<tr>\n",
       "  <th>Prob(Omnibus):</th> <td> 0.000</td>  <th>  Jarque-Bera (JB):  </th> <td> 225.349</td>\n",
       "</tr>\n",
       "<tr>\n",
       "  <th>Skew:</th>          <td> 0.078</td>  <th>  Prob(JB):          </th> <td>1.16e-49</td>\n",
       "</tr>\n",
       "<tr>\n",
       "  <th>Kurtosis:</th>      <td> 4.039</td>  <th>  Cond. No.          </th> <td>    648.</td>\n",
       "</tr>\n",
       "</table><br/><br/>Notes:<br/>[1] R² is computed without centering (uncentered) since the model does not contain a constant.<br/>[2] Standard Errors assume that the covariance matrix of the errors is correctly specified."
      ],
      "text/latex": [
       "\\begin{center}\n",
       "\\begin{tabular}{lclc}\n",
       "\\toprule\n",
       "\\textbf{Dep. Variable:}      &     quality      & \\textbf{  R-squared (uncentered):}      &     0.984   \\\\\n",
       "\\textbf{Model:}              &       OLS        & \\textbf{  Adj. R-squared (uncentered):} &     0.984   \\\\\n",
       "\\textbf{Method:}             &  Least Squares   & \\textbf{  F-statistic:       }          & 4.246e+04   \\\\\n",
       "\\textbf{Date:}               & Wed, 12 Jul 2023 & \\textbf{  Prob (F-statistic):}          &     0.00    \\\\\n",
       "\\textbf{Time:}               &     13:43:52     & \\textbf{  Log-Likelihood:    }          &   -5582.0   \\\\\n",
       "\\textbf{No. Observations:}   &        4898      & \\textbf{  AIC:               }          & 1.118e+04   \\\\\n",
       "\\textbf{Df Residuals:}       &        4891      & \\textbf{  BIC:               }          & 1.122e+04   \\\\\n",
       "\\textbf{Df Model:}           &           7      & \\textbf{                     }          &             \\\\\n",
       "\\textbf{Covariance Type:}    &    nonrobust     & \\textbf{                     }          &             \\\\\n",
       "\\bottomrule\n",
       "\\end{tabular}\n",
       "\\begin{tabular}{lcccccc}\n",
       "                             & \\textbf{coef} & \\textbf{std err} & \\textbf{t} & \\textbf{P$> |$t$|$} & \\textbf{[0.025} & \\textbf{0.975]}  \\\\\n",
       "\\midrule\n",
       "\\textbf{fixed acidity}       &      -0.0677  &        0.013     &    -5.188  &         0.000        &       -0.093    &       -0.042     \\\\\n",
       "\\textbf{volatile acidity}    &      -2.0411  &        0.109     &   -18.741  &         0.000        &       -2.255    &       -1.828     \\\\\n",
       "\\textbf{residual sugar}      &       0.0237  &        0.002     &     9.515  &         0.000        &        0.019    &        0.029     \\\\\n",
       "\\textbf{free sulfur dioxide} &       0.0036  &        0.001     &     5.266  &         0.000        &        0.002    &        0.005     \\\\\n",
       "\\textbf{density}             &       2.4378  &        0.164     &    14.829  &         0.000        &        2.116    &        2.760     \\\\\n",
       "\\textbf{sulphates}           &       0.4086  &        0.095     &     4.291  &         0.000        &        0.222    &        0.595     \\\\\n",
       "\\textbf{alcohol}             &       0.3812  &        0.010     &    38.552  &         0.000        &        0.362    &        0.401     \\\\\n",
       "\\bottomrule\n",
       "\\end{tabular}\n",
       "\\begin{tabular}{lclc}\n",
       "\\textbf{Omnibus:}       & 106.450 & \\textbf{  Durbin-Watson:     } &    1.626  \\\\\n",
       "\\textbf{Prob(Omnibus):} &   0.000 & \\textbf{  Jarque-Bera (JB):  } &  225.349  \\\\\n",
       "\\textbf{Skew:}          &   0.078 & \\textbf{  Prob(JB):          } & 1.16e-49  \\\\\n",
       "\\textbf{Kurtosis:}      &   4.039 & \\textbf{  Cond. No.          } &     648.  \\\\\n",
       "\\bottomrule\n",
       "\\end{tabular}\n",
       "%\\caption{OLS Regression Results}\n",
       "\\end{center}\n",
       "\n",
       "Notes: \\newline\n",
       " [1] R² is computed without centering (uncentered) since the model does not contain a constant. \\newline\n",
       " [2] Standard Errors assume that the covariance matrix of the errors is correctly specified."
      ],
      "text/plain": [
       "<class 'statsmodels.iolib.summary.Summary'>\n",
       "\"\"\"\n",
       "                                 OLS Regression Results                                \n",
       "=======================================================================================\n",
       "Dep. Variable:                quality   R-squared (uncentered):                   0.984\n",
       "Model:                            OLS   Adj. R-squared (uncentered):              0.984\n",
       "Method:                 Least Squares   F-statistic:                          4.246e+04\n",
       "Date:                Wed, 12 Jul 2023   Prob (F-statistic):                        0.00\n",
       "Time:                        13:43:52   Log-Likelihood:                         -5582.0\n",
       "No. Observations:                4898   AIC:                                  1.118e+04\n",
       "Df Residuals:                    4891   BIC:                                  1.122e+04\n",
       "Df Model:                           7                                                  \n",
       "Covariance Type:            nonrobust                                                  \n",
       "=======================================================================================\n",
       "                          coef    std err          t      P>|t|      [0.025      0.975]\n",
       "---------------------------------------------------------------------------------------\n",
       "fixed acidity          -0.0677      0.013     -5.188      0.000      -0.093      -0.042\n",
       "volatile acidity       -2.0411      0.109    -18.741      0.000      -2.255      -1.828\n",
       "residual sugar          0.0237      0.002      9.515      0.000       0.019       0.029\n",
       "free sulfur dioxide     0.0036      0.001      5.266      0.000       0.002       0.005\n",
       "density                 2.4378      0.164     14.829      0.000       2.116       2.760\n",
       "sulphates               0.4086      0.095      4.291      0.000       0.222       0.595\n",
       "alcohol                 0.3812      0.010     38.552      0.000       0.362       0.401\n",
       "==============================================================================\n",
       "Omnibus:                      106.450   Durbin-Watson:                   1.626\n",
       "Prob(Omnibus):                  0.000   Jarque-Bera (JB):              225.349\n",
       "Skew:                           0.078   Prob(JB):                     1.16e-49\n",
       "Kurtosis:                       4.039   Cond. No.                         648.\n",
       "==============================================================================\n",
       "\n",
       "Notes:\n",
       "[1] R² is computed without centering (uncentered) since the model does not contain a constant.\n",
       "[2] Standard Errors assume that the covariance matrix of the errors is correctly specified.\n",
       "\"\"\""
      ]
     },
     "execution_count": 10,
     "metadata": {},
     "output_type": "execute_result"
    }
   ],
   "source": [
    "results.summary()"
   ]
  },
  {
   "cell_type": "code",
   "execution_count": 16,
   "id": "eb186048",
   "metadata": {},
   "outputs": [
    {
     "data": {
      "text/plain": [
       "24323.459507244494"
      ]
     },
     "execution_count": 16,
     "metadata": {},
     "output_type": "execute_result"
    }
   ],
   "source": [
    "results.mse_model"
   ]
  },
  {
   "cell_type": "code",
   "execution_count": 13,
   "id": "71467786",
   "metadata": {},
   "outputs": [
    {
     "data": {
      "text/plain": [
       "0       0.393976\n",
       "1       0.705654\n",
       "2       0.392618\n",
       "3       0.222140\n",
       "4       0.222140\n",
       "          ...   \n",
       "4893   -0.165830\n",
       "4894   -0.567213\n",
       "4895    0.602746\n",
       "4896    0.421392\n",
       "4897   -0.304180\n",
       "Length: 4898, dtype: float64"
      ]
     },
     "execution_count": 13,
     "metadata": {},
     "output_type": "execute_result"
    }
   ],
   "source": [
    "results.resid"
   ]
  },
  {
   "cell_type": "code",
   "execution_count": 17,
   "id": "eca975e1",
   "metadata": {},
   "outputs": [],
   "source": [
    "#Select own data\n",
    "house_living_costs = pa.read_csv(\"Household-living-costs-price-indexes-march-2023-quarter-group-facts.csv\")"
   ]
  },
  {
   "cell_type": "code",
   "execution_count": 18,
   "id": "226771ba",
   "metadata": {},
   "outputs": [
    {
     "data": {
      "text/html": [
       "<div>\n",
       "<style scoped>\n",
       "    .dataframe tbody tr th:only-of-type {\n",
       "        vertical-align: middle;\n",
       "    }\n",
       "\n",
       "    .dataframe tbody tr th {\n",
       "        vertical-align: top;\n",
       "    }\n",
       "\n",
       "    .dataframe thead th {\n",
       "        text-align: right;\n",
       "    }\n",
       "</style>\n",
       "<table border=\"1\" class=\"dataframe\">\n",
       "  <thead>\n",
       "    <tr style=\"text-align: right;\">\n",
       "      <th></th>\n",
       "      <th>hlpi_name</th>\n",
       "      <th>year</th>\n",
       "      <th>hlpi</th>\n",
       "      <th>tot_hhs</th>\n",
       "      <th>own</th>\n",
       "      <th>own_wm</th>\n",
       "      <th>own_prop</th>\n",
       "      <th>own_wm_prop</th>\n",
       "      <th>prop_hhs</th>\n",
       "      <th>age</th>\n",
       "      <th>size</th>\n",
       "      <th>income</th>\n",
       "      <th>expenditure</th>\n",
       "      <th>eqv_income</th>\n",
       "      <th>eqv_exp</th>\n",
       "    </tr>\n",
       "  </thead>\n",
       "  <tbody>\n",
       "    <tr>\n",
       "      <th>0</th>\n",
       "      <td>All households</td>\n",
       "      <td>2008</td>\n",
       "      <td>allhh</td>\n",
       "      <td>1560859</td>\n",
       "      <td>1087580</td>\n",
       "      <td>574406</td>\n",
       "      <td>69.7</td>\n",
       "      <td>36.8</td>\n",
       "      <td>100.0</td>\n",
       "      <td>35.9</td>\n",
       "      <td>2.7</td>\n",
       "      <td>46704</td>\n",
       "      <td>42394</td>\n",
       "      <td>26869</td>\n",
       "      <td>25132</td>\n",
       "    </tr>\n",
       "    <tr>\n",
       "      <th>1</th>\n",
       "      <td>Beneficiary</td>\n",
       "      <td>2008</td>\n",
       "      <td>benef</td>\n",
       "      <td>185965</td>\n",
       "      <td>71256</td>\n",
       "      <td>39405</td>\n",
       "      <td>38.3</td>\n",
       "      <td>21.2</td>\n",
       "      <td>11.9</td>\n",
       "      <td>29.9</td>\n",
       "      <td>2.6</td>\n",
       "      <td>23404</td>\n",
       "      <td>25270</td>\n",
       "      <td>14258</td>\n",
       "      <td>15824</td>\n",
       "    </tr>\n",
       "    <tr>\n",
       "      <th>2</th>\n",
       "      <td>Income quintile 1 (low)</td>\n",
       "      <td>2008</td>\n",
       "      <td>disq1</td>\n",
       "      <td>312376</td>\n",
       "      <td>191470</td>\n",
       "      <td>48424</td>\n",
       "      <td>61.3</td>\n",
       "      <td>15.5</td>\n",
       "      <td>20.0</td>\n",
       "      <td>40.0</td>\n",
       "      <td>2.3</td>\n",
       "      <td>16747</td>\n",
       "      <td>21145</td>\n",
       "      <td>13402</td>\n",
       "      <td>14408</td>\n",
       "    </tr>\n",
       "    <tr>\n",
       "      <th>3</th>\n",
       "      <td>Income quintile 2</td>\n",
       "      <td>2008</td>\n",
       "      <td>disq2</td>\n",
       "      <td>312333</td>\n",
       "      <td>196203</td>\n",
       "      <td>84171</td>\n",
       "      <td>62.8</td>\n",
       "      <td>26.9</td>\n",
       "      <td>20.0</td>\n",
       "      <td>34.7</td>\n",
       "      <td>2.8</td>\n",
       "      <td>31308</td>\n",
       "      <td>29855</td>\n",
       "      <td>18917</td>\n",
       "      <td>18266</td>\n",
       "    </tr>\n",
       "    <tr>\n",
       "      <th>4</th>\n",
       "      <td>Income quintile 3</td>\n",
       "      <td>2008</td>\n",
       "      <td>disq3</td>\n",
       "      <td>312240</td>\n",
       "      <td>217657</td>\n",
       "      <td>141318</td>\n",
       "      <td>69.7</td>\n",
       "      <td>45.3</td>\n",
       "      <td>20.0</td>\n",
       "      <td>31.5</td>\n",
       "      <td>3.0</td>\n",
       "      <td>49106</td>\n",
       "      <td>46561</td>\n",
       "      <td>26870</td>\n",
       "      <td>24672</td>\n",
       "    </tr>\n",
       "    <tr>\n",
       "      <th>...</th>\n",
       "      <td>...</td>\n",
       "      <td>...</td>\n",
       "      <td>...</td>\n",
       "      <td>...</td>\n",
       "      <td>...</td>\n",
       "      <td>...</td>\n",
       "      <td>...</td>\n",
       "      <td>...</td>\n",
       "      <td>...</td>\n",
       "      <td>...</td>\n",
       "      <td>...</td>\n",
       "      <td>...</td>\n",
       "      <td>...</td>\n",
       "      <td>...</td>\n",
       "      <td>...</td>\n",
       "    </tr>\n",
       "    <tr>\n",
       "      <th>65</th>\n",
       "      <td>Expenditure quintile 3</td>\n",
       "      <td>2020</td>\n",
       "      <td>expq3</td>\n",
       "      <td>352564</td>\n",
       "      <td>213893</td>\n",
       "      <td>119637</td>\n",
       "      <td>60.7</td>\n",
       "      <td>33.9</td>\n",
       "      <td>20.1</td>\n",
       "      <td>36.9</td>\n",
       "      <td>2.8</td>\n",
       "      <td>69779</td>\n",
       "      <td>57351</td>\n",
       "      <td>38889</td>\n",
       "      <td>33468</td>\n",
       "    </tr>\n",
       "    <tr>\n",
       "      <th>66</th>\n",
       "      <td>Expenditure quintile 4</td>\n",
       "      <td>2020</td>\n",
       "      <td>expq4</td>\n",
       "      <td>350182</td>\n",
       "      <td>235256</td>\n",
       "      <td>141104</td>\n",
       "      <td>67.2</td>\n",
       "      <td>40.3</td>\n",
       "      <td>19.9</td>\n",
       "      <td>35.0</td>\n",
       "      <td>3.0</td>\n",
       "      <td>88944</td>\n",
       "      <td>83038</td>\n",
       "      <td>48929</td>\n",
       "      <td>45978</td>\n",
       "    </tr>\n",
       "    <tr>\n",
       "      <th>67</th>\n",
       "      <td>Expenditure quintile 5 (high)</td>\n",
       "      <td>2020</td>\n",
       "      <td>expq5</td>\n",
       "      <td>351328</td>\n",
       "      <td>288779</td>\n",
       "      <td>187838</td>\n",
       "      <td>82.2</td>\n",
       "      <td>53.5</td>\n",
       "      <td>20.0</td>\n",
       "      <td>39.6</td>\n",
       "      <td>2.6</td>\n",
       "      <td>104277</td>\n",
       "      <td>123424</td>\n",
       "      <td>62718</td>\n",
       "      <td>71985</td>\n",
       "    </tr>\n",
       "    <tr>\n",
       "      <th>68</th>\n",
       "      <td>Māori</td>\n",
       "      <td>2020</td>\n",
       "      <td>maori</td>\n",
       "      <td>329588</td>\n",
       "      <td>156459</td>\n",
       "      <td>107753</td>\n",
       "      <td>47.5</td>\n",
       "      <td>32.7</td>\n",
       "      <td>18.8</td>\n",
       "      <td>31.1</td>\n",
       "      <td>3.2</td>\n",
       "      <td>69581</td>\n",
       "      <td>54141</td>\n",
       "      <td>35075</td>\n",
       "      <td>29684</td>\n",
       "    </tr>\n",
       "    <tr>\n",
       "      <th>69</th>\n",
       "      <td>Superannuitant</td>\n",
       "      <td>2020</td>\n",
       "      <td>super</td>\n",
       "      <td>388013</td>\n",
       "      <td>314154</td>\n",
       "      <td>38270</td>\n",
       "      <td>81.0</td>\n",
       "      <td>9.9</td>\n",
       "      <td>22.1</td>\n",
       "      <td>69.8</td>\n",
       "      <td>1.7</td>\n",
       "      <td>34712</td>\n",
       "      <td>34643</td>\n",
       "      <td>25077</td>\n",
       "      <td>27037</td>\n",
       "    </tr>\n",
       "  </tbody>\n",
       "</table>\n",
       "<p>70 rows × 15 columns</p>\n",
       "</div>"
      ],
      "text/plain": [
       "                        hlpi_name  year   hlpi  tot_hhs      own  own_wm  \\\n",
       "0                  All households  2008  allhh  1560859  1087580  574406   \n",
       "1                     Beneficiary  2008  benef   185965    71256   39405   \n",
       "2         Income quintile 1 (low)  2008  disq1   312376   191470   48424   \n",
       "3               Income quintile 2  2008  disq2   312333   196203   84171   \n",
       "4               Income quintile 3  2008  disq3   312240   217657  141318   \n",
       "..                            ...   ...    ...      ...      ...     ...   \n",
       "65         Expenditure quintile 3  2020  expq3   352564   213893  119637   \n",
       "66         Expenditure quintile 4  2020  expq4   350182   235256  141104   \n",
       "67  Expenditure quintile 5 (high)  2020  expq5   351328   288779  187838   \n",
       "68                          Māori  2020  maori   329588   156459  107753   \n",
       "69                 Superannuitant  2020  super   388013   314154   38270   \n",
       "\n",
       "    own_prop  own_wm_prop  prop_hhs   age  size  income  expenditure  \\\n",
       "0       69.7         36.8     100.0  35.9   2.7   46704        42394   \n",
       "1       38.3         21.2      11.9  29.9   2.6   23404        25270   \n",
       "2       61.3         15.5      20.0  40.0   2.3   16747        21145   \n",
       "3       62.8         26.9      20.0  34.7   2.8   31308        29855   \n",
       "4       69.7         45.3      20.0  31.5   3.0   49106        46561   \n",
       "..       ...          ...       ...   ...   ...     ...          ...   \n",
       "65      60.7         33.9      20.1  36.9   2.8   69779        57351   \n",
       "66      67.2         40.3      19.9  35.0   3.0   88944        83038   \n",
       "67      82.2         53.5      20.0  39.6   2.6  104277       123424   \n",
       "68      47.5         32.7      18.8  31.1   3.2   69581        54141   \n",
       "69      81.0          9.9      22.1  69.8   1.7   34712        34643   \n",
       "\n",
       "    eqv_income  eqv_exp  \n",
       "0        26869    25132  \n",
       "1        14258    15824  \n",
       "2        13402    14408  \n",
       "3        18917    18266  \n",
       "4        26870    24672  \n",
       "..         ...      ...  \n",
       "65       38889    33468  \n",
       "66       48929    45978  \n",
       "67       62718    71985  \n",
       "68       35075    29684  \n",
       "69       25077    27037  \n",
       "\n",
       "[70 rows x 15 columns]"
      ]
     },
     "execution_count": 18,
     "metadata": {},
     "output_type": "execute_result"
    }
   ],
   "source": [
    "house_living_costs"
   ]
  },
  {
   "cell_type": "code",
   "execution_count": 19,
   "id": "dfc8e165",
   "metadata": {},
   "outputs": [
    {
     "data": {
      "text/plain": [
       "tot_hhs        0.327806\n",
       "own            0.388740\n",
       "own_wm         0.220010\n",
       "own_prop       0.278862\n",
       "own_wm_prop    0.526143\n",
       "prop_hhs       0.000169\n",
       "age            0.059019\n",
       "size           0.055741\n",
       "income         0.010763\n",
       "eqv_income     0.000173\n",
       "dtype: float64"
      ]
     },
     "execution_count": 19,
     "metadata": {},
     "output_type": "execute_result"
    }
   ],
   "source": [
    "X = house_living_costs[[\"tot_hhs\",\n",
    "                \"own\",\n",
    "                \"own_wm\",\n",
    "                \"own_prop\",\n",
    "                \"own_wm_prop\", \n",
    "                \"prop_hhs\",\n",
    "                \"age\",\n",
    "                \"size\",\"income\",\n",
    "                \"eqv_income\"]]\n",
    "y = house_living_costs[\"expenditure\"]\n",
    "import statsmodels.api as sm\n",
    "model = sm.OLS(y,X)\n",
    "results = model.fit()\n",
    "results.pvalues\n",
    "#results.summary()\n",
    "#hlpi_name,year,hlpi,,own,own_wm,own_prop,own_wm_prop,prop_hhs,age,size,income,expenditure,eqv_income,eqv_exp"
   ]
  },
  {
   "cell_type": "code",
   "execution_count": 20,
   "id": "8a0d18e0",
   "metadata": {},
   "outputs": [
    {
     "data": {
      "text/html": [
       "<table class=\"simpletable\">\n",
       "<caption>OLS Regression Results</caption>\n",
       "<tr>\n",
       "  <th>Dep. Variable:</th>       <td>expenditure</td>   <th>  R-squared (uncentered):</th>      <td>   0.989</td>\n",
       "</tr>\n",
       "<tr>\n",
       "  <th>Model:</th>                   <td>OLS</td>       <th>  Adj. R-squared (uncentered):</th> <td>   0.987</td>\n",
       "</tr>\n",
       "<tr>\n",
       "  <th>Method:</th>             <td>Least Squares</td>  <th>  F-statistic:       </th>          <td>   515.8</td>\n",
       "</tr>\n",
       "<tr>\n",
       "  <th>Date:</th>             <td>Wed, 12 Jul 2023</td> <th>  Prob (F-statistic):</th>          <td>2.93e-54</td>\n",
       "</tr>\n",
       "<tr>\n",
       "  <th>Time:</th>                 <td>13:44:28</td>     <th>  Log-Likelihood:    </th>          <td> -706.75</td>\n",
       "</tr>\n",
       "<tr>\n",
       "  <th>No. Observations:</th>      <td>    70</td>      <th>  AIC:               </th>          <td>   1433.</td>\n",
       "</tr>\n",
       "<tr>\n",
       "  <th>Df Residuals:</th>          <td>    60</td>      <th>  BIC:               </th>          <td>   1456.</td>\n",
       "</tr>\n",
       "<tr>\n",
       "  <th>Df Model:</th>              <td>    10</td>      <th>                     </th>              <td> </td>   \n",
       "</tr>\n",
       "<tr>\n",
       "  <th>Covariance Type:</th>      <td>nonrobust</td>    <th>                     </th>              <td> </td>   \n",
       "</tr>\n",
       "</table>\n",
       "<table class=\"simpletable\">\n",
       "<tr>\n",
       "       <td></td>          <th>coef</th>     <th>std err</th>      <th>t</th>      <th>P>|t|</th>  <th>[0.025</th>    <th>0.975]</th>  \n",
       "</tr>\n",
       "<tr>\n",
       "  <th>tot_hhs</th>     <td>    0.0484</td> <td>    0.049</td> <td>    0.987</td> <td> 0.328</td> <td>   -0.050</td> <td>    0.146</td>\n",
       "</tr>\n",
       "<tr>\n",
       "  <th>own</th>         <td>    0.1032</td> <td>    0.119</td> <td>    0.868</td> <td> 0.389</td> <td>   -0.135</td> <td>    0.341</td>\n",
       "</tr>\n",
       "<tr>\n",
       "  <th>own_wm</th>      <td>    0.2185</td> <td>    0.176</td> <td>    1.239</td> <td> 0.220</td> <td>   -0.134</td> <td>    0.571</td>\n",
       "</tr>\n",
       "<tr>\n",
       "  <th>own_prop</th>    <td> -357.1901</td> <td>  326.866</td> <td>   -1.093</td> <td> 0.279</td> <td>-1011.020</td> <td>  296.640</td>\n",
       "</tr>\n",
       "<tr>\n",
       "  <th>own_wm_prop</th> <td>  365.0600</td> <td>  572.530</td> <td>    0.638</td> <td> 0.526</td> <td> -780.170</td> <td> 1510.290</td>\n",
       "</tr>\n",
       "<tr>\n",
       "  <th>prop_hhs</th>    <td>-3146.3214</td> <td>  784.069</td> <td>   -4.013</td> <td> 0.000</td> <td>-4714.694</td> <td>-1577.949</td>\n",
       "</tr>\n",
       "<tr>\n",
       "  <th>age</th>         <td>  460.2736</td> <td>  239.147</td> <td>    1.925</td> <td> 0.059</td> <td>  -18.092</td> <td>  938.640</td>\n",
       "</tr>\n",
       "<tr>\n",
       "  <th>size</th>        <td> 8731.5671</td> <td> 4475.610</td> <td>    1.951</td> <td> 0.056</td> <td> -220.987</td> <td> 1.77e+04</td>\n",
       "</tr>\n",
       "<tr>\n",
       "  <th>income</th>      <td>   -0.6754</td> <td>    0.257</td> <td>   -2.632</td> <td> 0.011</td> <td>   -1.189</td> <td>   -0.162</td>\n",
       "</tr>\n",
       "<tr>\n",
       "  <th>eqv_income</th>  <td>    1.8296</td> <td>    0.457</td> <td>    4.006</td> <td> 0.000</td> <td>    0.916</td> <td>    2.743</td>\n",
       "</tr>\n",
       "</table>\n",
       "<table class=\"simpletable\">\n",
       "<tr>\n",
       "  <th>Omnibus:</th>       <td>21.243</td> <th>  Durbin-Watson:     </th> <td>   1.311</td>\n",
       "</tr>\n",
       "<tr>\n",
       "  <th>Prob(Omnibus):</th> <td> 0.000</td> <th>  Jarque-Bera (JB):  </th> <td>  39.727</td>\n",
       "</tr>\n",
       "<tr>\n",
       "  <th>Skew:</th>          <td> 1.038</td> <th>  Prob(JB):          </th> <td>2.36e-09</td>\n",
       "</tr>\n",
       "<tr>\n",
       "  <th>Kurtosis:</th>      <td> 6.051</td> <th>  Cond. No.          </th> <td>3.98e+06</td>\n",
       "</tr>\n",
       "</table><br/><br/>Notes:<br/>[1] R² is computed without centering (uncentered) since the model does not contain a constant.<br/>[2] Standard Errors assume that the covariance matrix of the errors is correctly specified.<br/>[3] The condition number is large, 3.98e+06. This might indicate that there are<br/>strong multicollinearity or other numerical problems."
      ],
      "text/latex": [
       "\\begin{center}\n",
       "\\begin{tabular}{lclc}\n",
       "\\toprule\n",
       "\\textbf{Dep. Variable:}    &   expenditure    & \\textbf{  R-squared (uncentered):}      &     0.989   \\\\\n",
       "\\textbf{Model:}            &       OLS        & \\textbf{  Adj. R-squared (uncentered):} &     0.987   \\\\\n",
       "\\textbf{Method:}           &  Least Squares   & \\textbf{  F-statistic:       }          &     515.8   \\\\\n",
       "\\textbf{Date:}             & Wed, 12 Jul 2023 & \\textbf{  Prob (F-statistic):}          &  2.93e-54   \\\\\n",
       "\\textbf{Time:}             &     13:44:28     & \\textbf{  Log-Likelihood:    }          &   -706.75   \\\\\n",
       "\\textbf{No. Observations:} &          70      & \\textbf{  AIC:               }          &     1433.   \\\\\n",
       "\\textbf{Df Residuals:}     &          60      & \\textbf{  BIC:               }          &     1456.   \\\\\n",
       "\\textbf{Df Model:}         &          10      & \\textbf{                     }          &             \\\\\n",
       "\\textbf{Covariance Type:}  &    nonrobust     & \\textbf{                     }          &             \\\\\n",
       "\\bottomrule\n",
       "\\end{tabular}\n",
       "\\begin{tabular}{lcccccc}\n",
       "                       & \\textbf{coef} & \\textbf{std err} & \\textbf{t} & \\textbf{P$> |$t$|$} & \\textbf{[0.025} & \\textbf{0.975]}  \\\\\n",
       "\\midrule\n",
       "\\textbf{tot\\_hhs}      &       0.0484  &        0.049     &     0.987  &         0.328        &       -0.050    &        0.146     \\\\\n",
       "\\textbf{own}           &       0.1032  &        0.119     &     0.868  &         0.389        &       -0.135    &        0.341     \\\\\n",
       "\\textbf{own\\_wm}       &       0.2185  &        0.176     &     1.239  &         0.220        &       -0.134    &        0.571     \\\\\n",
       "\\textbf{own\\_prop}     &    -357.1901  &      326.866     &    -1.093  &         0.279        &    -1011.020    &      296.640     \\\\\n",
       "\\textbf{own\\_wm\\_prop} &     365.0600  &      572.530     &     0.638  &         0.526        &     -780.170    &     1510.290     \\\\\n",
       "\\textbf{prop\\_hhs}     &   -3146.3214  &      784.069     &    -4.013  &         0.000        &    -4714.694    &    -1577.949     \\\\\n",
       "\\textbf{age}           &     460.2736  &      239.147     &     1.925  &         0.059        &      -18.092    &      938.640     \\\\\n",
       "\\textbf{size}          &    8731.5671  &     4475.610     &     1.951  &         0.056        &     -220.987    &     1.77e+04     \\\\\n",
       "\\textbf{income}        &      -0.6754  &        0.257     &    -2.632  &         0.011        &       -1.189    &       -0.162     \\\\\n",
       "\\textbf{eqv\\_income}   &       1.8296  &        0.457     &     4.006  &         0.000        &        0.916    &        2.743     \\\\\n",
       "\\bottomrule\n",
       "\\end{tabular}\n",
       "\\begin{tabular}{lclc}\n",
       "\\textbf{Omnibus:}       & 21.243 & \\textbf{  Durbin-Watson:     } &    1.311  \\\\\n",
       "\\textbf{Prob(Omnibus):} &  0.000 & \\textbf{  Jarque-Bera (JB):  } &   39.727  \\\\\n",
       "\\textbf{Skew:}          &  1.038 & \\textbf{  Prob(JB):          } & 2.36e-09  \\\\\n",
       "\\textbf{Kurtosis:}      &  6.051 & \\textbf{  Cond. No.          } & 3.98e+06  \\\\\n",
       "\\bottomrule\n",
       "\\end{tabular}\n",
       "%\\caption{OLS Regression Results}\n",
       "\\end{center}\n",
       "\n",
       "Notes: \\newline\n",
       " [1] R² is computed without centering (uncentered) since the model does not contain a constant. \\newline\n",
       " [2] Standard Errors assume that the covariance matrix of the errors is correctly specified. \\newline\n",
       " [3] The condition number is large, 3.98e+06. This might indicate that there are \\newline\n",
       " strong multicollinearity or other numerical problems."
      ],
      "text/plain": [
       "<class 'statsmodels.iolib.summary.Summary'>\n",
       "\"\"\"\n",
       "                                 OLS Regression Results                                \n",
       "=======================================================================================\n",
       "Dep. Variable:            expenditure   R-squared (uncentered):                   0.989\n",
       "Model:                            OLS   Adj. R-squared (uncentered):              0.987\n",
       "Method:                 Least Squares   F-statistic:                              515.8\n",
       "Date:                Wed, 12 Jul 2023   Prob (F-statistic):                    2.93e-54\n",
       "Time:                        13:44:28   Log-Likelihood:                         -706.75\n",
       "No. Observations:                  70   AIC:                                      1433.\n",
       "Df Residuals:                      60   BIC:                                      1456.\n",
       "Df Model:                          10                                                  \n",
       "Covariance Type:            nonrobust                                                  \n",
       "===============================================================================\n",
       "                  coef    std err          t      P>|t|      [0.025      0.975]\n",
       "-------------------------------------------------------------------------------\n",
       "tot_hhs         0.0484      0.049      0.987      0.328      -0.050       0.146\n",
       "own             0.1032      0.119      0.868      0.389      -0.135       0.341\n",
       "own_wm          0.2185      0.176      1.239      0.220      -0.134       0.571\n",
       "own_prop     -357.1901    326.866     -1.093      0.279   -1011.020     296.640\n",
       "own_wm_prop   365.0600    572.530      0.638      0.526    -780.170    1510.290\n",
       "prop_hhs    -3146.3214    784.069     -4.013      0.000   -4714.694   -1577.949\n",
       "age           460.2736    239.147      1.925      0.059     -18.092     938.640\n",
       "size         8731.5671   4475.610      1.951      0.056    -220.987    1.77e+04\n",
       "income         -0.6754      0.257     -2.632      0.011      -1.189      -0.162\n",
       "eqv_income      1.8296      0.457      4.006      0.000       0.916       2.743\n",
       "==============================================================================\n",
       "Omnibus:                       21.243   Durbin-Watson:                   1.311\n",
       "Prob(Omnibus):                  0.000   Jarque-Bera (JB):               39.727\n",
       "Skew:                           1.038   Prob(JB):                     2.36e-09\n",
       "Kurtosis:                       6.051   Cond. No.                     3.98e+06\n",
       "==============================================================================\n",
       "\n",
       "Notes:\n",
       "[1] R² is computed without centering (uncentered) since the model does not contain a constant.\n",
       "[2] Standard Errors assume that the covariance matrix of the errors is correctly specified.\n",
       "[3] The condition number is large, 3.98e+06. This might indicate that there are\n",
       "strong multicollinearity or other numerical problems.\n",
       "\"\"\""
      ]
     },
     "execution_count": 20,
     "metadata": {},
     "output_type": "execute_result"
    }
   ],
   "source": [
    "results.summary()"
   ]
  },
  {
   "cell_type": "code",
   "execution_count": 21,
   "id": "b6b13062",
   "metadata": {},
   "outputs": [
    {
     "data": {
      "text/plain": [
       "size    5.888028e-27\n",
       "dtype: float64"
      ]
     },
     "execution_count": 21,
     "metadata": {},
     "output_type": "execute_result"
    }
   ],
   "source": [
    "# for the case when ony one parameter is selected, e.g.\"size \"\n",
    "X = house_living_costs[\"size\"]\n",
    "y = house_living_costs[\"expenditure\"]\n",
    "import statsmodels.api as sm\n",
    "model = sm.OLS(y,X)\n",
    "results = model.fit()\n",
    "results.pvalues"
   ]
  },
  {
   "cell_type": "code",
   "execution_count": 22,
   "id": "2be1a57d",
   "metadata": {},
   "outputs": [
    {
     "data": {
      "text/html": [
       "<table class=\"simpletable\">\n",
       "<caption>OLS Regression Results</caption>\n",
       "<tr>\n",
       "  <th>Dep. Variable:</th>       <td>expenditure</td>   <th>  R-squared (uncentered):</th>      <td>   0.815</td>\n",
       "</tr>\n",
       "<tr>\n",
       "  <th>Model:</th>                   <td>OLS</td>       <th>  Adj. R-squared (uncentered):</th> <td>   0.812</td>\n",
       "</tr>\n",
       "<tr>\n",
       "  <th>Method:</th>             <td>Least Squares</td>  <th>  F-statistic:       </th>          <td>   303.3</td>\n",
       "</tr>\n",
       "<tr>\n",
       "  <th>Date:</th>             <td>Wed, 12 Jul 2023</td> <th>  Prob (F-statistic):</th>          <td>5.89e-27</td>\n",
       "</tr>\n",
       "<tr>\n",
       "  <th>Time:</th>                 <td>13:44:36</td>     <th>  Log-Likelihood:    </th>          <td> -804.05</td>\n",
       "</tr>\n",
       "<tr>\n",
       "  <th>No. Observations:</th>      <td>    70</td>      <th>  AIC:               </th>          <td>   1610.</td>\n",
       "</tr>\n",
       "<tr>\n",
       "  <th>Df Residuals:</th>          <td>    69</td>      <th>  BIC:               </th>          <td>   1612.</td>\n",
       "</tr>\n",
       "<tr>\n",
       "  <th>Df Model:</th>              <td>     1</td>      <th>                     </th>              <td> </td>   \n",
       "</tr>\n",
       "<tr>\n",
       "  <th>Covariance Type:</th>      <td>nonrobust</td>    <th>                     </th>              <td> </td>   \n",
       "</tr>\n",
       "</table>\n",
       "<table class=\"simpletable\">\n",
       "<tr>\n",
       "    <td></td>      <th>coef</th>     <th>std err</th>      <th>t</th>      <th>P>|t|</th>  <th>[0.025</th>    <th>0.975]</th>  \n",
       "</tr>\n",
       "<tr>\n",
       "  <th>size</th> <td> 1.865e+04</td> <td> 1070.967</td> <td>   17.415</td> <td> 0.000</td> <td> 1.65e+04</td> <td> 2.08e+04</td>\n",
       "</tr>\n",
       "</table>\n",
       "<table class=\"simpletable\">\n",
       "<tr>\n",
       "  <th>Omnibus:</th>       <td>16.053</td> <th>  Durbin-Watson:     </th> <td>   1.688</td>\n",
       "</tr>\n",
       "<tr>\n",
       "  <th>Prob(Omnibus):</th> <td> 0.000</td> <th>  Jarque-Bera (JB):  </th> <td>  18.338</td>\n",
       "</tr>\n",
       "<tr>\n",
       "  <th>Skew:</th>          <td> 1.165</td> <th>  Prob(JB):          </th> <td>0.000104</td>\n",
       "</tr>\n",
       "<tr>\n",
       "  <th>Kurtosis:</th>      <td> 3.927</td> <th>  Cond. No.          </th> <td>    1.00</td>\n",
       "</tr>\n",
       "</table><br/><br/>Notes:<br/>[1] R² is computed without centering (uncentered) since the model does not contain a constant.<br/>[2] Standard Errors assume that the covariance matrix of the errors is correctly specified."
      ],
      "text/latex": [
       "\\begin{center}\n",
       "\\begin{tabular}{lclc}\n",
       "\\toprule\n",
       "\\textbf{Dep. Variable:}    &   expenditure    & \\textbf{  R-squared (uncentered):}      &     0.815   \\\\\n",
       "\\textbf{Model:}            &       OLS        & \\textbf{  Adj. R-squared (uncentered):} &     0.812   \\\\\n",
       "\\textbf{Method:}           &  Least Squares   & \\textbf{  F-statistic:       }          &     303.3   \\\\\n",
       "\\textbf{Date:}             & Wed, 12 Jul 2023 & \\textbf{  Prob (F-statistic):}          &  5.89e-27   \\\\\n",
       "\\textbf{Time:}             &     13:44:36     & \\textbf{  Log-Likelihood:    }          &   -804.05   \\\\\n",
       "\\textbf{No. Observations:} &          70      & \\textbf{  AIC:               }          &     1610.   \\\\\n",
       "\\textbf{Df Residuals:}     &          69      & \\textbf{  BIC:               }          &     1612.   \\\\\n",
       "\\textbf{Df Model:}         &           1      & \\textbf{                     }          &             \\\\\n",
       "\\textbf{Covariance Type:}  &    nonrobust     & \\textbf{                     }          &             \\\\\n",
       "\\bottomrule\n",
       "\\end{tabular}\n",
       "\\begin{tabular}{lcccccc}\n",
       "              & \\textbf{coef} & \\textbf{std err} & \\textbf{t} & \\textbf{P$> |$t$|$} & \\textbf{[0.025} & \\textbf{0.975]}  \\\\\n",
       "\\midrule\n",
       "\\textbf{size} &    1.865e+04  &     1070.967     &    17.415  &         0.000        &     1.65e+04    &     2.08e+04     \\\\\n",
       "\\bottomrule\n",
       "\\end{tabular}\n",
       "\\begin{tabular}{lclc}\n",
       "\\textbf{Omnibus:}       & 16.053 & \\textbf{  Durbin-Watson:     } &    1.688  \\\\\n",
       "\\textbf{Prob(Omnibus):} &  0.000 & \\textbf{  Jarque-Bera (JB):  } &   18.338  \\\\\n",
       "\\textbf{Skew:}          &  1.165 & \\textbf{  Prob(JB):          } & 0.000104  \\\\\n",
       "\\textbf{Kurtosis:}      &  3.927 & \\textbf{  Cond. No.          } &     1.00  \\\\\n",
       "\\bottomrule\n",
       "\\end{tabular}\n",
       "%\\caption{OLS Regression Results}\n",
       "\\end{center}\n",
       "\n",
       "Notes: \\newline\n",
       " [1] R² is computed without centering (uncentered) since the model does not contain a constant. \\newline\n",
       " [2] Standard Errors assume that the covariance matrix of the errors is correctly specified."
      ],
      "text/plain": [
       "<class 'statsmodels.iolib.summary.Summary'>\n",
       "\"\"\"\n",
       "                                 OLS Regression Results                                \n",
       "=======================================================================================\n",
       "Dep. Variable:            expenditure   R-squared (uncentered):                   0.815\n",
       "Model:                            OLS   Adj. R-squared (uncentered):              0.812\n",
       "Method:                 Least Squares   F-statistic:                              303.3\n",
       "Date:                Wed, 12 Jul 2023   Prob (F-statistic):                    5.89e-27\n",
       "Time:                        13:44:36   Log-Likelihood:                         -804.05\n",
       "No. Observations:                  70   AIC:                                      1610.\n",
       "Df Residuals:                      69   BIC:                                      1612.\n",
       "Df Model:                           1                                                  \n",
       "Covariance Type:            nonrobust                                                  \n",
       "==============================================================================\n",
       "                 coef    std err          t      P>|t|      [0.025      0.975]\n",
       "------------------------------------------------------------------------------\n",
       "size        1.865e+04   1070.967     17.415      0.000    1.65e+04    2.08e+04\n",
       "==============================================================================\n",
       "Omnibus:                       16.053   Durbin-Watson:                   1.688\n",
       "Prob(Omnibus):                  0.000   Jarque-Bera (JB):               18.338\n",
       "Skew:                           1.165   Prob(JB):                     0.000104\n",
       "Kurtosis:                       3.927   Cond. No.                         1.00\n",
       "==============================================================================\n",
       "\n",
       "Notes:\n",
       "[1] R² is computed without centering (uncentered) since the model does not contain a constant.\n",
       "[2] Standard Errors assume that the covariance matrix of the errors is correctly specified.\n",
       "\"\"\""
      ]
     },
     "execution_count": 22,
     "metadata": {},
     "output_type": "execute_result"
    }
   ],
   "source": [
    "results.summary() # R-squared with one selected parameter is decreased to 0.815"
   ]
  },
  {
   "cell_type": "code",
   "execution_count": 23,
   "id": "1242cc38",
   "metadata": {},
   "outputs": [
    {
     "data": {
      "text/plain": [
       "170815305304.3741"
      ]
     },
     "execution_count": 23,
     "metadata": {},
     "output_type": "execute_result"
    }
   ],
   "source": [
    "results.mse_model"
   ]
  },
  {
   "cell_type": "code",
   "execution_count": 24,
   "id": "cddd9093",
   "metadata": {},
   "outputs": [
    {
     "data": {
      "text/plain": [
       "0     -7961.977560\n",
       "1    -23220.941354\n",
       "2    -21750.832736\n",
       "3    -22366.013766\n",
       "4     -9390.086177\n",
       "          ...     \n",
       "65     5129.986234\n",
       "66    27086.913823\n",
       "67    74933.058646\n",
       "68    -5540.158589\n",
       "69     2937.384499\n",
       "Length: 70, dtype: float64"
      ]
     },
     "execution_count": 24,
     "metadata": {},
     "output_type": "execute_result"
    }
   ],
   "source": [
    "results.resid"
   ]
  },
  {
   "cell_type": "code",
   "execution_count": 25,
   "id": "752340bf",
   "metadata": {},
   "outputs": [],
   "source": [
    "import plotly.graph_objects as go"
   ]
  },
  {
   "cell_type": "code",
   "execution_count": 30,
   "id": "edb68e53",
   "metadata": {},
   "outputs": [],
   "source": [
    "fig = go.Figure(data=go.Scatter(x=X,y=y,mode=\"markers\",name=\"HLC\")) # HLC - house living cost"
   ]
  },
  {
   "cell_type": "code",
   "execution_count": 31,
   "id": "2bc3fffb",
   "metadata": {},
   "outputs": [
    {
     "data": {
      "application/vnd.plotly.v1+json": {
       "config": {
        "plotlyServerURL": "https://plot.ly"
       },
       "data": [
        {
         "mode": "markers",
         "name": "HLC",
         "type": "scatter",
         "x": [
          2.7,
          2.6,
          2.3,
          2.8,
          3,
          2.6,
          2.5,
          2.5,
          2.7,
          2.8,
          2.7,
          2.5,
          3.2,
          1.6,
          2.6,
          2.7,
          2.4,
          2.9,
          2.9,
          2.6,
          2.4,
          2.6,
          2.7,
          2.8,
          2.7,
          2.4,
          3.2,
          1.6,
          2.6,
          2.5,
          2.4,
          2.9,
          2.8,
          2.6,
          2.4,
          2.6,
          2.7,
          2.8,
          2.6,
          2.5,
          3.1,
          1.7,
          2.7,
          2.8,
          2.3,
          3,
          3.1,
          2.7,
          2.5,
          2.6,
          2.8,
          2.9,
          2.6,
          2.6,
          3.1,
          1.6,
          2.7,
          2.5,
          2.3,
          2.7,
          3,
          2.8,
          2.7,
          2.5,
          2.8,
          2.8,
          3,
          2.6,
          3.2,
          1.7
         ],
         "y": [
          42394,
          25270,
          21145,
          29855,
          46561,
          52776,
          72822,
          16413,
          29085,
          42662,
          59015,
          89053,
          35312,
          21538,
          46098,
          27605,
          24224,
          34200,
          49431,
          55569,
          71815,
          18877,
          32790,
          46651,
          60862,
          90268,
          42801,
          25436,
          49330,
          27348,
          25809,
          38498,
          52941,
          65874,
          80806,
          19997,
          35822,
          49330,
          66519,
          97823,
          43582,
          29328,
          54293,
          30054,
          26775,
          43676,
          58065,
          68119,
          90983,
          20167,
          38052,
          54936,
          72718,
          115746,
          50982,
          30486,
          57969,
          29416,
          30562,
          41509,
          57775,
          71932,
          98187,
          20063,
          40102,
          57351,
          83038,
          123424,
          54141,
          34643
         ]
        },
        {
         "name": "Model",
         "type": "scatter",
         "x": [
          2.7,
          2.6,
          2.3,
          2.8,
          3,
          2.6,
          2.5,
          2.5,
          2.7,
          2.8,
          2.7,
          2.5,
          3.2,
          1.6,
          2.6,
          2.7,
          2.4,
          2.9,
          2.9,
          2.6,
          2.4,
          2.6,
          2.7,
          2.8,
          2.7,
          2.4,
          3.2,
          1.6,
          2.6,
          2.5,
          2.4,
          2.9,
          2.8,
          2.6,
          2.4,
          2.6,
          2.7,
          2.8,
          2.6,
          2.5,
          3.1,
          1.7,
          2.7,
          2.8,
          2.3,
          3,
          3.1,
          2.7,
          2.5,
          2.6,
          2.8,
          2.9,
          2.6,
          2.6,
          3.1,
          1.6,
          2.7,
          2.5,
          2.3,
          2.7,
          3,
          2.8,
          2.7,
          2.5,
          2.8,
          2.8,
          3,
          2.6,
          3.2,
          1.7
         ],
         "y": [
          50355.97755966442,
          48490.94135375092,
          42895.83273601042,
          52221.01376557791,
          55951.086177404904,
          48490.94135375092,
          46625.90514783742,
          46625.90514783742,
          50355.97755966442,
          52221.01376557791,
          50355.97755966442,
          46625.90514783742,
          59681.1585892319,
          29840.57929461595,
          48490.94135375092,
          50355.97755966442,
          44760.86894192392,
          54086.049971491404,
          54086.049971491404,
          48490.94135375092,
          44760.86894192392,
          48490.94135375092,
          50355.97755966442,
          52221.01376557791,
          50355.97755966442,
          44760.86894192392,
          59681.1585892319,
          29840.57929461595,
          48490.94135375092,
          46625.90514783742,
          44760.86894192392,
          54086.049971491404,
          52221.01376557791,
          48490.94135375092,
          44760.86894192392,
          48490.94135375092,
          50355.97755966442,
          52221.01376557791,
          48490.94135375092,
          46625.90514783742,
          57816.122383318405,
          31705.615500529446,
          50355.97755966442,
          52221.01376557791,
          42895.83273601042,
          55951.086177404904,
          57816.122383318405,
          50355.97755966442,
          46625.90514783742,
          48490.94135375092,
          52221.01376557791,
          54086.049971491404,
          48490.94135375092,
          48490.94135375092,
          57816.122383318405,
          29840.57929461595,
          50355.97755966442,
          46625.90514783742,
          42895.83273601042,
          50355.97755966442,
          55951.086177404904,
          52221.01376557791,
          50355.97755966442,
          46625.90514783742,
          52221.01376557791,
          52221.01376557791,
          55951.086177404904,
          48490.94135375092,
          59681.1585892319,
          31705.615500529446
         ]
        }
       ],
       "layout": {
        "template": {
         "data": {
          "bar": [
           {
            "error_x": {
             "color": "#2a3f5f"
            },
            "error_y": {
             "color": "#2a3f5f"
            },
            "marker": {
             "line": {
              "color": "#E5ECF6",
              "width": 0.5
             },
             "pattern": {
              "fillmode": "overlay",
              "size": 10,
              "solidity": 0.2
             }
            },
            "type": "bar"
           }
          ],
          "barpolar": [
           {
            "marker": {
             "line": {
              "color": "#E5ECF6",
              "width": 0.5
             },
             "pattern": {
              "fillmode": "overlay",
              "size": 10,
              "solidity": 0.2
             }
            },
            "type": "barpolar"
           }
          ],
          "carpet": [
           {
            "aaxis": {
             "endlinecolor": "#2a3f5f",
             "gridcolor": "white",
             "linecolor": "white",
             "minorgridcolor": "white",
             "startlinecolor": "#2a3f5f"
            },
            "baxis": {
             "endlinecolor": "#2a3f5f",
             "gridcolor": "white",
             "linecolor": "white",
             "minorgridcolor": "white",
             "startlinecolor": "#2a3f5f"
            },
            "type": "carpet"
           }
          ],
          "choropleth": [
           {
            "colorbar": {
             "outlinewidth": 0,
             "ticks": ""
            },
            "type": "choropleth"
           }
          ],
          "contour": [
           {
            "colorbar": {
             "outlinewidth": 0,
             "ticks": ""
            },
            "colorscale": [
             [
              0,
              "#0d0887"
             ],
             [
              0.1111111111111111,
              "#46039f"
             ],
             [
              0.2222222222222222,
              "#7201a8"
             ],
             [
              0.3333333333333333,
              "#9c179e"
             ],
             [
              0.4444444444444444,
              "#bd3786"
             ],
             [
              0.5555555555555556,
              "#d8576b"
             ],
             [
              0.6666666666666666,
              "#ed7953"
             ],
             [
              0.7777777777777778,
              "#fb9f3a"
             ],
             [
              0.8888888888888888,
              "#fdca26"
             ],
             [
              1,
              "#f0f921"
             ]
            ],
            "type": "contour"
           }
          ],
          "contourcarpet": [
           {
            "colorbar": {
             "outlinewidth": 0,
             "ticks": ""
            },
            "type": "contourcarpet"
           }
          ],
          "heatmap": [
           {
            "colorbar": {
             "outlinewidth": 0,
             "ticks": ""
            },
            "colorscale": [
             [
              0,
              "#0d0887"
             ],
             [
              0.1111111111111111,
              "#46039f"
             ],
             [
              0.2222222222222222,
              "#7201a8"
             ],
             [
              0.3333333333333333,
              "#9c179e"
             ],
             [
              0.4444444444444444,
              "#bd3786"
             ],
             [
              0.5555555555555556,
              "#d8576b"
             ],
             [
              0.6666666666666666,
              "#ed7953"
             ],
             [
              0.7777777777777778,
              "#fb9f3a"
             ],
             [
              0.8888888888888888,
              "#fdca26"
             ],
             [
              1,
              "#f0f921"
             ]
            ],
            "type": "heatmap"
           }
          ],
          "heatmapgl": [
           {
            "colorbar": {
             "outlinewidth": 0,
             "ticks": ""
            },
            "colorscale": [
             [
              0,
              "#0d0887"
             ],
             [
              0.1111111111111111,
              "#46039f"
             ],
             [
              0.2222222222222222,
              "#7201a8"
             ],
             [
              0.3333333333333333,
              "#9c179e"
             ],
             [
              0.4444444444444444,
              "#bd3786"
             ],
             [
              0.5555555555555556,
              "#d8576b"
             ],
             [
              0.6666666666666666,
              "#ed7953"
             ],
             [
              0.7777777777777778,
              "#fb9f3a"
             ],
             [
              0.8888888888888888,
              "#fdca26"
             ],
             [
              1,
              "#f0f921"
             ]
            ],
            "type": "heatmapgl"
           }
          ],
          "histogram": [
           {
            "marker": {
             "pattern": {
              "fillmode": "overlay",
              "size": 10,
              "solidity": 0.2
             }
            },
            "type": "histogram"
           }
          ],
          "histogram2d": [
           {
            "colorbar": {
             "outlinewidth": 0,
             "ticks": ""
            },
            "colorscale": [
             [
              0,
              "#0d0887"
             ],
             [
              0.1111111111111111,
              "#46039f"
             ],
             [
              0.2222222222222222,
              "#7201a8"
             ],
             [
              0.3333333333333333,
              "#9c179e"
             ],
             [
              0.4444444444444444,
              "#bd3786"
             ],
             [
              0.5555555555555556,
              "#d8576b"
             ],
             [
              0.6666666666666666,
              "#ed7953"
             ],
             [
              0.7777777777777778,
              "#fb9f3a"
             ],
             [
              0.8888888888888888,
              "#fdca26"
             ],
             [
              1,
              "#f0f921"
             ]
            ],
            "type": "histogram2d"
           }
          ],
          "histogram2dcontour": [
           {
            "colorbar": {
             "outlinewidth": 0,
             "ticks": ""
            },
            "colorscale": [
             [
              0,
              "#0d0887"
             ],
             [
              0.1111111111111111,
              "#46039f"
             ],
             [
              0.2222222222222222,
              "#7201a8"
             ],
             [
              0.3333333333333333,
              "#9c179e"
             ],
             [
              0.4444444444444444,
              "#bd3786"
             ],
             [
              0.5555555555555556,
              "#d8576b"
             ],
             [
              0.6666666666666666,
              "#ed7953"
             ],
             [
              0.7777777777777778,
              "#fb9f3a"
             ],
             [
              0.8888888888888888,
              "#fdca26"
             ],
             [
              1,
              "#f0f921"
             ]
            ],
            "type": "histogram2dcontour"
           }
          ],
          "mesh3d": [
           {
            "colorbar": {
             "outlinewidth": 0,
             "ticks": ""
            },
            "type": "mesh3d"
           }
          ],
          "parcoords": [
           {
            "line": {
             "colorbar": {
              "outlinewidth": 0,
              "ticks": ""
             }
            },
            "type": "parcoords"
           }
          ],
          "pie": [
           {
            "automargin": true,
            "type": "pie"
           }
          ],
          "scatter": [
           {
            "fillpattern": {
             "fillmode": "overlay",
             "size": 10,
             "solidity": 0.2
            },
            "type": "scatter"
           }
          ],
          "scatter3d": [
           {
            "line": {
             "colorbar": {
              "outlinewidth": 0,
              "ticks": ""
             }
            },
            "marker": {
             "colorbar": {
              "outlinewidth": 0,
              "ticks": ""
             }
            },
            "type": "scatter3d"
           }
          ],
          "scattercarpet": [
           {
            "marker": {
             "colorbar": {
              "outlinewidth": 0,
              "ticks": ""
             }
            },
            "type": "scattercarpet"
           }
          ],
          "scattergeo": [
           {
            "marker": {
             "colorbar": {
              "outlinewidth": 0,
              "ticks": ""
             }
            },
            "type": "scattergeo"
           }
          ],
          "scattergl": [
           {
            "marker": {
             "colorbar": {
              "outlinewidth": 0,
              "ticks": ""
             }
            },
            "type": "scattergl"
           }
          ],
          "scattermapbox": [
           {
            "marker": {
             "colorbar": {
              "outlinewidth": 0,
              "ticks": ""
             }
            },
            "type": "scattermapbox"
           }
          ],
          "scatterpolar": [
           {
            "marker": {
             "colorbar": {
              "outlinewidth": 0,
              "ticks": ""
             }
            },
            "type": "scatterpolar"
           }
          ],
          "scatterpolargl": [
           {
            "marker": {
             "colorbar": {
              "outlinewidth": 0,
              "ticks": ""
             }
            },
            "type": "scatterpolargl"
           }
          ],
          "scatterternary": [
           {
            "marker": {
             "colorbar": {
              "outlinewidth": 0,
              "ticks": ""
             }
            },
            "type": "scatterternary"
           }
          ],
          "surface": [
           {
            "colorbar": {
             "outlinewidth": 0,
             "ticks": ""
            },
            "colorscale": [
             [
              0,
              "#0d0887"
             ],
             [
              0.1111111111111111,
              "#46039f"
             ],
             [
              0.2222222222222222,
              "#7201a8"
             ],
             [
              0.3333333333333333,
              "#9c179e"
             ],
             [
              0.4444444444444444,
              "#bd3786"
             ],
             [
              0.5555555555555556,
              "#d8576b"
             ],
             [
              0.6666666666666666,
              "#ed7953"
             ],
             [
              0.7777777777777778,
              "#fb9f3a"
             ],
             [
              0.8888888888888888,
              "#fdca26"
             ],
             [
              1,
              "#f0f921"
             ]
            ],
            "type": "surface"
           }
          ],
          "table": [
           {
            "cells": {
             "fill": {
              "color": "#EBF0F8"
             },
             "line": {
              "color": "white"
             }
            },
            "header": {
             "fill": {
              "color": "#C8D4E3"
             },
             "line": {
              "color": "white"
             }
            },
            "type": "table"
           }
          ]
         },
         "layout": {
          "annotationdefaults": {
           "arrowcolor": "#2a3f5f",
           "arrowhead": 0,
           "arrowwidth": 1
          },
          "autotypenumbers": "strict",
          "coloraxis": {
           "colorbar": {
            "outlinewidth": 0,
            "ticks": ""
           }
          },
          "colorscale": {
           "diverging": [
            [
             0,
             "#8e0152"
            ],
            [
             0.1,
             "#c51b7d"
            ],
            [
             0.2,
             "#de77ae"
            ],
            [
             0.3,
             "#f1b6da"
            ],
            [
             0.4,
             "#fde0ef"
            ],
            [
             0.5,
             "#f7f7f7"
            ],
            [
             0.6,
             "#e6f5d0"
            ],
            [
             0.7,
             "#b8e186"
            ],
            [
             0.8,
             "#7fbc41"
            ],
            [
             0.9,
             "#4d9221"
            ],
            [
             1,
             "#276419"
            ]
           ],
           "sequential": [
            [
             0,
             "#0d0887"
            ],
            [
             0.1111111111111111,
             "#46039f"
            ],
            [
             0.2222222222222222,
             "#7201a8"
            ],
            [
             0.3333333333333333,
             "#9c179e"
            ],
            [
             0.4444444444444444,
             "#bd3786"
            ],
            [
             0.5555555555555556,
             "#d8576b"
            ],
            [
             0.6666666666666666,
             "#ed7953"
            ],
            [
             0.7777777777777778,
             "#fb9f3a"
            ],
            [
             0.8888888888888888,
             "#fdca26"
            ],
            [
             1,
             "#f0f921"
            ]
           ],
           "sequentialminus": [
            [
             0,
             "#0d0887"
            ],
            [
             0.1111111111111111,
             "#46039f"
            ],
            [
             0.2222222222222222,
             "#7201a8"
            ],
            [
             0.3333333333333333,
             "#9c179e"
            ],
            [
             0.4444444444444444,
             "#bd3786"
            ],
            [
             0.5555555555555556,
             "#d8576b"
            ],
            [
             0.6666666666666666,
             "#ed7953"
            ],
            [
             0.7777777777777778,
             "#fb9f3a"
            ],
            [
             0.8888888888888888,
             "#fdca26"
            ],
            [
             1,
             "#f0f921"
            ]
           ]
          },
          "colorway": [
           "#636efa",
           "#EF553B",
           "#00cc96",
           "#ab63fa",
           "#FFA15A",
           "#19d3f3",
           "#FF6692",
           "#B6E880",
           "#FF97FF",
           "#FECB52"
          ],
          "font": {
           "color": "#2a3f5f"
          },
          "geo": {
           "bgcolor": "white",
           "lakecolor": "white",
           "landcolor": "#E5ECF6",
           "showlakes": true,
           "showland": true,
           "subunitcolor": "white"
          },
          "hoverlabel": {
           "align": "left"
          },
          "hovermode": "closest",
          "mapbox": {
           "style": "light"
          },
          "paper_bgcolor": "white",
          "plot_bgcolor": "#E5ECF6",
          "polar": {
           "angularaxis": {
            "gridcolor": "white",
            "linecolor": "white",
            "ticks": ""
           },
           "bgcolor": "#E5ECF6",
           "radialaxis": {
            "gridcolor": "white",
            "linecolor": "white",
            "ticks": ""
           }
          },
          "scene": {
           "xaxis": {
            "backgroundcolor": "#E5ECF6",
            "gridcolor": "white",
            "gridwidth": 2,
            "linecolor": "white",
            "showbackground": true,
            "ticks": "",
            "zerolinecolor": "white"
           },
           "yaxis": {
            "backgroundcolor": "#E5ECF6",
            "gridcolor": "white",
            "gridwidth": 2,
            "linecolor": "white",
            "showbackground": true,
            "ticks": "",
            "zerolinecolor": "white"
           },
           "zaxis": {
            "backgroundcolor": "#E5ECF6",
            "gridcolor": "white",
            "gridwidth": 2,
            "linecolor": "white",
            "showbackground": true,
            "ticks": "",
            "zerolinecolor": "white"
           }
          },
          "shapedefaults": {
           "line": {
            "color": "#2a3f5f"
           }
          },
          "ternary": {
           "aaxis": {
            "gridcolor": "white",
            "linecolor": "white",
            "ticks": ""
           },
           "baxis": {
            "gridcolor": "white",
            "linecolor": "white",
            "ticks": ""
           },
           "bgcolor": "#E5ECF6",
           "caxis": {
            "gridcolor": "white",
            "linecolor": "white",
            "ticks": ""
           }
          },
          "title": {
           "x": 0.05
          },
          "xaxis": {
           "automargin": true,
           "gridcolor": "white",
           "linecolor": "white",
           "ticks": "",
           "title": {
            "standoff": 15
           },
           "zerolinecolor": "white",
           "zerolinewidth": 2
          },
          "yaxis": {
           "automargin": true,
           "gridcolor": "white",
           "linecolor": "white",
           "ticks": "",
           "title": {
            "standoff": 15
           },
           "zerolinecolor": "white",
           "zerolinewidth": 2
          }
         }
        }
       }
      },
      "text/html": [
       "<div>                            <div id=\"ceecc802-a627-4cad-959c-e68f7555ffc1\" class=\"plotly-graph-div\" style=\"height:525px; width:100%;\"></div>            <script type=\"text/javascript\">                require([\"plotly\"], function(Plotly) {                    window.PLOTLYENV=window.PLOTLYENV || {};                                    if (document.getElementById(\"ceecc802-a627-4cad-959c-e68f7555ffc1\")) {                    Plotly.newPlot(                        \"ceecc802-a627-4cad-959c-e68f7555ffc1\",                        [{\"mode\":\"markers\",\"name\":\"HLC\",\"x\":[2.7,2.6,2.3,2.8,3.0,2.6,2.5,2.5,2.7,2.8,2.7,2.5,3.2,1.6,2.6,2.7,2.4,2.9,2.9,2.6,2.4,2.6,2.7,2.8,2.7,2.4,3.2,1.6,2.6,2.5,2.4,2.9,2.8,2.6,2.4,2.6,2.7,2.8,2.6,2.5,3.1,1.7,2.7,2.8,2.3,3.0,3.1,2.7,2.5,2.6,2.8,2.9,2.6,2.6,3.1,1.6,2.7,2.5,2.3,2.7,3.0,2.8,2.7,2.5,2.8,2.8,3.0,2.6,3.2,1.7],\"y\":[42394,25270,21145,29855,46561,52776,72822,16413,29085,42662,59015,89053,35312,21538,46098,27605,24224,34200,49431,55569,71815,18877,32790,46651,60862,90268,42801,25436,49330,27348,25809,38498,52941,65874,80806,19997,35822,49330,66519,97823,43582,29328,54293,30054,26775,43676,58065,68119,90983,20167,38052,54936,72718,115746,50982,30486,57969,29416,30562,41509,57775,71932,98187,20063,40102,57351,83038,123424,54141,34643],\"type\":\"scatter\"},{\"name\":\"Model\",\"x\":[2.7,2.6,2.3,2.8,3.0,2.6,2.5,2.5,2.7,2.8,2.7,2.5,3.2,1.6,2.6,2.7,2.4,2.9,2.9,2.6,2.4,2.6,2.7,2.8,2.7,2.4,3.2,1.6,2.6,2.5,2.4,2.9,2.8,2.6,2.4,2.6,2.7,2.8,2.6,2.5,3.1,1.7,2.7,2.8,2.3,3.0,3.1,2.7,2.5,2.6,2.8,2.9,2.6,2.6,3.1,1.6,2.7,2.5,2.3,2.7,3.0,2.8,2.7,2.5,2.8,2.8,3.0,2.6,3.2,1.7],\"y\":[50355.97755966442,48490.94135375092,42895.83273601042,52221.01376557791,55951.086177404904,48490.94135375092,46625.90514783742,46625.90514783742,50355.97755966442,52221.01376557791,50355.97755966442,46625.90514783742,59681.1585892319,29840.57929461595,48490.94135375092,50355.97755966442,44760.86894192392,54086.049971491404,54086.049971491404,48490.94135375092,44760.86894192392,48490.94135375092,50355.97755966442,52221.01376557791,50355.97755966442,44760.86894192392,59681.1585892319,29840.57929461595,48490.94135375092,46625.90514783742,44760.86894192392,54086.049971491404,52221.01376557791,48490.94135375092,44760.86894192392,48490.94135375092,50355.97755966442,52221.01376557791,48490.94135375092,46625.90514783742,57816.122383318405,31705.615500529446,50355.97755966442,52221.01376557791,42895.83273601042,55951.086177404904,57816.122383318405,50355.97755966442,46625.90514783742,48490.94135375092,52221.01376557791,54086.049971491404,48490.94135375092,48490.94135375092,57816.122383318405,29840.57929461595,50355.97755966442,46625.90514783742,42895.83273601042,50355.97755966442,55951.086177404904,52221.01376557791,50355.97755966442,46625.90514783742,52221.01376557791,52221.01376557791,55951.086177404904,48490.94135375092,59681.1585892319,31705.615500529446],\"type\":\"scatter\"}],                        {\"template\":{\"data\":{\"histogram2dcontour\":[{\"type\":\"histogram2dcontour\",\"colorbar\":{\"outlinewidth\":0,\"ticks\":\"\"},\"colorscale\":[[0.0,\"#0d0887\"],[0.1111111111111111,\"#46039f\"],[0.2222222222222222,\"#7201a8\"],[0.3333333333333333,\"#9c179e\"],[0.4444444444444444,\"#bd3786\"],[0.5555555555555556,\"#d8576b\"],[0.6666666666666666,\"#ed7953\"],[0.7777777777777778,\"#fb9f3a\"],[0.8888888888888888,\"#fdca26\"],[1.0,\"#f0f921\"]]}],\"choropleth\":[{\"type\":\"choropleth\",\"colorbar\":{\"outlinewidth\":0,\"ticks\":\"\"}}],\"histogram2d\":[{\"type\":\"histogram2d\",\"colorbar\":{\"outlinewidth\":0,\"ticks\":\"\"},\"colorscale\":[[0.0,\"#0d0887\"],[0.1111111111111111,\"#46039f\"],[0.2222222222222222,\"#7201a8\"],[0.3333333333333333,\"#9c179e\"],[0.4444444444444444,\"#bd3786\"],[0.5555555555555556,\"#d8576b\"],[0.6666666666666666,\"#ed7953\"],[0.7777777777777778,\"#fb9f3a\"],[0.8888888888888888,\"#fdca26\"],[1.0,\"#f0f921\"]]}],\"heatmap\":[{\"type\":\"heatmap\",\"colorbar\":{\"outlinewidth\":0,\"ticks\":\"\"},\"colorscale\":[[0.0,\"#0d0887\"],[0.1111111111111111,\"#46039f\"],[0.2222222222222222,\"#7201a8\"],[0.3333333333333333,\"#9c179e\"],[0.4444444444444444,\"#bd3786\"],[0.5555555555555556,\"#d8576b\"],[0.6666666666666666,\"#ed7953\"],[0.7777777777777778,\"#fb9f3a\"],[0.8888888888888888,\"#fdca26\"],[1.0,\"#f0f921\"]]}],\"heatmapgl\":[{\"type\":\"heatmapgl\",\"colorbar\":{\"outlinewidth\":0,\"ticks\":\"\"},\"colorscale\":[[0.0,\"#0d0887\"],[0.1111111111111111,\"#46039f\"],[0.2222222222222222,\"#7201a8\"],[0.3333333333333333,\"#9c179e\"],[0.4444444444444444,\"#bd3786\"],[0.5555555555555556,\"#d8576b\"],[0.6666666666666666,\"#ed7953\"],[0.7777777777777778,\"#fb9f3a\"],[0.8888888888888888,\"#fdca26\"],[1.0,\"#f0f921\"]]}],\"contourcarpet\":[{\"type\":\"contourcarpet\",\"colorbar\":{\"outlinewidth\":0,\"ticks\":\"\"}}],\"contour\":[{\"type\":\"contour\",\"colorbar\":{\"outlinewidth\":0,\"ticks\":\"\"},\"colorscale\":[[0.0,\"#0d0887\"],[0.1111111111111111,\"#46039f\"],[0.2222222222222222,\"#7201a8\"],[0.3333333333333333,\"#9c179e\"],[0.4444444444444444,\"#bd3786\"],[0.5555555555555556,\"#d8576b\"],[0.6666666666666666,\"#ed7953\"],[0.7777777777777778,\"#fb9f3a\"],[0.8888888888888888,\"#fdca26\"],[1.0,\"#f0f921\"]]}],\"surface\":[{\"type\":\"surface\",\"colorbar\":{\"outlinewidth\":0,\"ticks\":\"\"},\"colorscale\":[[0.0,\"#0d0887\"],[0.1111111111111111,\"#46039f\"],[0.2222222222222222,\"#7201a8\"],[0.3333333333333333,\"#9c179e\"],[0.4444444444444444,\"#bd3786\"],[0.5555555555555556,\"#d8576b\"],[0.6666666666666666,\"#ed7953\"],[0.7777777777777778,\"#fb9f3a\"],[0.8888888888888888,\"#fdca26\"],[1.0,\"#f0f921\"]]}],\"mesh3d\":[{\"type\":\"mesh3d\",\"colorbar\":{\"outlinewidth\":0,\"ticks\":\"\"}}],\"scatter\":[{\"fillpattern\":{\"fillmode\":\"overlay\",\"size\":10,\"solidity\":0.2},\"type\":\"scatter\"}],\"parcoords\":[{\"type\":\"parcoords\",\"line\":{\"colorbar\":{\"outlinewidth\":0,\"ticks\":\"\"}}}],\"scatterpolargl\":[{\"type\":\"scatterpolargl\",\"marker\":{\"colorbar\":{\"outlinewidth\":0,\"ticks\":\"\"}}}],\"bar\":[{\"error_x\":{\"color\":\"#2a3f5f\"},\"error_y\":{\"color\":\"#2a3f5f\"},\"marker\":{\"line\":{\"color\":\"#E5ECF6\",\"width\":0.5},\"pattern\":{\"fillmode\":\"overlay\",\"size\":10,\"solidity\":0.2}},\"type\":\"bar\"}],\"scattergeo\":[{\"type\":\"scattergeo\",\"marker\":{\"colorbar\":{\"outlinewidth\":0,\"ticks\":\"\"}}}],\"scatterpolar\":[{\"type\":\"scatterpolar\",\"marker\":{\"colorbar\":{\"outlinewidth\":0,\"ticks\":\"\"}}}],\"histogram\":[{\"marker\":{\"pattern\":{\"fillmode\":\"overlay\",\"size\":10,\"solidity\":0.2}},\"type\":\"histogram\"}],\"scattergl\":[{\"type\":\"scattergl\",\"marker\":{\"colorbar\":{\"outlinewidth\":0,\"ticks\":\"\"}}}],\"scatter3d\":[{\"type\":\"scatter3d\",\"line\":{\"colorbar\":{\"outlinewidth\":0,\"ticks\":\"\"}},\"marker\":{\"colorbar\":{\"outlinewidth\":0,\"ticks\":\"\"}}}],\"scattermapbox\":[{\"type\":\"scattermapbox\",\"marker\":{\"colorbar\":{\"outlinewidth\":0,\"ticks\":\"\"}}}],\"scatterternary\":[{\"type\":\"scatterternary\",\"marker\":{\"colorbar\":{\"outlinewidth\":0,\"ticks\":\"\"}}}],\"scattercarpet\":[{\"type\":\"scattercarpet\",\"marker\":{\"colorbar\":{\"outlinewidth\":0,\"ticks\":\"\"}}}],\"carpet\":[{\"aaxis\":{\"endlinecolor\":\"#2a3f5f\",\"gridcolor\":\"white\",\"linecolor\":\"white\",\"minorgridcolor\":\"white\",\"startlinecolor\":\"#2a3f5f\"},\"baxis\":{\"endlinecolor\":\"#2a3f5f\",\"gridcolor\":\"white\",\"linecolor\":\"white\",\"minorgridcolor\":\"white\",\"startlinecolor\":\"#2a3f5f\"},\"type\":\"carpet\"}],\"table\":[{\"cells\":{\"fill\":{\"color\":\"#EBF0F8\"},\"line\":{\"color\":\"white\"}},\"header\":{\"fill\":{\"color\":\"#C8D4E3\"},\"line\":{\"color\":\"white\"}},\"type\":\"table\"}],\"barpolar\":[{\"marker\":{\"line\":{\"color\":\"#E5ECF6\",\"width\":0.5},\"pattern\":{\"fillmode\":\"overlay\",\"size\":10,\"solidity\":0.2}},\"type\":\"barpolar\"}],\"pie\":[{\"automargin\":true,\"type\":\"pie\"}]},\"layout\":{\"autotypenumbers\":\"strict\",\"colorway\":[\"#636efa\",\"#EF553B\",\"#00cc96\",\"#ab63fa\",\"#FFA15A\",\"#19d3f3\",\"#FF6692\",\"#B6E880\",\"#FF97FF\",\"#FECB52\"],\"font\":{\"color\":\"#2a3f5f\"},\"hovermode\":\"closest\",\"hoverlabel\":{\"align\":\"left\"},\"paper_bgcolor\":\"white\",\"plot_bgcolor\":\"#E5ECF6\",\"polar\":{\"bgcolor\":\"#E5ECF6\",\"angularaxis\":{\"gridcolor\":\"white\",\"linecolor\":\"white\",\"ticks\":\"\"},\"radialaxis\":{\"gridcolor\":\"white\",\"linecolor\":\"white\",\"ticks\":\"\"}},\"ternary\":{\"bgcolor\":\"#E5ECF6\",\"aaxis\":{\"gridcolor\":\"white\",\"linecolor\":\"white\",\"ticks\":\"\"},\"baxis\":{\"gridcolor\":\"white\",\"linecolor\":\"white\",\"ticks\":\"\"},\"caxis\":{\"gridcolor\":\"white\",\"linecolor\":\"white\",\"ticks\":\"\"}},\"coloraxis\":{\"colorbar\":{\"outlinewidth\":0,\"ticks\":\"\"}},\"colorscale\":{\"sequential\":[[0.0,\"#0d0887\"],[0.1111111111111111,\"#46039f\"],[0.2222222222222222,\"#7201a8\"],[0.3333333333333333,\"#9c179e\"],[0.4444444444444444,\"#bd3786\"],[0.5555555555555556,\"#d8576b\"],[0.6666666666666666,\"#ed7953\"],[0.7777777777777778,\"#fb9f3a\"],[0.8888888888888888,\"#fdca26\"],[1.0,\"#f0f921\"]],\"sequentialminus\":[[0.0,\"#0d0887\"],[0.1111111111111111,\"#46039f\"],[0.2222222222222222,\"#7201a8\"],[0.3333333333333333,\"#9c179e\"],[0.4444444444444444,\"#bd3786\"],[0.5555555555555556,\"#d8576b\"],[0.6666666666666666,\"#ed7953\"],[0.7777777777777778,\"#fb9f3a\"],[0.8888888888888888,\"#fdca26\"],[1.0,\"#f0f921\"]],\"diverging\":[[0,\"#8e0152\"],[0.1,\"#c51b7d\"],[0.2,\"#de77ae\"],[0.3,\"#f1b6da\"],[0.4,\"#fde0ef\"],[0.5,\"#f7f7f7\"],[0.6,\"#e6f5d0\"],[0.7,\"#b8e186\"],[0.8,\"#7fbc41\"],[0.9,\"#4d9221\"],[1,\"#276419\"]]},\"xaxis\":{\"gridcolor\":\"white\",\"linecolor\":\"white\",\"ticks\":\"\",\"title\":{\"standoff\":15},\"zerolinecolor\":\"white\",\"automargin\":true,\"zerolinewidth\":2},\"yaxis\":{\"gridcolor\":\"white\",\"linecolor\":\"white\",\"ticks\":\"\",\"title\":{\"standoff\":15},\"zerolinecolor\":\"white\",\"automargin\":true,\"zerolinewidth\":2},\"scene\":{\"xaxis\":{\"backgroundcolor\":\"#E5ECF6\",\"gridcolor\":\"white\",\"linecolor\":\"white\",\"showbackground\":true,\"ticks\":\"\",\"zerolinecolor\":\"white\",\"gridwidth\":2},\"yaxis\":{\"backgroundcolor\":\"#E5ECF6\",\"gridcolor\":\"white\",\"linecolor\":\"white\",\"showbackground\":true,\"ticks\":\"\",\"zerolinecolor\":\"white\",\"gridwidth\":2},\"zaxis\":{\"backgroundcolor\":\"#E5ECF6\",\"gridcolor\":\"white\",\"linecolor\":\"white\",\"showbackground\":true,\"ticks\":\"\",\"zerolinecolor\":\"white\",\"gridwidth\":2}},\"shapedefaults\":{\"line\":{\"color\":\"#2a3f5f\"}},\"annotationdefaults\":{\"arrowcolor\":\"#2a3f5f\",\"arrowhead\":0,\"arrowwidth\":1},\"geo\":{\"bgcolor\":\"white\",\"landcolor\":\"#E5ECF6\",\"subunitcolor\":\"white\",\"showland\":true,\"showlakes\":true,\"lakecolor\":\"white\"},\"title\":{\"x\":0.05},\"mapbox\":{\"style\":\"light\"}}}},                        {\"responsive\": true}                    ).then(function(){\n",
       "                            \n",
       "var gd = document.getElementById('ceecc802-a627-4cad-959c-e68f7555ffc1');\n",
       "var x = new MutationObserver(function (mutations, observer) {{\n",
       "        var display = window.getComputedStyle(gd).display;\n",
       "        if (!display || display === 'none') {{\n",
       "            console.log([gd, 'removed!']);\n",
       "            Plotly.purge(gd);\n",
       "            observer.disconnect();\n",
       "        }}\n",
       "}});\n",
       "\n",
       "// Listen for the removal of the full notebook cells\n",
       "var notebookContainer = gd.closest('#notebook-container');\n",
       "if (notebookContainer) {{\n",
       "    x.observe(notebookContainer, {childList: true});\n",
       "}}\n",
       "\n",
       "// Listen for the clearing of the current output cell\n",
       "var outputEl = gd.closest('.output');\n",
       "if (outputEl) {{\n",
       "    x.observe(outputEl, {childList: true});\n",
       "}}\n",
       "\n",
       "                        })                };                });            </script>        </div>"
      ]
     },
     "metadata": {},
     "output_type": "display_data"
    }
   ],
   "source": [
    "fig.add_scatter(x=X,y=results.fittedvalues,name=\"Model\")"
   ]
  },
  {
   "cell_type": "code",
   "execution_count": 32,
   "id": "fab01067",
   "metadata": {},
   "outputs": [
    {
     "data": {
      "text/plain": [
       "age    4.783665e-22\n",
       "dtype: float64"
      ]
     },
     "execution_count": 32,
     "metadata": {},
     "output_type": "execute_result"
    }
   ],
   "source": [
    "# for the case when ony one parameter is selected, e.g.\"age\"\n",
    "X = house_living_costs[\"age\"]\n",
    "y = house_living_costs[\"expenditure\"]\n",
    "import statsmodels.api as sm\n",
    "model = sm.OLS(y,X)\n",
    "results = model.fit()\n",
    "results.pvalues"
   ]
  },
  {
   "cell_type": "code",
   "execution_count": 33,
   "id": "3ed97617",
   "metadata": {},
   "outputs": [
    {
     "data": {
      "text/html": [
       "<table class=\"simpletable\">\n",
       "<caption>OLS Regression Results</caption>\n",
       "<tr>\n",
       "  <th>Dep. Variable:</th>       <td>expenditure</td>   <th>  R-squared (uncentered):</th>      <td>   0.743</td>\n",
       "</tr>\n",
       "<tr>\n",
       "  <th>Model:</th>                   <td>OLS</td>       <th>  Adj. R-squared (uncentered):</th> <td>   0.739</td>\n",
       "</tr>\n",
       "<tr>\n",
       "  <th>Method:</th>             <td>Least Squares</td>  <th>  F-statistic:       </th>          <td>   199.6</td>\n",
       "</tr>\n",
       "<tr>\n",
       "  <th>Date:</th>             <td>Wed, 12 Jul 2023</td> <th>  Prob (F-statistic):</th>          <td>4.78e-22</td>\n",
       "</tr>\n",
       "<tr>\n",
       "  <th>Time:</th>                 <td>14:06:20</td>     <th>  Log-Likelihood:    </th>          <td> -815.47</td>\n",
       "</tr>\n",
       "<tr>\n",
       "  <th>No. Observations:</th>      <td>    70</td>      <th>  AIC:               </th>          <td>   1633.</td>\n",
       "</tr>\n",
       "<tr>\n",
       "  <th>Df Residuals:</th>          <td>    69</td>      <th>  BIC:               </th>          <td>   1635.</td>\n",
       "</tr>\n",
       "<tr>\n",
       "  <th>Df Model:</th>              <td>     1</td>      <th>                     </th>              <td> </td>   \n",
       "</tr>\n",
       "<tr>\n",
       "  <th>Covariance Type:</th>      <td>nonrobust</td>    <th>                     </th>              <td> </td>   \n",
       "</tr>\n",
       "</table>\n",
       "<table class=\"simpletable\">\n",
       "<tr>\n",
       "   <td></td>      <th>coef</th>     <th>std err</th>      <th>t</th>      <th>P>|t|</th>  <th>[0.025</th>    <th>0.975]</th>  \n",
       "</tr>\n",
       "<tr>\n",
       "  <th>age</th> <td> 1197.4593</td> <td>   84.759</td> <td>   14.128</td> <td> 0.000</td> <td> 1028.370</td> <td> 1366.549</td>\n",
       "</tr>\n",
       "</table>\n",
       "<table class=\"simpletable\">\n",
       "<tr>\n",
       "  <th>Omnibus:</th>       <td> 1.188</td> <th>  Durbin-Watson:     </th> <td>   1.594</td>\n",
       "</tr>\n",
       "<tr>\n",
       "  <th>Prob(Omnibus):</th> <td> 0.552</td> <th>  Jarque-Bera (JB):  </th> <td>   0.575</td>\n",
       "</tr>\n",
       "<tr>\n",
       "  <th>Skew:</th>          <td>-0.014</td> <th>  Prob(JB):          </th> <td>   0.750</td>\n",
       "</tr>\n",
       "<tr>\n",
       "  <th>Kurtosis:</th>      <td> 3.443</td> <th>  Cond. No.          </th> <td>    1.00</td>\n",
       "</tr>\n",
       "</table><br/><br/>Notes:<br/>[1] R² is computed without centering (uncentered) since the model does not contain a constant.<br/>[2] Standard Errors assume that the covariance matrix of the errors is correctly specified."
      ],
      "text/latex": [
       "\\begin{center}\n",
       "\\begin{tabular}{lclc}\n",
       "\\toprule\n",
       "\\textbf{Dep. Variable:}    &   expenditure    & \\textbf{  R-squared (uncentered):}      &     0.743   \\\\\n",
       "\\textbf{Model:}            &       OLS        & \\textbf{  Adj. R-squared (uncentered):} &     0.739   \\\\\n",
       "\\textbf{Method:}           &  Least Squares   & \\textbf{  F-statistic:       }          &     199.6   \\\\\n",
       "\\textbf{Date:}             & Wed, 12 Jul 2023 & \\textbf{  Prob (F-statistic):}          &  4.78e-22   \\\\\n",
       "\\textbf{Time:}             &     14:06:20     & \\textbf{  Log-Likelihood:    }          &   -815.47   \\\\\n",
       "\\textbf{No. Observations:} &          70      & \\textbf{  AIC:               }          &     1633.   \\\\\n",
       "\\textbf{Df Residuals:}     &          69      & \\textbf{  BIC:               }          &     1635.   \\\\\n",
       "\\textbf{Df Model:}         &           1      & \\textbf{                     }          &             \\\\\n",
       "\\textbf{Covariance Type:}  &    nonrobust     & \\textbf{                     }          &             \\\\\n",
       "\\bottomrule\n",
       "\\end{tabular}\n",
       "\\begin{tabular}{lcccccc}\n",
       "             & \\textbf{coef} & \\textbf{std err} & \\textbf{t} & \\textbf{P$> |$t$|$} & \\textbf{[0.025} & \\textbf{0.975]}  \\\\\n",
       "\\midrule\n",
       "\\textbf{age} &    1197.4593  &       84.759     &    14.128  &         0.000        &     1028.370    &     1366.549     \\\\\n",
       "\\bottomrule\n",
       "\\end{tabular}\n",
       "\\begin{tabular}{lclc}\n",
       "\\textbf{Omnibus:}       &  1.188 & \\textbf{  Durbin-Watson:     } &    1.594  \\\\\n",
       "\\textbf{Prob(Omnibus):} &  0.552 & \\textbf{  Jarque-Bera (JB):  } &    0.575  \\\\\n",
       "\\textbf{Skew:}          & -0.014 & \\textbf{  Prob(JB):          } &    0.750  \\\\\n",
       "\\textbf{Kurtosis:}      &  3.443 & \\textbf{  Cond. No.          } &     1.00  \\\\\n",
       "\\bottomrule\n",
       "\\end{tabular}\n",
       "%\\caption{OLS Regression Results}\n",
       "\\end{center}\n",
       "\n",
       "Notes: \\newline\n",
       " [1] R² is computed without centering (uncentered) since the model does not contain a constant. \\newline\n",
       " [2] Standard Errors assume that the covariance matrix of the errors is correctly specified."
      ],
      "text/plain": [
       "<class 'statsmodels.iolib.summary.Summary'>\n",
       "\"\"\"\n",
       "                                 OLS Regression Results                                \n",
       "=======================================================================================\n",
       "Dep. Variable:            expenditure   R-squared (uncentered):                   0.743\n",
       "Model:                            OLS   Adj. R-squared (uncentered):              0.739\n",
       "Method:                 Least Squares   F-statistic:                              199.6\n",
       "Date:                Wed, 12 Jul 2023   Prob (F-statistic):                    4.78e-22\n",
       "Time:                        14:06:20   Log-Likelihood:                         -815.47\n",
       "No. Observations:                  70   AIC:                                      1633.\n",
       "Df Residuals:                      69   BIC:                                      1635.\n",
       "Df Model:                           1                                                  \n",
       "Covariance Type:            nonrobust                                                  \n",
       "==============================================================================\n",
       "                 coef    std err          t      P>|t|      [0.025      0.975]\n",
       "------------------------------------------------------------------------------\n",
       "age         1197.4593     84.759     14.128      0.000    1028.370    1366.549\n",
       "==============================================================================\n",
       "Omnibus:                        1.188   Durbin-Watson:                   1.594\n",
       "Prob(Omnibus):                  0.552   Jarque-Bera (JB):                0.575\n",
       "Skew:                          -0.014   Prob(JB):                        0.750\n",
       "Kurtosis:                       3.443   Cond. No.                         1.00\n",
       "==============================================================================\n",
       "\n",
       "Notes:\n",
       "[1] R² is computed without centering (uncentered) since the model does not contain a constant.\n",
       "[2] Standard Errors assume that the covariance matrix of the errors is correctly specified.\n",
       "\"\"\""
      ]
     },
     "execution_count": 33,
     "metadata": {},
     "output_type": "execute_result"
    }
   ],
   "source": [
    "results.summary() # R-squared decreased to 0.743, model less fits"
   ]
  },
  {
   "cell_type": "code",
   "execution_count": 34,
   "id": "a699fba5",
   "metadata": {},
   "outputs": [
    {
     "data": {
      "text/plain": [
       "0      -594.790641\n",
       "1    -10534.034545\n",
       "2    -26753.373973\n",
       "3    -11696.839422\n",
       "4      8841.030496\n",
       "          ...     \n",
       "65    13164.750010\n",
       "66    41126.922774\n",
       "67    76004.609767\n",
       "68    16900.014236\n",
       "69   -48939.662583\n",
       "Length: 70, dtype: float64"
      ]
     },
     "execution_count": 34,
     "metadata": {},
     "output_type": "execute_result"
    }
   ],
   "source": [
    "results.resid"
   ]
  },
  {
   "cell_type": "code",
   "execution_count": 35,
   "id": "a446e57b",
   "metadata": {},
   "outputs": [],
   "source": [
    "fig = go.Figure(data=go.Scatter(x=X,y=y,mode=\"markers\",name=\"HLC\")) "
   ]
  },
  {
   "cell_type": "code",
   "execution_count": 36,
   "id": "b420f211",
   "metadata": {},
   "outputs": [
    {
     "data": {
      "application/vnd.plotly.v1+json": {
       "config": {
        "plotlyServerURL": "https://plot.ly"
       },
       "data": [
        {
         "mode": "markers",
         "name": "HLC",
         "type": "scatter",
         "x": [
          35.9,
          29.9,
          40,
          34.7,
          31.5,
          35.3,
          39.3,
          38.7,
          36.1,
          33,
          35.1,
          36.7,
          28.9,
          70.3,
          36.3,
          28,
          36.3,
          35,
          33.4,
          36.8,
          40.9,
          37.3,
          35.1,
          35.3,
          35.3,
          39,
          28.3,
          69.7,
          37,
          27.3,
          37.4,
          34.2,
          34.8,
          38.2,
          41,
          38.5,
          35.7,
          36.4,
          36.5,
          37.9,
          30.2,
          68.8,
          37.4,
          29.1,
          40.3,
          35.2,
          34.7,
          37.1,
          41.1,
          40,
          36.1,
          35.7,
          37.1,
          38.3,
          32,
          69.9,
          37.8,
          31.7,
          41.1,
          38.4,
          33.8,
          36.9,
          39.8,
          40.6,
          37.4,
          36.9,
          35,
          39.6,
          31.1,
          69.8
         ],
         "y": [
          42394,
          25270,
          21145,
          29855,
          46561,
          52776,
          72822,
          16413,
          29085,
          42662,
          59015,
          89053,
          35312,
          21538,
          46098,
          27605,
          24224,
          34200,
          49431,
          55569,
          71815,
          18877,
          32790,
          46651,
          60862,
          90268,
          42801,
          25436,
          49330,
          27348,
          25809,
          38498,
          52941,
          65874,
          80806,
          19997,
          35822,
          49330,
          66519,
          97823,
          43582,
          29328,
          54293,
          30054,
          26775,
          43676,
          58065,
          68119,
          90983,
          20167,
          38052,
          54936,
          72718,
          115746,
          50982,
          30486,
          57969,
          29416,
          30562,
          41509,
          57775,
          71932,
          98187,
          20063,
          40102,
          57351,
          83038,
          123424,
          54141,
          34643
         ]
        },
        {
         "name": "Model",
         "type": "scatter",
         "x": [
          35.9,
          29.9,
          40,
          34.7,
          31.5,
          35.3,
          39.3,
          38.7,
          36.1,
          33,
          35.1,
          36.7,
          28.9,
          70.3,
          36.3,
          28,
          36.3,
          35,
          33.4,
          36.8,
          40.9,
          37.3,
          35.1,
          35.3,
          35.3,
          39,
          28.3,
          69.7,
          37,
          27.3,
          37.4,
          34.2,
          34.8,
          38.2,
          41,
          38.5,
          35.7,
          36.4,
          36.5,
          37.9,
          30.2,
          68.8,
          37.4,
          29.1,
          40.3,
          35.2,
          34.7,
          37.1,
          41.1,
          40,
          36.1,
          35.7,
          37.1,
          38.3,
          32,
          69.9,
          37.8,
          31.7,
          41.1,
          38.4,
          33.8,
          36.9,
          39.8,
          40.6,
          37.4,
          36.9,
          35,
          39.6,
          31.1,
          69.8
         ],
         "y": [
          42988.79064080412,
          35804.034544848,
          47898.373973040805,
          41551.8394216129,
          37719.96950376964,
          42270.315031208505,
          47060.15242851259,
          46341.67681891698,
          43228.28251066933,
          39516.158527758664,
          42030.82316134331,
          43946.758120264945,
          34606.57519552198,
          84181.39225761921,
          43467.77438053453,
          33528.861781128566,
          43467.77438053453,
          41911.07722641071,
          39995.14226748907,
          44066.50405519754,
          48976.08738743422,
          44665.23372986055,
          42030.82316134331,
          42270.315031208505,
          42270.315031208505,
          46700.91462371479,
          33888.09958592637,
          83462.91664802362,
          44305.99592506274,
          32690.640236600353,
          44784.97966479315,
          40953.10974694989,
          41671.585356545496,
          45742.94714425397,
          49095.83332236683,
          46102.18494905178,
          42749.29877093893,
          43587.52031546713,
          43707.266250399734,
          45383.70933945616,
          36163.272349645806,
          82385.20323363018,
          44784.97966479315,
          34846.067065387186,
          48257.61177783861,
          42150.56909627591,
          41551.8394216129,
          44425.74185999535,
          49215.57925729943,
          47898.373973040805,
          43228.28251066933,
          42749.29877093893,
          44425.74185999535,
          45862.69307918657,
          38318.699178432646,
          83702.40851788882,
          45263.96340452356,
          37959.46137363484,
          49215.57925729943,
          45982.439014119176,
          40474.12600721948,
          44186.24999013014,
          47658.8821031756,
          48616.84958263642,
          44784.97966479315,
          44186.24999013014,
          41911.07722641071,
          47419.3902333104,
          37240.98576403923,
          83582.66258295621
         ]
        }
       ],
       "layout": {
        "template": {
         "data": {
          "bar": [
           {
            "error_x": {
             "color": "#2a3f5f"
            },
            "error_y": {
             "color": "#2a3f5f"
            },
            "marker": {
             "line": {
              "color": "#E5ECF6",
              "width": 0.5
             },
             "pattern": {
              "fillmode": "overlay",
              "size": 10,
              "solidity": 0.2
             }
            },
            "type": "bar"
           }
          ],
          "barpolar": [
           {
            "marker": {
             "line": {
              "color": "#E5ECF6",
              "width": 0.5
             },
             "pattern": {
              "fillmode": "overlay",
              "size": 10,
              "solidity": 0.2
             }
            },
            "type": "barpolar"
           }
          ],
          "carpet": [
           {
            "aaxis": {
             "endlinecolor": "#2a3f5f",
             "gridcolor": "white",
             "linecolor": "white",
             "minorgridcolor": "white",
             "startlinecolor": "#2a3f5f"
            },
            "baxis": {
             "endlinecolor": "#2a3f5f",
             "gridcolor": "white",
             "linecolor": "white",
             "minorgridcolor": "white",
             "startlinecolor": "#2a3f5f"
            },
            "type": "carpet"
           }
          ],
          "choropleth": [
           {
            "colorbar": {
             "outlinewidth": 0,
             "ticks": ""
            },
            "type": "choropleth"
           }
          ],
          "contour": [
           {
            "colorbar": {
             "outlinewidth": 0,
             "ticks": ""
            },
            "colorscale": [
             [
              0,
              "#0d0887"
             ],
             [
              0.1111111111111111,
              "#46039f"
             ],
             [
              0.2222222222222222,
              "#7201a8"
             ],
             [
              0.3333333333333333,
              "#9c179e"
             ],
             [
              0.4444444444444444,
              "#bd3786"
             ],
             [
              0.5555555555555556,
              "#d8576b"
             ],
             [
              0.6666666666666666,
              "#ed7953"
             ],
             [
              0.7777777777777778,
              "#fb9f3a"
             ],
             [
              0.8888888888888888,
              "#fdca26"
             ],
             [
              1,
              "#f0f921"
             ]
            ],
            "type": "contour"
           }
          ],
          "contourcarpet": [
           {
            "colorbar": {
             "outlinewidth": 0,
             "ticks": ""
            },
            "type": "contourcarpet"
           }
          ],
          "heatmap": [
           {
            "colorbar": {
             "outlinewidth": 0,
             "ticks": ""
            },
            "colorscale": [
             [
              0,
              "#0d0887"
             ],
             [
              0.1111111111111111,
              "#46039f"
             ],
             [
              0.2222222222222222,
              "#7201a8"
             ],
             [
              0.3333333333333333,
              "#9c179e"
             ],
             [
              0.4444444444444444,
              "#bd3786"
             ],
             [
              0.5555555555555556,
              "#d8576b"
             ],
             [
              0.6666666666666666,
              "#ed7953"
             ],
             [
              0.7777777777777778,
              "#fb9f3a"
             ],
             [
              0.8888888888888888,
              "#fdca26"
             ],
             [
              1,
              "#f0f921"
             ]
            ],
            "type": "heatmap"
           }
          ],
          "heatmapgl": [
           {
            "colorbar": {
             "outlinewidth": 0,
             "ticks": ""
            },
            "colorscale": [
             [
              0,
              "#0d0887"
             ],
             [
              0.1111111111111111,
              "#46039f"
             ],
             [
              0.2222222222222222,
              "#7201a8"
             ],
             [
              0.3333333333333333,
              "#9c179e"
             ],
             [
              0.4444444444444444,
              "#bd3786"
             ],
             [
              0.5555555555555556,
              "#d8576b"
             ],
             [
              0.6666666666666666,
              "#ed7953"
             ],
             [
              0.7777777777777778,
              "#fb9f3a"
             ],
             [
              0.8888888888888888,
              "#fdca26"
             ],
             [
              1,
              "#f0f921"
             ]
            ],
            "type": "heatmapgl"
           }
          ],
          "histogram": [
           {
            "marker": {
             "pattern": {
              "fillmode": "overlay",
              "size": 10,
              "solidity": 0.2
             }
            },
            "type": "histogram"
           }
          ],
          "histogram2d": [
           {
            "colorbar": {
             "outlinewidth": 0,
             "ticks": ""
            },
            "colorscale": [
             [
              0,
              "#0d0887"
             ],
             [
              0.1111111111111111,
              "#46039f"
             ],
             [
              0.2222222222222222,
              "#7201a8"
             ],
             [
              0.3333333333333333,
              "#9c179e"
             ],
             [
              0.4444444444444444,
              "#bd3786"
             ],
             [
              0.5555555555555556,
              "#d8576b"
             ],
             [
              0.6666666666666666,
              "#ed7953"
             ],
             [
              0.7777777777777778,
              "#fb9f3a"
             ],
             [
              0.8888888888888888,
              "#fdca26"
             ],
             [
              1,
              "#f0f921"
             ]
            ],
            "type": "histogram2d"
           }
          ],
          "histogram2dcontour": [
           {
            "colorbar": {
             "outlinewidth": 0,
             "ticks": ""
            },
            "colorscale": [
             [
              0,
              "#0d0887"
             ],
             [
              0.1111111111111111,
              "#46039f"
             ],
             [
              0.2222222222222222,
              "#7201a8"
             ],
             [
              0.3333333333333333,
              "#9c179e"
             ],
             [
              0.4444444444444444,
              "#bd3786"
             ],
             [
              0.5555555555555556,
              "#d8576b"
             ],
             [
              0.6666666666666666,
              "#ed7953"
             ],
             [
              0.7777777777777778,
              "#fb9f3a"
             ],
             [
              0.8888888888888888,
              "#fdca26"
             ],
             [
              1,
              "#f0f921"
             ]
            ],
            "type": "histogram2dcontour"
           }
          ],
          "mesh3d": [
           {
            "colorbar": {
             "outlinewidth": 0,
             "ticks": ""
            },
            "type": "mesh3d"
           }
          ],
          "parcoords": [
           {
            "line": {
             "colorbar": {
              "outlinewidth": 0,
              "ticks": ""
             }
            },
            "type": "parcoords"
           }
          ],
          "pie": [
           {
            "automargin": true,
            "type": "pie"
           }
          ],
          "scatter": [
           {
            "fillpattern": {
             "fillmode": "overlay",
             "size": 10,
             "solidity": 0.2
            },
            "type": "scatter"
           }
          ],
          "scatter3d": [
           {
            "line": {
             "colorbar": {
              "outlinewidth": 0,
              "ticks": ""
             }
            },
            "marker": {
             "colorbar": {
              "outlinewidth": 0,
              "ticks": ""
             }
            },
            "type": "scatter3d"
           }
          ],
          "scattercarpet": [
           {
            "marker": {
             "colorbar": {
              "outlinewidth": 0,
              "ticks": ""
             }
            },
            "type": "scattercarpet"
           }
          ],
          "scattergeo": [
           {
            "marker": {
             "colorbar": {
              "outlinewidth": 0,
              "ticks": ""
             }
            },
            "type": "scattergeo"
           }
          ],
          "scattergl": [
           {
            "marker": {
             "colorbar": {
              "outlinewidth": 0,
              "ticks": ""
             }
            },
            "type": "scattergl"
           }
          ],
          "scattermapbox": [
           {
            "marker": {
             "colorbar": {
              "outlinewidth": 0,
              "ticks": ""
             }
            },
            "type": "scattermapbox"
           }
          ],
          "scatterpolar": [
           {
            "marker": {
             "colorbar": {
              "outlinewidth": 0,
              "ticks": ""
             }
            },
            "type": "scatterpolar"
           }
          ],
          "scatterpolargl": [
           {
            "marker": {
             "colorbar": {
              "outlinewidth": 0,
              "ticks": ""
             }
            },
            "type": "scatterpolargl"
           }
          ],
          "scatterternary": [
           {
            "marker": {
             "colorbar": {
              "outlinewidth": 0,
              "ticks": ""
             }
            },
            "type": "scatterternary"
           }
          ],
          "surface": [
           {
            "colorbar": {
             "outlinewidth": 0,
             "ticks": ""
            },
            "colorscale": [
             [
              0,
              "#0d0887"
             ],
             [
              0.1111111111111111,
              "#46039f"
             ],
             [
              0.2222222222222222,
              "#7201a8"
             ],
             [
              0.3333333333333333,
              "#9c179e"
             ],
             [
              0.4444444444444444,
              "#bd3786"
             ],
             [
              0.5555555555555556,
              "#d8576b"
             ],
             [
              0.6666666666666666,
              "#ed7953"
             ],
             [
              0.7777777777777778,
              "#fb9f3a"
             ],
             [
              0.8888888888888888,
              "#fdca26"
             ],
             [
              1,
              "#f0f921"
             ]
            ],
            "type": "surface"
           }
          ],
          "table": [
           {
            "cells": {
             "fill": {
              "color": "#EBF0F8"
             },
             "line": {
              "color": "white"
             }
            },
            "header": {
             "fill": {
              "color": "#C8D4E3"
             },
             "line": {
              "color": "white"
             }
            },
            "type": "table"
           }
          ]
         },
         "layout": {
          "annotationdefaults": {
           "arrowcolor": "#2a3f5f",
           "arrowhead": 0,
           "arrowwidth": 1
          },
          "autotypenumbers": "strict",
          "coloraxis": {
           "colorbar": {
            "outlinewidth": 0,
            "ticks": ""
           }
          },
          "colorscale": {
           "diverging": [
            [
             0,
             "#8e0152"
            ],
            [
             0.1,
             "#c51b7d"
            ],
            [
             0.2,
             "#de77ae"
            ],
            [
             0.3,
             "#f1b6da"
            ],
            [
             0.4,
             "#fde0ef"
            ],
            [
             0.5,
             "#f7f7f7"
            ],
            [
             0.6,
             "#e6f5d0"
            ],
            [
             0.7,
             "#b8e186"
            ],
            [
             0.8,
             "#7fbc41"
            ],
            [
             0.9,
             "#4d9221"
            ],
            [
             1,
             "#276419"
            ]
           ],
           "sequential": [
            [
             0,
             "#0d0887"
            ],
            [
             0.1111111111111111,
             "#46039f"
            ],
            [
             0.2222222222222222,
             "#7201a8"
            ],
            [
             0.3333333333333333,
             "#9c179e"
            ],
            [
             0.4444444444444444,
             "#bd3786"
            ],
            [
             0.5555555555555556,
             "#d8576b"
            ],
            [
             0.6666666666666666,
             "#ed7953"
            ],
            [
             0.7777777777777778,
             "#fb9f3a"
            ],
            [
             0.8888888888888888,
             "#fdca26"
            ],
            [
             1,
             "#f0f921"
            ]
           ],
           "sequentialminus": [
            [
             0,
             "#0d0887"
            ],
            [
             0.1111111111111111,
             "#46039f"
            ],
            [
             0.2222222222222222,
             "#7201a8"
            ],
            [
             0.3333333333333333,
             "#9c179e"
            ],
            [
             0.4444444444444444,
             "#bd3786"
            ],
            [
             0.5555555555555556,
             "#d8576b"
            ],
            [
             0.6666666666666666,
             "#ed7953"
            ],
            [
             0.7777777777777778,
             "#fb9f3a"
            ],
            [
             0.8888888888888888,
             "#fdca26"
            ],
            [
             1,
             "#f0f921"
            ]
           ]
          },
          "colorway": [
           "#636efa",
           "#EF553B",
           "#00cc96",
           "#ab63fa",
           "#FFA15A",
           "#19d3f3",
           "#FF6692",
           "#B6E880",
           "#FF97FF",
           "#FECB52"
          ],
          "font": {
           "color": "#2a3f5f"
          },
          "geo": {
           "bgcolor": "white",
           "lakecolor": "white",
           "landcolor": "#E5ECF6",
           "showlakes": true,
           "showland": true,
           "subunitcolor": "white"
          },
          "hoverlabel": {
           "align": "left"
          },
          "hovermode": "closest",
          "mapbox": {
           "style": "light"
          },
          "paper_bgcolor": "white",
          "plot_bgcolor": "#E5ECF6",
          "polar": {
           "angularaxis": {
            "gridcolor": "white",
            "linecolor": "white",
            "ticks": ""
           },
           "bgcolor": "#E5ECF6",
           "radialaxis": {
            "gridcolor": "white",
            "linecolor": "white",
            "ticks": ""
           }
          },
          "scene": {
           "xaxis": {
            "backgroundcolor": "#E5ECF6",
            "gridcolor": "white",
            "gridwidth": 2,
            "linecolor": "white",
            "showbackground": true,
            "ticks": "",
            "zerolinecolor": "white"
           },
           "yaxis": {
            "backgroundcolor": "#E5ECF6",
            "gridcolor": "white",
            "gridwidth": 2,
            "linecolor": "white",
            "showbackground": true,
            "ticks": "",
            "zerolinecolor": "white"
           },
           "zaxis": {
            "backgroundcolor": "#E5ECF6",
            "gridcolor": "white",
            "gridwidth": 2,
            "linecolor": "white",
            "showbackground": true,
            "ticks": "",
            "zerolinecolor": "white"
           }
          },
          "shapedefaults": {
           "line": {
            "color": "#2a3f5f"
           }
          },
          "ternary": {
           "aaxis": {
            "gridcolor": "white",
            "linecolor": "white",
            "ticks": ""
           },
           "baxis": {
            "gridcolor": "white",
            "linecolor": "white",
            "ticks": ""
           },
           "bgcolor": "#E5ECF6",
           "caxis": {
            "gridcolor": "white",
            "linecolor": "white",
            "ticks": ""
           }
          },
          "title": {
           "x": 0.05
          },
          "xaxis": {
           "automargin": true,
           "gridcolor": "white",
           "linecolor": "white",
           "ticks": "",
           "title": {
            "standoff": 15
           },
           "zerolinecolor": "white",
           "zerolinewidth": 2
          },
          "yaxis": {
           "automargin": true,
           "gridcolor": "white",
           "linecolor": "white",
           "ticks": "",
           "title": {
            "standoff": 15
           },
           "zerolinecolor": "white",
           "zerolinewidth": 2
          }
         }
        }
       }
      },
      "text/html": [
       "<div>                            <div id=\"4bd71d5e-a479-4aec-921d-4583fc53daa0\" class=\"plotly-graph-div\" style=\"height:525px; width:100%;\"></div>            <script type=\"text/javascript\">                require([\"plotly\"], function(Plotly) {                    window.PLOTLYENV=window.PLOTLYENV || {};                                    if (document.getElementById(\"4bd71d5e-a479-4aec-921d-4583fc53daa0\")) {                    Plotly.newPlot(                        \"4bd71d5e-a479-4aec-921d-4583fc53daa0\",                        [{\"mode\":\"markers\",\"name\":\"HLC\",\"x\":[35.9,29.9,40.0,34.7,31.5,35.3,39.3,38.7,36.1,33.0,35.1,36.7,28.9,70.3,36.3,28.0,36.3,35.0,33.4,36.8,40.9,37.3,35.1,35.3,35.3,39.0,28.3,69.7,37.0,27.3,37.4,34.2,34.8,38.2,41.0,38.5,35.7,36.4,36.5,37.9,30.2,68.8,37.4,29.1,40.3,35.2,34.7,37.1,41.1,40.0,36.1,35.7,37.1,38.3,32.0,69.9,37.8,31.7,41.1,38.4,33.8,36.9,39.8,40.6,37.4,36.9,35.0,39.6,31.1,69.8],\"y\":[42394,25270,21145,29855,46561,52776,72822,16413,29085,42662,59015,89053,35312,21538,46098,27605,24224,34200,49431,55569,71815,18877,32790,46651,60862,90268,42801,25436,49330,27348,25809,38498,52941,65874,80806,19997,35822,49330,66519,97823,43582,29328,54293,30054,26775,43676,58065,68119,90983,20167,38052,54936,72718,115746,50982,30486,57969,29416,30562,41509,57775,71932,98187,20063,40102,57351,83038,123424,54141,34643],\"type\":\"scatter\"},{\"name\":\"Model\",\"x\":[35.9,29.9,40.0,34.7,31.5,35.3,39.3,38.7,36.1,33.0,35.1,36.7,28.9,70.3,36.3,28.0,36.3,35.0,33.4,36.8,40.9,37.3,35.1,35.3,35.3,39.0,28.3,69.7,37.0,27.3,37.4,34.2,34.8,38.2,41.0,38.5,35.7,36.4,36.5,37.9,30.2,68.8,37.4,29.1,40.3,35.2,34.7,37.1,41.1,40.0,36.1,35.7,37.1,38.3,32.0,69.9,37.8,31.7,41.1,38.4,33.8,36.9,39.8,40.6,37.4,36.9,35.0,39.6,31.1,69.8],\"y\":[42988.79064080412,35804.034544848,47898.373973040805,41551.8394216129,37719.96950376964,42270.315031208505,47060.15242851259,46341.67681891698,43228.28251066933,39516.158527758664,42030.82316134331,43946.758120264945,34606.57519552198,84181.39225761921,43467.77438053453,33528.861781128566,43467.77438053453,41911.07722641071,39995.14226748907,44066.50405519754,48976.08738743422,44665.23372986055,42030.82316134331,42270.315031208505,42270.315031208505,46700.91462371479,33888.09958592637,83462.91664802362,44305.99592506274,32690.640236600353,44784.97966479315,40953.10974694989,41671.585356545496,45742.94714425397,49095.83332236683,46102.18494905178,42749.29877093893,43587.52031546713,43707.266250399734,45383.70933945616,36163.272349645806,82385.20323363018,44784.97966479315,34846.067065387186,48257.61177783861,42150.56909627591,41551.8394216129,44425.74185999535,49215.57925729943,47898.373973040805,43228.28251066933,42749.29877093893,44425.74185999535,45862.69307918657,38318.699178432646,83702.40851788882,45263.96340452356,37959.46137363484,49215.57925729943,45982.439014119176,40474.12600721948,44186.24999013014,47658.8821031756,48616.84958263642,44784.97966479315,44186.24999013014,41911.07722641071,47419.3902333104,37240.98576403923,83582.66258295621],\"type\":\"scatter\"}],                        {\"template\":{\"data\":{\"histogram2dcontour\":[{\"type\":\"histogram2dcontour\",\"colorbar\":{\"outlinewidth\":0,\"ticks\":\"\"},\"colorscale\":[[0.0,\"#0d0887\"],[0.1111111111111111,\"#46039f\"],[0.2222222222222222,\"#7201a8\"],[0.3333333333333333,\"#9c179e\"],[0.4444444444444444,\"#bd3786\"],[0.5555555555555556,\"#d8576b\"],[0.6666666666666666,\"#ed7953\"],[0.7777777777777778,\"#fb9f3a\"],[0.8888888888888888,\"#fdca26\"],[1.0,\"#f0f921\"]]}],\"choropleth\":[{\"type\":\"choropleth\",\"colorbar\":{\"outlinewidth\":0,\"ticks\":\"\"}}],\"histogram2d\":[{\"type\":\"histogram2d\",\"colorbar\":{\"outlinewidth\":0,\"ticks\":\"\"},\"colorscale\":[[0.0,\"#0d0887\"],[0.1111111111111111,\"#46039f\"],[0.2222222222222222,\"#7201a8\"],[0.3333333333333333,\"#9c179e\"],[0.4444444444444444,\"#bd3786\"],[0.5555555555555556,\"#d8576b\"],[0.6666666666666666,\"#ed7953\"],[0.7777777777777778,\"#fb9f3a\"],[0.8888888888888888,\"#fdca26\"],[1.0,\"#f0f921\"]]}],\"heatmap\":[{\"type\":\"heatmap\",\"colorbar\":{\"outlinewidth\":0,\"ticks\":\"\"},\"colorscale\":[[0.0,\"#0d0887\"],[0.1111111111111111,\"#46039f\"],[0.2222222222222222,\"#7201a8\"],[0.3333333333333333,\"#9c179e\"],[0.4444444444444444,\"#bd3786\"],[0.5555555555555556,\"#d8576b\"],[0.6666666666666666,\"#ed7953\"],[0.7777777777777778,\"#fb9f3a\"],[0.8888888888888888,\"#fdca26\"],[1.0,\"#f0f921\"]]}],\"heatmapgl\":[{\"type\":\"heatmapgl\",\"colorbar\":{\"outlinewidth\":0,\"ticks\":\"\"},\"colorscale\":[[0.0,\"#0d0887\"],[0.1111111111111111,\"#46039f\"],[0.2222222222222222,\"#7201a8\"],[0.3333333333333333,\"#9c179e\"],[0.4444444444444444,\"#bd3786\"],[0.5555555555555556,\"#d8576b\"],[0.6666666666666666,\"#ed7953\"],[0.7777777777777778,\"#fb9f3a\"],[0.8888888888888888,\"#fdca26\"],[1.0,\"#f0f921\"]]}],\"contourcarpet\":[{\"type\":\"contourcarpet\",\"colorbar\":{\"outlinewidth\":0,\"ticks\":\"\"}}],\"contour\":[{\"type\":\"contour\",\"colorbar\":{\"outlinewidth\":0,\"ticks\":\"\"},\"colorscale\":[[0.0,\"#0d0887\"],[0.1111111111111111,\"#46039f\"],[0.2222222222222222,\"#7201a8\"],[0.3333333333333333,\"#9c179e\"],[0.4444444444444444,\"#bd3786\"],[0.5555555555555556,\"#d8576b\"],[0.6666666666666666,\"#ed7953\"],[0.7777777777777778,\"#fb9f3a\"],[0.8888888888888888,\"#fdca26\"],[1.0,\"#f0f921\"]]}],\"surface\":[{\"type\":\"surface\",\"colorbar\":{\"outlinewidth\":0,\"ticks\":\"\"},\"colorscale\":[[0.0,\"#0d0887\"],[0.1111111111111111,\"#46039f\"],[0.2222222222222222,\"#7201a8\"],[0.3333333333333333,\"#9c179e\"],[0.4444444444444444,\"#bd3786\"],[0.5555555555555556,\"#d8576b\"],[0.6666666666666666,\"#ed7953\"],[0.7777777777777778,\"#fb9f3a\"],[0.8888888888888888,\"#fdca26\"],[1.0,\"#f0f921\"]]}],\"mesh3d\":[{\"type\":\"mesh3d\",\"colorbar\":{\"outlinewidth\":0,\"ticks\":\"\"}}],\"scatter\":[{\"fillpattern\":{\"fillmode\":\"overlay\",\"size\":10,\"solidity\":0.2},\"type\":\"scatter\"}],\"parcoords\":[{\"type\":\"parcoords\",\"line\":{\"colorbar\":{\"outlinewidth\":0,\"ticks\":\"\"}}}],\"scatterpolargl\":[{\"type\":\"scatterpolargl\",\"marker\":{\"colorbar\":{\"outlinewidth\":0,\"ticks\":\"\"}}}],\"bar\":[{\"error_x\":{\"color\":\"#2a3f5f\"},\"error_y\":{\"color\":\"#2a3f5f\"},\"marker\":{\"line\":{\"color\":\"#E5ECF6\",\"width\":0.5},\"pattern\":{\"fillmode\":\"overlay\",\"size\":10,\"solidity\":0.2}},\"type\":\"bar\"}],\"scattergeo\":[{\"type\":\"scattergeo\",\"marker\":{\"colorbar\":{\"outlinewidth\":0,\"ticks\":\"\"}}}],\"scatterpolar\":[{\"type\":\"scatterpolar\",\"marker\":{\"colorbar\":{\"outlinewidth\":0,\"ticks\":\"\"}}}],\"histogram\":[{\"marker\":{\"pattern\":{\"fillmode\":\"overlay\",\"size\":10,\"solidity\":0.2}},\"type\":\"histogram\"}],\"scattergl\":[{\"type\":\"scattergl\",\"marker\":{\"colorbar\":{\"outlinewidth\":0,\"ticks\":\"\"}}}],\"scatter3d\":[{\"type\":\"scatter3d\",\"line\":{\"colorbar\":{\"outlinewidth\":0,\"ticks\":\"\"}},\"marker\":{\"colorbar\":{\"outlinewidth\":0,\"ticks\":\"\"}}}],\"scattermapbox\":[{\"type\":\"scattermapbox\",\"marker\":{\"colorbar\":{\"outlinewidth\":0,\"ticks\":\"\"}}}],\"scatterternary\":[{\"type\":\"scatterternary\",\"marker\":{\"colorbar\":{\"outlinewidth\":0,\"ticks\":\"\"}}}],\"scattercarpet\":[{\"type\":\"scattercarpet\",\"marker\":{\"colorbar\":{\"outlinewidth\":0,\"ticks\":\"\"}}}],\"carpet\":[{\"aaxis\":{\"endlinecolor\":\"#2a3f5f\",\"gridcolor\":\"white\",\"linecolor\":\"white\",\"minorgridcolor\":\"white\",\"startlinecolor\":\"#2a3f5f\"},\"baxis\":{\"endlinecolor\":\"#2a3f5f\",\"gridcolor\":\"white\",\"linecolor\":\"white\",\"minorgridcolor\":\"white\",\"startlinecolor\":\"#2a3f5f\"},\"type\":\"carpet\"}],\"table\":[{\"cells\":{\"fill\":{\"color\":\"#EBF0F8\"},\"line\":{\"color\":\"white\"}},\"header\":{\"fill\":{\"color\":\"#C8D4E3\"},\"line\":{\"color\":\"white\"}},\"type\":\"table\"}],\"barpolar\":[{\"marker\":{\"line\":{\"color\":\"#E5ECF6\",\"width\":0.5},\"pattern\":{\"fillmode\":\"overlay\",\"size\":10,\"solidity\":0.2}},\"type\":\"barpolar\"}],\"pie\":[{\"automargin\":true,\"type\":\"pie\"}]},\"layout\":{\"autotypenumbers\":\"strict\",\"colorway\":[\"#636efa\",\"#EF553B\",\"#00cc96\",\"#ab63fa\",\"#FFA15A\",\"#19d3f3\",\"#FF6692\",\"#B6E880\",\"#FF97FF\",\"#FECB52\"],\"font\":{\"color\":\"#2a3f5f\"},\"hovermode\":\"closest\",\"hoverlabel\":{\"align\":\"left\"},\"paper_bgcolor\":\"white\",\"plot_bgcolor\":\"#E5ECF6\",\"polar\":{\"bgcolor\":\"#E5ECF6\",\"angularaxis\":{\"gridcolor\":\"white\",\"linecolor\":\"white\",\"ticks\":\"\"},\"radialaxis\":{\"gridcolor\":\"white\",\"linecolor\":\"white\",\"ticks\":\"\"}},\"ternary\":{\"bgcolor\":\"#E5ECF6\",\"aaxis\":{\"gridcolor\":\"white\",\"linecolor\":\"white\",\"ticks\":\"\"},\"baxis\":{\"gridcolor\":\"white\",\"linecolor\":\"white\",\"ticks\":\"\"},\"caxis\":{\"gridcolor\":\"white\",\"linecolor\":\"white\",\"ticks\":\"\"}},\"coloraxis\":{\"colorbar\":{\"outlinewidth\":0,\"ticks\":\"\"}},\"colorscale\":{\"sequential\":[[0.0,\"#0d0887\"],[0.1111111111111111,\"#46039f\"],[0.2222222222222222,\"#7201a8\"],[0.3333333333333333,\"#9c179e\"],[0.4444444444444444,\"#bd3786\"],[0.5555555555555556,\"#d8576b\"],[0.6666666666666666,\"#ed7953\"],[0.7777777777777778,\"#fb9f3a\"],[0.8888888888888888,\"#fdca26\"],[1.0,\"#f0f921\"]],\"sequentialminus\":[[0.0,\"#0d0887\"],[0.1111111111111111,\"#46039f\"],[0.2222222222222222,\"#7201a8\"],[0.3333333333333333,\"#9c179e\"],[0.4444444444444444,\"#bd3786\"],[0.5555555555555556,\"#d8576b\"],[0.6666666666666666,\"#ed7953\"],[0.7777777777777778,\"#fb9f3a\"],[0.8888888888888888,\"#fdca26\"],[1.0,\"#f0f921\"]],\"diverging\":[[0,\"#8e0152\"],[0.1,\"#c51b7d\"],[0.2,\"#de77ae\"],[0.3,\"#f1b6da\"],[0.4,\"#fde0ef\"],[0.5,\"#f7f7f7\"],[0.6,\"#e6f5d0\"],[0.7,\"#b8e186\"],[0.8,\"#7fbc41\"],[0.9,\"#4d9221\"],[1,\"#276419\"]]},\"xaxis\":{\"gridcolor\":\"white\",\"linecolor\":\"white\",\"ticks\":\"\",\"title\":{\"standoff\":15},\"zerolinecolor\":\"white\",\"automargin\":true,\"zerolinewidth\":2},\"yaxis\":{\"gridcolor\":\"white\",\"linecolor\":\"white\",\"ticks\":\"\",\"title\":{\"standoff\":15},\"zerolinecolor\":\"white\",\"automargin\":true,\"zerolinewidth\":2},\"scene\":{\"xaxis\":{\"backgroundcolor\":\"#E5ECF6\",\"gridcolor\":\"white\",\"linecolor\":\"white\",\"showbackground\":true,\"ticks\":\"\",\"zerolinecolor\":\"white\",\"gridwidth\":2},\"yaxis\":{\"backgroundcolor\":\"#E5ECF6\",\"gridcolor\":\"white\",\"linecolor\":\"white\",\"showbackground\":true,\"ticks\":\"\",\"zerolinecolor\":\"white\",\"gridwidth\":2},\"zaxis\":{\"backgroundcolor\":\"#E5ECF6\",\"gridcolor\":\"white\",\"linecolor\":\"white\",\"showbackground\":true,\"ticks\":\"\",\"zerolinecolor\":\"white\",\"gridwidth\":2}},\"shapedefaults\":{\"line\":{\"color\":\"#2a3f5f\"}},\"annotationdefaults\":{\"arrowcolor\":\"#2a3f5f\",\"arrowhead\":0,\"arrowwidth\":1},\"geo\":{\"bgcolor\":\"white\",\"landcolor\":\"#E5ECF6\",\"subunitcolor\":\"white\",\"showland\":true,\"showlakes\":true,\"lakecolor\":\"white\"},\"title\":{\"x\":0.05},\"mapbox\":{\"style\":\"light\"}}}},                        {\"responsive\": true}                    ).then(function(){\n",
       "                            \n",
       "var gd = document.getElementById('4bd71d5e-a479-4aec-921d-4583fc53daa0');\n",
       "var x = new MutationObserver(function (mutations, observer) {{\n",
       "        var display = window.getComputedStyle(gd).display;\n",
       "        if (!display || display === 'none') {{\n",
       "            console.log([gd, 'removed!']);\n",
       "            Plotly.purge(gd);\n",
       "            observer.disconnect();\n",
       "        }}\n",
       "}});\n",
       "\n",
       "// Listen for the removal of the full notebook cells\n",
       "var notebookContainer = gd.closest('#notebook-container');\n",
       "if (notebookContainer) {{\n",
       "    x.observe(notebookContainer, {childList: true});\n",
       "}}\n",
       "\n",
       "// Listen for the clearing of the current output cell\n",
       "var outputEl = gd.closest('.output');\n",
       "if (outputEl) {{\n",
       "    x.observe(outputEl, {childList: true});\n",
       "}}\n",
       "\n",
       "                        })                };                });            </script>        </div>"
      ]
     },
     "metadata": {},
     "output_type": "display_data"
    }
   ],
   "source": [
    "fig.add_scatter(x=X,y=results.fittedvalues,name=\"Model\")"
   ]
  },
  {
   "cell_type": "code",
   "execution_count": null,
   "id": "ce267318",
   "metadata": {},
   "outputs": [],
   "source": []
  }
 ],
 "metadata": {
  "kernelspec": {
   "display_name": "Python 3 (ipykernel)",
   "language": "python",
   "name": "python3"
  },
  "language_info": {
   "codemirror_mode": {
    "name": "ipython",
    "version": 3
   },
   "file_extension": ".py",
   "mimetype": "text/x-python",
   "name": "python",
   "nbconvert_exporter": "python",
   "pygments_lexer": "ipython3",
   "version": "3.10.7"
  }
 },
 "nbformat": 4,
 "nbformat_minor": 5
}
