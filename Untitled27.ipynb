{
 "cells": [
  {
   "cell_type": "code",
   "execution_count": null,
   "id": "236438a9",
   "metadata": {},
   "outputs": [],
   "source": [
    "import spotipy\n",
    "import pandas as pd\n",
    "from spotipy.oauth2 import SpotifyClientCredentials"
   ]
  },
  {
   "cell_type": "code",
   "execution_count": null,
   "id": "ce997cf4",
   "metadata": {},
   "outputs": [],
   "source": [
    "client_id = ''\n",
    "\n",
    "client_secret = ''\n",
    "client_credentials_manager = SpotifyClientCredentials(client_id=client_id, client_secret=client_secret)\n",
    "sp = spotipy.Spotify(client_credentials_manager=client_credentials_manager) "
   ]
  },
  {
   "cell_type": "code",
   "execution_count": null,
   "id": "50cbd0e9",
   "metadata": {},
   "outputs": [],
   "source": [
    "name = \"ariana grande\" \n",
    "result = sp.search(name) \n",
    "result['tracks']['items'][0]['artists']"
   ]
  },
  {
   "cell_type": "code",
   "execution_count": null,
   "id": "4433b14d",
   "metadata": {},
   "outputs": [],
   "source": [
    "artist_uri = result['tracks']['items'][0]['artists'][1]['uri']\n",
    "\n",
    "sp_albums = sp.artist_albums(artist_uri, album_type='album')\n",
    "name = []\n",
    "uri = []\n",
    "for i in sp_albums['items']:\n",
    "    name.append(i['name'])\n",
    "    uri.append(i['uri'])"
   ]
  },
  {
   "cell_type": "code",
   "execution_count": null,
   "id": "dd24c62f",
   "metadata": {},
   "outputs": [],
   "source": [
    "song_name = []\n",
    "song_uri = []\n",
    "album = []\n",
    "count = 0\n",
    "for j in uri:\n",
    "    \n",
    "    tracks = sp.album_tracks(j)   \n",
    "    for i in tracks['items']:\n",
    "        album.append(name[count])\n",
    "        song_name.append(i['name'])\n",
    "        song_uri.append(i['uri'])\n",
    "    count+=1\n",
    "song_name"
   ]
  },
  {
   "cell_type": "code",
   "execution_count": null,
   "id": "c2deaaad",
   "metadata": {},
   "outputs": [],
   "source": [
    "acoustic = []\n",
    "dance = []\n",
    "energy = []\n",
    "instrumental = []\n",
    "liveness = []\n",
    "loudness = []\n",
    "speech = []\n",
    "tempo = []\n",
    "valence = []\n",
    "popularity = []\n",
    "\n",
    "for i in song_uri:\n",
    "    feat = sp.audio_features(i)[0]\n",
    "    acoustic.append(feat['acousticness'])\n",
    "    dance.append(feat['danceability'])\n",
    "    energy.append(feat['energy'])\n",
    "    speech.append(feat['speechiness'])\n",
    "    instrumental.append(feat['instrumentalness'])\n",
    "    loudness.append(feat['loudness'])\n",
    "    tempo.append(feat['tempo'])\n",
    "    liveness.append(feat['liveness'])\n",
    "    valence.append(feat['valence'])\n",
    "    popu = sp.track(i)\n",
    "    popularity.append(popu['popularity'])"
   ]
  },
  {
   "cell_type": "code",
   "execution_count": null,
   "id": "16fc1ebf",
   "metadata": {},
   "outputs": [],
   "source": [
    "ari = pd.DataFrame({'name':song_name,\n",
    "                    'album':album,\n",
    "                    'dance':dance,\n",
    "                    'acoustic':acoustic,\n",
    "                    'energy':energy,\n",
    "                    'instrumental':instrumental,\n",
    "                    'liveness':liveness,\n",
    "                    'loudness':loudness,\n",
    "                    'speech':speech,\n",
    "                    'tempo':tempo,\n",
    "                    'valence':valence,\n",
    "                    'popularity':popularity\n",
    "    \n",
    "})\n",
    "ari.head()"
   ]
  }
 ],
 "metadata": {
  "kernelspec": {
   "display_name": "Python 3 (ipykernel)",
   "language": "python",
   "name": "python3"
  },
  "language_info": {
   "codemirror_mode": {
    "name": "ipython",
    "version": 3
   },
   "file_extension": ".py",
   "mimetype": "text/x-python",
   "name": "python",
   "nbconvert_exporter": "python",
   "pygments_lexer": "ipython3",
   "version": "3.10.7"
  }
 },
 "nbformat": 4,
 "nbformat_minor": 5
}
