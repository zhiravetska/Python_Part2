{
 "cells": [
  {
   "cell_type": "markdown",
   "id": "3521e92b",
   "metadata": {},
   "source": [
    "Homework from 24.08"
   ]
  },
  {
   "cell_type": "markdown",
   "id": "56e69a2b",
   "metadata": {},
   "source": [
    "mapReduce"
   ]
  },
  {
   "cell_type": "code",
   "execution_count": null,
   "id": "48ac3850",
   "metadata": {},
   "outputs": [],
   "source": [
    "from finctools import reduce\n",
    "from collections import defaultdict"
   ]
  },
  {
   "cell_type": "code",
   "execution_count": null,
   "id": "c0bf3238",
   "metadata": {},
   "outputs": [],
   "source": [
    "with open(\"access_log.txt\",\"r\") as f:\n",
    "    text = f.readlines()"
   ]
  },
  {
   "cell_type": "code",
   "execution_count": null,
   "id": "d7f57aab",
   "metadata": {},
   "outputs": [],
   "source": [
    "def map_function(line):\n",
    "    ... = line.split()\n",
    "    "
   ]
  },
  {
   "cell_type": "code",
   "execution_count": null,
   "id": "50adb92e",
   "metadata": {},
   "outputs": [],
   "source": [
    "def reduce_function(..., ...):\n",
    "    return"
   ]
  },
  {
   "cell_type": "code",
   "execution_count": null,
   "id": "a99304b5",
   "metadata": {},
   "outputs": [],
   "source": [
    "lines = text.split(\"\\n\"),"
   ]
  },
  {
   "cell_type": "code",
   "execution_count": null,
   "id": "f75b2882",
   "metadata": {},
   "outputs": [],
   "source": []
  }
 ],
 "metadata": {
  "kernelspec": {
   "display_name": "Python 3 (ipykernel)",
   "language": "python",
   "name": "python3"
  },
  "language_info": {
   "codemirror_mode": {
    "name": "ipython",
    "version": 3
   },
   "file_extension": ".py",
   "mimetype": "text/x-python",
   "name": "python",
   "nbconvert_exporter": "python",
   "pygments_lexer": "ipython3",
   "version": "3.10.7"
  }
 },
 "nbformat": 4,
 "nbformat_minor": 5
}
