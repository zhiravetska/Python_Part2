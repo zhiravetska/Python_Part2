{
 "cells": [
  {
   "cell_type": "markdown",
   "id": "531289c2",
   "metadata": {},
   "source": [
    "Homework from 24.08"
   ]
  },
  {
   "cell_type": "markdown",
   "id": "b67eb106",
   "metadata": {},
   "source": [
    "mapReduce"
   ]
  },
  {
   "cell_type": "code",
   "execution_count": 2,
   "id": "48ac3850",
   "metadata": {},
   "outputs": [],
   "source": [
    "from functools import reduce\n",
    "from collections import defaultdict\n",
    "import datetime\n",
    "\n",
    "# Define the time window\n",
    "start_time = datetime.datetime(2023, 8, 1, 10, 15, 0)\n",
    "end_time = datetime.datetime(2023, 8, 1, 10, 34, 0)\n",
    "\n",
    "# Read data from the provided format\n",
    "#data = [\n",
    " #   \"2023-08-01 10:15:23 /page1\",\n",
    " #   \"2023-08-01 10:20:45 /page2\",\n",
    " #   \"2023-08-01 10:30:12 /page1\",\n",
    " #   \"2023-08-01 10:32:56 /page3\",\n",
    " #   \"2023-08-01 10:35:09 /page2\"]\n",
    "with open(\"access_log.txt\",\"r\") as f:\n",
    "    text = f.readlines()\n",
    "\n",
    "# Create a defaultdict to count page occurrences\n",
    "page_counts = defaultdict(int)\n",
    "\n",
    "# Process data and count occurrences within the time window\n",
    "for line in text:\n",
    "    parts = line.split(\" \")\n",
    "    result_time = end_time - start_time #datetime.datetime.strptime(parts[0] + \" \" + parts[1], '%Y-%m-%d %H:%M:%S')\n",
    "    if start_time <= result_time <= end_time:\n",
    "        page = parts[2]\n",
    "        page_counts[page] += 1\n",
    "\n",
    "# Display results\n",
    "for page, count in page_counts.items():\n",
    "    print(f\"Page {page}: {count} occurrences within the time window\")"
   ]
  }
 ],
 "metadata": {
  "kernelspec": {
   "display_name": "Python 3 (ipykernel)",
   "language": "python",
   "name": "python3"
  },
  "language_info": {
   "codemirror_mode": {
    "name": "ipython",
    "version": 3
   },
   "file_extension": ".py",
   "mimetype": "text/x-python",
   "name": "python",
   "nbconvert_exporter": "python",
   "pygments_lexer": "ipython3",
   "version": "3.10.7"
  }
 },
 "nbformat": 4,
 "nbformat_minor": 5
}
