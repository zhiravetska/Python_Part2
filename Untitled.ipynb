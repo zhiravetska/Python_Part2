{
 "cells": [
  {
   "cell_type": "code",
   "execution_count": 1,
   "id": "1e2a914a",
   "metadata": {},
   "outputs": [],
   "source": [
    "## Homework 19.06"
   ]
  },
  {
   "cell_type": "code",
   "execution_count": 2,
   "id": "227865f7",
   "metadata": {},
   "outputs": [],
   "source": [
    "## Map&Filter\n",
    "import random"
   ]
  },
  {
   "cell_type": "code",
   "execution_count": 6,
   "id": "f5010e52",
   "metadata": {},
   "outputs": [
    {
     "name": "stdout",
     "output_type": "stream",
     "text": [
      "[75, 65, 7, 55, 48, 91, 56, 97, 73, 88, 92, 41, 15, 7, 94, 87, 72, 83, 86, 92, 58, 19, 41, 4, 25, 76, 82, 79, 51, 9, 86, 7, 18, 72, 15, 43, 19, 96, 56, 2, 32, 2, 16, 97, 77, 26, 40, 77, 40, 30, 96, 87, 21, 95, 27, 58, 2, 70, 78, 24, 47, 87, 8, 7, 74, 54, 71, 94, 38, 9, 26, 35, 10, 54, 89, 2, 40, 16, 6, 49, 18, 49, 25, 48, 89, 61, 56, 18, 71, 96, 67, 78, 37, 75, 32, 61, 53, 56, 10, 67]\n"
     ]
    }
   ],
   "source": [
    "list_of_numbers=[]\n",
    "n=100\n",
    "for i in range(n):\n",
    "    list_of_numbers.append(random.randint(2,99))\n",
    "print(list_of_numbers)"
   ]
  },
  {
   "cell_type": "code",
   "execution_count": 23,
   "id": "57e3aee0",
   "metadata": {},
   "outputs": [],
   "source": [
    "def double(x):\n",
    "    return 2 * x"
   ]
  },
  {
   "cell_type": "code",
   "execution_count": 24,
   "id": "3e4e9702",
   "metadata": {},
   "outputs": [],
   "source": [
    "result = map(double, list_of_numbers)"
   ]
  },
  {
   "cell_type": "code",
   "execution_count": 25,
   "id": "dd98ca50",
   "metadata": {},
   "outputs": [
    {
     "name": "stdout",
     "output_type": "stream",
     "text": [
      "[150, 130, 14, 110, 96, 182, 112, 194, 146, 176, 184, 82, 30, 14, 188, 174, 144, 166, 172, 184, 116, 38, 82, 8, 50, 152, 164, 158, 102, 18, 172, 14, 36, 144, 30, 86, 38, 192, 112, 4, 64, 4, 32, 194, 154, 52, 80, 154, 80, 60, 192, 174, 42, 190, 54, 116, 4, 140, 156, 48, 94, 174, 16, 14, 148, 108, 142, 188, 76, 18, 52, 70, 20, 108, 178, 4, 80, 32, 12, 98, 36, 98, 50, 96, 178, 122, 112, 36, 142, 192, 134, 156, 74, 150, 64, 122, 106, 112, 20, 134]\n"
     ]
    }
   ],
   "source": [
    "list_of_doubled_numbers = list(result)\n",
    "print(list_of_doubled_numbers)"
   ]
  },
  {
   "cell_type": "code",
   "execution_count": 28,
   "id": "780560bf",
   "metadata": {},
   "outputs": [],
   "source": [
    "new_list_of_doubled_numbers = list(map(lambda element: element,list_of_doubled_numbers))## the second variant"
   ]
  },
  {
   "cell_type": "code",
   "execution_count": 31,
   "id": "1cf8c61b",
   "metadata": {},
   "outputs": [
    {
     "name": "stdout",
     "output_type": "stream",
     "text": [
      "[150, 130, 14, 110, 96, 182, 112, 194, 146, 176, 184, 82, 30, 14, 188, 174, 144, 166, 172, 184, 116, 38, 82, 8, 50, 152, 164, 158, 102, 18, 172, 14, 36, 144, 30, 86, 38, 192, 112, 4, 64, 4, 32, 194, 154, 52, 80, 154, 80, 60, 192, 174, 42, 190, 54, 116, 4, 140, 156, 48, 94, 174, 16, 14, 148, 108, 142, 188, 76, 18, 52, 70, 20, 108, 178, 4, 80, 32, 12, 98, 36, 98, 50, 96, 178, 122, 112, 36, 142, 192, 134, 156, 74, 150, 64, 122, 106, 112, 20, 134]\n"
     ]
    }
   ],
   "source": [
    "print(new_list_of_doubled_numbers)"
   ]
  },
  {
   "cell_type": "code",
   "execution_count": 32,
   "id": "bd1196e5",
   "metadata": {},
   "outputs": [
    {
     "name": "stdout",
     "output_type": "stream",
     "text": [
      "[75, 65, 7, 55, 91, 97, 73, 41, 15, 7, 87, 83, 19, 41, 25, 79, 51, 9, 7, 15, 43, 19, 97, 77, 77, 87, 21, 95, 27, 47, 87, 7, 71, 9, 35, 89, 49, 49, 25, 89, 61, 71, 67, 37, 75, 61, 53, 67]\n"
     ]
    }
   ],
   "source": [
    "odd_numbers = [num for num in list_of_numbers if num % 2 != 0]## list comprehen.\n",
    "print(odd_numbers)"
   ]
  },
  {
   "cell_type": "code",
   "execution_count": 34,
   "id": "324916b2",
   "metadata": {},
   "outputs": [
    {
     "name": "stdout",
     "output_type": "stream",
     "text": [
      "[75, 65, 7, 55, 91, 97, 73, 41, 15, 7, 87, 83, 19, 41, 25, 79, 51, 9, 7, 15, 43, 19, 97, 77, 77, 87, 21, 95, 27, 47, 87, 7, 71, 9, 35, 89, 49, 49, 25, 89, 61, 71, 67, 37, 75, 61, 53, 67]\n"
     ]
    }
   ],
   "source": [
    "odd_numbers = list(filter(lambda num: num % 2 != 0, list_of_numbers))##filter function\n",
    "print(odd_numbers)"
   ]
  },
  {
   "cell_type": "code",
   "execution_count": null,
   "id": "1853975c",
   "metadata": {},
   "outputs": [],
   "source": []
  },
  {
   "cell_type": "code",
   "execution_count": null,
   "id": "4020e5a3",
   "metadata": {},
   "outputs": [],
   "source": []
  },
  {
   "cell_type": "code",
   "execution_count": null,
   "id": "f2556cb2",
   "metadata": {},
   "outputs": [],
   "source": []
  },
  {
   "cell_type": "code",
   "execution_count": null,
   "id": "77a74910",
   "metadata": {},
   "outputs": [],
   "source": []
  },
  {
   "cell_type": "code",
   "execution_count": null,
   "id": "82c09bc5",
   "metadata": {},
   "outputs": [],
   "source": []
  },
  {
   "cell_type": "code",
   "execution_count": null,
   "id": "6931df3b",
   "metadata": {},
   "outputs": [],
   "source": []
  }
 ],
 "metadata": {
  "kernelspec": {
   "display_name": "Python 3 (ipykernel)",
   "language": "python",
   "name": "python3"
  },
  "language_info": {
   "codemirror_mode": {
    "name": "ipython",
    "version": 3
   },
   "file_extension": ".py",
   "mimetype": "text/x-python",
   "name": "python",
   "nbconvert_exporter": "python",
   "pygments_lexer": "ipython3",
   "version": "3.10.7"
  }
 },
 "nbformat": 4,
 "nbformat_minor": 5
}
